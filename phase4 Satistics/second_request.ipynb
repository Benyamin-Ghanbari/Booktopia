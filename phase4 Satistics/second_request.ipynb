{
 "cells": [
  {
   "cell_type": "markdown",
   "id": "2860278f",
   "metadata": {},
   "source": [
    "# Second Request"
   ]
  },
  {
   "cell_type": "code",
   "execution_count": 53,
   "id": "24794573",
   "metadata": {
    "ExecuteTime": {
     "end_time": "2023-10-01T20:33:37.556974900Z",
     "start_time": "2023-10-01T20:33:37.530240500Z"
    }
   },
   "outputs": [],
   "source": [
    "import mysql.connector\n",
    "import pandas as pd\n",
    "import numpy as np\n",
    "import matplotlib.pyplot as plt\n",
    "import seaborn as sns\n"
   ]
  },
  {
   "cell_type": "code",
   "execution_count": 54,
   "id": "b02ec246",
   "metadata": {
    "ExecuteTime": {
     "end_time": "2023-10-01T20:33:38.131477400Z",
     "start_time": "2023-10-01T20:33:38.096940500Z"
    }
   },
   "outputs": [
    {
     "name": "stdout",
     "output_type": "stream",
     "text": [
      "<mysql.connector.connection_cext.CMySQLConnection object at 0x000001F3C91D1A90>\n"
     ]
    }
   ],
   "source": [
    "mydb = mysql.connector.connect(\n",
    "    host=\"localhost\",\n",
    "    user=\"root\",\n",
    "    password=\"123456\",\n",
    "    database=\"booktopia\"\n",
    ")\n",
    "print(mydb)"
   ]
  },
  {
   "cell_type": "code",
   "execution_count": 88,
   "id": "6dbeb05f",
   "metadata": {
    "ExecuteTime": {
     "end_time": "2023-10-01T20:40:24.002613300Z",
     "start_time": "2023-10-01T20:40:23.811496200Z"
    }
   },
   "outputs": [],
   "source": [
    "mycursor = mydb.cursor()\n",
    "\n",
    "mycursor.execute(\"\"\"\n",
    "\n",
    "SELECT\n",
    "    book_detail.site_id,\n",
    "    book_detail.English_title,\n",
    "    book_detail.score,\n",
    "    book_detail.edition,\n",
    "    book_detail.stock_status,\n",
    "    book_detail.ad_publication_year,\n",
    "    book_detail.solar_publication_year,\n",
    "    price_history.price,\n",
    "    rewards.reward\n",
    "FROM\n",
    "    book_detail\n",
    "JOIN\n",
    "    price_history ON book_detail.site_id = price_history.book_id\n",
    "JOIN\n",
    "    rewards ON book_detail.site_id = rewards.site_id\n",
    "WHERE\n",
    "    book_detail.stock_status = ' موجود ';\n",
    "\"\"\"\n",
    "                 )\n",
    "\n",
    "myresult = mycursor.fetchall()\n",
    "# for x in myresult:\n",
    "#   print(x)\n",
    "import pandas as pd\n",
    "\n",
    "df = pd.DataFrame(myresult, columns=[i[0] for i in mycursor.description])"
   ]
  },
  {
   "cell_type": "code",
   "execution_count": 89,
   "id": "85d7ea8c",
   "metadata": {
    "ExecuteTime": {
     "end_time": "2023-10-01T20:40:24.251511600Z",
     "start_time": "2023-10-01T20:40:24.216894400Z"
    }
   },
   "outputs": [],
   "source": [
    "df['price'] = pd.to_numeric(df['price'], errors='coerce')\n",
    "price_threshold = df['price'].quantile(0.2)\n",
    "cheapest_books = df[df['price'] <= price_threshold]\n",
    "df = cheapest_books\n",
    "df.reset_index(drop=True, inplace=True)"
   ]
  },
  {
   "cell_type": "code",
   "execution_count": 90,
   "id": "5267edae",
   "metadata": {
    "ExecuteTime": {
     "end_time": "2023-10-01T20:40:24.801986300Z",
     "start_time": "2023-10-01T20:40:24.767235900Z"
    }
   },
   "outputs": [
    {
     "data": {
      "text/plain": "      site_id                                 English_title score  edition  \\\n0        6580                               Collected Poems  3.15       -1   \n1       10985                                   Great House  3.47        1   \n2       10985                                   Great House  3.47        1   \n3       10985                                   Great House  3.47        1   \n4       10985                                   Great House  3.47        1   \n...       ...                                           ...   ...      ...   \n2767    56860    Popo reads a book he knows the value of it  3.65       -1   \n2768    56860    Popo reads a book he knows the value of it  3.44       -1   \n2769     1525                The Festival of Insignificance  3.49       13   \n2770     1525                The Festival of Insignificance  3.32        2   \n2771    27371                            Third Grade Angels  3.14        3   \n\n     stock_status  ad_publication_year  solar_publication_year  price  \\\n0          موجود                    -1                    1394  35000   \n1          موجود                  2010                    1398  45000   \n2          موجود                  2010                    1398  45000   \n3          موجود                  2010                    1398  45000   \n4          موجود                  2010                    1398  45000   \n...           ...                  ...                     ...    ...   \n2767       موجود                  2019                    1398  35000   \n2768       موجود                  2019                    1398  35000   \n2769       موجود                  2013                    1402  15000   \n2770       موجود                  2013                    1401  15000   \n2771       موجود                  2012                    1401  54000   \n\n                                                 reward  \n0       رودکی مشهور به استاد شاعران، نخستین شاعر مشه...  \n1              برنده ی جایزه ی Anisfield-Wolf سال 2011   \n2                  نامزد دریافت جایزه ی اورنج سال 2011   \n3       نازمرد دریافت جایزه ی ملی کتاب آمریکا سال 2010   \n4       نازمرد دریافت جایزه ی بهترین کتاب گودریدز سا...  \n...                                                 ...  \n2767                         تصویرگر: امیر حامد پاژتار   \n2768                         تصویرگر: امیر حامد پاژتار   \n2769    میلان کوندرا، نامزد جایزه نوبل ادبیات و از پ...  \n2770    میلان کوندرا، نامزد جایزه نوبل ادبیات و از پ...  \n2771    «جری اسپینلی» از نویسندگان پرفروش نیویورک تا...  \n\n[2772 rows x 9 columns]",
      "text/html": "<div>\n<style scoped>\n    .dataframe tbody tr th:only-of-type {\n        vertical-align: middle;\n    }\n\n    .dataframe tbody tr th {\n        vertical-align: top;\n    }\n\n    .dataframe thead th {\n        text-align: right;\n    }\n</style>\n<table border=\"1\" class=\"dataframe\">\n  <thead>\n    <tr style=\"text-align: right;\">\n      <th></th>\n      <th>site_id</th>\n      <th>English_title</th>\n      <th>score</th>\n      <th>edition</th>\n      <th>stock_status</th>\n      <th>ad_publication_year</th>\n      <th>solar_publication_year</th>\n      <th>price</th>\n      <th>reward</th>\n    </tr>\n  </thead>\n  <tbody>\n    <tr>\n      <th>0</th>\n      <td>6580</td>\n      <td>Collected Poems</td>\n      <td>3.15</td>\n      <td>-1</td>\n      <td>موجود</td>\n      <td>-1</td>\n      <td>1394</td>\n      <td>35000</td>\n      <td>رودکی مشهور به استاد شاعران، نخستین شاعر مشه...</td>\n    </tr>\n    <tr>\n      <th>1</th>\n      <td>10985</td>\n      <td>Great House</td>\n      <td>3.47</td>\n      <td>1</td>\n      <td>موجود</td>\n      <td>2010</td>\n      <td>1398</td>\n      <td>45000</td>\n      <td>برنده ی جایزه ی Anisfield-Wolf سال 2011</td>\n    </tr>\n    <tr>\n      <th>2</th>\n      <td>10985</td>\n      <td>Great House</td>\n      <td>3.47</td>\n      <td>1</td>\n      <td>موجود</td>\n      <td>2010</td>\n      <td>1398</td>\n      <td>45000</td>\n      <td>نامزد دریافت جایزه ی اورنج سال 2011</td>\n    </tr>\n    <tr>\n      <th>3</th>\n      <td>10985</td>\n      <td>Great House</td>\n      <td>3.47</td>\n      <td>1</td>\n      <td>موجود</td>\n      <td>2010</td>\n      <td>1398</td>\n      <td>45000</td>\n      <td>نازمرد دریافت جایزه ی ملی کتاب آمریکا سال 2010</td>\n    </tr>\n    <tr>\n      <th>4</th>\n      <td>10985</td>\n      <td>Great House</td>\n      <td>3.47</td>\n      <td>1</td>\n      <td>موجود</td>\n      <td>2010</td>\n      <td>1398</td>\n      <td>45000</td>\n      <td>نازمرد دریافت جایزه ی بهترین کتاب گودریدز سا...</td>\n    </tr>\n    <tr>\n      <th>...</th>\n      <td>...</td>\n      <td>...</td>\n      <td>...</td>\n      <td>...</td>\n      <td>...</td>\n      <td>...</td>\n      <td>...</td>\n      <td>...</td>\n      <td>...</td>\n    </tr>\n    <tr>\n      <th>2767</th>\n      <td>56860</td>\n      <td>Popo reads a book he knows the value of it</td>\n      <td>3.65</td>\n      <td>-1</td>\n      <td>موجود</td>\n      <td>2019</td>\n      <td>1398</td>\n      <td>35000</td>\n      <td>تصویرگر: امیر حامد پاژتار</td>\n    </tr>\n    <tr>\n      <th>2768</th>\n      <td>56860</td>\n      <td>Popo reads a book he knows the value of it</td>\n      <td>3.44</td>\n      <td>-1</td>\n      <td>موجود</td>\n      <td>2019</td>\n      <td>1398</td>\n      <td>35000</td>\n      <td>تصویرگر: امیر حامد پاژتار</td>\n    </tr>\n    <tr>\n      <th>2769</th>\n      <td>1525</td>\n      <td>The Festival of Insignificance</td>\n      <td>3.49</td>\n      <td>13</td>\n      <td>موجود</td>\n      <td>2013</td>\n      <td>1402</td>\n      <td>15000</td>\n      <td>میلان کوندرا، نامزد جایزه نوبل ادبیات و از پ...</td>\n    </tr>\n    <tr>\n      <th>2770</th>\n      <td>1525</td>\n      <td>The Festival of Insignificance</td>\n      <td>3.32</td>\n      <td>2</td>\n      <td>موجود</td>\n      <td>2013</td>\n      <td>1401</td>\n      <td>15000</td>\n      <td>میلان کوندرا، نامزد جایزه نوبل ادبیات و از پ...</td>\n    </tr>\n    <tr>\n      <th>2771</th>\n      <td>27371</td>\n      <td>Third Grade Angels</td>\n      <td>3.14</td>\n      <td>3</td>\n      <td>موجود</td>\n      <td>2012</td>\n      <td>1401</td>\n      <td>54000</td>\n      <td>«جری اسپینلی» از نویسندگان پرفروش نیویورک تا...</td>\n    </tr>\n  </tbody>\n</table>\n<p>2772 rows × 9 columns</p>\n</div>"
     },
     "execution_count": 90,
     "metadata": {},
     "output_type": "execute_result"
    }
   ],
   "source": [
    "df"
   ]
  },
  {
   "cell_type": "code",
   "execution_count": 91,
   "outputs": [
    {
     "data": {
      "text/plain": "site_id\n28        0.25\n33        1.00\n40        0.25\n47        0.75\n51        0.25\n          ... \n103845    0.25\n116447    1.00\n117054    0.50\n121106    0.25\n121148    0.50\nName: reward, Length: 1173, dtype: float64"
     },
     "execution_count": 91,
     "metadata": {},
     "output_type": "execute_result"
    }
   ],
   "source": [
    "normalized_reward = df.groupby('site_id').count()['reward']\n",
    "max_reward = normalized_reward.quantile(0.9)\n",
    "normalized_reward = normalized_reward / max_reward\n",
    "normalized_reward[normalized_reward > 1] = 1\n",
    "normalized_reward[normalized_reward < 0] = 0\n",
    "normalized_reward"
   ],
   "metadata": {
    "collapsed": false,
    "ExecuteTime": {
     "end_time": "2023-10-01T20:40:25.240991100Z",
     "start_time": "2023-10-01T20:40:25.187535900Z"
    }
   },
   "id": "934951a285fa10f6"
  },
  {
   "cell_type": "code",
   "execution_count": 92,
   "outputs": [
    {
     "data": {
      "text/plain": "        score  edition  ad_publication_year  reward\nsite_id                                            \n28       3.60        3                 2011       1\n33       3.50        6                 2005       4\n40       3.18        1                 2006       1\n47       3.16       14                 2015       3\n51       3.61        2                 2006       1\n...       ...      ...                  ...     ...\n103845   3.94        1                   -1       1\n116447   3.75        1                   -1       4\n117054   3.46        2                 1989       2\n121106   3.98        7                   -1       1\n121148   3.12        2                   -1       2\n\n[1173 rows x 4 columns]",
      "text/html": "<div>\n<style scoped>\n    .dataframe tbody tr th:only-of-type {\n        vertical-align: middle;\n    }\n\n    .dataframe tbody tr th {\n        vertical-align: top;\n    }\n\n    .dataframe thead th {\n        text-align: right;\n    }\n</style>\n<table border=\"1\" class=\"dataframe\">\n  <thead>\n    <tr style=\"text-align: right;\">\n      <th></th>\n      <th>score</th>\n      <th>edition</th>\n      <th>ad_publication_year</th>\n      <th>reward</th>\n    </tr>\n    <tr>\n      <th>site_id</th>\n      <th></th>\n      <th></th>\n      <th></th>\n      <th></th>\n    </tr>\n  </thead>\n  <tbody>\n    <tr>\n      <th>28</th>\n      <td>3.60</td>\n      <td>3</td>\n      <td>2011</td>\n      <td>1</td>\n    </tr>\n    <tr>\n      <th>33</th>\n      <td>3.50</td>\n      <td>6</td>\n      <td>2005</td>\n      <td>4</td>\n    </tr>\n    <tr>\n      <th>40</th>\n      <td>3.18</td>\n      <td>1</td>\n      <td>2006</td>\n      <td>1</td>\n    </tr>\n    <tr>\n      <th>47</th>\n      <td>3.16</td>\n      <td>14</td>\n      <td>2015</td>\n      <td>3</td>\n    </tr>\n    <tr>\n      <th>51</th>\n      <td>3.61</td>\n      <td>2</td>\n      <td>2006</td>\n      <td>1</td>\n    </tr>\n    <tr>\n      <th>...</th>\n      <td>...</td>\n      <td>...</td>\n      <td>...</td>\n      <td>...</td>\n    </tr>\n    <tr>\n      <th>103845</th>\n      <td>3.94</td>\n      <td>1</td>\n      <td>-1</td>\n      <td>1</td>\n    </tr>\n    <tr>\n      <th>116447</th>\n      <td>3.75</td>\n      <td>1</td>\n      <td>-1</td>\n      <td>4</td>\n    </tr>\n    <tr>\n      <th>117054</th>\n      <td>3.46</td>\n      <td>2</td>\n      <td>1989</td>\n      <td>2</td>\n    </tr>\n    <tr>\n      <th>121106</th>\n      <td>3.98</td>\n      <td>7</td>\n      <td>-1</td>\n      <td>1</td>\n    </tr>\n    <tr>\n      <th>121148</th>\n      <td>3.12</td>\n      <td>2</td>\n      <td>-1</td>\n      <td>2</td>\n    </tr>\n  </tbody>\n</table>\n<p>1173 rows × 4 columns</p>\n</div>"
     },
     "execution_count": 92,
     "metadata": {},
     "output_type": "execute_result"
    }
   ],
   "source": [
    "df = df.groupby('site_id').agg(\n",
    "    {'score': 'first', 'edition': 'first', 'ad_publication_year': 'first', 'reward': 'count'})\n",
    "df"
   ],
   "metadata": {
    "collapsed": false,
    "ExecuteTime": {
     "end_time": "2023-10-01T20:40:27.125532900Z",
     "start_time": "2023-10-01T20:40:27.097205Z"
    }
   },
   "id": "de9547eab85cd64b"
  },
  {
   "cell_type": "code",
   "execution_count": 95,
   "id": "7c6db2a5",
   "metadata": {
    "ExecuteTime": {
     "end_time": "2023-10-01T20:40:37.369984400Z",
     "start_time": "2023-10-01T20:40:37.343780300Z"
    }
   },
   "outputs": [
    {
     "data": {
      "text/plain": "site_id\n28        0.720\n33        0.700\n40        0.636\n47        0.632\n51        0.722\n          ...  \n103845    0.788\n116447    0.750\n117054    0.692\n121106    0.796\n121148    0.624\nName: score, Length: 1173, dtype: float64"
     },
     "execution_count": 95,
     "metadata": {},
     "output_type": "execute_result"
    }
   ],
   "source": [
    "normalized_score = (df['score'] / 5).astype('float64')\n",
    "normalized_score"
   ]
  },
  {
   "cell_type": "code",
   "execution_count": 99,
   "id": "a4293f23",
   "metadata": {
    "ExecuteTime": {
     "end_time": "2023-10-01T20:42:55.475596800Z",
     "start_time": "2023-10-01T20:42:55.426204900Z"
    }
   },
   "outputs": [
    {
     "data": {
      "text/plain": "site_id\n28        0.463287\n33        0.633971\n40        0.111532\n47        1.000000\n51        0.223064\n            ...   \n103845    0.000991\n116447    0.000991\n117054    0.114719\n121106    0.006940\n121148    0.001983\nLength: 1173, dtype: float64"
     },
     "execution_count": 99,
     "metadata": {},
     "output_type": "execute_result"
    }
   ],
   "source": [
    "normalized_edition = df['edition'] / (2024 - df['ad_publication_year']) * 2\n",
    "max_edition = normalized_edition.quantile(0.9)\n",
    "normalized_edition = normalized_edition / max_edition\n",
    "normalized_edition[normalized_edition > 1] = 1\n",
    "normalized_edition[normalized_edition < 0] = 0\n",
    "normalized_edition\n",
    "# max_edition"
   ]
  },
  {
   "cell_type": "code",
   "execution_count": 102,
   "outputs": [
    {
     "data": {
      "text/plain": "        score  edition  ad_publication_year  reward  writer_score\nsite_id                                                          \n706      4.04       12                 1998       4      0.870115\n616      3.91       24                 2003      18      0.869200\n1606     3.89       85                 1958       4      0.866800\n23248    3.96        4                 2015       6      0.853651\n846      3.76       39                 1998      28      0.851200\n...       ...      ...                  ...     ...           ...\n21952    0.00        1                 2011       1      0.080886\n13103    0.00       20                   -1       1      0.053966\n13149    0.00        1                 1840       1      0.052182\n15122    0.00        7                   -1       1      0.051388\n80537    0.00        2                   -1       1      0.050397\n\n[1173 rows x 5 columns]",
      "text/html": "<div>\n<style scoped>\n    .dataframe tbody tr th:only-of-type {\n        vertical-align: middle;\n    }\n\n    .dataframe tbody tr th {\n        vertical-align: top;\n    }\n\n    .dataframe thead th {\n        text-align: right;\n    }\n</style>\n<table border=\"1\" class=\"dataframe\">\n  <thead>\n    <tr style=\"text-align: right;\">\n      <th></th>\n      <th>score</th>\n      <th>edition</th>\n      <th>ad_publication_year</th>\n      <th>reward</th>\n      <th>writer_score</th>\n    </tr>\n    <tr>\n      <th>site_id</th>\n      <th></th>\n      <th></th>\n      <th></th>\n      <th></th>\n      <th></th>\n    </tr>\n  </thead>\n  <tbody>\n    <tr>\n      <th>706</th>\n      <td>4.04</td>\n      <td>12</td>\n      <td>1998</td>\n      <td>4</td>\n      <td>0.870115</td>\n    </tr>\n    <tr>\n      <th>616</th>\n      <td>3.91</td>\n      <td>24</td>\n      <td>2003</td>\n      <td>18</td>\n      <td>0.869200</td>\n    </tr>\n    <tr>\n      <th>1606</th>\n      <td>3.89</td>\n      <td>85</td>\n      <td>1958</td>\n      <td>4</td>\n      <td>0.866800</td>\n    </tr>\n    <tr>\n      <th>23248</th>\n      <td>3.96</td>\n      <td>4</td>\n      <td>2015</td>\n      <td>6</td>\n      <td>0.853651</td>\n    </tr>\n    <tr>\n      <th>846</th>\n      <td>3.76</td>\n      <td>39</td>\n      <td>1998</td>\n      <td>28</td>\n      <td>0.851200</td>\n    </tr>\n    <tr>\n      <th>...</th>\n      <td>...</td>\n      <td>...</td>\n      <td>...</td>\n      <td>...</td>\n      <td>...</td>\n    </tr>\n    <tr>\n      <th>21952</th>\n      <td>0.00</td>\n      <td>1</td>\n      <td>2011</td>\n      <td>1</td>\n      <td>0.080886</td>\n    </tr>\n    <tr>\n      <th>13103</th>\n      <td>0.00</td>\n      <td>20</td>\n      <td>-1</td>\n      <td>1</td>\n      <td>0.053966</td>\n    </tr>\n    <tr>\n      <th>13149</th>\n      <td>0.00</td>\n      <td>1</td>\n      <td>1840</td>\n      <td>1</td>\n      <td>0.052182</td>\n    </tr>\n    <tr>\n      <th>15122</th>\n      <td>0.00</td>\n      <td>7</td>\n      <td>-1</td>\n      <td>1</td>\n      <td>0.051388</td>\n    </tr>\n    <tr>\n      <th>80537</th>\n      <td>0.00</td>\n      <td>2</td>\n      <td>-1</td>\n      <td>1</td>\n      <td>0.050397</td>\n    </tr>\n  </tbody>\n</table>\n<p>1173 rows × 5 columns</p>\n</div>"
     },
     "execution_count": 102,
     "metadata": {},
     "output_type": "execute_result"
    }
   ],
   "source": [
    "df['writer_score'] = ((normalized_edition * 0.2) + (normalized_score * 0.6) + normalized_reward * 0.2)\n",
    "df.sort_values(by='writer_score', ascending=False)"
   ],
   "metadata": {
    "collapsed": false,
    "ExecuteTime": {
     "end_time": "2023-10-01T20:45:52.813398600Z",
     "start_time": "2023-10-01T20:45:52.777839200Z"
    }
   },
   "id": "9048cbbf"
  }
 ],
 "metadata": {
  "kernelspec": {
   "display_name": "Python 3 (ipykernel)",
   "language": "python",
   "name": "python3"
  },
  "language_info": {
   "codemirror_mode": {
    "name": "ipython",
    "version": 3
   },
   "file_extension": ".py",
   "mimetype": "text/x-python",
   "name": "python",
   "nbconvert_exporter": "python",
   "pygments_lexer": "ipython3",
   "version": "3.11.3"
  }
 },
 "nbformat": 4,
 "nbformat_minor": 5
}
