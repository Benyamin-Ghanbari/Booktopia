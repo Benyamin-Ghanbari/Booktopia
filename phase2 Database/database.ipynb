{
 "cells": [
  {
   "cell_type": "code",
   "execution_count": 4,
   "id": "de5e05c3",
   "metadata": {
    "ExecuteTime": {
     "end_time": "2023-09-29T18:25:37.256374900Z",
     "start_time": "2023-09-29T18:25:37.224765300Z"
    }
   },
   "outputs": [],
   "source": [
    "# libraries\n",
    "import pandas as pd\n",
    "import mysql.connector"
   ]
  },
  {
   "cell_type": "code",
   "execution_count": 5,
   "id": "bc2c6c9d",
   "metadata": {
    "ExecuteTime": {
     "end_time": "2023-09-29T18:25:38.134775400Z",
     "start_time": "2023-09-29T18:25:38.104093600Z"
    }
   },
   "outputs": [],
   "source": [
    "def check_duplicates(df):\n",
    "    df2 = df.duplicated()\n",
    "    for i in df2:\n",
    "        if i == True:\n",
    "            key = 1\n",
    "            break\n",
    "        else:\n",
    "            key = 0\n",
    "    return key"
   ]
  },
  {
   "cell_type": "code",
   "execution_count": 10,
   "id": "e92df401",
   "metadata": {
    "ExecuteTime": {
     "end_time": "2023-09-29T18:27:28.147980Z",
     "start_time": "2023-09-29T18:27:28.100201400Z"
    }
   },
   "outputs": [
    {
     "data": {
      "text/plain": "     site_index    code            Isbn  \\\n0             1   14109  978-6004054591   \n1             2   19941  978-6006935157   \n2             3   87800  978-6222086718   \n3             4  105323  978-6005861280   \n4             5   25671  978-9643124694   \n..          ...     ...             ...   \n103          95   64191  978-6227592146   \n104          96   16402  978-9642249930   \n105          97  101751  978-6226374446   \n106          98   89058  978-9648021974   \n107          99   56872  978-9644012259   \n\n                                   fa_title  \\\n0                   کتاب نامه هایی به اولگا   \n1                        کتاب نوربرت خرگردن   \n2                کتاب گزیده طنز شهاب ترشیزی   \n3          کتاب من یک احمق هستم شما چطور…؟!   \n4                  کتاب مدیریت منابع انسانی   \n..                                      ...   \n103  کتاب شیوه بازاریابی محتوایی یک صفحه ای   \n104                    کتاب مکانیک کوانتومی   \n105                        کتاب رویا و رویا   \n106           کتاب هنر تزئین شیرینی و شکلات   \n107                        کتاب فلسفه معاصر   \n\n                                      en_title  score  publisher_id  pages  \\\n0                              Letters to Olga   3.37            31    402   \n1                           Norberto Nucagorda   3.86            11     56   \n2                              Shahab Torshizi   3.33          1327     85   \n3             I'm an idiot, how about you...?!   3.04          1259    144   \n4                   Human resources management   3.80            66    496   \n..                                         ...    ...           ...    ...   \n103   The One-Page Content Marketing Blueprint   3.42          1630    260   \n104                          Quantum Mechanics   3.21             9     84   \n105                            Dream and dream   3.92          1210    305   \n106                                 Decoration   3.32          1336     60   \n107                    Contemporary Philosophy   3.24          1258    352   \n\n     publication_per_date  publication_ad_date  size  cover_material  \\\n0                    1402                 1983     0               0   \n1                    1398                 1987     0               1   \n2                    1401                   -1     0               1   \n3                    1402                   -1     0               1   \n4                    1398                   -1     1               1   \n..                    ...                  ...   ...             ...   \n103                  1400                 2019     0               1   \n104                  1398                 2017     0               1   \n105                  1401                   -1     0               1   \n106                  1390                   -1     4               1   \n107                  1392                 1956     1               1   \n\n     print_series language earliest_send_time                    presence  \\\n0               2    فارسی              5 مهر                      موجود    \n1               2    فارسی              8 مهر                      موجود    \n2               1    فارسی              5 مهر                      موجود    \n3               3    فارسی              8 مهر                      موجود    \n4              13    فارسی                ---                 به زودی  🙄    \n..            ...      ...                ...                         ...   \n103             1    فارسی                ---    تمام شد ، اما میاریمش 😏    \n104             4    فارسی              5 مهر                      موجود    \n105             1    فارسی              5 مهر                      موجود    \n106             2    فارسی              8 مهر                      موجود    \n107             3    فارسی              5 مهر                      موجود    \n\n     paper_type  \n0            -1  \n1            -1  \n2            -1  \n3            -1  \n4            -1  \n..          ...  \n103          -1  \n104          -1  \n105          -1  \n106          -1  \n107          -1  \n\n[108 rows x 17 columns]",
      "text/html": "<div>\n<style scoped>\n    .dataframe tbody tr th:only-of-type {\n        vertical-align: middle;\n    }\n\n    .dataframe tbody tr th {\n        vertical-align: top;\n    }\n\n    .dataframe thead th {\n        text-align: right;\n    }\n</style>\n<table border=\"1\" class=\"dataframe\">\n  <thead>\n    <tr style=\"text-align: right;\">\n      <th></th>\n      <th>site_index</th>\n      <th>code</th>\n      <th>Isbn</th>\n      <th>fa_title</th>\n      <th>en_title</th>\n      <th>score</th>\n      <th>publisher_id</th>\n      <th>pages</th>\n      <th>publication_per_date</th>\n      <th>publication_ad_date</th>\n      <th>size</th>\n      <th>cover_material</th>\n      <th>print_series</th>\n      <th>language</th>\n      <th>earliest_send_time</th>\n      <th>presence</th>\n      <th>paper_type</th>\n    </tr>\n  </thead>\n  <tbody>\n    <tr>\n      <th>0</th>\n      <td>1</td>\n      <td>14109</td>\n      <td>978-6004054591</td>\n      <td>کتاب نامه هایی به اولگا</td>\n      <td>Letters to Olga</td>\n      <td>3.37</td>\n      <td>31</td>\n      <td>402</td>\n      <td>1402</td>\n      <td>1983</td>\n      <td>0</td>\n      <td>0</td>\n      <td>2</td>\n      <td>فارسی</td>\n      <td>5 مهر</td>\n      <td>موجود</td>\n      <td>-1</td>\n    </tr>\n    <tr>\n      <th>1</th>\n      <td>2</td>\n      <td>19941</td>\n      <td>978-6006935157</td>\n      <td>کتاب نوربرت خرگردن</td>\n      <td>Norberto Nucagorda</td>\n      <td>3.86</td>\n      <td>11</td>\n      <td>56</td>\n      <td>1398</td>\n      <td>1987</td>\n      <td>0</td>\n      <td>1</td>\n      <td>2</td>\n      <td>فارسی</td>\n      <td>8 مهر</td>\n      <td>موجود</td>\n      <td>-1</td>\n    </tr>\n    <tr>\n      <th>2</th>\n      <td>3</td>\n      <td>87800</td>\n      <td>978-6222086718</td>\n      <td>کتاب گزیده طنز شهاب ترشیزی</td>\n      <td>Shahab Torshizi</td>\n      <td>3.33</td>\n      <td>1327</td>\n      <td>85</td>\n      <td>1401</td>\n      <td>-1</td>\n      <td>0</td>\n      <td>1</td>\n      <td>1</td>\n      <td>فارسی</td>\n      <td>5 مهر</td>\n      <td>موجود</td>\n      <td>-1</td>\n    </tr>\n    <tr>\n      <th>3</th>\n      <td>4</td>\n      <td>105323</td>\n      <td>978-6005861280</td>\n      <td>کتاب من یک احمق هستم شما چطور…؟!</td>\n      <td>I'm an idiot, how about you...?!</td>\n      <td>3.04</td>\n      <td>1259</td>\n      <td>144</td>\n      <td>1402</td>\n      <td>-1</td>\n      <td>0</td>\n      <td>1</td>\n      <td>3</td>\n      <td>فارسی</td>\n      <td>8 مهر</td>\n      <td>موجود</td>\n      <td>-1</td>\n    </tr>\n    <tr>\n      <th>4</th>\n      <td>5</td>\n      <td>25671</td>\n      <td>978-9643124694</td>\n      <td>کتاب مدیریت منابع انسانی</td>\n      <td>Human resources management</td>\n      <td>3.80</td>\n      <td>66</td>\n      <td>496</td>\n      <td>1398</td>\n      <td>-1</td>\n      <td>1</td>\n      <td>1</td>\n      <td>13</td>\n      <td>فارسی</td>\n      <td>---</td>\n      <td>به زودی  🙄</td>\n      <td>-1</td>\n    </tr>\n    <tr>\n      <th>...</th>\n      <td>...</td>\n      <td>...</td>\n      <td>...</td>\n      <td>...</td>\n      <td>...</td>\n      <td>...</td>\n      <td>...</td>\n      <td>...</td>\n      <td>...</td>\n      <td>...</td>\n      <td>...</td>\n      <td>...</td>\n      <td>...</td>\n      <td>...</td>\n      <td>...</td>\n      <td>...</td>\n      <td>...</td>\n    </tr>\n    <tr>\n      <th>103</th>\n      <td>95</td>\n      <td>64191</td>\n      <td>978-6227592146</td>\n      <td>کتاب شیوه بازاریابی محتوایی یک صفحه ای</td>\n      <td>The One-Page Content Marketing Blueprint</td>\n      <td>3.42</td>\n      <td>1630</td>\n      <td>260</td>\n      <td>1400</td>\n      <td>2019</td>\n      <td>0</td>\n      <td>1</td>\n      <td>1</td>\n      <td>فارسی</td>\n      <td>---</td>\n      <td>تمام شد ، اما میاریمش 😏</td>\n      <td>-1</td>\n    </tr>\n    <tr>\n      <th>104</th>\n      <td>96</td>\n      <td>16402</td>\n      <td>978-9642249930</td>\n      <td>کتاب مکانیک کوانتومی</td>\n      <td>Quantum Mechanics</td>\n      <td>3.21</td>\n      <td>9</td>\n      <td>84</td>\n      <td>1398</td>\n      <td>2017</td>\n      <td>0</td>\n      <td>1</td>\n      <td>4</td>\n      <td>فارسی</td>\n      <td>5 مهر</td>\n      <td>موجود</td>\n      <td>-1</td>\n    </tr>\n    <tr>\n      <th>105</th>\n      <td>97</td>\n      <td>101751</td>\n      <td>978-6226374446</td>\n      <td>کتاب رویا و رویا</td>\n      <td>Dream and dream</td>\n      <td>3.92</td>\n      <td>1210</td>\n      <td>305</td>\n      <td>1401</td>\n      <td>-1</td>\n      <td>0</td>\n      <td>1</td>\n      <td>1</td>\n      <td>فارسی</td>\n      <td>5 مهر</td>\n      <td>موجود</td>\n      <td>-1</td>\n    </tr>\n    <tr>\n      <th>106</th>\n      <td>98</td>\n      <td>89058</td>\n      <td>978-9648021974</td>\n      <td>کتاب هنر تزئین شیرینی و شکلات</td>\n      <td>Decoration</td>\n      <td>3.32</td>\n      <td>1336</td>\n      <td>60</td>\n      <td>1390</td>\n      <td>-1</td>\n      <td>4</td>\n      <td>1</td>\n      <td>2</td>\n      <td>فارسی</td>\n      <td>8 مهر</td>\n      <td>موجود</td>\n      <td>-1</td>\n    </tr>\n    <tr>\n      <th>107</th>\n      <td>99</td>\n      <td>56872</td>\n      <td>978-9644012259</td>\n      <td>کتاب فلسفه معاصر</td>\n      <td>Contemporary Philosophy</td>\n      <td>3.24</td>\n      <td>1258</td>\n      <td>352</td>\n      <td>1392</td>\n      <td>1956</td>\n      <td>1</td>\n      <td>1</td>\n      <td>3</td>\n      <td>فارسی</td>\n      <td>5 مهر</td>\n      <td>موجود</td>\n      <td>-1</td>\n    </tr>\n  </tbody>\n</table>\n<p>108 rows × 17 columns</p>\n</div>"
     },
     "execution_count": 10,
     "metadata": {},
     "output_type": "execute_result"
    }
   ],
   "source": [
    "# importing data from csv files\n",
    "book_detail_table = pd.read_csv('../phase1 Scraping/Outputs/bookData.csv')\n",
    "book_detail_table['Isbn'].fillna('null', inplace = True)\n",
    "book_detail_table['score'].fillna(0, inplace = True)\n",
    "#book_detail_table\n",
    "#check_duplicates(book_detail_table)"
   ]
  },
  {
   "cell_type": "code",
   "execution_count": 16,
   "id": "26d09cb2",
   "metadata": {
    "ExecuteTime": {
     "end_time": "2023-09-29T18:30:41.945054Z",
     "start_time": "2023-09-29T18:30:41.850631600Z"
    }
   },
   "outputs": [
    {
     "data": {
      "text/plain": "    book_id  translator_id\n0     14109            569\n1     19941           2634\n2     76229          32803\n3     25277          14441\n4     36714           4702\n5     67445          24867\n6    105144          30543\n7    115076          33130\n8     25342          43843\n9     14025           5746\n10    58825            442\n11    41530          23745\n12   101356          54924\n13   112151          31863\n14   112151          51963\n15    13329            639\n16    45609          15472\n17   105356          28889\n18    58102           5308\n19    12000           3587\n20    96673          52172\n21     9874           5941\n22   120784          21664\n23   100800          31863\n24     9166           5066\n25    56525            818\n26    25266          14649\n27    51907           8749\n28    63869          35003\n29    95405          50245\n30    95405          51242\n31    48714           8267\n32    10752           6375\n33    54804           3543\n34    54964           3543\n35    72639           1011\n36    31044           7694\n37    53873           7535\n38    13754            660\n39    82579          37922\n40    61049          10537\n41    25290            378\n42    44894          25423\n43    45096          25114\n44    12625            639\n45   113135           2231\n46    55300           3126\n47    70486          31863\n48   103181           3090\n49    64191          34974\n50    16402           3260\n51    89058          48144\n52    56872           8325",
      "text/html": "<div>\n<style scoped>\n    .dataframe tbody tr th:only-of-type {\n        vertical-align: middle;\n    }\n\n    .dataframe tbody tr th {\n        vertical-align: top;\n    }\n\n    .dataframe thead th {\n        text-align: right;\n    }\n</style>\n<table border=\"1\" class=\"dataframe\">\n  <thead>\n    <tr style=\"text-align: right;\">\n      <th></th>\n      <th>book_id</th>\n      <th>translator_id</th>\n    </tr>\n  </thead>\n  <tbody>\n    <tr>\n      <th>0</th>\n      <td>14109</td>\n      <td>569</td>\n    </tr>\n    <tr>\n      <th>1</th>\n      <td>19941</td>\n      <td>2634</td>\n    </tr>\n    <tr>\n      <th>2</th>\n      <td>76229</td>\n      <td>32803</td>\n    </tr>\n    <tr>\n      <th>3</th>\n      <td>25277</td>\n      <td>14441</td>\n    </tr>\n    <tr>\n      <th>4</th>\n      <td>36714</td>\n      <td>4702</td>\n    </tr>\n    <tr>\n      <th>5</th>\n      <td>67445</td>\n      <td>24867</td>\n    </tr>\n    <tr>\n      <th>6</th>\n      <td>105144</td>\n      <td>30543</td>\n    </tr>\n    <tr>\n      <th>7</th>\n      <td>115076</td>\n      <td>33130</td>\n    </tr>\n    <tr>\n      <th>8</th>\n      <td>25342</td>\n      <td>43843</td>\n    </tr>\n    <tr>\n      <th>9</th>\n      <td>14025</td>\n      <td>5746</td>\n    </tr>\n    <tr>\n      <th>10</th>\n      <td>58825</td>\n      <td>442</td>\n    </tr>\n    <tr>\n      <th>11</th>\n      <td>41530</td>\n      <td>23745</td>\n    </tr>\n    <tr>\n      <th>12</th>\n      <td>101356</td>\n      <td>54924</td>\n    </tr>\n    <tr>\n      <th>13</th>\n      <td>112151</td>\n      <td>31863</td>\n    </tr>\n    <tr>\n      <th>14</th>\n      <td>112151</td>\n      <td>51963</td>\n    </tr>\n    <tr>\n      <th>15</th>\n      <td>13329</td>\n      <td>639</td>\n    </tr>\n    <tr>\n      <th>16</th>\n      <td>45609</td>\n      <td>15472</td>\n    </tr>\n    <tr>\n      <th>17</th>\n      <td>105356</td>\n      <td>28889</td>\n    </tr>\n    <tr>\n      <th>18</th>\n      <td>58102</td>\n      <td>5308</td>\n    </tr>\n    <tr>\n      <th>19</th>\n      <td>12000</td>\n      <td>3587</td>\n    </tr>\n    <tr>\n      <th>20</th>\n      <td>96673</td>\n      <td>52172</td>\n    </tr>\n    <tr>\n      <th>21</th>\n      <td>9874</td>\n      <td>5941</td>\n    </tr>\n    <tr>\n      <th>22</th>\n      <td>120784</td>\n      <td>21664</td>\n    </tr>\n    <tr>\n      <th>23</th>\n      <td>100800</td>\n      <td>31863</td>\n    </tr>\n    <tr>\n      <th>24</th>\n      <td>9166</td>\n      <td>5066</td>\n    </tr>\n    <tr>\n      <th>25</th>\n      <td>56525</td>\n      <td>818</td>\n    </tr>\n    <tr>\n      <th>26</th>\n      <td>25266</td>\n      <td>14649</td>\n    </tr>\n    <tr>\n      <th>27</th>\n      <td>51907</td>\n      <td>8749</td>\n    </tr>\n    <tr>\n      <th>28</th>\n      <td>63869</td>\n      <td>35003</td>\n    </tr>\n    <tr>\n      <th>29</th>\n      <td>95405</td>\n      <td>50245</td>\n    </tr>\n    <tr>\n      <th>30</th>\n      <td>95405</td>\n      <td>51242</td>\n    </tr>\n    <tr>\n      <th>31</th>\n      <td>48714</td>\n      <td>8267</td>\n    </tr>\n    <tr>\n      <th>32</th>\n      <td>10752</td>\n      <td>6375</td>\n    </tr>\n    <tr>\n      <th>33</th>\n      <td>54804</td>\n      <td>3543</td>\n    </tr>\n    <tr>\n      <th>34</th>\n      <td>54964</td>\n      <td>3543</td>\n    </tr>\n    <tr>\n      <th>35</th>\n      <td>72639</td>\n      <td>1011</td>\n    </tr>\n    <tr>\n      <th>36</th>\n      <td>31044</td>\n      <td>7694</td>\n    </tr>\n    <tr>\n      <th>37</th>\n      <td>53873</td>\n      <td>7535</td>\n    </tr>\n    <tr>\n      <th>38</th>\n      <td>13754</td>\n      <td>660</td>\n    </tr>\n    <tr>\n      <th>39</th>\n      <td>82579</td>\n      <td>37922</td>\n    </tr>\n    <tr>\n      <th>40</th>\n      <td>61049</td>\n      <td>10537</td>\n    </tr>\n    <tr>\n      <th>41</th>\n      <td>25290</td>\n      <td>378</td>\n    </tr>\n    <tr>\n      <th>42</th>\n      <td>44894</td>\n      <td>25423</td>\n    </tr>\n    <tr>\n      <th>43</th>\n      <td>45096</td>\n      <td>25114</td>\n    </tr>\n    <tr>\n      <th>44</th>\n      <td>12625</td>\n      <td>639</td>\n    </tr>\n    <tr>\n      <th>45</th>\n      <td>113135</td>\n      <td>2231</td>\n    </tr>\n    <tr>\n      <th>46</th>\n      <td>55300</td>\n      <td>3126</td>\n    </tr>\n    <tr>\n      <th>47</th>\n      <td>70486</td>\n      <td>31863</td>\n    </tr>\n    <tr>\n      <th>48</th>\n      <td>103181</td>\n      <td>3090</td>\n    </tr>\n    <tr>\n      <th>49</th>\n      <td>64191</td>\n      <td>34974</td>\n    </tr>\n    <tr>\n      <th>50</th>\n      <td>16402</td>\n      <td>3260</td>\n    </tr>\n    <tr>\n      <th>51</th>\n      <td>89058</td>\n      <td>48144</td>\n    </tr>\n    <tr>\n      <th>52</th>\n      <td>56872</td>\n      <td>8325</td>\n    </tr>\n  </tbody>\n</table>\n</div>"
     },
     "execution_count": 16,
     "metadata": {},
     "output_type": "execute_result"
    }
   ],
   "source": [
    "translator_table = pd.read_csv('../phase1 Scraping/Outputs/translator.csv')\n",
    "#(translator_table)\n",
    "#(check_duplicates(translator_table))"
   ]
  },
  {
   "cell_type": "code",
   "execution_count": 25,
   "id": "3f85a26f",
   "metadata": {
    "ExecuteTime": {
     "end_time": "2023-09-29T18:32:07.419158300Z",
     "start_time": "2023-09-29T18:32:07.397703500Z"
    }
   },
   "outputs": [],
   "source": [
    "translator_page_table = pd.read_csv('../phase1 Scraping/Outputs/translator_page.csv')\n",
    "#translator_page_table['info'].fillna('null', inplace = True)\n",
    "translator_page_table.drop_duplicates(subset=\"id\", keep = 'first', inplace=True)\n",
    "#(translator_page_table)\n",
    "#(check_duplicates(translator_page_table))"
   ]
  },
  {
   "cell_type": "code",
   "execution_count": 26,
   "id": "95b6a46e",
   "metadata": {
    "ExecuteTime": {
     "end_time": "2023-09-29T18:32:08.631698900Z",
     "start_time": "2023-09-29T18:32:08.600032700Z"
    }
   },
   "outputs": [],
   "source": [
    "price_history_table = pd.read_csv('../phase1 Scraping/Outputs/price-history.csv')\n",
    "#(price_history_table)\n",
    "#(check_duplicates(price_history_table))"
   ]
  },
  {
   "cell_type": "code",
   "execution_count": 27,
   "id": "799f8f7f",
   "metadata": {
    "ExecuteTime": {
     "end_time": "2023-09-29T18:32:08.997038Z",
     "start_time": "2023-09-29T18:32:08.960548200Z"
    }
   },
   "outputs": [],
   "source": [
    "publisher_table = pd.read_csv('../phase1 Scraping/Outputs/publisher.csv')\n",
    "#(publisher_table)\n",
    "#(check_duplicates(publisher_table))"
   ]
  },
  {
   "cell_type": "code",
   "execution_count": 28,
   "id": "f94bc70b",
   "metadata": {
    "ExecuteTime": {
     "end_time": "2023-09-29T18:32:09.294948600Z",
     "start_time": "2023-09-29T18:32:09.271028900Z"
    }
   },
   "outputs": [],
   "source": [
    "format_table = pd.read_csv('../phase1 Scraping/Outputs/format.csv')\n",
    "format_table.rename(columns = {'Unnamed: 0': 'id'}, inplace = True)\n",
    "format_table.loc[format_table.shape[0]] = [-1, 'null']\n",
    "#(format_table)\n",
    "#(check_duplicates(format_table))"
   ]
  },
  {
   "cell_type": "code",
   "execution_count": 29,
   "id": "46fb5dcf",
   "metadata": {
    "ExecuteTime": {
     "end_time": "2023-09-29T18:32:09.577672Z",
     "start_time": "2023-09-29T18:32:09.551710100Z"
    }
   },
   "outputs": [],
   "source": [
    "cover_type_table = pd.read_csv('../phase1 Scraping/Outputs/cover_type.csv')\n",
    "cover_type_table.rename(columns = {'Unnamed: 0': 'id'}, inplace = True)\n",
    "cover_type_table.loc[cover_type_table.shape[0]] = [-1, 'null']\n",
    "#(cover_type_table)\n",
    "#(check_duplicates(cover_type_table))"
   ]
  },
  {
   "cell_type": "code",
   "execution_count": 53,
   "id": "980cd6c3",
   "metadata": {
    "ExecuteTime": {
     "end_time": "2023-09-29T18:45:13.872015400Z",
     "start_time": "2023-09-29T18:45:13.824928100Z"
    }
   },
   "outputs": [
    {
     "data": {
      "text/plain": "    site_index                                            summary\n0            1  این که من اوقاتم را در این جا و دقیقا در این ج...\n1            2  در دشت های پهناور آفریقا کرگدنی به نام نوربرت ...\n2            4  این کتاب به بیان مشکلات گوناگون جامعه ما می پر...\n3            5  توجه به نیروی انسانی طی سال های اخیر بخش مهمی ...\n4            6  ناپلئون، بیل گیت، جورج دابلیو بوش، اسامه بن‌لا...\n..         ...                                                ...\n69          92  این کتاب توضیح می دهد که چگونه فرهنگ خود را با...\n70          94  هیچ رابطه‌ی زناشویی و به طور کل هیچ ارتباطی هی...\n71          95  بازاریابی محتوا در واقع نوعی از بازاریابی درون...\n72          96  مکانیک کوانتومی (به انگلیسی: Quantum mechanics...\n73          99  جنبش های پوزیتیویسم منطقی و اگزیستانسیالیسم در...\n\n[74 rows x 2 columns]",
      "text/html": "<div>\n<style scoped>\n    .dataframe tbody tr th:only-of-type {\n        vertical-align: middle;\n    }\n\n    .dataframe tbody tr th {\n        vertical-align: top;\n    }\n\n    .dataframe thead th {\n        text-align: right;\n    }\n</style>\n<table border=\"1\" class=\"dataframe\">\n  <thead>\n    <tr style=\"text-align: right;\">\n      <th></th>\n      <th>site_index</th>\n      <th>summary</th>\n    </tr>\n  </thead>\n  <tbody>\n    <tr>\n      <th>0</th>\n      <td>1</td>\n      <td>این که من اوقاتم را در این جا و دقیقا در این ج...</td>\n    </tr>\n    <tr>\n      <th>1</th>\n      <td>2</td>\n      <td>در دشت های پهناور آفریقا کرگدنی به نام نوربرت ...</td>\n    </tr>\n    <tr>\n      <th>2</th>\n      <td>4</td>\n      <td>این کتاب به بیان مشکلات گوناگون جامعه ما می پر...</td>\n    </tr>\n    <tr>\n      <th>3</th>\n      <td>5</td>\n      <td>توجه به نیروی انسانی طی سال های اخیر بخش مهمی ...</td>\n    </tr>\n    <tr>\n      <th>4</th>\n      <td>6</td>\n      <td>ناپلئون، بیل گیت، جورج دابلیو بوش، اسامه بن‌لا...</td>\n    </tr>\n    <tr>\n      <th>...</th>\n      <td>...</td>\n      <td>...</td>\n    </tr>\n    <tr>\n      <th>69</th>\n      <td>92</td>\n      <td>این کتاب توضیح می دهد که چگونه فرهنگ خود را با...</td>\n    </tr>\n    <tr>\n      <th>70</th>\n      <td>94</td>\n      <td>هیچ رابطه‌ی زناشویی و به طور کل هیچ ارتباطی هی...</td>\n    </tr>\n    <tr>\n      <th>71</th>\n      <td>95</td>\n      <td>بازاریابی محتوا در واقع نوعی از بازاریابی درون...</td>\n    </tr>\n    <tr>\n      <th>72</th>\n      <td>96</td>\n      <td>مکانیک کوانتومی (به انگلیسی: Quantum mechanics...</td>\n    </tr>\n    <tr>\n      <th>73</th>\n      <td>99</td>\n      <td>جنبش های پوزیتیویسم منطقی و اگزیستانسیالیسم در...</td>\n    </tr>\n  </tbody>\n</table>\n<p>74 rows × 2 columns</p>\n</div>"
     },
     "execution_count": 53,
     "metadata": {},
     "output_type": "execute_result"
    }
   ],
   "source": [
    "book_summary_table = pd.read_csv('../phase1 Scraping/Outputs/BookSummaryData.csv')\n",
    "(book_summary_table)\n",
    "#(check_duplicates(book_summary_table))"
   ]
  },
  {
   "cell_type": "code",
   "execution_count": 61,
   "id": "91eb5665",
   "metadata": {
    "ExecuteTime": {
     "end_time": "2023-09-29T18:45:54.721577500Z",
     "start_time": "2023-09-29T18:45:54.649919100Z"
    }
   },
   "outputs": [
    {
     "ename": "KeyError",
     "evalue": "'site_id'",
     "output_type": "error",
     "traceback": [
      "\u001B[1;31m---------------------------------------------------------------------------\u001B[0m",
      "\u001B[1;31mKeyError\u001B[0m                                  Traceback (most recent call last)",
      "\u001B[1;32m~\\AppData\\Local\\Temp\\ipykernel_8808\\595963475.py\u001B[0m in \u001B[0;36m?\u001B[1;34m()\u001B[0m\n\u001B[1;32m----> 3\u001B[1;33m \u001B[0mcolumns_i_need\u001B[0m \u001B[1;33m=\u001B[0m \u001B[0mbook_detail_table\u001B[0m\u001B[1;33m.\u001B[0m\u001B[0msite_index\u001B[0m\u001B[1;33m\u001B[0m\u001B[1;33m\u001B[0m\u001B[0m\n\u001B[0m\u001B[0;32m      4\u001B[0m \u001B[0mbook_summary_table\u001B[0m\u001B[1;33m.\u001B[0m\u001B[0mrename\u001B[0m\u001B[1;33m(\u001B[0m\u001B[0mcolumns\u001B[0m \u001B[1;33m=\u001B[0m \u001B[1;33m{\u001B[0m\u001B[1;34m'site_index'\u001B[0m\u001B[1;33m:\u001B[0m\u001B[1;34m'site_id'\u001B[0m\u001B[1;33m}\u001B[0m\u001B[1;33m,\u001B[0m \u001B[0minplace\u001B[0m \u001B[1;33m=\u001B[0m \u001B[1;32mTrue\u001B[0m\u001B[1;33m)\u001B[0m\u001B[1;33m\u001B[0m\u001B[1;33m\u001B[0m\u001B[0m\n\u001B[0;32m      5\u001B[0m \u001B[0mbook_summary_new_table\u001B[0m \u001B[1;33m=\u001B[0m \u001B[0mpd\u001B[0m\u001B[1;33m.\u001B[0m\u001B[0mmerge\u001B[0m\u001B[1;33m(\u001B[0m\u001B[0mcolumns_i_need\u001B[0m\u001B[1;33m,\u001B[0m \u001B[0mbook_summary_table\u001B[0m\u001B[1;33m,\u001B[0m \u001B[0mon\u001B[0m \u001B[1;33m=\u001B[0m \u001B[1;34m'site_id'\u001B[0m\u001B[1;33m,\u001B[0m \u001B[0mhow\u001B[0m \u001B[1;33m=\u001B[0m \u001B[1;34m'left'\u001B[0m\u001B[1;33m)\u001B[0m\u001B[1;33m\u001B[0m\u001B[1;33m\u001B[0m\u001B[0m\n\u001B[0;32m      6\u001B[0m \u001B[0mbook_summary_new_table\u001B[0m\u001B[1;33m\u001B[0m\u001B[1;33m\u001B[0m\u001B[0m\n",
      "\u001B[1;32m~\\Data Analysis\\dataVenv\\lib\\site-packages\\pandas\\core\\reshape\\merge.py\u001B[0m in \u001B[0;36m?\u001B[1;34m(left, right, how, on, left_on, right_on, left_index, right_index, sort, suffixes, copy, indicator, validate)\u001B[0m\n\u001B[0;32m    165\u001B[0m             \u001B[0mvalidate\u001B[0m\u001B[1;33m=\u001B[0m\u001B[0mvalidate\u001B[0m\u001B[1;33m,\u001B[0m\u001B[1;33m\u001B[0m\u001B[1;33m\u001B[0m\u001B[0m\n\u001B[0;32m    166\u001B[0m             \u001B[0mcopy\u001B[0m\u001B[1;33m=\u001B[0m\u001B[0mcopy\u001B[0m\u001B[1;33m,\u001B[0m\u001B[1;33m\u001B[0m\u001B[1;33m\u001B[0m\u001B[0m\n\u001B[0;32m    167\u001B[0m         )\n\u001B[0;32m    168\u001B[0m     \u001B[1;32melse\u001B[0m\u001B[1;33m:\u001B[0m\u001B[1;33m\u001B[0m\u001B[1;33m\u001B[0m\u001B[0m\n\u001B[1;32m--> 169\u001B[1;33m         op = _MergeOperation(\n\u001B[0m\u001B[0;32m    170\u001B[0m             \u001B[0mleft_df\u001B[0m\u001B[1;33m,\u001B[0m\u001B[1;33m\u001B[0m\u001B[1;33m\u001B[0m\u001B[0m\n\u001B[0;32m    171\u001B[0m             \u001B[0mright_df\u001B[0m\u001B[1;33m,\u001B[0m\u001B[1;33m\u001B[0m\u001B[1;33m\u001B[0m\u001B[0m\n\u001B[0;32m    172\u001B[0m             \u001B[0mhow\u001B[0m\u001B[1;33m=\u001B[0m\u001B[0mhow\u001B[0m\u001B[1;33m,\u001B[0m\u001B[1;33m\u001B[0m\u001B[1;33m\u001B[0m\u001B[0m\n",
      "\u001B[1;32m~\\Data Analysis\\dataVenv\\lib\\site-packages\\pandas\\core\\reshape\\merge.py\u001B[0m in \u001B[0;36m?\u001B[1;34m(self, left, right, how, on, left_on, right_on, left_index, right_index, sort, suffixes, indicator, validate)\u001B[0m\n\u001B[0;32m    787\u001B[0m             \u001B[0mself\u001B[0m\u001B[1;33m.\u001B[0m\u001B[0mright_join_keys\u001B[0m\u001B[1;33m,\u001B[0m\u001B[1;33m\u001B[0m\u001B[1;33m\u001B[0m\u001B[0m\n\u001B[0;32m    788\u001B[0m             \u001B[0mself\u001B[0m\u001B[1;33m.\u001B[0m\u001B[0mjoin_names\u001B[0m\u001B[1;33m,\u001B[0m\u001B[1;33m\u001B[0m\u001B[1;33m\u001B[0m\u001B[0m\n\u001B[0;32m    789\u001B[0m             \u001B[0mleft_drop\u001B[0m\u001B[1;33m,\u001B[0m\u001B[1;33m\u001B[0m\u001B[1;33m\u001B[0m\u001B[0m\n\u001B[0;32m    790\u001B[0m             \u001B[0mright_drop\u001B[0m\u001B[1;33m,\u001B[0m\u001B[1;33m\u001B[0m\u001B[1;33m\u001B[0m\u001B[0m\n\u001B[1;32m--> 791\u001B[1;33m         ) = self._get_merge_keys()\n\u001B[0m\u001B[0;32m    792\u001B[0m \u001B[1;33m\u001B[0m\u001B[0m\n\u001B[0;32m    793\u001B[0m         \u001B[1;32mif\u001B[0m \u001B[0mleft_drop\u001B[0m\u001B[1;33m:\u001B[0m\u001B[1;33m\u001B[0m\u001B[1;33m\u001B[0m\u001B[0m\n\u001B[0;32m    794\u001B[0m             \u001B[0mself\u001B[0m\u001B[1;33m.\u001B[0m\u001B[0mleft\u001B[0m \u001B[1;33m=\u001B[0m \u001B[0mself\u001B[0m\u001B[1;33m.\u001B[0m\u001B[0mleft\u001B[0m\u001B[1;33m.\u001B[0m\u001B[0m_drop_labels_or_levels\u001B[0m\u001B[1;33m(\u001B[0m\u001B[0mleft_drop\u001B[0m\u001B[1;33m)\u001B[0m\u001B[1;33m\u001B[0m\u001B[1;33m\u001B[0m\u001B[0m\n",
      "\u001B[1;32m~\\Data Analysis\\dataVenv\\lib\\site-packages\\pandas\\core\\reshape\\merge.py\u001B[0m in \u001B[0;36m?\u001B[1;34m(self)\u001B[0m\n\u001B[0;32m   1283\u001B[0m                     \u001B[1;32mif\u001B[0m \u001B[0mlk\u001B[0m \u001B[1;32mis\u001B[0m \u001B[1;32mnot\u001B[0m \u001B[1;32mNone\u001B[0m\u001B[1;33m:\u001B[0m\u001B[1;33m\u001B[0m\u001B[1;33m\u001B[0m\u001B[0m\n\u001B[0;32m   1284\u001B[0m                         \u001B[1;31m# Then we're either Hashable or a wrong-length arraylike,\u001B[0m\u001B[1;33m\u001B[0m\u001B[1;33m\u001B[0m\u001B[1;33m\u001B[0m\u001B[0m\n\u001B[0;32m   1285\u001B[0m                         \u001B[1;31m#  the latter of which will raise\u001B[0m\u001B[1;33m\u001B[0m\u001B[1;33m\u001B[0m\u001B[1;33m\u001B[0m\u001B[0m\n\u001B[0;32m   1286\u001B[0m                         \u001B[0mlk\u001B[0m \u001B[1;33m=\u001B[0m \u001B[0mcast\u001B[0m\u001B[1;33m(\u001B[0m\u001B[0mHashable\u001B[0m\u001B[1;33m,\u001B[0m \u001B[0mlk\u001B[0m\u001B[1;33m)\u001B[0m\u001B[1;33m\u001B[0m\u001B[1;33m\u001B[0m\u001B[0m\n\u001B[1;32m-> 1287\u001B[1;33m                         \u001B[0mleft_keys\u001B[0m\u001B[1;33m.\u001B[0m\u001B[0mappend\u001B[0m\u001B[1;33m(\u001B[0m\u001B[0mleft\u001B[0m\u001B[1;33m.\u001B[0m\u001B[0m_get_label_or_level_values\u001B[0m\u001B[1;33m(\u001B[0m\u001B[0mlk\u001B[0m\u001B[1;33m)\u001B[0m\u001B[1;33m)\u001B[0m\u001B[1;33m\u001B[0m\u001B[1;33m\u001B[0m\u001B[0m\n\u001B[0m\u001B[0;32m   1288\u001B[0m                         \u001B[0mjoin_names\u001B[0m\u001B[1;33m.\u001B[0m\u001B[0mappend\u001B[0m\u001B[1;33m(\u001B[0m\u001B[0mlk\u001B[0m\u001B[1;33m)\u001B[0m\u001B[1;33m\u001B[0m\u001B[1;33m\u001B[0m\u001B[0m\n\u001B[0;32m   1289\u001B[0m                     \u001B[1;32melse\u001B[0m\u001B[1;33m:\u001B[0m\u001B[1;33m\u001B[0m\u001B[1;33m\u001B[0m\u001B[0m\n\u001B[0;32m   1290\u001B[0m                         \u001B[1;31m# work-around for merge_asof(left_index=True)\u001B[0m\u001B[1;33m\u001B[0m\u001B[1;33m\u001B[0m\u001B[1;33m\u001B[0m\u001B[0m\n",
      "\u001B[1;32m~\\Data Analysis\\dataVenv\\lib\\site-packages\\pandas\\core\\generic.py\u001B[0m in \u001B[0;36m?\u001B[1;34m(self, key, axis)\u001B[0m\n\u001B[0;32m   1840\u001B[0m             \u001B[0mvalues\u001B[0m \u001B[1;33m=\u001B[0m \u001B[0mself\u001B[0m\u001B[1;33m.\u001B[0m\u001B[0mxs\u001B[0m\u001B[1;33m(\u001B[0m\u001B[0mkey\u001B[0m\u001B[1;33m,\u001B[0m \u001B[0maxis\u001B[0m\u001B[1;33m=\u001B[0m\u001B[0mother_axes\u001B[0m\u001B[1;33m[\u001B[0m\u001B[1;36m0\u001B[0m\u001B[1;33m]\u001B[0m\u001B[1;33m)\u001B[0m\u001B[1;33m.\u001B[0m\u001B[0m_values\u001B[0m\u001B[1;33m\u001B[0m\u001B[1;33m\u001B[0m\u001B[0m\n\u001B[0;32m   1841\u001B[0m         \u001B[1;32melif\u001B[0m \u001B[0mself\u001B[0m\u001B[1;33m.\u001B[0m\u001B[0m_is_level_reference\u001B[0m\u001B[1;33m(\u001B[0m\u001B[0mkey\u001B[0m\u001B[1;33m,\u001B[0m \u001B[0maxis\u001B[0m\u001B[1;33m=\u001B[0m\u001B[0maxis\u001B[0m\u001B[1;33m)\u001B[0m\u001B[1;33m:\u001B[0m\u001B[1;33m\u001B[0m\u001B[1;33m\u001B[0m\u001B[0m\n\u001B[0;32m   1842\u001B[0m             \u001B[0mvalues\u001B[0m \u001B[1;33m=\u001B[0m \u001B[0mself\u001B[0m\u001B[1;33m.\u001B[0m\u001B[0maxes\u001B[0m\u001B[1;33m[\u001B[0m\u001B[0maxis\u001B[0m\u001B[1;33m]\u001B[0m\u001B[1;33m.\u001B[0m\u001B[0mget_level_values\u001B[0m\u001B[1;33m(\u001B[0m\u001B[0mkey\u001B[0m\u001B[1;33m)\u001B[0m\u001B[1;33m.\u001B[0m\u001B[0m_values\u001B[0m\u001B[1;33m\u001B[0m\u001B[1;33m\u001B[0m\u001B[0m\n\u001B[0;32m   1843\u001B[0m         \u001B[1;32melse\u001B[0m\u001B[1;33m:\u001B[0m\u001B[1;33m\u001B[0m\u001B[1;33m\u001B[0m\u001B[0m\n\u001B[1;32m-> 1844\u001B[1;33m             \u001B[1;32mraise\u001B[0m \u001B[0mKeyError\u001B[0m\u001B[1;33m(\u001B[0m\u001B[0mkey\u001B[0m\u001B[1;33m)\u001B[0m\u001B[1;33m\u001B[0m\u001B[1;33m\u001B[0m\u001B[0m\n\u001B[0m\u001B[0;32m   1845\u001B[0m \u001B[1;33m\u001B[0m\u001B[0m\n\u001B[0;32m   1846\u001B[0m         \u001B[1;31m# Check for duplicates\u001B[0m\u001B[1;33m\u001B[0m\u001B[1;33m\u001B[0m\u001B[1;33m\u001B[0m\u001B[0m\n\u001B[0;32m   1847\u001B[0m         \u001B[1;32mif\u001B[0m \u001B[0mvalues\u001B[0m\u001B[1;33m.\u001B[0m\u001B[0mndim\u001B[0m \u001B[1;33m>\u001B[0m \u001B[1;36m1\u001B[0m\u001B[1;33m:\u001B[0m\u001B[1;33m\u001B[0m\u001B[1;33m\u001B[0m\u001B[0m\n",
      "\u001B[1;31mKeyError\u001B[0m: 'site_id'"
     ]
    }
   ],
   "source": [
    "columns_i_need = book_detail_table.site_index\n",
    "book_summary_table.rename(columns = {'site_index':'site_id'}, inplace = True)\n",
    "book_summary_new_table = pd.merge(columns_i_need, book_summary_table, on = 'site_id', how = 'left')\n",
    "book_summary_new_table"
   ]
  },
  {
   "cell_type": "code",
   "execution_count": 62,
   "id": "69253270",
   "metadata": {
    "ExecuteTime": {
     "end_time": "2023-09-29T18:45:55.237305700Z",
     "start_time": "2023-09-29T18:45:55.202400800Z"
    }
   },
   "outputs": [
    {
     "ename": "NameError",
     "evalue": "name 'book_summary_new_table' is not defined",
     "output_type": "error",
     "traceback": [
      "\u001B[1;31m---------------------------------------------------------------------------\u001B[0m",
      "\u001B[1;31mNameError\u001B[0m                                 Traceback (most recent call last)",
      "Cell \u001B[1;32mIn[62], line 1\u001B[0m\n\u001B[1;32m----> 1\u001B[0m \u001B[43mbook_summary_new_table\u001B[49m\u001B[38;5;241m.\u001B[39mdrop_duplicates(subset\u001B[38;5;241m=\u001B[39m\u001B[38;5;124m\"\u001B[39m\u001B[38;5;124msite_id\u001B[39m\u001B[38;5;124m\"\u001B[39m, keep \u001B[38;5;241m=\u001B[39m \u001B[38;5;124m'\u001B[39m\u001B[38;5;124mfirst\u001B[39m\u001B[38;5;124m'\u001B[39m, inplace\u001B[38;5;241m=\u001B[39m\u001B[38;5;28;01mTrue\u001B[39;00m)\n\u001B[0;32m      2\u001B[0m book_summary_new_table[\u001B[38;5;124m'\u001B[39m\u001B[38;5;124msummary\u001B[39m\u001B[38;5;124m'\u001B[39m]\u001B[38;5;241m.\u001B[39mfillna(\u001B[38;5;124m'\u001B[39m\u001B[38;5;124mnull\u001B[39m\u001B[38;5;124m'\u001B[39m, inplace \u001B[38;5;241m=\u001B[39m \u001B[38;5;28;01mTrue\u001B[39;00m)\n\u001B[0;32m      3\u001B[0m book_summary_new_table\u001B[38;5;241m.\u001B[39mreset_index(inplace \u001B[38;5;241m=\u001B[39m \u001B[38;5;28;01mTrue\u001B[39;00m, drop \u001B[38;5;241m=\u001B[39m \u001B[38;5;28;01mTrue\u001B[39;00m)\n",
      "\u001B[1;31mNameError\u001B[0m: name 'book_summary_new_table' is not defined"
     ]
    }
   ],
   "source": [
    "book_summary_new_table.drop_duplicates(subset=\"site_id\", keep = 'first', inplace=True)\n",
    "book_summary_new_table['summary'].fillna('null', inplace = True)\n",
    "book_summary_new_table.reset_index(inplace = True, drop = True)\n",
    "#book_summary_new_table"
   ]
  },
  {
   "cell_type": "code",
   "execution_count": 63,
   "id": "b7832987",
   "metadata": {
    "ExecuteTime": {
     "end_time": "2023-09-29T18:45:55.869841600Z",
     "start_time": "2023-09-29T18:45:55.831564800Z"
    }
   },
   "outputs": [],
   "source": [
    "reward_table = pd.read_csv('../phase1 Scraping/Outputs/award.csv')\n",
    "#(reward_table)\n",
    "#(check_duplicates(reward_table))"
   ]
  },
  {
   "cell_type": "code",
   "execution_count": 64,
   "id": "68ca5474",
   "metadata": {
    "ExecuteTime": {
     "end_time": "2023-09-29T18:45:56.479714500Z",
     "start_time": "2023-09-29T18:45:56.367639700Z"
    }
   },
   "outputs": [
    {
     "ename": "NameError",
     "evalue": "name 'book_summary_new_table' is not defined",
     "output_type": "error",
     "traceback": [
      "\u001B[1;31m---------------------------------------------------------------------------\u001B[0m",
      "\u001B[1;31mNameError\u001B[0m                                 Traceback (most recent call last)",
      "Cell \u001B[1;32mIn[64], line 1\u001B[0m\n\u001B[1;32m----> 1\u001B[0m summary_id \u001B[38;5;241m=\u001B[39m \u001B[38;5;28mset\u001B[39m(\u001B[38;5;28mlist\u001B[39m(\u001B[43mbook_summary_new_table\u001B[49m\u001B[38;5;241m.\u001B[39msite_id))\n\u001B[0;32m      2\u001B[0m reward_id \u001B[38;5;241m=\u001B[39m \u001B[38;5;28mset\u001B[39m(\u001B[38;5;28mlist\u001B[39m(reward_table\u001B[38;5;241m.\u001B[39msite_index))\n\u001B[0;32m      3\u001B[0m diff \u001B[38;5;241m=\u001B[39m \u001B[38;5;28mlist\u001B[39m(reward_id \u001B[38;5;241m-\u001B[39m summary_id)\n",
      "\u001B[1;31mNameError\u001B[0m: name 'book_summary_new_table' is not defined"
     ]
    }
   ],
   "source": [
    "summary_id = set(list(book_summary_new_table.site_id))\n",
    "reward_id = set(list(reward_table.site_index))\n",
    "diff = list(reward_id - summary_id)\n",
    "for i in diff:\n",
    "    reward_table.drop(reward_table.loc[reward_table['site_index'] == i].index, inplace=True)\n",
    "\n",
    "reward_table.reset_index(inplace = True, drop = True)"
   ]
  },
  {
   "cell_type": "code",
   "execution_count": 65,
   "id": "2d0d1d37",
   "metadata": {
    "ExecuteTime": {
     "end_time": "2023-09-29T18:45:57.028079800Z",
     "start_time": "2023-09-29T18:45:56.992190500Z"
    }
   },
   "outputs": [],
   "source": [
    "book_tag_table = pd.read_csv('../phase1 Scraping/Outputs/bookTagsData.csv')\n",
    "#(book_tag_table)\n",
    "#(check_duplicates(book_tag_table))"
   ]
  },
  {
   "cell_type": "code",
   "execution_count": 66,
   "id": "e12bce2d",
   "metadata": {
    "ExecuteTime": {
     "end_time": "2023-09-29T18:45:57.867052400Z",
     "start_time": "2023-09-29T18:45:57.781493500Z"
    }
   },
   "outputs": [
    {
     "ename": "NameError",
     "evalue": "name 'book_summary_new_table' is not defined",
     "output_type": "error",
     "traceback": [
      "\u001B[1;31m---------------------------------------------------------------------------\u001B[0m",
      "\u001B[1;31mNameError\u001B[0m                                 Traceback (most recent call last)",
      "Cell \u001B[1;32mIn[66], line 1\u001B[0m\n\u001B[1;32m----> 1\u001B[0m summary_id \u001B[38;5;241m=\u001B[39m \u001B[38;5;28mset\u001B[39m(\u001B[38;5;28mlist\u001B[39m(\u001B[43mbook_summary_new_table\u001B[49m\u001B[38;5;241m.\u001B[39msite_id))\n\u001B[0;32m      2\u001B[0m b_tag_id \u001B[38;5;241m=\u001B[39m \u001B[38;5;28mset\u001B[39m(\u001B[38;5;28mlist\u001B[39m(book_tag_table\u001B[38;5;241m.\u001B[39msite_index))\n\u001B[0;32m      3\u001B[0m diff \u001B[38;5;241m=\u001B[39m \u001B[38;5;28mlist\u001B[39m(b_tag_id \u001B[38;5;241m-\u001B[39m summary_id)\n",
      "\u001B[1;31mNameError\u001B[0m: name 'book_summary_new_table' is not defined"
     ]
    }
   ],
   "source": [
    "summary_id = set(list(book_summary_new_table.site_id))\n",
    "b_tag_id = set(list(book_tag_table.site_index))\n",
    "diff = list(b_tag_id - summary_id)\n",
    "for i in diff:\n",
    "    book_tag_table.drop(book_tag_table.loc[book_tag_table['site_index'] == i].index, inplace=True)\n",
    "\n",
    "book_tag_table.reset_index(inplace = True, drop = True)\n",
    "#book_tag_table"
   ]
  },
  {
   "cell_type": "code",
   "execution_count": 67,
   "id": "116c5eb2",
   "metadata": {
    "ExecuteTime": {
     "end_time": "2023-09-29T18:45:58.723935400Z",
     "start_time": "2023-09-29T18:45:58.684529500Z"
    }
   },
   "outputs": [],
   "source": [
    "tag_table = pd.read_csv('../phase1 Scraping/Outputs/tag.csv')\n",
    "tag_table.rename(columns = {'Unnamed: 0': 'id'}, inplace = True)\n",
    "#(tag_table)\n",
    "#(check_duplicates(tag_table))"
   ]
  },
  {
   "cell_type": "code",
   "execution_count": 68,
   "id": "39392106",
   "metadata": {
    "scrolled": true,
    "ExecuteTime": {
     "end_time": "2023-09-29T18:45:59.817546500Z",
     "start_time": "2023-09-29T18:45:59.784003100Z"
    }
   },
   "outputs": [],
   "source": [
    "book_veneration_table = pd.read_csv('../phase1 Scraping/Outputs/book_veneration.csv')\n",
    "book_veneration_table['Prise_Writer'].fillna('Unknow', inplace=True)\n",
    "#(book_veneration_table)\n",
    "#(check_duplicates(book_veneration_table))"
   ]
  },
  {
   "cell_type": "code",
   "execution_count": 69,
   "id": "1fdf568c",
   "metadata": {
    "ExecuteTime": {
     "end_time": "2023-09-29T18:46:00.358637300Z",
     "start_time": "2023-09-29T18:46:00.276407700Z"
    }
   },
   "outputs": [
    {
     "ename": "NameError",
     "evalue": "name 'book_summary_new_table' is not defined",
     "output_type": "error",
     "traceback": [
      "\u001B[1;31m---------------------------------------------------------------------------\u001B[0m",
      "\u001B[1;31mNameError\u001B[0m                                 Traceback (most recent call last)",
      "Cell \u001B[1;32mIn[69], line 1\u001B[0m\n\u001B[1;32m----> 1\u001B[0m summary_id \u001B[38;5;241m=\u001B[39m \u001B[38;5;28mset\u001B[39m(\u001B[38;5;28mlist\u001B[39m(\u001B[43mbook_summary_new_table\u001B[49m\u001B[38;5;241m.\u001B[39msite_id))\n\u001B[0;32m      2\u001B[0m veneration_id \u001B[38;5;241m=\u001B[39m \u001B[38;5;28mset\u001B[39m(\u001B[38;5;28mlist\u001B[39m(book_veneration_table\u001B[38;5;241m.\u001B[39msite_index))\n\u001B[0;32m      3\u001B[0m difference \u001B[38;5;241m=\u001B[39m \u001B[38;5;28mlist\u001B[39m(veneration_id \u001B[38;5;241m-\u001B[39m summary_id)\n",
      "\u001B[1;31mNameError\u001B[0m: name 'book_summary_new_table' is not defined"
     ]
    }
   ],
   "source": [
    "summary_id = set(list(book_summary_new_table.site_id))\n",
    "veneration_id = set(list(book_veneration_table.site_index))\n",
    "difference = list(veneration_id - summary_id)\n",
    "for i in difference:\n",
    "    book_veneration_table.drop(book_veneration_table.loc[book_veneration_table['site_index'] == i].index, inplace=True)\n",
    "\n",
    "book_veneration_table.reset_index(inplace = True, drop = True)\n",
    "#book_veneration_table"
   ]
  },
  {
   "cell_type": "code",
   "execution_count": 70,
   "id": "8acac1c2",
   "metadata": {
    "ExecuteTime": {
     "end_time": "2023-09-29T18:46:01.178632800Z",
     "start_time": "2023-09-29T18:46:01.071751700Z"
    }
   },
   "outputs": [
    {
     "ename": "FileNotFoundError",
     "evalue": "[Errno 2] No such file or directory: 'd:/2/writer.csv'",
     "output_type": "error",
     "traceback": [
      "\u001B[1;31m---------------------------------------------------------------------------\u001B[0m",
      "\u001B[1;31mFileNotFoundError\u001B[0m                         Traceback (most recent call last)",
      "Cell \u001B[1;32mIn[70], line 1\u001B[0m\n\u001B[1;32m----> 1\u001B[0m writer_table \u001B[38;5;241m=\u001B[39m \u001B[43mpd\u001B[49m\u001B[38;5;241;43m.\u001B[39;49m\u001B[43mread_csv\u001B[49m\u001B[43m(\u001B[49m\u001B[38;5;124;43m'\u001B[39;49m\u001B[38;5;124;43md:/2/writer.csv\u001B[39;49m\u001B[38;5;124;43m'\u001B[39;49m\u001B[43m)\u001B[49m\n\u001B[0;32m      2\u001B[0m \u001B[38;5;66;03m#(writer_table)\u001B[39;00m\n\u001B[0;32m      3\u001B[0m \u001B[38;5;66;03m#(check_duplicates(writer_table))\u001B[39;00m\n",
      "File \u001B[1;32m~\\Data Analysis\\dataVenv\\lib\\site-packages\\pandas\\io\\parsers\\readers.py:948\u001B[0m, in \u001B[0;36mread_csv\u001B[1;34m(filepath_or_buffer, sep, delimiter, header, names, index_col, usecols, dtype, engine, converters, true_values, false_values, skipinitialspace, skiprows, skipfooter, nrows, na_values, keep_default_na, na_filter, verbose, skip_blank_lines, parse_dates, infer_datetime_format, keep_date_col, date_parser, date_format, dayfirst, cache_dates, iterator, chunksize, compression, thousands, decimal, lineterminator, quotechar, quoting, doublequote, escapechar, comment, encoding, encoding_errors, dialect, on_bad_lines, delim_whitespace, low_memory, memory_map, float_precision, storage_options, dtype_backend)\u001B[0m\n\u001B[0;32m    935\u001B[0m kwds_defaults \u001B[38;5;241m=\u001B[39m _refine_defaults_read(\n\u001B[0;32m    936\u001B[0m     dialect,\n\u001B[0;32m    937\u001B[0m     delimiter,\n\u001B[1;32m   (...)\u001B[0m\n\u001B[0;32m    944\u001B[0m     dtype_backend\u001B[38;5;241m=\u001B[39mdtype_backend,\n\u001B[0;32m    945\u001B[0m )\n\u001B[0;32m    946\u001B[0m kwds\u001B[38;5;241m.\u001B[39mupdate(kwds_defaults)\n\u001B[1;32m--> 948\u001B[0m \u001B[38;5;28;01mreturn\u001B[39;00m \u001B[43m_read\u001B[49m\u001B[43m(\u001B[49m\u001B[43mfilepath_or_buffer\u001B[49m\u001B[43m,\u001B[49m\u001B[43m \u001B[49m\u001B[43mkwds\u001B[49m\u001B[43m)\u001B[49m\n",
      "File \u001B[1;32m~\\Data Analysis\\dataVenv\\lib\\site-packages\\pandas\\io\\parsers\\readers.py:611\u001B[0m, in \u001B[0;36m_read\u001B[1;34m(filepath_or_buffer, kwds)\u001B[0m\n\u001B[0;32m    608\u001B[0m _validate_names(kwds\u001B[38;5;241m.\u001B[39mget(\u001B[38;5;124m\"\u001B[39m\u001B[38;5;124mnames\u001B[39m\u001B[38;5;124m\"\u001B[39m, \u001B[38;5;28;01mNone\u001B[39;00m))\n\u001B[0;32m    610\u001B[0m \u001B[38;5;66;03m# Create the parser.\u001B[39;00m\n\u001B[1;32m--> 611\u001B[0m parser \u001B[38;5;241m=\u001B[39m TextFileReader(filepath_or_buffer, \u001B[38;5;241m*\u001B[39m\u001B[38;5;241m*\u001B[39mkwds)\n\u001B[0;32m    613\u001B[0m \u001B[38;5;28;01mif\u001B[39;00m chunksize \u001B[38;5;129;01mor\u001B[39;00m iterator:\n\u001B[0;32m    614\u001B[0m     \u001B[38;5;28;01mreturn\u001B[39;00m parser\n",
      "File \u001B[1;32m~\\Data Analysis\\dataVenv\\lib\\site-packages\\pandas\\io\\parsers\\readers.py:1448\u001B[0m, in \u001B[0;36mTextFileReader.__init__\u001B[1;34m(self, f, engine, **kwds)\u001B[0m\n\u001B[0;32m   1445\u001B[0m     \u001B[38;5;28mself\u001B[39m\u001B[38;5;241m.\u001B[39moptions[\u001B[38;5;124m\"\u001B[39m\u001B[38;5;124mhas_index_names\u001B[39m\u001B[38;5;124m\"\u001B[39m] \u001B[38;5;241m=\u001B[39m kwds[\u001B[38;5;124m\"\u001B[39m\u001B[38;5;124mhas_index_names\u001B[39m\u001B[38;5;124m\"\u001B[39m]\n\u001B[0;32m   1447\u001B[0m \u001B[38;5;28mself\u001B[39m\u001B[38;5;241m.\u001B[39mhandles: IOHandles \u001B[38;5;241m|\u001B[39m \u001B[38;5;28;01mNone\u001B[39;00m \u001B[38;5;241m=\u001B[39m \u001B[38;5;28;01mNone\u001B[39;00m\n\u001B[1;32m-> 1448\u001B[0m \u001B[38;5;28mself\u001B[39m\u001B[38;5;241m.\u001B[39m_engine \u001B[38;5;241m=\u001B[39m \u001B[38;5;28;43mself\u001B[39;49m\u001B[38;5;241;43m.\u001B[39;49m\u001B[43m_make_engine\u001B[49m\u001B[43m(\u001B[49m\u001B[43mf\u001B[49m\u001B[43m,\u001B[49m\u001B[43m \u001B[49m\u001B[38;5;28;43mself\u001B[39;49m\u001B[38;5;241;43m.\u001B[39;49m\u001B[43mengine\u001B[49m\u001B[43m)\u001B[49m\n",
      "File \u001B[1;32m~\\Data Analysis\\dataVenv\\lib\\site-packages\\pandas\\io\\parsers\\readers.py:1705\u001B[0m, in \u001B[0;36mTextFileReader._make_engine\u001B[1;34m(self, f, engine)\u001B[0m\n\u001B[0;32m   1703\u001B[0m     \u001B[38;5;28;01mif\u001B[39;00m \u001B[38;5;124m\"\u001B[39m\u001B[38;5;124mb\u001B[39m\u001B[38;5;124m\"\u001B[39m \u001B[38;5;129;01mnot\u001B[39;00m \u001B[38;5;129;01min\u001B[39;00m mode:\n\u001B[0;32m   1704\u001B[0m         mode \u001B[38;5;241m+\u001B[39m\u001B[38;5;241m=\u001B[39m \u001B[38;5;124m\"\u001B[39m\u001B[38;5;124mb\u001B[39m\u001B[38;5;124m\"\u001B[39m\n\u001B[1;32m-> 1705\u001B[0m \u001B[38;5;28mself\u001B[39m\u001B[38;5;241m.\u001B[39mhandles \u001B[38;5;241m=\u001B[39m \u001B[43mget_handle\u001B[49m\u001B[43m(\u001B[49m\n\u001B[0;32m   1706\u001B[0m \u001B[43m    \u001B[49m\u001B[43mf\u001B[49m\u001B[43m,\u001B[49m\n\u001B[0;32m   1707\u001B[0m \u001B[43m    \u001B[49m\u001B[43mmode\u001B[49m\u001B[43m,\u001B[49m\n\u001B[0;32m   1708\u001B[0m \u001B[43m    \u001B[49m\u001B[43mencoding\u001B[49m\u001B[38;5;241;43m=\u001B[39;49m\u001B[38;5;28;43mself\u001B[39;49m\u001B[38;5;241;43m.\u001B[39;49m\u001B[43moptions\u001B[49m\u001B[38;5;241;43m.\u001B[39;49m\u001B[43mget\u001B[49m\u001B[43m(\u001B[49m\u001B[38;5;124;43m\"\u001B[39;49m\u001B[38;5;124;43mencoding\u001B[39;49m\u001B[38;5;124;43m\"\u001B[39;49m\u001B[43m,\u001B[49m\u001B[43m \u001B[49m\u001B[38;5;28;43;01mNone\u001B[39;49;00m\u001B[43m)\u001B[49m\u001B[43m,\u001B[49m\n\u001B[0;32m   1709\u001B[0m \u001B[43m    \u001B[49m\u001B[43mcompression\u001B[49m\u001B[38;5;241;43m=\u001B[39;49m\u001B[38;5;28;43mself\u001B[39;49m\u001B[38;5;241;43m.\u001B[39;49m\u001B[43moptions\u001B[49m\u001B[38;5;241;43m.\u001B[39;49m\u001B[43mget\u001B[49m\u001B[43m(\u001B[49m\u001B[38;5;124;43m\"\u001B[39;49m\u001B[38;5;124;43mcompression\u001B[39;49m\u001B[38;5;124;43m\"\u001B[39;49m\u001B[43m,\u001B[49m\u001B[43m \u001B[49m\u001B[38;5;28;43;01mNone\u001B[39;49;00m\u001B[43m)\u001B[49m\u001B[43m,\u001B[49m\n\u001B[0;32m   1710\u001B[0m \u001B[43m    \u001B[49m\u001B[43mmemory_map\u001B[49m\u001B[38;5;241;43m=\u001B[39;49m\u001B[38;5;28;43mself\u001B[39;49m\u001B[38;5;241;43m.\u001B[39;49m\u001B[43moptions\u001B[49m\u001B[38;5;241;43m.\u001B[39;49m\u001B[43mget\u001B[49m\u001B[43m(\u001B[49m\u001B[38;5;124;43m\"\u001B[39;49m\u001B[38;5;124;43mmemory_map\u001B[39;49m\u001B[38;5;124;43m\"\u001B[39;49m\u001B[43m,\u001B[49m\u001B[43m \u001B[49m\u001B[38;5;28;43;01mFalse\u001B[39;49;00m\u001B[43m)\u001B[49m\u001B[43m,\u001B[49m\n\u001B[0;32m   1711\u001B[0m \u001B[43m    \u001B[49m\u001B[43mis_text\u001B[49m\u001B[38;5;241;43m=\u001B[39;49m\u001B[43mis_text\u001B[49m\u001B[43m,\u001B[49m\n\u001B[0;32m   1712\u001B[0m \u001B[43m    \u001B[49m\u001B[43merrors\u001B[49m\u001B[38;5;241;43m=\u001B[39;49m\u001B[38;5;28;43mself\u001B[39;49m\u001B[38;5;241;43m.\u001B[39;49m\u001B[43moptions\u001B[49m\u001B[38;5;241;43m.\u001B[39;49m\u001B[43mget\u001B[49m\u001B[43m(\u001B[49m\u001B[38;5;124;43m\"\u001B[39;49m\u001B[38;5;124;43mencoding_errors\u001B[39;49m\u001B[38;5;124;43m\"\u001B[39;49m\u001B[43m,\u001B[49m\u001B[43m \u001B[49m\u001B[38;5;124;43m\"\u001B[39;49m\u001B[38;5;124;43mstrict\u001B[39;49m\u001B[38;5;124;43m\"\u001B[39;49m\u001B[43m)\u001B[49m\u001B[43m,\u001B[49m\n\u001B[0;32m   1713\u001B[0m \u001B[43m    \u001B[49m\u001B[43mstorage_options\u001B[49m\u001B[38;5;241;43m=\u001B[39;49m\u001B[38;5;28;43mself\u001B[39;49m\u001B[38;5;241;43m.\u001B[39;49m\u001B[43moptions\u001B[49m\u001B[38;5;241;43m.\u001B[39;49m\u001B[43mget\u001B[49m\u001B[43m(\u001B[49m\u001B[38;5;124;43m\"\u001B[39;49m\u001B[38;5;124;43mstorage_options\u001B[39;49m\u001B[38;5;124;43m\"\u001B[39;49m\u001B[43m,\u001B[49m\u001B[43m \u001B[49m\u001B[38;5;28;43;01mNone\u001B[39;49;00m\u001B[43m)\u001B[49m\u001B[43m,\u001B[49m\n\u001B[0;32m   1714\u001B[0m \u001B[43m\u001B[49m\u001B[43m)\u001B[49m\n\u001B[0;32m   1715\u001B[0m \u001B[38;5;28;01massert\u001B[39;00m \u001B[38;5;28mself\u001B[39m\u001B[38;5;241m.\u001B[39mhandles \u001B[38;5;129;01mis\u001B[39;00m \u001B[38;5;129;01mnot\u001B[39;00m \u001B[38;5;28;01mNone\u001B[39;00m\n\u001B[0;32m   1716\u001B[0m f \u001B[38;5;241m=\u001B[39m \u001B[38;5;28mself\u001B[39m\u001B[38;5;241m.\u001B[39mhandles\u001B[38;5;241m.\u001B[39mhandle\n",
      "File \u001B[1;32m~\\Data Analysis\\dataVenv\\lib\\site-packages\\pandas\\io\\common.py:863\u001B[0m, in \u001B[0;36mget_handle\u001B[1;34m(path_or_buf, mode, encoding, compression, memory_map, is_text, errors, storage_options)\u001B[0m\n\u001B[0;32m    858\u001B[0m \u001B[38;5;28;01melif\u001B[39;00m \u001B[38;5;28misinstance\u001B[39m(handle, \u001B[38;5;28mstr\u001B[39m):\n\u001B[0;32m    859\u001B[0m     \u001B[38;5;66;03m# Check whether the filename is to be opened in binary mode.\u001B[39;00m\n\u001B[0;32m    860\u001B[0m     \u001B[38;5;66;03m# Binary mode does not support 'encoding' and 'newline'.\u001B[39;00m\n\u001B[0;32m    861\u001B[0m     \u001B[38;5;28;01mif\u001B[39;00m ioargs\u001B[38;5;241m.\u001B[39mencoding \u001B[38;5;129;01mand\u001B[39;00m \u001B[38;5;124m\"\u001B[39m\u001B[38;5;124mb\u001B[39m\u001B[38;5;124m\"\u001B[39m \u001B[38;5;129;01mnot\u001B[39;00m \u001B[38;5;129;01min\u001B[39;00m ioargs\u001B[38;5;241m.\u001B[39mmode:\n\u001B[0;32m    862\u001B[0m         \u001B[38;5;66;03m# Encoding\u001B[39;00m\n\u001B[1;32m--> 863\u001B[0m         handle \u001B[38;5;241m=\u001B[39m \u001B[38;5;28;43mopen\u001B[39;49m\u001B[43m(\u001B[49m\n\u001B[0;32m    864\u001B[0m \u001B[43m            \u001B[49m\u001B[43mhandle\u001B[49m\u001B[43m,\u001B[49m\n\u001B[0;32m    865\u001B[0m \u001B[43m            \u001B[49m\u001B[43mioargs\u001B[49m\u001B[38;5;241;43m.\u001B[39;49m\u001B[43mmode\u001B[49m\u001B[43m,\u001B[49m\n\u001B[0;32m    866\u001B[0m \u001B[43m            \u001B[49m\u001B[43mencoding\u001B[49m\u001B[38;5;241;43m=\u001B[39;49m\u001B[43mioargs\u001B[49m\u001B[38;5;241;43m.\u001B[39;49m\u001B[43mencoding\u001B[49m\u001B[43m,\u001B[49m\n\u001B[0;32m    867\u001B[0m \u001B[43m            \u001B[49m\u001B[43merrors\u001B[49m\u001B[38;5;241;43m=\u001B[39;49m\u001B[43merrors\u001B[49m\u001B[43m,\u001B[49m\n\u001B[0;32m    868\u001B[0m \u001B[43m            \u001B[49m\u001B[43mnewline\u001B[49m\u001B[38;5;241;43m=\u001B[39;49m\u001B[38;5;124;43m\"\u001B[39;49m\u001B[38;5;124;43m\"\u001B[39;49m\u001B[43m,\u001B[49m\n\u001B[0;32m    869\u001B[0m \u001B[43m        \u001B[49m\u001B[43m)\u001B[49m\n\u001B[0;32m    870\u001B[0m     \u001B[38;5;28;01melse\u001B[39;00m:\n\u001B[0;32m    871\u001B[0m         \u001B[38;5;66;03m# Binary mode\u001B[39;00m\n\u001B[0;32m    872\u001B[0m         handle \u001B[38;5;241m=\u001B[39m \u001B[38;5;28mopen\u001B[39m(handle, ioargs\u001B[38;5;241m.\u001B[39mmode)\n",
      "\u001B[1;31mFileNotFoundError\u001B[0m: [Errno 2] No such file or directory: 'd:/2/writer.csv'"
     ]
    }
   ],
   "source": [
    "writer_table = pd.read_csv('d:/2/writer.csv')\n",
    "#(writer_table)\n",
    "#(check_duplicates(writer_table))"
   ]
  },
  {
   "cell_type": "code",
   "execution_count": 71,
   "id": "4b243070",
   "metadata": {
    "ExecuteTime": {
     "end_time": "2023-09-29T18:46:02.218290800Z",
     "start_time": "2023-09-29T18:46:02.120990100Z"
    }
   },
   "outputs": [
    {
     "ename": "AttributeError",
     "evalue": "'DataFrame' object has no attribute 'site_id'",
     "output_type": "error",
     "traceback": [
      "\u001B[1;31m---------------------------------------------------------------------------\u001B[0m",
      "\u001B[1;31mAttributeError\u001B[0m                            Traceback (most recent call last)",
      "\u001B[1;32m~\\AppData\\Local\\Temp\\ipykernel_8808\\4239582003.py\u001B[0m in \u001B[0;36m?\u001B[1;34m()\u001B[0m\n\u001B[0;32m      2\u001B[0m \u001B[0md\u001B[0m \u001B[1;33m=\u001B[0m \u001B[0mdict\u001B[0m\u001B[1;33m(\u001B[0m\u001B[1;33m)\u001B[0m\u001B[1;33m\u001B[0m\u001B[1;33m\u001B[0m\u001B[0m\n\u001B[1;32m----> 3\u001B[1;33m \u001B[1;32mfor\u001B[0m \u001B[0mi\u001B[0m \u001B[1;32min\u001B[0m \u001B[0mrange\u001B[0m\u001B[1;33m(\u001B[0m\u001B[0mbook_detail_table\u001B[0m\u001B[1;33m.\u001B[0m\u001B[0mshape\u001B[0m\u001B[1;33m[\u001B[0m\u001B[1;36m0\u001B[0m\u001B[1;33m]\u001B[0m\u001B[1;33m)\u001B[0m\u001B[1;33m:\u001B[0m\u001B[1;33m\u001B[0m\u001B[1;33m\u001B[0m\u001B[0m\n\u001B[0m\u001B[0;32m      4\u001B[0m     \u001B[0md\u001B[0m\u001B[1;33m[\u001B[0m\u001B[0mstr\u001B[0m\u001B[1;33m(\u001B[0m\u001B[0mbook_detail_table\u001B[0m\u001B[1;33m.\u001B[0m\u001B[0mcode\u001B[0m\u001B[1;33m[\u001B[0m\u001B[0mi\u001B[0m\u001B[1;33m]\u001B[0m\u001B[1;33m)\u001B[0m\u001B[1;33m]\u001B[0m \u001B[1;33m=\u001B[0m \u001B[0mbook_detail_table\u001B[0m\u001B[1;33m.\u001B[0m\u001B[0msite_id\u001B[0m\u001B[1;33m[\u001B[0m\u001B[0mi\u001B[0m\u001B[1;33m]\u001B[0m\u001B[1;33m\u001B[0m\u001B[1;33m\u001B[0m\u001B[0m\n\u001B[0;32m      5\u001B[0m \u001B[0mlis\u001B[0m \u001B[1;33m=\u001B[0m \u001B[0mlist\u001B[0m\u001B[1;33m(\u001B[0m\u001B[1;33m)\u001B[0m\u001B[1;33m\u001B[0m\u001B[1;33m\u001B[0m\u001B[0m\n\u001B[0;32m      6\u001B[0m \u001B[1;32mfor\u001B[0m \u001B[0mw\u001B[0m \u001B[1;32min\u001B[0m \u001B[0mrange\u001B[0m\u001B[1;33m(\u001B[0m\u001B[0mwriter_table\u001B[0m\u001B[1;33m.\u001B[0m\u001B[0mshape\u001B[0m\u001B[1;33m[\u001B[0m\u001B[1;36m0\u001B[0m\u001B[1;33m]\u001B[0m\u001B[1;33m)\u001B[0m\u001B[1;33m:\u001B[0m\u001B[1;33m\u001B[0m\u001B[1;33m\u001B[0m\u001B[0m\n",
      "\u001B[1;32m~\\Data Analysis\\dataVenv\\lib\\site-packages\\pandas\\core\\generic.py\u001B[0m in \u001B[0;36m?\u001B[1;34m(self, name)\u001B[0m\n\u001B[0;32m   6198\u001B[0m             \u001B[1;32mand\u001B[0m \u001B[0mname\u001B[0m \u001B[1;32mnot\u001B[0m \u001B[1;32min\u001B[0m \u001B[0mself\u001B[0m\u001B[1;33m.\u001B[0m\u001B[0m_accessors\u001B[0m\u001B[1;33m\u001B[0m\u001B[1;33m\u001B[0m\u001B[0m\n\u001B[0;32m   6199\u001B[0m             \u001B[1;32mand\u001B[0m \u001B[0mself\u001B[0m\u001B[1;33m.\u001B[0m\u001B[0m_info_axis\u001B[0m\u001B[1;33m.\u001B[0m\u001B[0m_can_hold_identifiers_and_holds_name\u001B[0m\u001B[1;33m(\u001B[0m\u001B[0mname\u001B[0m\u001B[1;33m)\u001B[0m\u001B[1;33m\u001B[0m\u001B[1;33m\u001B[0m\u001B[0m\n\u001B[0;32m   6200\u001B[0m         ):\n\u001B[0;32m   6201\u001B[0m             \u001B[1;32mreturn\u001B[0m \u001B[0mself\u001B[0m\u001B[1;33m[\u001B[0m\u001B[0mname\u001B[0m\u001B[1;33m]\u001B[0m\u001B[1;33m\u001B[0m\u001B[1;33m\u001B[0m\u001B[0m\n\u001B[1;32m-> 6202\u001B[1;33m         \u001B[1;32mreturn\u001B[0m \u001B[0mobject\u001B[0m\u001B[1;33m.\u001B[0m\u001B[0m__getattribute__\u001B[0m\u001B[1;33m(\u001B[0m\u001B[0mself\u001B[0m\u001B[1;33m,\u001B[0m \u001B[0mname\u001B[0m\u001B[1;33m)\u001B[0m\u001B[1;33m\u001B[0m\u001B[1;33m\u001B[0m\u001B[0m\n\u001B[0m",
      "\u001B[1;31mAttributeError\u001B[0m: 'DataFrame' object has no attribute 'site_id'"
     ]
    }
   ],
   "source": [
    "d = dict()\n",
    "for i in range(book_detail_table.shape[0]):\n",
    "    d[str(book_detail_table.code[i])] = book_detail_table.site_id[i]\n",
    "lis = list()\n",
    "for w in range(writer_table.shape[0]):\n",
    "     lis.append(d.get(str(writer_table.book_id[w])))\n",
    "writer_table['site_id'] = lis\n",
    "\n",
    "writer_new_table = writer_table.drop(columns=['book_id'], inplace = False)\n",
    "writer_new_table.drop_duplicates(keep = 'first', inplace=True)\n",
    "writer_new_table.reset_index(inplace = True, drop = True)"
   ]
  },
  {
   "cell_type": "code",
   "execution_count": 72,
   "id": "8963a926",
   "metadata": {
    "ExecuteTime": {
     "end_time": "2023-09-29T18:46:03.169957300Z",
     "start_time": "2023-09-29T18:46:03.055750200Z"
    }
   },
   "outputs": [
    {
     "ename": "FileNotFoundError",
     "evalue": "[Errno 2] No such file or directory: '../phase1 Scraping/Outputs/writer_info.csv'",
     "output_type": "error",
     "traceback": [
      "\u001B[1;31m---------------------------------------------------------------------------\u001B[0m",
      "\u001B[1;31mFileNotFoundError\u001B[0m                         Traceback (most recent call last)",
      "Cell \u001B[1;32mIn[72], line 1\u001B[0m\n\u001B[1;32m----> 1\u001B[0m writer_page_table \u001B[38;5;241m=\u001B[39m \u001B[43mpd\u001B[49m\u001B[38;5;241;43m.\u001B[39;49m\u001B[43mread_csv\u001B[49m\u001B[43m(\u001B[49m\u001B[38;5;124;43m'\u001B[39;49m\u001B[38;5;124;43m../phase1 Scraping/Outputs/writer_info.csv\u001B[39;49m\u001B[38;5;124;43m'\u001B[39;49m\u001B[43m)\u001B[49m\n\u001B[0;32m      2\u001B[0m writer_page_table[\u001B[38;5;124m'\u001B[39m\u001B[38;5;124minfo\u001B[39m\u001B[38;5;124m'\u001B[39m]\u001B[38;5;241m.\u001B[39mfillna(\u001B[38;5;124m'\u001B[39m\u001B[38;5;124mnull\u001B[39m\u001B[38;5;124m'\u001B[39m, inplace \u001B[38;5;241m=\u001B[39m \u001B[38;5;28;01mTrue\u001B[39;00m)\n\u001B[0;32m      3\u001B[0m writer_page_table\u001B[38;5;241m.\u001B[39mdrop_duplicates(subset\u001B[38;5;241m=\u001B[39m\u001B[38;5;124m\"\u001B[39m\u001B[38;5;124mid\u001B[39m\u001B[38;5;124m\"\u001B[39m, keep \u001B[38;5;241m=\u001B[39m \u001B[38;5;124m'\u001B[39m\u001B[38;5;124mfirst\u001B[39m\u001B[38;5;124m'\u001B[39m, inplace\u001B[38;5;241m=\u001B[39m\u001B[38;5;28;01mTrue\u001B[39;00m)\n",
      "File \u001B[1;32m~\\Data Analysis\\dataVenv\\lib\\site-packages\\pandas\\io\\parsers\\readers.py:948\u001B[0m, in \u001B[0;36mread_csv\u001B[1;34m(filepath_or_buffer, sep, delimiter, header, names, index_col, usecols, dtype, engine, converters, true_values, false_values, skipinitialspace, skiprows, skipfooter, nrows, na_values, keep_default_na, na_filter, verbose, skip_blank_lines, parse_dates, infer_datetime_format, keep_date_col, date_parser, date_format, dayfirst, cache_dates, iterator, chunksize, compression, thousands, decimal, lineterminator, quotechar, quoting, doublequote, escapechar, comment, encoding, encoding_errors, dialect, on_bad_lines, delim_whitespace, low_memory, memory_map, float_precision, storage_options, dtype_backend)\u001B[0m\n\u001B[0;32m    935\u001B[0m kwds_defaults \u001B[38;5;241m=\u001B[39m _refine_defaults_read(\n\u001B[0;32m    936\u001B[0m     dialect,\n\u001B[0;32m    937\u001B[0m     delimiter,\n\u001B[1;32m   (...)\u001B[0m\n\u001B[0;32m    944\u001B[0m     dtype_backend\u001B[38;5;241m=\u001B[39mdtype_backend,\n\u001B[0;32m    945\u001B[0m )\n\u001B[0;32m    946\u001B[0m kwds\u001B[38;5;241m.\u001B[39mupdate(kwds_defaults)\n\u001B[1;32m--> 948\u001B[0m \u001B[38;5;28;01mreturn\u001B[39;00m \u001B[43m_read\u001B[49m\u001B[43m(\u001B[49m\u001B[43mfilepath_or_buffer\u001B[49m\u001B[43m,\u001B[49m\u001B[43m \u001B[49m\u001B[43mkwds\u001B[49m\u001B[43m)\u001B[49m\n",
      "File \u001B[1;32m~\\Data Analysis\\dataVenv\\lib\\site-packages\\pandas\\io\\parsers\\readers.py:611\u001B[0m, in \u001B[0;36m_read\u001B[1;34m(filepath_or_buffer, kwds)\u001B[0m\n\u001B[0;32m    608\u001B[0m _validate_names(kwds\u001B[38;5;241m.\u001B[39mget(\u001B[38;5;124m\"\u001B[39m\u001B[38;5;124mnames\u001B[39m\u001B[38;5;124m\"\u001B[39m, \u001B[38;5;28;01mNone\u001B[39;00m))\n\u001B[0;32m    610\u001B[0m \u001B[38;5;66;03m# Create the parser.\u001B[39;00m\n\u001B[1;32m--> 611\u001B[0m parser \u001B[38;5;241m=\u001B[39m TextFileReader(filepath_or_buffer, \u001B[38;5;241m*\u001B[39m\u001B[38;5;241m*\u001B[39mkwds)\n\u001B[0;32m    613\u001B[0m \u001B[38;5;28;01mif\u001B[39;00m chunksize \u001B[38;5;129;01mor\u001B[39;00m iterator:\n\u001B[0;32m    614\u001B[0m     \u001B[38;5;28;01mreturn\u001B[39;00m parser\n",
      "File \u001B[1;32m~\\Data Analysis\\dataVenv\\lib\\site-packages\\pandas\\io\\parsers\\readers.py:1448\u001B[0m, in \u001B[0;36mTextFileReader.__init__\u001B[1;34m(self, f, engine, **kwds)\u001B[0m\n\u001B[0;32m   1445\u001B[0m     \u001B[38;5;28mself\u001B[39m\u001B[38;5;241m.\u001B[39moptions[\u001B[38;5;124m\"\u001B[39m\u001B[38;5;124mhas_index_names\u001B[39m\u001B[38;5;124m\"\u001B[39m] \u001B[38;5;241m=\u001B[39m kwds[\u001B[38;5;124m\"\u001B[39m\u001B[38;5;124mhas_index_names\u001B[39m\u001B[38;5;124m\"\u001B[39m]\n\u001B[0;32m   1447\u001B[0m \u001B[38;5;28mself\u001B[39m\u001B[38;5;241m.\u001B[39mhandles: IOHandles \u001B[38;5;241m|\u001B[39m \u001B[38;5;28;01mNone\u001B[39;00m \u001B[38;5;241m=\u001B[39m \u001B[38;5;28;01mNone\u001B[39;00m\n\u001B[1;32m-> 1448\u001B[0m \u001B[38;5;28mself\u001B[39m\u001B[38;5;241m.\u001B[39m_engine \u001B[38;5;241m=\u001B[39m \u001B[38;5;28;43mself\u001B[39;49m\u001B[38;5;241;43m.\u001B[39;49m\u001B[43m_make_engine\u001B[49m\u001B[43m(\u001B[49m\u001B[43mf\u001B[49m\u001B[43m,\u001B[49m\u001B[43m \u001B[49m\u001B[38;5;28;43mself\u001B[39;49m\u001B[38;5;241;43m.\u001B[39;49m\u001B[43mengine\u001B[49m\u001B[43m)\u001B[49m\n",
      "File \u001B[1;32m~\\Data Analysis\\dataVenv\\lib\\site-packages\\pandas\\io\\parsers\\readers.py:1705\u001B[0m, in \u001B[0;36mTextFileReader._make_engine\u001B[1;34m(self, f, engine)\u001B[0m\n\u001B[0;32m   1703\u001B[0m     \u001B[38;5;28;01mif\u001B[39;00m \u001B[38;5;124m\"\u001B[39m\u001B[38;5;124mb\u001B[39m\u001B[38;5;124m\"\u001B[39m \u001B[38;5;129;01mnot\u001B[39;00m \u001B[38;5;129;01min\u001B[39;00m mode:\n\u001B[0;32m   1704\u001B[0m         mode \u001B[38;5;241m+\u001B[39m\u001B[38;5;241m=\u001B[39m \u001B[38;5;124m\"\u001B[39m\u001B[38;5;124mb\u001B[39m\u001B[38;5;124m\"\u001B[39m\n\u001B[1;32m-> 1705\u001B[0m \u001B[38;5;28mself\u001B[39m\u001B[38;5;241m.\u001B[39mhandles \u001B[38;5;241m=\u001B[39m \u001B[43mget_handle\u001B[49m\u001B[43m(\u001B[49m\n\u001B[0;32m   1706\u001B[0m \u001B[43m    \u001B[49m\u001B[43mf\u001B[49m\u001B[43m,\u001B[49m\n\u001B[0;32m   1707\u001B[0m \u001B[43m    \u001B[49m\u001B[43mmode\u001B[49m\u001B[43m,\u001B[49m\n\u001B[0;32m   1708\u001B[0m \u001B[43m    \u001B[49m\u001B[43mencoding\u001B[49m\u001B[38;5;241;43m=\u001B[39;49m\u001B[38;5;28;43mself\u001B[39;49m\u001B[38;5;241;43m.\u001B[39;49m\u001B[43moptions\u001B[49m\u001B[38;5;241;43m.\u001B[39;49m\u001B[43mget\u001B[49m\u001B[43m(\u001B[49m\u001B[38;5;124;43m\"\u001B[39;49m\u001B[38;5;124;43mencoding\u001B[39;49m\u001B[38;5;124;43m\"\u001B[39;49m\u001B[43m,\u001B[49m\u001B[43m \u001B[49m\u001B[38;5;28;43;01mNone\u001B[39;49;00m\u001B[43m)\u001B[49m\u001B[43m,\u001B[49m\n\u001B[0;32m   1709\u001B[0m \u001B[43m    \u001B[49m\u001B[43mcompression\u001B[49m\u001B[38;5;241;43m=\u001B[39;49m\u001B[38;5;28;43mself\u001B[39;49m\u001B[38;5;241;43m.\u001B[39;49m\u001B[43moptions\u001B[49m\u001B[38;5;241;43m.\u001B[39;49m\u001B[43mget\u001B[49m\u001B[43m(\u001B[49m\u001B[38;5;124;43m\"\u001B[39;49m\u001B[38;5;124;43mcompression\u001B[39;49m\u001B[38;5;124;43m\"\u001B[39;49m\u001B[43m,\u001B[49m\u001B[43m \u001B[49m\u001B[38;5;28;43;01mNone\u001B[39;49;00m\u001B[43m)\u001B[49m\u001B[43m,\u001B[49m\n\u001B[0;32m   1710\u001B[0m \u001B[43m    \u001B[49m\u001B[43mmemory_map\u001B[49m\u001B[38;5;241;43m=\u001B[39;49m\u001B[38;5;28;43mself\u001B[39;49m\u001B[38;5;241;43m.\u001B[39;49m\u001B[43moptions\u001B[49m\u001B[38;5;241;43m.\u001B[39;49m\u001B[43mget\u001B[49m\u001B[43m(\u001B[49m\u001B[38;5;124;43m\"\u001B[39;49m\u001B[38;5;124;43mmemory_map\u001B[39;49m\u001B[38;5;124;43m\"\u001B[39;49m\u001B[43m,\u001B[49m\u001B[43m \u001B[49m\u001B[38;5;28;43;01mFalse\u001B[39;49;00m\u001B[43m)\u001B[49m\u001B[43m,\u001B[49m\n\u001B[0;32m   1711\u001B[0m \u001B[43m    \u001B[49m\u001B[43mis_text\u001B[49m\u001B[38;5;241;43m=\u001B[39;49m\u001B[43mis_text\u001B[49m\u001B[43m,\u001B[49m\n\u001B[0;32m   1712\u001B[0m \u001B[43m    \u001B[49m\u001B[43merrors\u001B[49m\u001B[38;5;241;43m=\u001B[39;49m\u001B[38;5;28;43mself\u001B[39;49m\u001B[38;5;241;43m.\u001B[39;49m\u001B[43moptions\u001B[49m\u001B[38;5;241;43m.\u001B[39;49m\u001B[43mget\u001B[49m\u001B[43m(\u001B[49m\u001B[38;5;124;43m\"\u001B[39;49m\u001B[38;5;124;43mencoding_errors\u001B[39;49m\u001B[38;5;124;43m\"\u001B[39;49m\u001B[43m,\u001B[49m\u001B[43m \u001B[49m\u001B[38;5;124;43m\"\u001B[39;49m\u001B[38;5;124;43mstrict\u001B[39;49m\u001B[38;5;124;43m\"\u001B[39;49m\u001B[43m)\u001B[49m\u001B[43m,\u001B[49m\n\u001B[0;32m   1713\u001B[0m \u001B[43m    \u001B[49m\u001B[43mstorage_options\u001B[49m\u001B[38;5;241;43m=\u001B[39;49m\u001B[38;5;28;43mself\u001B[39;49m\u001B[38;5;241;43m.\u001B[39;49m\u001B[43moptions\u001B[49m\u001B[38;5;241;43m.\u001B[39;49m\u001B[43mget\u001B[49m\u001B[43m(\u001B[49m\u001B[38;5;124;43m\"\u001B[39;49m\u001B[38;5;124;43mstorage_options\u001B[39;49m\u001B[38;5;124;43m\"\u001B[39;49m\u001B[43m,\u001B[49m\u001B[43m \u001B[49m\u001B[38;5;28;43;01mNone\u001B[39;49;00m\u001B[43m)\u001B[49m\u001B[43m,\u001B[49m\n\u001B[0;32m   1714\u001B[0m \u001B[43m\u001B[49m\u001B[43m)\u001B[49m\n\u001B[0;32m   1715\u001B[0m \u001B[38;5;28;01massert\u001B[39;00m \u001B[38;5;28mself\u001B[39m\u001B[38;5;241m.\u001B[39mhandles \u001B[38;5;129;01mis\u001B[39;00m \u001B[38;5;129;01mnot\u001B[39;00m \u001B[38;5;28;01mNone\u001B[39;00m\n\u001B[0;32m   1716\u001B[0m f \u001B[38;5;241m=\u001B[39m \u001B[38;5;28mself\u001B[39m\u001B[38;5;241m.\u001B[39mhandles\u001B[38;5;241m.\u001B[39mhandle\n",
      "File \u001B[1;32m~\\Data Analysis\\dataVenv\\lib\\site-packages\\pandas\\io\\common.py:863\u001B[0m, in \u001B[0;36mget_handle\u001B[1;34m(path_or_buf, mode, encoding, compression, memory_map, is_text, errors, storage_options)\u001B[0m\n\u001B[0;32m    858\u001B[0m \u001B[38;5;28;01melif\u001B[39;00m \u001B[38;5;28misinstance\u001B[39m(handle, \u001B[38;5;28mstr\u001B[39m):\n\u001B[0;32m    859\u001B[0m     \u001B[38;5;66;03m# Check whether the filename is to be opened in binary mode.\u001B[39;00m\n\u001B[0;32m    860\u001B[0m     \u001B[38;5;66;03m# Binary mode does not support 'encoding' and 'newline'.\u001B[39;00m\n\u001B[0;32m    861\u001B[0m     \u001B[38;5;28;01mif\u001B[39;00m ioargs\u001B[38;5;241m.\u001B[39mencoding \u001B[38;5;129;01mand\u001B[39;00m \u001B[38;5;124m\"\u001B[39m\u001B[38;5;124mb\u001B[39m\u001B[38;5;124m\"\u001B[39m \u001B[38;5;129;01mnot\u001B[39;00m \u001B[38;5;129;01min\u001B[39;00m ioargs\u001B[38;5;241m.\u001B[39mmode:\n\u001B[0;32m    862\u001B[0m         \u001B[38;5;66;03m# Encoding\u001B[39;00m\n\u001B[1;32m--> 863\u001B[0m         handle \u001B[38;5;241m=\u001B[39m \u001B[38;5;28;43mopen\u001B[39;49m\u001B[43m(\u001B[49m\n\u001B[0;32m    864\u001B[0m \u001B[43m            \u001B[49m\u001B[43mhandle\u001B[49m\u001B[43m,\u001B[49m\n\u001B[0;32m    865\u001B[0m \u001B[43m            \u001B[49m\u001B[43mioargs\u001B[49m\u001B[38;5;241;43m.\u001B[39;49m\u001B[43mmode\u001B[49m\u001B[43m,\u001B[49m\n\u001B[0;32m    866\u001B[0m \u001B[43m            \u001B[49m\u001B[43mencoding\u001B[49m\u001B[38;5;241;43m=\u001B[39;49m\u001B[43mioargs\u001B[49m\u001B[38;5;241;43m.\u001B[39;49m\u001B[43mencoding\u001B[49m\u001B[43m,\u001B[49m\n\u001B[0;32m    867\u001B[0m \u001B[43m            \u001B[49m\u001B[43merrors\u001B[49m\u001B[38;5;241;43m=\u001B[39;49m\u001B[43merrors\u001B[49m\u001B[43m,\u001B[49m\n\u001B[0;32m    868\u001B[0m \u001B[43m            \u001B[49m\u001B[43mnewline\u001B[49m\u001B[38;5;241;43m=\u001B[39;49m\u001B[38;5;124;43m\"\u001B[39;49m\u001B[38;5;124;43m\"\u001B[39;49m\u001B[43m,\u001B[49m\n\u001B[0;32m    869\u001B[0m \u001B[43m        \u001B[49m\u001B[43m)\u001B[49m\n\u001B[0;32m    870\u001B[0m     \u001B[38;5;28;01melse\u001B[39;00m:\n\u001B[0;32m    871\u001B[0m         \u001B[38;5;66;03m# Binary mode\u001B[39;00m\n\u001B[0;32m    872\u001B[0m         handle \u001B[38;5;241m=\u001B[39m \u001B[38;5;28mopen\u001B[39m(handle, ioargs\u001B[38;5;241m.\u001B[39mmode)\n",
      "\u001B[1;31mFileNotFoundError\u001B[0m: [Errno 2] No such file or directory: '../phase1 Scraping/Outputs/writer_info.csv'"
     ]
    }
   ],
   "source": [
    "writer_page_table = pd.read_csv('../phase1 Scraping/Outputs/writer_info.csv')\n",
    "writer_page_table['info'].fillna('null', inplace = True)\n",
    "writer_page_table.drop_duplicates(subset=\"id\", keep = 'first', inplace=True)\n",
    "#(writer_page_table)\n",
    "#(check_duplicates(writer_page_table))"
   ]
  },
  {
   "cell_type": "code",
   "execution_count": 74,
   "id": "80013673",
   "metadata": {
    "ExecuteTime": {
     "end_time": "2023-09-29T18:46:16.617086900Z",
     "start_time": "2023-09-29T18:46:16.540100200Z"
    }
   },
   "outputs": [],
   "source": [
    "mydb = mysql.connector.connect(\n",
    "  host=\"localhost\",\n",
    "  user=\"root\",\n",
    "  password=\"123456\")\n",
    "mycursor = mydb.cursor()\n",
    "mycursor.execute(\"CREATE DATABASE BookUtopia\")"
   ]
  },
  {
   "cell_type": "code",
   "execution_count": 77,
   "id": "b8fe6370",
   "metadata": {
    "ExecuteTime": {
     "end_time": "2023-09-29T18:46:29.781274600Z",
     "start_time": "2023-09-29T18:46:29.739061200Z"
    }
   },
   "outputs": [],
   "source": [
    "mydb = mysql.connector.connect(\n",
    "   host=\"localhost\",\n",
    "  user=\"root\",\n",
    "  password=\"123456\",\n",
    "  database=\"BookUtopia\")\n",
    "mycursor = mydb.cursor()"
   ]
  },
  {
   "cell_type": "code",
   "execution_count": 78,
   "id": "bff9b6c6",
   "metadata": {
    "ExecuteTime": {
     "end_time": "2023-09-29T18:46:31.381859300Z",
     "start_time": "2023-09-29T18:46:31.306213100Z"
    }
   },
   "outputs": [],
   "source": [
    "mycursor.execute('create table book_summary(site_id int primary key, summary text)')"
   ]
  },
  {
   "cell_type": "code",
   "execution_count": 79,
   "id": "7c2cde8b",
   "metadata": {
    "scrolled": true,
    "ExecuteTime": {
     "end_time": "2023-09-29T18:46:32.430005100Z",
     "start_time": "2023-09-29T18:46:32.340238100Z"
    }
   },
   "outputs": [
    {
     "ename": "NameError",
     "evalue": "name 'book_summary_new_table' is not defined",
     "output_type": "error",
     "traceback": [
      "\u001B[1;31m---------------------------------------------------------------------------\u001B[0m",
      "\u001B[1;31mNameError\u001B[0m                                 Traceback (most recent call last)",
      "Cell \u001B[1;32mIn[79], line 1\u001B[0m\n\u001B[1;32m----> 1\u001B[0m \u001B[38;5;28;01mfor\u001B[39;00m i \u001B[38;5;129;01min\u001B[39;00m \u001B[38;5;28mrange\u001B[39m(\u001B[43mbook_summary_new_table\u001B[49m\u001B[38;5;241m.\u001B[39mshape[\u001B[38;5;241m0\u001B[39m]):\n\u001B[0;32m      2\u001B[0m     sql \u001B[38;5;241m=\u001B[39m \u001B[38;5;124m'\u001B[39m\u001B[38;5;124minsert into book_summary(site_id, summary) values (\u001B[39m\u001B[38;5;132;01m%s\u001B[39;00m\u001B[38;5;124m, \u001B[39m\u001B[38;5;132;01m%s\u001B[39;00m\u001B[38;5;124m)\u001B[39m\u001B[38;5;124m'\u001B[39m\n\u001B[0;32m      3\u001B[0m     record \u001B[38;5;241m=\u001B[39m (\u001B[38;5;28mint\u001B[39m(book_summary_new_table\u001B[38;5;241m.\u001B[39msite_id[i]), book_summary_new_table\u001B[38;5;241m.\u001B[39msummary[i])\n",
      "\u001B[1;31mNameError\u001B[0m: name 'book_summary_new_table' is not defined"
     ]
    }
   ],
   "source": [
    "for i in range(book_summary_new_table.shape[0]):\n",
    "    sql = 'insert into book_summary(site_id, summary) values (%s, %s)'\n",
    "    record = (int(book_summary_new_table.site_id[i]), book_summary_new_table.summary[i])\n",
    "    mycursor.execute(sql, record)\n",
    "mydb.commit()"
   ]
  },
  {
   "cell_type": "code",
   "execution_count": 35,
   "id": "4afca073",
   "metadata": {},
   "outputs": [],
   "source": [
    "mycursor.execute('create table publisher(id int primary key, name varchar(255))')"
   ]
  },
  {
   "cell_type": "code",
   "execution_count": 36,
   "id": "2cff4652",
   "metadata": {},
   "outputs": [],
   "source": [
    "for i in range(publisher_table.shape[0]):\n",
    "    sql = 'insert into publisher (id, name) values (%s, %s)'\n",
    "    record = (int(publisher_table['id'][i]), publisher_table.name[i])\n",
    "    mycursor.execute(sql, record)\n",
    "mydb.commit()  "
   ]
  },
  {
   "cell_type": "code",
   "execution_count": 37,
   "id": "57f25b5a",
   "metadata": {},
   "outputs": [],
   "source": [
    "mycursor.execute('create table format(id tinyint primary key, name varchar(255))')"
   ]
  },
  {
   "cell_type": "code",
   "execution_count": 38,
   "id": "2b43b88c",
   "metadata": {},
   "outputs": [],
   "source": [
    "for i in range(format_table.shape[0]):\n",
    "    sql = 'insert into format (id, name) values(%s, %s)'\n",
    "    record = (int(format_table['id'][i]), format_table['size'][i])\n",
    "    mycursor.execute(sql, record)\n",
    "mydb.commit()"
   ]
  },
  {
   "cell_type": "code",
   "execution_count": 39,
   "id": "76de0087",
   "metadata": {},
   "outputs": [],
   "source": [
    "mycursor.execute('create table cover_type(id tinyint primary key, name varchar(255))')"
   ]
  },
  {
   "cell_type": "code",
   "execution_count": 40,
   "id": "d4307ca7",
   "metadata": {},
   "outputs": [],
   "source": [
    "for i in range(cover_type_table.shape[0]):\n",
    "    sql = 'insert into cover_type(id, name) values(%s, %s)'\n",
    "    record = (int(cover_type_table['id'][i]), cover_type_table.cover_material[i])\n",
    "    mycursor.execute(sql, record)\n",
    "mydb.commit()"
   ]
  },
  {
   "cell_type": "code",
   "execution_count": 41,
   "id": "13e65f86",
   "metadata": {},
   "outputs": [],
   "source": [
    "mycursor.execute('create table rewards(id int auto_increment primary key, site_id int, reward text,\\\n",
    "                FOREIGN KEY (site_id) REFERENCES book_summary(site_id))')"
   ]
  },
  {
   "cell_type": "code",
   "execution_count": 42,
   "id": "ca39c3c3",
   "metadata": {},
   "outputs": [],
   "source": [
    "for i in range(reward_table.shape[0]):\n",
    "    sql = 'insert into rewards (site_id, reward) values(%s, %s)'\n",
    "    record = (int(reward_table.site_index[i]), reward_table.award[i])\n",
    "    mycursor.execute(sql, record)\n",
    "mydb.commit()"
   ]
  },
  {
   "cell_type": "code",
   "execution_count": 43,
   "id": "1f4713cc",
   "metadata": {},
   "outputs": [],
   "source": [
    "mycursor.execute('create table tags(id int primary key, name varchar(255))')"
   ]
  },
  {
   "cell_type": "code",
   "execution_count": 44,
   "id": "98e4810c",
   "metadata": {},
   "outputs": [],
   "source": [
    "for i in range(tag_table.shape[0]):\n",
    "    sql = 'insert into tags (id, name) values(%s, %s)'\n",
    "    record = (int(tag_table['id'][i]), tag_table.tag[i])\n",
    "    mycursor.execute(sql, record)\n",
    "\n",
    "mydb.commit()"
   ]
  },
  {
   "cell_type": "code",
   "execution_count": 45,
   "id": "f5750aff",
   "metadata": {},
   "outputs": [],
   "source": [
    "mycursor.execute('create table book_tag(id int auto_increment primary key, site_id int, tag_id int,\\\n",
    "FOREIGN KEY (site_id) REFERENCES book_summary(site_id),\\\n",
    "FOREIGN KEY (tag_id) REFERENCES tags(id))')"
   ]
  },
  {
   "cell_type": "code",
   "execution_count": 46,
   "id": "f79b4c2e",
   "metadata": {},
   "outputs": [],
   "source": [
    "for i in range(book_tag_table.shape[0]):\n",
    "    sql = 'insert into book_tag (site_id, tag_id) values (%s, %s)'\n",
    "    record = (int(book_tag_table.site_index[i]), int(book_tag_table.tag[i]))\n",
    "    mycursor.execute(sql, record)\n",
    "mydb.commit()"
   ]
  },
  {
   "cell_type": "code",
   "execution_count": 47,
   "id": "b54a1968",
   "metadata": {},
   "outputs": [],
   "source": [
    "mycursor.execute('create table veneration(id int auto_increment primary key, site_id int, English_Quote text, Persian_Quote text, prise_writer varchar(255),\\\n",
    "FOREIGN KEY (site_id) REFERENCES book_summary(site_id))')"
   ]
  },
  {
   "cell_type": "code",
   "execution_count": 48,
   "id": "724f4e87",
   "metadata": {},
   "outputs": [],
   "source": [
    "for i in range(book_veneration_table.shape[0]):\n",
    "    sql = 'insert into veneration (site_id, English_Quote, Persian_Quote, prise_writer) values (%s, %s, %s, %s)'\n",
    "    record = (int(book_veneration_table.site_index[i]), book_veneration_table.English_Quote[i],\n",
    "              book_veneration_table.Persian_Quote[i], book_veneration_table.Prise_Writer[i])\n",
    "    mycursor.execute(sql, record)\n",
    "mydb.commit()"
   ]
  },
  {
   "cell_type": "code",
   "execution_count": 49,
   "id": "2a4f79eb",
   "metadata": {},
   "outputs": [],
   "source": [
    "mycursor.execute('create table writer_page (writer_id int primary key, name varchar(255), about text)')"
   ]
  },
  {
   "cell_type": "code",
   "execution_count": 50,
   "id": "e70ca225",
   "metadata": {},
   "outputs": [],
   "source": [
    "for i in range(writer_page_table.shape[0]):\n",
    "    sql = 'insert into writer_page(writer_id, name, about) values(%s, %s, %s)'\n",
    "    record = (int(writer_page_table['id'][i]), writer_page_table.name[i], writer_page_table['info'][i])\n",
    "    mycursor.execute(sql, record)\n",
    "mydb.commit()"
   ]
  },
  {
   "cell_type": "code",
   "execution_count": 51,
   "id": "fb4cbfd2",
   "metadata": {},
   "outputs": [],
   "source": [
    "mycursor.execute('create table writer(id int auto_increment primary key, writer_id int, site_id int,\\\n",
    "FOREIGN KEY (writer_id) REFERENCES writer_page(writer_id),\\\n",
    "FOREIGN KEY (site_id) REFERENCES book_summary(site_id))')"
   ]
  },
  {
   "cell_type": "code",
   "execution_count": 52,
   "id": "8d67b67a",
   "metadata": {
    "scrolled": true
   },
   "outputs": [],
   "source": [
    "for i in range(writer_new_table.shape[0]):\n",
    "    sql = 'insert into writer(writer_id, site_id) values (%s, %s)'\n",
    "    record = (int(writer_new_table.writer_id[i]), int(writer_new_table.site_id[i]))\n",
    "    mycursor.execute(sql, record)\n",
    "mydb.commit()"
   ]
  },
  {
   "cell_type": "code",
   "execution_count": 53,
   "id": "fa8ebb89",
   "metadata": {},
   "outputs": [],
   "source": [
    "mycursor.execute('create table translator_page(translator_id int primary key, name varchar(255), about text)')"
   ]
  },
  {
   "cell_type": "code",
   "execution_count": 54,
   "id": "bde4e960",
   "metadata": {},
   "outputs": [],
   "source": [
    "for i in range(translator_page_table.shape[0]):\n",
    "    sql = 'insert into translator_page(translator_id, name, about) values (%s, %s, %s)'\n",
    "    record = (int(translator_page_table['id'][i]), translator_page_table.name[i], translator_page_table['info'] [i])\n",
    "    mycursor.execute(sql, record)\n",
    "mydb.commit()"
   ]
  },
  {
   "cell_type": "code",
   "execution_count": 55,
   "id": "01651f54",
   "metadata": {},
   "outputs": [],
   "source": [
    "mycursor.execute('create table book_detail(\\\n",
    "book_id int primary key,\\\n",
    "site_id int not null,\\\n",
    "Persian_title varchar(225),\\\n",
    "English_title varchar(225),\\\n",
    "publisher_id int,\\\n",
    "score decimal(5,2),\\\n",
    "ISBN varchar(128),\\\n",
    "format_id tinyint,\\\n",
    "page_number int,\\\n",
    "cover_id tinyint,\\\n",
    "edition smallint,\\\n",
    "solar_publication_year int,\\\n",
    "ad_publication_year int,\\\n",
    "book_language varchar(128),\\\n",
    "delivery_time varchar(128),\\\n",
    "stock_status varchar(128),\\\n",
    "paper_type varchar(128),\\\n",
    "FOREIGN KEY (site_id) REFERENCES book_summary(site_id),\\\n",
    "FOREIGN KEY (format_id) REFERENCES format(id),\\\n",
    "FOREIGN KEY (cover_id) REFERENCES cover_type(id),\\\n",
    "FOREIGN KEY (publisher_id) REFERENCES publisher(id))')"
   ]
  },
  {
   "cell_type": "code",
   "execution_count": 56,
   "id": "7069f2dd",
   "metadata": {},
   "outputs": [],
   "source": [
    "for i in range(book_detail_table.shape[0]):\n",
    "    sql = 'insert into book_detail values(%s, %s, %s, %s, %s, %s, %s, %s, %s, %s, %s, %s, %s, %s, %s, %s, %s)'\n",
    "    record = (int(book_detail_table['code'][i]), int(book_detail_table.site_id[i]), book_detail_table.fa_title[i],\n",
    "              book_detail_table.en_title[i], int(book_detail_table.publisher_id[i]), float(book_detail_table.score[i]),\n",
    "              book_detail_table.Isbn[i], int(book_detail_table['size'][i]), int(book_detail_table['pages'][i]),\n",
    "              int(book_detail_table.cover_material[i]), int(book_detail_table.print_series[i]), \n",
    "              int(book_detail_table.publication_per_date[i]), int(book_detail_table.publication_ad_date[i]),\n",
    "              book_detail_table.language[i], book_detail_table.earliest_send_time[i], book_detail_table.presence[i], book_detail_table.paper_type[i])\n",
    "    mycursor.execute(sql, record)\n",
    "mydb.commit()"
   ]
  },
  {
   "cell_type": "code",
   "execution_count": 57,
   "id": "235c6897",
   "metadata": {},
   "outputs": [],
   "source": [
    "mycursor.execute('create table translator(id int auto_increment primary key, translator_id int, book_id int,\\\n",
    "FOREIGN KEY (translator_id) REFERENCES translator_page(translator_id),\\\n",
    "FOREIGN KEY (book_id) REFERENCES book_detail(book_id))')"
   ]
  },
  {
   "cell_type": "code",
   "execution_count": 58,
   "id": "f7f90f02",
   "metadata": {},
   "outputs": [],
   "source": [
    "for i in range(translator_table.shape[0]):\n",
    "    sql = 'insert into translator (translator_id, book_id) values (%s, %s)'\n",
    "    record = (int(translator_table.translator_id[i]), int(translator_table.book_id[i]))\n",
    "    mycursor.execute(sql, record)\n",
    "mydb.commit()"
   ]
  },
  {
   "cell_type": "code",
   "execution_count": 59,
   "id": "2c5710c7",
   "metadata": {},
   "outputs": [],
   "source": [
    "mycursor.execute(\"CREATE TABLE Price_History (id int auto_increment primary key,\\\n",
    "book_id int, price int, discount int, date datetime,\\\n",
    "FOREIGN KEY (book_id) REFERENCES book_detail(book_id))\")"
   ]
  },
  {
   "cell_type": "code",
   "execution_count": 60,
   "id": "85b525a2",
   "metadata": {},
   "outputs": [],
   "source": [
    "for i in range(price_history_table.shape[0]):\n",
    "    sql = 'insert into Price_history (book_id, price, discount, date) values (%s, %s, %s, %s)'\n",
    "    record = (int(price_history_table.book_id[i]), int(price_history_table.price[i]), int(price_history_table.discount[i]), price_history_table.date[i])\n",
    "    mycursor.execute(sql, record)\n",
    "mydb.commit()"
   ]
  },
  {
   "cell_type": "code",
   "execution_count": null,
   "id": "a5a447e2",
   "metadata": {},
   "outputs": [],
   "source": []
  }
 ],
 "metadata": {
  "kernelspec": {
   "display_name": "Python 3 (ipykernel)",
   "language": "python",
   "name": "python3"
  },
  "language_info": {
   "codemirror_mode": {
    "name": "ipython",
    "version": 3
   },
   "file_extension": ".py",
   "mimetype": "text/x-python",
   "name": "python",
   "nbconvert_exporter": "python",
   "pygments_lexer": "ipython3",
   "version": "3.11.3"
  }
 },
 "nbformat": 4,
 "nbformat_minor": 5
}
