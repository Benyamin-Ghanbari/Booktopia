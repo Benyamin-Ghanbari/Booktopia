{
 "cells": [
  {
   "cell_type": "code",
   "execution_count": 5,
   "id": "de5e05c3",
   "metadata": {
    "ExecuteTime": {
     "end_time": "2023-09-29T18:43:00.915349Z",
     "start_time": "2023-09-29T18:43:00.909759100Z"
    }
   },
   "outputs": [],
   "source": [
    "# libraries\n",
    "import pandas as pd\n",
    "import mysql.connector"
   ]
  },
  {
   "cell_type": "code",
   "execution_count": 6,
   "id": "bc2c6c9d",
   "metadata": {
    "ExecuteTime": {
     "end_time": "2023-09-29T18:43:01.505151100Z",
     "start_time": "2023-09-29T18:43:01.468704700Z"
    }
   },
   "outputs": [],
   "source": [
    "def check_duplicates(df):\n",
    "    df2 = df.duplicated()\n",
    "    for i in df2:\n",
    "        if i == True:\n",
    "            key = 1\n",
    "            break\n",
    "        else:\n",
    "            key = 0\n",
    "    return key"
   ]
  },
  {
   "cell_type": "code",
   "execution_count": 7,
   "id": "26d09cb2",
   "metadata": {
    "ExecuteTime": {
     "end_time": "2023-09-29T18:43:02.109814700Z",
     "start_time": "2023-09-29T18:43:02.069631600Z"
    }
   },
   "outputs": [],
   "source": [
    "translator_table = pd.read_csv('../phase1 Scraping/Outputs/translator.csv')\n",
    "#(translator_table)\n",
    "#(check_duplicates(translator_table))"
   ]
  },
  {
   "cell_type": "code",
   "execution_count": 8,
   "outputs": [],
   "source": [
    "# importing data from csv files\n",
    "book_detail_table = pd.read_csv('../phase1 Scraping/Outputs/bookData.csv')\n",
    "book_detail_table['Isbn'].fillna('null', inplace = True)\n",
    "book_detail_table['score'].fillna(0, inplace = True)\n",
    "#book_detail_table\n",
    "#check_duplicates(book_detail_table)"
   ],
   "metadata": {
    "collapsed": false,
    "ExecuteTime": {
     "end_time": "2023-09-29T18:43:02.886779700Z",
     "start_time": "2023-09-29T18:43:02.849113900Z"
    }
   },
   "id": "e92df401"
  },
  {
   "cell_type": "code",
   "execution_count": 12,
   "id": "3f85a26f",
   "metadata": {
    "ExecuteTime": {
     "end_time": "2023-09-29T18:44:23.243069300Z",
     "start_time": "2023-09-29T18:44:23.217277600Z"
    }
   },
   "outputs": [],
   "source": [
    "translator_page_table = pd.read_csv('../phase1 Scraping/Outputs/translator_page.csv')\n",
    "#translator_page_table['info'].fillna('null', inplace = True)\n",
    "translator_page_table.drop_duplicates(subset=\"id\", keep = 'first', inplace=True)\n",
    "#(translator_page_table)\n",
    "#(check_duplicates(translator_page_table))"
   ]
  },
  {
   "cell_type": "code",
   "execution_count": 13,
   "id": "95b6a46e",
   "metadata": {
    "ExecuteTime": {
     "end_time": "2023-09-29T18:44:24.368078600Z",
     "start_time": "2023-09-29T18:44:24.269825300Z"
    }
   },
   "outputs": [],
   "source": [
    "price_history_table = pd.read_csv('../phase1 Scraping/Outputs/price-history.csv')\n",
    "#(price_history_table)\n",
    "#(check_duplicates(price_history_table))"
   ]
  },
  {
   "cell_type": "code",
   "execution_count": 14,
   "id": "799f8f7f",
   "metadata": {
    "ExecuteTime": {
     "end_time": "2023-09-29T18:44:24.954083500Z",
     "start_time": "2023-09-29T18:44:24.919849400Z"
    }
   },
   "outputs": [],
   "source": [
    "publisher_table = pd.read_csv('../phase1 Scraping/Outputs/publisher.csv')\n",
    "#(publisher_table)\n",
    "#(check_duplicates(publisher_table))"
   ]
  },
  {
   "cell_type": "code",
   "execution_count": 15,
   "id": "f94bc70b",
   "metadata": {
    "ExecuteTime": {
     "end_time": "2023-09-29T18:44:25.745461100Z",
     "start_time": "2023-09-29T18:44:25.680432300Z"
    }
   },
   "outputs": [],
   "source": [
    "format_table = pd.read_csv('../phase1 Scraping/Outputs/format.csv')\n",
    "format_table.rename(columns = {'Unnamed: 0': 'id'}, inplace = True)\n",
    "format_table.loc[format_table.shape[0]] = [-1, 'null']\n",
    "#(format_table)\n",
    "#(check_duplicates(format_table))"
   ]
  },
  {
   "cell_type": "code",
   "execution_count": 16,
   "id": "46fb5dcf",
   "metadata": {
    "ExecuteTime": {
     "end_time": "2023-09-29T18:44:26.274410Z",
     "start_time": "2023-09-29T18:44:26.236567500Z"
    }
   },
   "outputs": [],
   "source": [
    "cover_type_table = pd.read_csv('../phase1 Scraping/Outputs/cover_type.csv')\n",
    "cover_type_table.rename(columns = {'Unnamed: 0': 'id'}, inplace = True)\n",
    "cover_type_table.loc[cover_type_table.shape[0]] = [-1, 'null']\n",
    "#(cover_type_table)\n",
    "#(check_duplicates(cover_type_table))"
   ]
  },
  {
   "cell_type": "code",
   "execution_count": 17,
   "id": "980cd6c3",
   "metadata": {
    "ExecuteTime": {
     "end_time": "2023-09-29T18:44:26.808389600Z",
     "start_time": "2023-09-29T18:44:26.772817700Z"
    }
   },
   "outputs": [],
   "source": [
    "book_summary_table = pd.read_csv('../phase1 Scraping/Outputs/BookSummaryData.csv')\n",
    "#(book_summary_table)\n",
    "#(check_duplicates(book_summary_table))"
   ]
  },
  {
   "cell_type": "code",
   "execution_count": 18,
   "id": "91eb5665",
   "metadata": {
    "ExecuteTime": {
     "end_time": "2023-09-29T18:44:27.238226200Z",
     "start_time": "2023-09-29T18:44:27.144020600Z"
    }
   },
   "outputs": [
    {
     "ename": "AttributeError",
     "evalue": "'DataFrame' object has no attribute 'site_id'",
     "output_type": "error",
     "traceback": [
      "\u001B[1;31m---------------------------------------------------------------------------\u001B[0m",
      "\u001B[1;31mAttributeError\u001B[0m                            Traceback (most recent call last)",
      "\u001B[1;32m~\\AppData\\Local\\Temp\\ipykernel_13668\\547938620.py\u001B[0m in \u001B[0;36m?\u001B[1;34m()\u001B[0m\n\u001B[1;32m----> 1\u001B[1;33m \u001B[0mcolumns_i_need\u001B[0m \u001B[1;33m=\u001B[0m \u001B[0mbook_detail_table\u001B[0m\u001B[1;33m.\u001B[0m\u001B[0msite_id\u001B[0m\u001B[1;33m\u001B[0m\u001B[1;33m\u001B[0m\u001B[0m\n\u001B[0m\u001B[0;32m      2\u001B[0m \u001B[0mbook_summary_table\u001B[0m\u001B[1;33m.\u001B[0m\u001B[0mrename\u001B[0m\u001B[1;33m(\u001B[0m\u001B[0mcolumns\u001B[0m \u001B[1;33m=\u001B[0m \u001B[1;33m{\u001B[0m\u001B[1;34m'site_index'\u001B[0m\u001B[1;33m:\u001B[0m\u001B[1;34m'site_id'\u001B[0m\u001B[1;33m}\u001B[0m\u001B[1;33m,\u001B[0m \u001B[0minplace\u001B[0m \u001B[1;33m=\u001B[0m \u001B[1;32mTrue\u001B[0m\u001B[1;33m)\u001B[0m\u001B[1;33m\u001B[0m\u001B[1;33m\u001B[0m\u001B[0m\n\u001B[0;32m      3\u001B[0m \u001B[0mbook_summary_new_table\u001B[0m \u001B[1;33m=\u001B[0m \u001B[0mpd\u001B[0m\u001B[1;33m.\u001B[0m\u001B[0mmerge\u001B[0m\u001B[1;33m(\u001B[0m\u001B[0mcolumns_i_need\u001B[0m\u001B[1;33m,\u001B[0m \u001B[0mbook_summary_table\u001B[0m\u001B[1;33m,\u001B[0m \u001B[0mon\u001B[0m \u001B[1;33m=\u001B[0m \u001B[1;34m'site_id'\u001B[0m\u001B[1;33m,\u001B[0m \u001B[0mhow\u001B[0m \u001B[1;33m=\u001B[0m \u001B[1;34m'left'\u001B[0m\u001B[1;33m)\u001B[0m\u001B[1;33m\u001B[0m\u001B[1;33m\u001B[0m\u001B[0m\n\u001B[0;32m      4\u001B[0m \u001B[1;31m#book_summary_new_table\u001B[0m\u001B[1;33m\u001B[0m\u001B[1;33m\u001B[0m\u001B[1;33m\u001B[0m\u001B[0m\n",
      "\u001B[1;32m~\\Data Analysis\\dataVenv\\lib\\site-packages\\pandas\\core\\generic.py\u001B[0m in \u001B[0;36m?\u001B[1;34m(self, name)\u001B[0m\n\u001B[0;32m   6198\u001B[0m             \u001B[1;32mand\u001B[0m \u001B[0mname\u001B[0m \u001B[1;32mnot\u001B[0m \u001B[1;32min\u001B[0m \u001B[0mself\u001B[0m\u001B[1;33m.\u001B[0m\u001B[0m_accessors\u001B[0m\u001B[1;33m\u001B[0m\u001B[1;33m\u001B[0m\u001B[0m\n\u001B[0;32m   6199\u001B[0m             \u001B[1;32mand\u001B[0m \u001B[0mself\u001B[0m\u001B[1;33m.\u001B[0m\u001B[0m_info_axis\u001B[0m\u001B[1;33m.\u001B[0m\u001B[0m_can_hold_identifiers_and_holds_name\u001B[0m\u001B[1;33m(\u001B[0m\u001B[0mname\u001B[0m\u001B[1;33m)\u001B[0m\u001B[1;33m\u001B[0m\u001B[1;33m\u001B[0m\u001B[0m\n\u001B[0;32m   6200\u001B[0m         ):\n\u001B[0;32m   6201\u001B[0m             \u001B[1;32mreturn\u001B[0m \u001B[0mself\u001B[0m\u001B[1;33m[\u001B[0m\u001B[0mname\u001B[0m\u001B[1;33m]\u001B[0m\u001B[1;33m\u001B[0m\u001B[1;33m\u001B[0m\u001B[0m\n\u001B[1;32m-> 6202\u001B[1;33m         \u001B[1;32mreturn\u001B[0m \u001B[0mobject\u001B[0m\u001B[1;33m.\u001B[0m\u001B[0m__getattribute__\u001B[0m\u001B[1;33m(\u001B[0m\u001B[0mself\u001B[0m\u001B[1;33m,\u001B[0m \u001B[0mname\u001B[0m\u001B[1;33m)\u001B[0m\u001B[1;33m\u001B[0m\u001B[1;33m\u001B[0m\u001B[0m\n\u001B[0m",
      "\u001B[1;31mAttributeError\u001B[0m: 'DataFrame' object has no attribute 'site_id'"
     ]
    }
   ],
   "source": [
    "columns_i_need = book_detail_table.site_id\n",
    "book_summary_table.rename(columns = {'site_index':'site_id'}, inplace = True)\n",
    "book_summary_new_table = pd.merge(columns_i_need, book_summary_table, on = 'site_id', how = 'left')\n",
    "#book_summary_new_table"
   ]
  },
  {
   "cell_type": "code",
   "execution_count": 19,
   "id": "69253270",
   "metadata": {
    "ExecuteTime": {
     "end_time": "2023-09-29T18:44:27.549201100Z",
     "start_time": "2023-09-29T18:44:27.462398900Z"
    }
   },
   "outputs": [
    {
     "ename": "NameError",
     "evalue": "name 'book_summary_new_table' is not defined",
     "output_type": "error",
     "traceback": [
      "\u001B[1;31m---------------------------------------------------------------------------\u001B[0m",
      "\u001B[1;31mNameError\u001B[0m                                 Traceback (most recent call last)",
      "Cell \u001B[1;32mIn[19], line 1\u001B[0m\n\u001B[1;32m----> 1\u001B[0m \u001B[43mbook_summary_new_table\u001B[49m\u001B[38;5;241m.\u001B[39mdrop_duplicates(subset\u001B[38;5;241m=\u001B[39m\u001B[38;5;124m\"\u001B[39m\u001B[38;5;124msite_id\u001B[39m\u001B[38;5;124m\"\u001B[39m, keep \u001B[38;5;241m=\u001B[39m \u001B[38;5;124m'\u001B[39m\u001B[38;5;124mfirst\u001B[39m\u001B[38;5;124m'\u001B[39m, inplace\u001B[38;5;241m=\u001B[39m\u001B[38;5;28;01mTrue\u001B[39;00m)\n\u001B[0;32m      2\u001B[0m book_summary_new_table[\u001B[38;5;124m'\u001B[39m\u001B[38;5;124msummary\u001B[39m\u001B[38;5;124m'\u001B[39m]\u001B[38;5;241m.\u001B[39mfillna(\u001B[38;5;124m'\u001B[39m\u001B[38;5;124mnull\u001B[39m\u001B[38;5;124m'\u001B[39m, inplace \u001B[38;5;241m=\u001B[39m \u001B[38;5;28;01mTrue\u001B[39;00m)\n\u001B[0;32m      3\u001B[0m book_summary_new_table\u001B[38;5;241m.\u001B[39mreset_index(inplace \u001B[38;5;241m=\u001B[39m \u001B[38;5;28;01mTrue\u001B[39;00m, drop \u001B[38;5;241m=\u001B[39m \u001B[38;5;28;01mTrue\u001B[39;00m)\n",
      "\u001B[1;31mNameError\u001B[0m: name 'book_summary_new_table' is not defined"
     ]
    }
   ],
   "source": [
    "book_summary_new_table.drop_duplicates(subset=\"site_id\", keep = 'first', inplace=True)\n",
    "book_summary_new_table['summary'].fillna('null', inplace = True)\n",
    "book_summary_new_table.reset_index(inplace = True, drop = True)\n",
    "#book_summary_new_table"
   ]
  },
  {
   "cell_type": "code",
   "execution_count": 20,
   "id": "b7832987",
   "metadata": {
    "ExecuteTime": {
     "end_time": "2023-09-29T18:44:41.718145300Z",
     "start_time": "2023-09-29T18:44:41.683187600Z"
    }
   },
   "outputs": [],
   "source": [
    "reward_table = pd.read_csv('../phase1 Scraping/Outputs/award.csv')\n",
    "#(reward_table)\n",
    "#(check_duplicates(reward_table))"
   ]
  },
  {
   "cell_type": "code",
   "execution_count": 21,
   "id": "68ca5474",
   "metadata": {
    "ExecuteTime": {
     "end_time": "2023-09-29T18:44:42.209841Z",
     "start_time": "2023-09-29T18:44:42.146711700Z"
    }
   },
   "outputs": [
    {
     "ename": "NameError",
     "evalue": "name 'book_summary_new_table' is not defined",
     "output_type": "error",
     "traceback": [
      "\u001B[1;31m---------------------------------------------------------------------------\u001B[0m",
      "\u001B[1;31mNameError\u001B[0m                                 Traceback (most recent call last)",
      "Cell \u001B[1;32mIn[21], line 1\u001B[0m\n\u001B[1;32m----> 1\u001B[0m summary_id \u001B[38;5;241m=\u001B[39m \u001B[38;5;28mset\u001B[39m(\u001B[38;5;28mlist\u001B[39m(\u001B[43mbook_summary_new_table\u001B[49m\u001B[38;5;241m.\u001B[39msite_id))\n\u001B[0;32m      2\u001B[0m reward_id \u001B[38;5;241m=\u001B[39m \u001B[38;5;28mset\u001B[39m(\u001B[38;5;28mlist\u001B[39m(reward_table\u001B[38;5;241m.\u001B[39msite_index))\n\u001B[0;32m      3\u001B[0m diff \u001B[38;5;241m=\u001B[39m \u001B[38;5;28mlist\u001B[39m(reward_id \u001B[38;5;241m-\u001B[39m summary_id)\n",
      "\u001B[1;31mNameError\u001B[0m: name 'book_summary_new_table' is not defined"
     ]
    }
   ],
   "source": [
    "summary_id = set(list(book_summary_new_table.site_id))\n",
    "reward_id = set(list(reward_table.site_index))\n",
    "diff = list(reward_id - summary_id)\n",
    "for i in diff:\n",
    "    reward_table.drop(reward_table.loc[reward_table['site_index'] == i].index, inplace=True)\n",
    "\n",
    "reward_table.reset_index(inplace = True, drop = True)"
   ]
  },
  {
   "cell_type": "code",
   "execution_count": 22,
   "id": "2d0d1d37",
   "metadata": {
    "ExecuteTime": {
     "end_time": "2023-09-29T18:44:42.804807200Z",
     "start_time": "2023-09-29T18:44:42.769468Z"
    }
   },
   "outputs": [],
   "source": [
    "book_tag_table = pd.read_csv('../phase1 Scraping/Outputs/bookTagsData.csv')\n",
    "#(book_tag_table)\n",
    "#(check_duplicates(book_tag_table))"
   ]
  },
  {
   "cell_type": "code",
   "execution_count": 23,
   "id": "e12bce2d",
   "metadata": {
    "ExecuteTime": {
     "end_time": "2023-09-29T18:44:43.215214400Z",
     "start_time": "2023-09-29T18:44:43.173375400Z"
    }
   },
   "outputs": [
    {
     "ename": "NameError",
     "evalue": "name 'book_summary_new_table' is not defined",
     "output_type": "error",
     "traceback": [
      "\u001B[1;31m---------------------------------------------------------------------------\u001B[0m",
      "\u001B[1;31mNameError\u001B[0m                                 Traceback (most recent call last)",
      "Cell \u001B[1;32mIn[23], line 1\u001B[0m\n\u001B[1;32m----> 1\u001B[0m summary_id \u001B[38;5;241m=\u001B[39m \u001B[38;5;28mset\u001B[39m(\u001B[38;5;28mlist\u001B[39m(\u001B[43mbook_summary_new_table\u001B[49m\u001B[38;5;241m.\u001B[39msite_id))\n\u001B[0;32m      2\u001B[0m b_tag_id \u001B[38;5;241m=\u001B[39m \u001B[38;5;28mset\u001B[39m(\u001B[38;5;28mlist\u001B[39m(book_tag_table\u001B[38;5;241m.\u001B[39msite_index))\n\u001B[0;32m      3\u001B[0m diff \u001B[38;5;241m=\u001B[39m \u001B[38;5;28mlist\u001B[39m(b_tag_id \u001B[38;5;241m-\u001B[39m summary_id)\n",
      "\u001B[1;31mNameError\u001B[0m: name 'book_summary_new_table' is not defined"
     ]
    }
   ],
   "source": [
    "summary_id = set(list(book_summary_new_table.site_id))\n",
    "b_tag_id = set(list(book_tag_table.site_index))\n",
    "diff = list(b_tag_id - summary_id)\n",
    "for i in diff:\n",
    "    book_tag_table.drop(book_tag_table.loc[book_tag_table['site_index'] == i].index, inplace=True)\n",
    "\n",
    "book_tag_table.reset_index(inplace = True, drop = True)\n",
    "#book_tag_table"
   ]
  },
  {
   "cell_type": "code",
   "execution_count": 24,
   "id": "116c5eb2",
   "metadata": {
    "ExecuteTime": {
     "end_time": "2023-09-29T18:44:43.706926800Z",
     "start_time": "2023-09-29T18:44:43.660034500Z"
    }
   },
   "outputs": [],
   "source": [
    "tag_table = pd.read_csv('../phase1 Scraping/Outputs/tag.csv')\n",
    "tag_table.rename(columns = {'Unnamed: 0': 'id'}, inplace = True)\n",
    "#(tag_table)\n",
    "#(check_duplicates(tag_table))"
   ]
  },
  {
   "cell_type": "code",
   "execution_count": 25,
   "id": "39392106",
   "metadata": {
    "scrolled": true,
    "ExecuteTime": {
     "end_time": "2023-09-29T18:44:44.458404900Z",
     "start_time": "2023-09-29T18:44:44.421629Z"
    }
   },
   "outputs": [],
   "source": [
    "book_veneration_table = pd.read_csv('../phase1 Scraping/Outputs/book_veneration.csv')\n",
    "book_veneration_table['Prise_Writer'].fillna('Unknow', inplace=True)\n",
    "#(book_veneration_table)\n",
    "#(check_duplicates(book_veneration_table))"
   ]
  },
  {
   "cell_type": "code",
   "execution_count": 26,
   "id": "1fdf568c",
   "metadata": {
    "ExecuteTime": {
     "end_time": "2023-09-29T18:44:44.857961500Z",
     "start_time": "2023-09-29T18:44:44.826702900Z"
    }
   },
   "outputs": [
    {
     "ename": "NameError",
     "evalue": "name 'book_summary_new_table' is not defined",
     "output_type": "error",
     "traceback": [
      "\u001B[1;31m---------------------------------------------------------------------------\u001B[0m",
      "\u001B[1;31mNameError\u001B[0m                                 Traceback (most recent call last)",
      "Cell \u001B[1;32mIn[26], line 1\u001B[0m\n\u001B[1;32m----> 1\u001B[0m summary_id \u001B[38;5;241m=\u001B[39m \u001B[38;5;28mset\u001B[39m(\u001B[38;5;28mlist\u001B[39m(\u001B[43mbook_summary_new_table\u001B[49m\u001B[38;5;241m.\u001B[39msite_id))\n\u001B[0;32m      2\u001B[0m veneration_id \u001B[38;5;241m=\u001B[39m \u001B[38;5;28mset\u001B[39m(\u001B[38;5;28mlist\u001B[39m(book_veneration_table\u001B[38;5;241m.\u001B[39msite_index))\n\u001B[0;32m      3\u001B[0m difference \u001B[38;5;241m=\u001B[39m \u001B[38;5;28mlist\u001B[39m(veneration_id \u001B[38;5;241m-\u001B[39m summary_id)\n",
      "\u001B[1;31mNameError\u001B[0m: name 'book_summary_new_table' is not defined"
     ]
    }
   ],
   "source": [
    "summary_id = set(list(book_summary_new_table.site_id))\n",
    "veneration_id = set(list(book_veneration_table.site_index))\n",
    "difference = list(veneration_id - summary_id)\n",
    "for i in difference:\n",
    "    book_veneration_table.drop(book_veneration_table.loc[book_veneration_table['site_index'] == i].index, inplace=True)\n",
    "\n",
    "book_veneration_table.reset_index(inplace = True, drop = True)\n",
    "#book_veneration_table"
   ]
  },
  {
   "cell_type": "code",
   "execution_count": 27,
   "id": "8acac1c2",
   "metadata": {
    "ExecuteTime": {
     "end_time": "2023-09-29T18:44:45.325878800Z",
     "start_time": "2023-09-29T18:44:45.257379600Z"
    }
   },
   "outputs": [],
   "source": [
    "writer_table = pd.read_csv('../phase1 Scraping/Outputs/writer.csv')\n",
    "#(writer_table)\n",
    "#(check_duplicates(writer_table))"
   ]
  },
  {
   "cell_type": "code",
   "execution_count": 28,
   "id": "4b243070",
   "metadata": {
    "ExecuteTime": {
     "end_time": "2023-09-29T18:44:45.808335800Z",
     "start_time": "2023-09-29T18:44:45.725044900Z"
    }
   },
   "outputs": [
    {
     "ename": "AttributeError",
     "evalue": "'DataFrame' object has no attribute 'site_id'",
     "output_type": "error",
     "traceback": [
      "\u001B[1;31m---------------------------------------------------------------------------\u001B[0m",
      "\u001B[1;31mAttributeError\u001B[0m                            Traceback (most recent call last)",
      "\u001B[1;32m~\\AppData\\Local\\Temp\\ipykernel_13668\\2719944532.py\u001B[0m in \u001B[0;36m?\u001B[1;34m()\u001B[0m\n\u001B[0;32m      2\u001B[0m \u001B[0md\u001B[0m \u001B[1;33m=\u001B[0m \u001B[0mdict\u001B[0m\u001B[1;33m(\u001B[0m\u001B[1;33m)\u001B[0m\u001B[1;33m\u001B[0m\u001B[1;33m\u001B[0m\u001B[0m\n\u001B[1;32m----> 3\u001B[1;33m \u001B[1;32mfor\u001B[0m \u001B[0mi\u001B[0m \u001B[1;32min\u001B[0m \u001B[0mrange\u001B[0m\u001B[1;33m(\u001B[0m\u001B[0mbook_detail_table\u001B[0m\u001B[1;33m.\u001B[0m\u001B[0mshape\u001B[0m\u001B[1;33m[\u001B[0m\u001B[1;36m0\u001B[0m\u001B[1;33m]\u001B[0m\u001B[1;33m)\u001B[0m\u001B[1;33m:\u001B[0m\u001B[1;33m\u001B[0m\u001B[1;33m\u001B[0m\u001B[0m\n\u001B[0m\u001B[0;32m      4\u001B[0m     \u001B[0md\u001B[0m\u001B[1;33m[\u001B[0m\u001B[0mstr\u001B[0m\u001B[1;33m(\u001B[0m\u001B[0mbook_detail_table\u001B[0m\u001B[1;33m.\u001B[0m\u001B[0mcode\u001B[0m\u001B[1;33m[\u001B[0m\u001B[0mi\u001B[0m\u001B[1;33m]\u001B[0m\u001B[1;33m)\u001B[0m\u001B[1;33m]\u001B[0m \u001B[1;33m=\u001B[0m \u001B[0mbook_detail_table\u001B[0m\u001B[1;33m.\u001B[0m\u001B[0msite_id\u001B[0m\u001B[1;33m[\u001B[0m\u001B[0mi\u001B[0m\u001B[1;33m]\u001B[0m\u001B[1;33m\u001B[0m\u001B[1;33m\u001B[0m\u001B[0m\n\u001B[0;32m      5\u001B[0m \u001B[0mlis\u001B[0m \u001B[1;33m=\u001B[0m \u001B[0mlist\u001B[0m\u001B[1;33m(\u001B[0m\u001B[1;33m)\u001B[0m\u001B[1;33m\u001B[0m\u001B[1;33m\u001B[0m\u001B[0m\n\u001B[0;32m      6\u001B[0m \u001B[1;32mfor\u001B[0m \u001B[0mw\u001B[0m \u001B[1;32min\u001B[0m \u001B[0mrange\u001B[0m\u001B[1;33m(\u001B[0m\u001B[0mwriter_table\u001B[0m\u001B[1;33m.\u001B[0m\u001B[0mshape\u001B[0m\u001B[1;33m[\u001B[0m\u001B[1;36m0\u001B[0m\u001B[1;33m]\u001B[0m\u001B[1;33m)\u001B[0m\u001B[1;33m:\u001B[0m\u001B[1;33m\u001B[0m\u001B[1;33m\u001B[0m\u001B[0m\n",
      "\u001B[1;32m~\\Data Analysis\\dataVenv\\lib\\site-packages\\pandas\\core\\generic.py\u001B[0m in \u001B[0;36m?\u001B[1;34m(self, name)\u001B[0m\n\u001B[0;32m   6198\u001B[0m             \u001B[1;32mand\u001B[0m \u001B[0mname\u001B[0m \u001B[1;32mnot\u001B[0m \u001B[1;32min\u001B[0m \u001B[0mself\u001B[0m\u001B[1;33m.\u001B[0m\u001B[0m_accessors\u001B[0m\u001B[1;33m\u001B[0m\u001B[1;33m\u001B[0m\u001B[0m\n\u001B[0;32m   6199\u001B[0m             \u001B[1;32mand\u001B[0m \u001B[0mself\u001B[0m\u001B[1;33m.\u001B[0m\u001B[0m_info_axis\u001B[0m\u001B[1;33m.\u001B[0m\u001B[0m_can_hold_identifiers_and_holds_name\u001B[0m\u001B[1;33m(\u001B[0m\u001B[0mname\u001B[0m\u001B[1;33m)\u001B[0m\u001B[1;33m\u001B[0m\u001B[1;33m\u001B[0m\u001B[0m\n\u001B[0;32m   6200\u001B[0m         ):\n\u001B[0;32m   6201\u001B[0m             \u001B[1;32mreturn\u001B[0m \u001B[0mself\u001B[0m\u001B[1;33m[\u001B[0m\u001B[0mname\u001B[0m\u001B[1;33m]\u001B[0m\u001B[1;33m\u001B[0m\u001B[1;33m\u001B[0m\u001B[0m\n\u001B[1;32m-> 6202\u001B[1;33m         \u001B[1;32mreturn\u001B[0m \u001B[0mobject\u001B[0m\u001B[1;33m.\u001B[0m\u001B[0m__getattribute__\u001B[0m\u001B[1;33m(\u001B[0m\u001B[0mself\u001B[0m\u001B[1;33m,\u001B[0m \u001B[0mname\u001B[0m\u001B[1;33m)\u001B[0m\u001B[1;33m\u001B[0m\u001B[1;33m\u001B[0m\u001B[0m\n\u001B[0m",
      "\u001B[1;31mAttributeError\u001B[0m: 'DataFrame' object has no attribute 'site_id'"
     ]
    }
   ],
   "source": [
    "d = dict()\n",
    "for i in range(book_detail_table.shape[0]):\n",
    "    d[str(book_detail_table.code[i])] = book_detail_table.site_id[i]\n",
    "lis = list()\n",
    "for w in range(writer_table.shape[0]):\n",
    "     lis.append(d.get(str(writer_table.book_id[w])))\n",
    "writer_table['site_id'] = lis\n",
    "\n",
    "writer_new_table = writer_table.drop(columns=['book_id'], inplace = False)"
   ]
  },
  {
   "cell_type": "code",
   "execution_count": 22,
   "id": "8963a926",
   "metadata": {},
   "outputs": [],
   "source": [
    "writer_page_table = pd.read_csv('../phase1 Scraping/Outputs/writer_info.csv')\n",
    "writer_page_table['info'].fillna('null', inplace = True)\n",
    "writer_page_table.drop_duplicates(subset=\"id\", keep = 'first', inplace=True)\n",
    "#(writer_page_table)\n",
    "#(check_duplicates(writer_page_table))"
   ]
  },
  {
   "cell_type": "code",
   "execution_count": 23,
   "id": "80013673",
   "metadata": {},
   "outputs": [],
   "source": [
    "mydb = mysql.connector.connect(\n",
    "  host=\"localhost\",\n",
    "  user=\"root\",\n",
    "  password=\"a*7EE166B4\")\n",
    "mycursor = mydb.cursor()\n",
    "mycursor.execute(\"CREATE DATABASE BookUtopia\")"
   ]
  },
  {
   "cell_type": "code",
   "execution_count": 24,
   "id": "b8fe6370",
   "metadata": {},
   "outputs": [],
   "source": [
    "mydb = mysql.connector.connect(\n",
    "   host=\"localhost\",\n",
    "  user=\"root\",\n",
    "  password=\"a*7EE166B4\",\n",
    "  database=\"BookUtopia\")\n",
    "mycursor = mydb.cursor()"
   ]
  },
  {
   "cell_type": "code",
   "execution_count": 25,
   "id": "bff9b6c6",
   "metadata": {},
   "outputs": [],
   "source": [
    "mycursor.execute('create table book_summary(site_id int primary key, summary text)')"
   ]
  },
  {
   "cell_type": "code",
   "execution_count": 26,
   "id": "7c2cde8b",
   "metadata": {
    "scrolled": true
   },
   "outputs": [],
   "source": [
    "for i in range(book_summary_new_table.shape[0]):\n",
    "    sql = 'insert into book_summary(site_id, summary) values (%s, %s)'\n",
    "    record = (int(book_summary_new_table.site_id[i]), book_summary_new_table.summary[i])\n",
    "    mycursor.execute(sql, record)\n",
    "mydb.commit()"
   ]
  },
  {
   "cell_type": "code",
   "execution_count": 27,
   "id": "4afca073",
   "metadata": {},
   "outputs": [],
   "source": [
    "mycursor.execute('create table publisher(id int primary key, name varchar(255))')"
   ]
  },
  {
   "cell_type": "code",
   "execution_count": 28,
   "id": "2cff4652",
   "metadata": {},
   "outputs": [],
   "source": [
    "for i in range(publisher_table.shape[0]):\n",
    "    sql = 'insert into publisher (id, name) values (%s, %s)'\n",
    "    record = (int(publisher_table['id'][i]), publisher_table.name[i])\n",
    "    mycursor.execute(sql, record)\n",
    "mydb.commit()  "
   ]
  },
  {
   "cell_type": "code",
   "execution_count": 29,
   "id": "57f25b5a",
   "metadata": {},
   "outputs": [],
   "source": [
    "mycursor.execute('create table format(id tinyint primary key, name varchar(255))')"
   ]
  },
  {
   "cell_type": "code",
   "execution_count": 30,
   "id": "2b43b88c",
   "metadata": {},
   "outputs": [],
   "source": [
    "for i in range(format_table.shape[0]):\n",
    "    sql = 'insert into format (id, name) values(%s, %s)'\n",
    "    record = (int(format_table['id'][i]), format_table['size'][i])\n",
    "    mycursor.execute(sql, record)\n",
    "mydb.commit()"
   ]
  },
  {
   "cell_type": "code",
   "execution_count": 31,
   "id": "76de0087",
   "metadata": {},
   "outputs": [],
   "source": [
    "mycursor.execute('create table cover_type(id tinyint primary key, name varchar(255))')"
   ]
  },
  {
   "cell_type": "code",
   "execution_count": 32,
   "id": "d4307ca7",
   "metadata": {},
   "outputs": [],
   "source": [
    "for i in range(cover_type_table.shape[0]):\n",
    "    sql = 'insert into cover_type(id, name) values(%s, %s)'\n",
    "    record = (int(cover_type_table['id'][i]), cover_type_table.cover_material[i])\n",
    "    mycursor.execute(sql, record)\n",
    "mydb.commit()"
   ]
  },
  {
   "cell_type": "code",
   "execution_count": 33,
   "id": "13e65f86",
   "metadata": {},
   "outputs": [],
   "source": [
    "mycursor.execute('create table rewards(id int auto_increment primary key, site_id int, reward text,\\\n",
    "                FOREIGN KEY (site_id) REFERENCES book_summary(site_id))')"
   ]
  },
  {
   "cell_type": "code",
   "execution_count": 34,
   "id": "ca39c3c3",
   "metadata": {},
   "outputs": [],
   "source": [
    "for i in range(reward_table.shape[0]):\n",
    "    sql = 'insert into rewards (site_id, reward) values(%s, %s)'\n",
    "    record = (int(reward_table.site_index[i]), reward_table.award[i])\n",
    "    mycursor.execute(sql, record)\n",
    "mydb.commit()"
   ]
  },
  {
   "cell_type": "code",
   "execution_count": 35,
   "id": "1f4713cc",
   "metadata": {},
   "outputs": [],
   "source": [
    "mycursor.execute('create table tags(id int primary key, name varchar(255))')"
   ]
  },
  {
   "cell_type": "code",
   "execution_count": 36,
   "id": "98e4810c",
   "metadata": {},
   "outputs": [],
   "source": [
    "for i in range(tag_table.shape[0]):\n",
    "    sql = 'insert into tags (id, name) values(%s, %s)'\n",
    "    record = (int(tag_table['id'][i]), tag_table.tag[i])\n",
    "    mycursor.execute(sql, record)\n",
    "\n",
    "mydb.commit()"
   ]
  },
  {
   "cell_type": "code",
   "execution_count": 37,
   "id": "f5750aff",
   "metadata": {},
   "outputs": [],
   "source": [
    "mycursor.execute('create table book_tag(id int auto_increment primary key, site_id int, tag_id int,\\\n",
    "FOREIGN KEY (site_id) REFERENCES book_summary(site_id),\\\n",
    "FOREIGN KEY (tag_id) REFERENCES tags(id))')"
   ]
  },
  {
   "cell_type": "code",
   "execution_count": 38,
   "id": "f79b4c2e",
   "metadata": {},
   "outputs": [],
   "source": [
    "for i in range(book_tag_table.shape[0]):\n",
    "    sql = 'insert into book_tag (site_id, tag_id) values (%s, %s)'\n",
    "    record = (int(book_tag_table.site_index[i]), int(book_tag_table.tag[i]))\n",
    "    mycursor.execute(sql, record)\n",
    "mydb.commit()"
   ]
  },
  {
   "cell_type": "code",
   "execution_count": 39,
   "id": "b54a1968",
   "metadata": {},
   "outputs": [],
   "source": [
    "mycursor.execute('create table veneration(id int auto_increment primary key, site_id int, English_Quote text, Persian_Quote text, prise_writer varchar(255),\\\n",
    "FOREIGN KEY (site_id) REFERENCES book_summary(site_id))')"
   ]
  },
  {
   "cell_type": "code",
   "execution_count": 40,
   "id": "724f4e87",
   "metadata": {},
   "outputs": [],
   "source": [
    "for i in range(book_veneration_table.shape[0]):\n",
    "    sql = 'insert into veneration (site_id, English_Quote, Persian_Quote, prise_writer) values (%s, %s, %s, %s)'\n",
    "    record = (int(book_veneration_table.site_index[i]), book_veneration_table.English_Quote[i],\n",
    "              book_veneration_table.Persian_Quote[i], book_veneration_table.Prise_Writer[i])\n",
    "    mycursor.execute(sql, record)\n",
    "mydb.commit()"
   ]
  },
  {
   "cell_type": "code",
   "execution_count": 41,
   "id": "2a4f79eb",
   "metadata": {},
   "outputs": [],
   "source": [
    "mycursor.execute('create table writer_page (writer_id int primary key, name varchar(255), about text)')"
   ]
  },
  {
   "cell_type": "code",
   "execution_count": 42,
   "id": "e70ca225",
   "metadata": {},
   "outputs": [],
   "source": [
    "for i in range(writer_page_table.shape[0]):\n",
    "    sql = 'insert into writer_page(writer_id, name, about) values(%s, %s, %s)'\n",
    "    record = (int(writer_page_table['id'][i]), writer_page_table.name[i], writer_page_table['info'][i])\n",
    "    mycursor.execute(sql, record)\n",
    "mydb.commit()"
   ]
  },
  {
   "cell_type": "code",
   "execution_count": 43,
   "id": "fb4cbfd2",
   "metadata": {},
   "outputs": [],
   "source": [
    "mycursor.execute('create table writer(id int auto_increment primary key, writer_id int, site_id int,\\\n",
    "FOREIGN KEY (writer_id) REFERENCES writer_page(writer_id),\\\n",
    "FOREIGN KEY (site_id) REFERENCES book_summary(site_id))')"
   ]
  },
  {
   "cell_type": "code",
   "execution_count": 44,
   "id": "8d67b67a",
   "metadata": {},
   "outputs": [],
   "source": [
    "for i in range(writer_new_table.shape[0]):\n",
    "    sql = 'insert into writer(writer_id, site_id) values (%s, %s)'\n",
    "    record = (int(writer_new_table.writer_id[i]), int(writer_new_table.site_id[i]))\n",
    "    mycursor.execute(sql, record)\n",
    "mydb.commit()"
   ]
  },
  {
   "cell_type": "code",
   "execution_count": 45,
   "id": "fa8ebb89",
   "metadata": {},
   "outputs": [],
   "source": [
    "mycursor.execute('create table translator_page(translator_id int primary key, name varchar(255), about text)')"
   ]
  },
  {
   "cell_type": "code",
   "execution_count": 46,
   "id": "bde4e960",
   "metadata": {},
   "outputs": [],
   "source": [
    "for i in range(translator_page_table.shape[0]):\n",
    "    sql = 'insert into translator_page(translator_id, name, about) values (%s, %s, %s)'\n",
    "    record = (int(translator_page_table['id'][i]), translator_page_table.name[i], translator_page_table['info'] [i])\n",
    "    mycursor.execute(sql, record)\n",
    "mydb.commit()"
   ]
  },
  {
   "cell_type": "code",
   "execution_count": 47,
   "id": "01651f54",
   "metadata": {},
   "outputs": [],
   "source": [
    "mycursor.execute('create table book_detail(\\\n",
    "book_id int primary key,\\\n",
    "site_id int not null,\\\n",
    "Persian_title varchar(225),\\\n",
    "English_title varchar(225),\\\n",
    "publisher_id int,\\\n",
    "score decimal,\\\n",
    "ISBN varchar(128),\\\n",
    "format_id tinyint,\\\n",
    "page_number int,\\\n",
    "cover_id tinyint,\\\n",
    "edition smallint,\\\n",
    "solar_publication_year int,\\\n",
    "ad_publication_year int,\\\n",
    "book_language varchar(128),\\\n",
    "delivery_time varchar(128),\\\n",
    "stock_status varchar(128),\\\n",
    "paper_type varchar(128),\\\n",
    "FOREIGN KEY (site_id) REFERENCES book_summary(site_id),\\\n",
    "FOREIGN KEY (format_id) REFERENCES format(id),\\\n",
    "FOREIGN KEY (cover_id) REFERENCES cover_type(id),\\\n",
    "FOREIGN KEY (publisher_id) REFERENCES publisher(id))')"
   ]
  },
  {
   "cell_type": "code",
   "execution_count": 48,
   "id": "7069f2dd",
   "metadata": {},
   "outputs": [],
   "source": [
    "for i in range(book_detail_table.shape[0]):\n",
    "    sql = 'insert into book_detail values(%s, %s, %s, %s, %s, %s, %s, %s, %s, %s, %s, %s, %s, %s, %s, %s, %s)'\n",
    "    record = (int(book_detail_table['code'][i]), int(book_detail_table.site_id[i]), book_detail_table.fa_title[i],\n",
    "              book_detail_table.en_title[i], int(book_detail_table.publisher_id[i]), float(book_detail_table.score[i]),\n",
    "              book_detail_table.Isbn[i], int(book_detail_table['size'][i]), int(book_detail_table['pages'][i]),\n",
    "              int(book_detail_table.cover_material[i]), int(book_detail_table.print_series[i]), \n",
    "              int(book_detail_table.publication_per_date[i]), int(book_detail_table.publication_ad_date[i]),\n",
    "              book_detail_table.language[i], book_detail_table.earliest_send_time[i], book_detail_table.presence[i], book_detail_table.paper_type[i])\n",
    "    mycursor.execute(sql, record)\n",
    "mydb.commit()"
   ]
  },
  {
   "cell_type": "code",
   "execution_count": 49,
   "id": "235c6897",
   "metadata": {},
   "outputs": [],
   "source": [
    "mycursor.execute('create table translator(id int auto_increment primary key, translator_id int, book_id int,\\\n",
    "FOREIGN KEY (translator_id) REFERENCES translator_page(translator_id),\\\n",
    "FOREIGN KEY (book_id) REFERENCES book_detail(book_id))')"
   ]
  },
  {
   "cell_type": "code",
   "execution_count": 50,
   "id": "f7f90f02",
   "metadata": {},
   "outputs": [],
   "source": [
    "for i in range(translator_table.shape[0]):\n",
    "    sql = 'insert into translator (translator_id, book_id) values (%s, %s)'\n",
    "    record = (int(translator_table.translator_id[i]), int(translator_table.book_id[i]))\n",
    "    mycursor.execute(sql, record)\n",
    "mydb.commit()"
   ]
  },
  {
   "cell_type": "code",
   "execution_count": 51,
   "id": "2c5710c7",
   "metadata": {},
   "outputs": [],
   "source": [
    "mycursor.execute(\"CREATE TABLE Price_History (id int auto_increment primary key,\\\n",
    "book_id int, price decimal, discount int, date datetime,\\\n",
    "FOREIGN KEY (book_id) REFERENCES book_detail(book_id))\")"
   ]
  },
  {
   "cell_type": "code",
   "execution_count": 52,
   "id": "85b525a2",
   "metadata": {},
   "outputs": [],
   "source": [
    "for i in range(price_history_table.shape[0]):\n",
    "    sql = 'insert into Price_history (book_id, price, discount, date) values (%s, %s, %s, %s)'\n",
    "    record = (int(price_history_table.book_id[i]), float(price_history_table.price[i]), int(price_history_table.discount[i]), price_history_table.date[i])\n",
    "    mycursor.execute(sql, record)\n",
    "mydb.commit()"
   ]
  },
  {
   "cell_type": "code",
   "execution_count": null,
   "id": "7e045c7b",
   "metadata": {},
   "outputs": [],
   "source": []
  }
 ],
 "metadata": {
  "kernelspec": {
   "display_name": "Python 3 (ipykernel)",
   "language": "python",
   "name": "python3"
  },
  "language_info": {
   "codemirror_mode": {
    "name": "ipython",
    "version": 3
   },
   "file_extension": ".py",
   "mimetype": "text/x-python",
   "name": "python",
   "nbconvert_exporter": "python",
   "pygments_lexer": "ipython3",
   "version": "3.11.3"
  }
 },
 "nbformat": 4,
 "nbformat_minor": 5
}
