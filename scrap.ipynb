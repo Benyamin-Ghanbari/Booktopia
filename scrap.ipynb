{
 "cells": [
  {
   "cell_type": "code",
   "execution_count": 56,
   "id": "initial_id",
   "metadata": {
    "ExecuteTime": {
     "end_time": "2023-09-23T12:51:58.568491300Z",
     "start_time": "2023-09-23T12:51:58.546038700Z"
    }
   },
   "outputs": [],
   "source": [
    "#import all libraries\n",
    "import pandas as pd\n",
    "import requests\n",
    "from bs4 import BeautifulSoup\n",
    "import re\n",
    "import zipfile\n",
    "import logging"
   ]
  },
  {
   "cell_type": "code",
   "execution_count": 57,
   "id": "6c2e65b93bcafb3c",
   "metadata": {
    "ExecuteTime": {
     "end_time": "2023-09-23T12:51:59.230725500Z",
     "start_time": "2023-09-23T12:51:59.210778800Z"
    }
   },
   "outputs": [],
   "source": [
    "def get_links(input_url):\n",
    "    pass #TODO"
   ]
  },
  {
   "cell_type": "code",
   "execution_count": 58,
   "id": "dd775c4290d33dfa",
   "metadata": {
    "ExecuteTime": {
     "end_time": "2023-09-23T12:51:59.760659200Z",
     "start_time": "2023-09-23T12:51:59.733340900Z"
    }
   },
   "outputs": [],
   "source": [
    "def get_soup(input_url):\n",
    "    headers = {\n",
    "        'User-Agent': 'My User Agent 1.0',\n",
    "        \"Accept-Language\": \"en-US,en;q=0.5\"\n",
    "    }\n",
    "    response = requests.get(input_url, headers=headers)\n",
    "    if response.status_code != 200:\n",
    "        print(\"Error in getting link\")\n",
    "        print(\"response code is : \", response.status_code)\n",
    "    soup = BeautifulSoup(response.text, 'html.parser')\n",
    "    return soup"
   ]
  },
  {
   "cell_type": "code",
   "execution_count": 84,
   "id": "efc3968719f0d788",
   "metadata": {
    "ExecuteTime": {
     "end_time": "2023-09-23T12:54:18.063316800Z",
     "start_time": "2023-09-23T12:54:18.040378400Z"
    }
   },
   "outputs": [],
   "source": [
    "def get_fa_title(soup):\n",
    "    title = soup.select('.product-name strong')[0]\n",
    "    return title.text\n"
   ]
  },
  {
   "cell_type": "code",
   "execution_count": 85,
   "id": "2c4dab072bbbc2ab",
   "metadata": {
    "ExecuteTime": {
     "end_time": "2023-09-23T12:54:18.587030100Z",
     "start_time": "2023-09-23T12:54:18.558665800Z"
    }
   },
   "outputs": [],
   "source": [
    "def get_en_title(soup):\n",
    "    title = soup.select('.product-name-englishname')[0]\n",
    "    return title.text"
   ]
  },
  {
   "cell_type": "code",
   "execution_count": 87,
   "id": "5c6151c0ff09fc3e",
   "metadata": {
    "ExecuteTime": {
     "end_time": "2023-09-23T12:54:31.579890200Z",
     "start_time": "2023-09-23T12:54:31.556952Z"
    }
   },
   "outputs": [],
   "source": [
    "def get_price(soup):\n",
    "    price = soup.select('.price-broken , .col-md-7 .price:nth-child(1)')[0]\n",
    "    return price.text  #TODO make the price integer"
   ]
  },
  {
   "cell_type": "code",
   "execution_count": 99,
   "id": "20dfbbc77ef0ea67",
   "metadata": {
    "ExecuteTime": {
     "end_time": "2023-09-23T13:08:01.370391300Z",
     "start_time": "2023-09-23T13:08:01.341153800Z"
    }
   },
   "outputs": [],
   "source": [
    "def get_discount(soup):\n",
    "    try:\n",
    "        discount_price = soup.select('.col-md-12+ .clearfix .price-special')[0].text\n",
    "    except Exception:\n",
    "        discount_price = None\n",
    "        logging.exception(\"This book has no discount!\")\n",
    "    return discount_price  #TODO make the price integer"
   ]
  },
  {
   "cell_type": "code",
   "execution_count": 63,
   "id": "3b95900da3f89757",
   "metadata": {
    "ExecuteTime": {
     "end_time": "2023-09-23T12:52:02.328286Z",
     "start_time": "2023-09-23T12:52:02.309335700Z"
    }
   },
   "outputs": [],
   "source": [
    "def get_score(soup):\n",
    "    pass #TODO"
   ]
  },
  {
   "cell_type": "code",
   "execution_count": 134,
   "id": "3c5c9ddc5b07b81e",
   "metadata": {
    "ExecuteTime": {
     "end_time": "2023-09-23T14:14:21.626587Z",
     "start_time": "2023-09-23T14:14:21.599831200Z"
    }
   },
   "outputs": [],
   "source": [
    "def get_publisher(soup):\n",
    "    publisher = soup.select('.prodoct-attribute-items:nth-child(1) a .prodoct-attribute-item')[0].text.strip()\n",
    "    return publisher"
   ]
  },
  {
   "cell_type": "code",
   "execution_count": 137,
   "id": "235a6bc598b6b7ad",
   "metadata": {
    "ExecuteTime": {
     "end_time": "2023-09-23T14:16:24.511698800Z",
     "start_time": "2023-09-23T14:16:24.487729Z"
    }
   },
   "outputs": [],
   "source": [
    "def get_author(soup):\n",
    "    author = soup.select('.prodoct-attribute-items+ .prodoct-attribute-items a .prodoct-attribute-item')[0].text.strip()\n",
    "    return author"
   ]
  },
  {
   "cell_type": "code",
   "execution_count": 89,
   "id": "91ceef904ea69bb2",
   "metadata": {
    "ExecuteTime": {
     "end_time": "2023-09-23T12:55:53.465685600Z",
     "start_time": "2023-09-23T12:55:53.439755Z"
    }
   },
   "outputs": [],
   "source": [
    "def get_code(soup):\n",
    "    code = soup.select('tr:nth-child(1) td+ td')[0]\n",
    "    return code.text"
   ]
  },
  {
   "cell_type": "code",
   "execution_count": 97,
   "id": "98f97669a6c5afb7",
   "metadata": {
    "ExecuteTime": {
     "end_time": "2023-09-23T13:01:39.941253200Z",
     "start_time": "2023-09-23T13:01:39.917388900Z"
    }
   },
   "outputs": [],
   "source": [
    "def get_isbn(soup):\n",
    "    isbn = soup.select('.product-table .ltr')[0]\n",
    "    cleaned_isbn = isbn.text.strip()\n",
    "    cleaned_isbn = re.sub('[^0-9-]', '', cleaned_isbn)[0]\n",
    "    return cleaned_isbn"
   ]
  },
  {
   "cell_type": "code",
   "execution_count": 93,
   "id": "5a8deda3f95651a7",
   "metadata": {
    "ExecuteTime": {
     "end_time": "2023-09-23T13:00:10.824357700Z",
     "start_time": "2023-09-23T13:00:10.792337200Z"
    }
   },
   "outputs": [],
   "source": [
    "def get_pages(soup):\n",
    "    pages = soup.select('tr:nth-child(5) .rtl')[0]\n",
    "    cleaned_pages = pages.text.strip()\n",
    "    cleaned_pages = re.sub('[^0-9-]', '', cleaned_pages)\n",
    "    return cleaned_pages"
   ]
  },
  {
   "cell_type": "code",
   "execution_count": 140,
   "id": "bd1e66592f6110a7",
   "metadata": {
    "ExecuteTime": {
     "end_time": "2023-09-23T14:16:59.724213700Z",
     "start_time": "2023-09-23T14:16:59.701727800Z"
    }
   },
   "outputs": [],
   "source": [
    "def get_per_date(soup):\n",
    "    try:\n",
    "        date = soup.select('.product-table > tbody:nth-child(1) > tr:nth-child(6) > td:nth-child(2)')[0].text\n",
    "    except Exception:\n",
    "        date = None\n",
    "        logging.exception(\"This book has persian calendar!\")\n",
    "    return date.strip() "
   ]
  },
  {
   "cell_type": "code",
   "execution_count": 70,
   "id": "f92f05890158c595",
   "metadata": {
    "ExecuteTime": {
     "end_time": "2023-09-23T12:52:04.615972200Z",
     "start_time": "2023-09-23T12:52:04.596025800Z"
    }
   },
   "outputs": [],
   "source": [
    "def get_ad_date(soup):\n",
    "    pass #TODO"
   ]
  },
  {
   "cell_type": "code",
   "execution_count": 117,
   "id": "5e1c4f56dadca0ca",
   "metadata": {
    "ExecuteTime": {
     "end_time": "2023-09-23T14:00:43.630809200Z",
     "start_time": "2023-09-23T14:00:43.608581200Z"
    }
   },
   "outputs": [],
   "source": [
    "def get_size(soup):\n",
    "    size = soup.select(\n",
    "        'html body div.container div div.product-container.well.clearfix div.clearfix div.col-md-9.col-sm-9 div.row div.col-md-5 table.product-table tbody tr td.rtl')[0].text\n",
    "    return size.strip()\n"
   ]
  },
  {
   "cell_type": "code",
   "execution_count": 72,
   "id": "1a64d1acef92b833",
   "metadata": {
    "ExecuteTime": {
     "end_time": "2023-09-23T12:52:05.276717900Z",
     "start_time": "2023-09-23T12:52:05.254776800Z"
    }
   },
   "outputs": [],
   "source": [
    "def get_material(soup):\n",
    "    pass #TODO"
   ]
  },
  {
   "cell_type": "code",
   "execution_count": 73,
   "id": "49efd3b85388bd1e",
   "metadata": {
    "ExecuteTime": {
     "end_time": "2023-09-23T12:52:05.674664800Z",
     "start_time": "2023-09-23T12:52:05.646626100Z"
    }
   },
   "outputs": [],
   "source": [
    "def get_series(soup):\n",
    "    pass #TODO"
   ]
  },
  {
   "cell_type": "code",
   "execution_count": 74,
   "id": "1dcebd694258ecee",
   "metadata": {
    "ExecuteTime": {
     "end_time": "2023-09-23T12:52:06.050396900Z",
     "start_time": "2023-09-23T12:52:06.046409200Z"
    }
   },
   "outputs": [],
   "source": [
    "def get_send_time(soup):\n",
    "    pass"
   ]
  },
  {
   "cell_type": "code",
   "execution_count": 121,
   "id": "5c297eef97f3ef6f",
   "metadata": {
    "ExecuteTime": {
     "end_time": "2023-09-23T14:01:28.685888400Z",
     "start_time": "2023-09-23T14:01:28.658431900Z"
    }
   },
   "outputs": [],
   "source": [
    "def get_summary(soup):\n",
    "    try:\n",
    "        summary = soup.select('.product-description')[0].text.strip()\n",
    "    except Exception:\n",
    "        summary = None\n",
    "        logging.exception(\"This book has no summary!\")\n",
    "    return summary"
   ]
  },
  {
   "cell_type": "code",
   "execution_count": 76,
   "id": "9680a41c872e4ad7",
   "metadata": {
    "ExecuteTime": {
     "end_time": "2023-09-23T12:52:06.723254800Z",
     "start_time": "2023-09-23T12:52:06.702311900Z"
    }
   },
   "outputs": [],
   "source": [
    "def get_tags(soup):\n",
    "    pass"
   ]
  },
  {
   "cell_type": "code",
   "execution_count": 127,
   "outputs": [],
   "source": [
    " def get_book_detail(book_soup):\n",
    "    book_fa_title = get_fa_title(book_soup)\n",
    "    book_en_title = get_en_title(book_soup)\n",
    "    book_price = get_price(book_soup)\n",
    "    book_discount = get_discount(book_soup)\n",
    "    book_score = get_score(book_soup)\n",
    "    book_publisher = get_publisher(book_soup)\n",
    "    book_author = get_author(book_soup)\n",
    "    book_code = get_code(book_soup)\n",
    "    book_Isbn = get_isbn(book_soup)\n",
    "    book_pages = get_pages(book_soup)\n",
    "    book_publication_per_date = get_per_date(book_soup)\n",
    "    book_publication_ad_date = get_ad_date(book_soup)\n",
    "    book_size = get_size(book_soup)\n",
    "    book_cover_material = get_material(book_soup)\n",
    "    book_print_series = get_series(book_soup)\n",
    "    book_earliest_send_time = get_send_time(book_soup)\n",
    "    book_summary = get_summary(book_soup)\n",
    "    book_tags = get_tags(book_soup)\n",
    "    \n",
    "    book_data = [book_fa_title, book_en_title, book_price, book_discount, book_score, book_publisher, book_author,\n",
    "            book_code, book_Isbn, book_pages, book_publication_per_date, book_publication_ad_date, book_size,\n",
    "            book_cover_material, book_print_series, book_earliest_send_time, book_summary, book_tags]  #TODO\n",
    "    return book_data"
   ],
   "metadata": {
    "collapsed": false,
    "ExecuteTime": {
     "end_time": "2023-09-23T14:07:23.474993900Z",
     "start_time": "2023-09-23T14:07:23.457074100Z"
    }
   },
   "id": "b487ed5aba32bcd"
  },
  {
   "cell_type": "code",
   "execution_count": 139,
   "outputs": [],
   "source": [
    "def print_book_detail(book_soup):\n",
    "    print('ISBN: ',get_isbn(book_soup))\n",
    "    print('code: ', get_code(book_soup))\n",
    "    print('farsi title: ', get_fa_title(book_soup))\n",
    "    print('english title: ', get_en_title(book_soup))\n",
    "    print('price: ', get_price(book_soup))\n",
    "    print('discount: ', get_discount(book_soup))\n",
    "    print('pages: ', get_pages(book_soup))\n",
    "    print('size', get_size(book_soup))\n",
    "    print('persian calendar: ', get_per_date(test))\n",
    "    print('publisher: ', get_publisher(test))\n",
    "    print('author: ', get_author(test))\n",
    "\n",
    "    print('summary:\\n', get_summary(book_soup))\n",
    "    \n",
    "    \n",
    "    print(\"-----------------------------------------\")"
   ],
   "metadata": {
    "collapsed": false,
    "ExecuteTime": {
     "end_time": "2023-09-23T14:16:48.350664300Z",
     "start_time": "2023-09-23T14:16:48.331716Z"
    }
   },
   "id": "ce6ca479355b2571"
  },
  {
   "cell_type": "code",
   "execution_count": 102,
   "outputs": [
    {
     "ename": "MissingSchema",
     "evalue": "Invalid URL 'None': No scheme supplied. Perhaps you meant https://None?",
     "output_type": "error",
     "traceback": [
      "\u001B[1;31m---------------------------------------------------------------------------\u001B[0m",
      "\u001B[1;31mMissingSchema\u001B[0m                             Traceback (most recent call last)",
      "Cell \u001B[1;32mIn[102], line 5\u001B[0m\n\u001B[0;32m      2\u001B[0m url \u001B[38;5;241m=\u001B[39m \u001B[38;5;124m\"\u001B[39m\u001B[38;5;124mtemp\u001B[39m\u001B[38;5;124m\"\u001B[39m  \u001B[38;5;66;03m#TODO\u001B[39;00m\n\u001B[0;32m      3\u001B[0m links \u001B[38;5;241m=\u001B[39m get_links(url)\n\u001B[1;32m----> 5\u001B[0m soups \u001B[38;5;241m=\u001B[39m \u001B[43mget_soup\u001B[49m\u001B[43m(\u001B[49m\u001B[43mlinks\u001B[49m\u001B[43m)\u001B[49m\n\u001B[0;32m      7\u001B[0m \u001B[38;5;28;01mfor\u001B[39;00m site_soup \u001B[38;5;129;01min\u001B[39;00m soups:\n\u001B[0;32m      8\u001B[0m     \u001B[38;5;28;01mtry\u001B[39;00m:\n",
      "Cell \u001B[1;32mIn[58], line 6\u001B[0m, in \u001B[0;36mget_soup\u001B[1;34m(input_url)\u001B[0m\n\u001B[0;32m      1\u001B[0m \u001B[38;5;28;01mdef\u001B[39;00m \u001B[38;5;21mget_soup\u001B[39m(input_url):\n\u001B[0;32m      2\u001B[0m     headers \u001B[38;5;241m=\u001B[39m {\n\u001B[0;32m      3\u001B[0m         \u001B[38;5;124m'\u001B[39m\u001B[38;5;124mUser-Agent\u001B[39m\u001B[38;5;124m'\u001B[39m: \u001B[38;5;124m'\u001B[39m\u001B[38;5;124mMy User Agent 1.0\u001B[39m\u001B[38;5;124m'\u001B[39m,\n\u001B[0;32m      4\u001B[0m         \u001B[38;5;124m\"\u001B[39m\u001B[38;5;124mAccept-Language\u001B[39m\u001B[38;5;124m\"\u001B[39m: \u001B[38;5;124m\"\u001B[39m\u001B[38;5;124men-US,en;q=0.5\u001B[39m\u001B[38;5;124m\"\u001B[39m\n\u001B[0;32m      5\u001B[0m     }\n\u001B[1;32m----> 6\u001B[0m     response \u001B[38;5;241m=\u001B[39m \u001B[43mrequests\u001B[49m\u001B[38;5;241;43m.\u001B[39;49m\u001B[43mget\u001B[49m\u001B[43m(\u001B[49m\u001B[43minput_url\u001B[49m\u001B[43m,\u001B[49m\u001B[43m \u001B[49m\u001B[43mheaders\u001B[49m\u001B[38;5;241;43m=\u001B[39;49m\u001B[43mheaders\u001B[49m\u001B[43m)\u001B[49m\n\u001B[0;32m      7\u001B[0m     \u001B[38;5;28;01mif\u001B[39;00m response\u001B[38;5;241m.\u001B[39mstatus_code \u001B[38;5;241m!=\u001B[39m \u001B[38;5;241m200\u001B[39m:\n\u001B[0;32m      8\u001B[0m         \u001B[38;5;28mprint\u001B[39m(\u001B[38;5;124m\"\u001B[39m\u001B[38;5;124mError in getting link\u001B[39m\u001B[38;5;124m\"\u001B[39m)\n",
      "File \u001B[1;32m~\\Data Analysis\\dataVenv\\lib\\site-packages\\requests\\api.py:73\u001B[0m, in \u001B[0;36mget\u001B[1;34m(url, params, **kwargs)\u001B[0m\n\u001B[0;32m     62\u001B[0m \u001B[38;5;28;01mdef\u001B[39;00m \u001B[38;5;21mget\u001B[39m(url, params\u001B[38;5;241m=\u001B[39m\u001B[38;5;28;01mNone\u001B[39;00m, \u001B[38;5;241m*\u001B[39m\u001B[38;5;241m*\u001B[39mkwargs):\n\u001B[0;32m     63\u001B[0m \u001B[38;5;250m    \u001B[39m\u001B[38;5;124mr\u001B[39m\u001B[38;5;124;03m\"\"\"Sends a GET request.\u001B[39;00m\n\u001B[0;32m     64\u001B[0m \n\u001B[0;32m     65\u001B[0m \u001B[38;5;124;03m    :param url: URL for the new :class:`Request` object.\u001B[39;00m\n\u001B[1;32m   (...)\u001B[0m\n\u001B[0;32m     70\u001B[0m \u001B[38;5;124;03m    :rtype: requests.Response\u001B[39;00m\n\u001B[0;32m     71\u001B[0m \u001B[38;5;124;03m    \"\"\"\u001B[39;00m\n\u001B[1;32m---> 73\u001B[0m     \u001B[38;5;28;01mreturn\u001B[39;00m request(\u001B[38;5;124m\"\u001B[39m\u001B[38;5;124mget\u001B[39m\u001B[38;5;124m\"\u001B[39m, url, params\u001B[38;5;241m=\u001B[39mparams, \u001B[38;5;241m*\u001B[39m\u001B[38;5;241m*\u001B[39mkwargs)\n",
      "File \u001B[1;32m~\\Data Analysis\\dataVenv\\lib\\site-packages\\requests\\api.py:59\u001B[0m, in \u001B[0;36mrequest\u001B[1;34m(method, url, **kwargs)\u001B[0m\n\u001B[0;32m     55\u001B[0m \u001B[38;5;66;03m# By using the 'with' statement we are sure the session is closed, thus we\u001B[39;00m\n\u001B[0;32m     56\u001B[0m \u001B[38;5;66;03m# avoid leaving sockets open which can trigger a ResourceWarning in some\u001B[39;00m\n\u001B[0;32m     57\u001B[0m \u001B[38;5;66;03m# cases, and look like a memory leak in others.\u001B[39;00m\n\u001B[0;32m     58\u001B[0m \u001B[38;5;28;01mwith\u001B[39;00m sessions\u001B[38;5;241m.\u001B[39mSession() \u001B[38;5;28;01mas\u001B[39;00m session:\n\u001B[1;32m---> 59\u001B[0m     \u001B[38;5;28;01mreturn\u001B[39;00m session\u001B[38;5;241m.\u001B[39mrequest(method\u001B[38;5;241m=\u001B[39mmethod, url\u001B[38;5;241m=\u001B[39murl, \u001B[38;5;241m*\u001B[39m\u001B[38;5;241m*\u001B[39mkwargs)\n",
      "File \u001B[1;32m~\\Data Analysis\\dataVenv\\lib\\site-packages\\requests\\sessions.py:575\u001B[0m, in \u001B[0;36mSession.request\u001B[1;34m(self, method, url, params, data, headers, cookies, files, auth, timeout, allow_redirects, proxies, hooks, stream, verify, cert, json)\u001B[0m\n\u001B[0;32m    562\u001B[0m \u001B[38;5;66;03m# Create the Request.\u001B[39;00m\n\u001B[0;32m    563\u001B[0m req \u001B[38;5;241m=\u001B[39m Request(\n\u001B[0;32m    564\u001B[0m     method\u001B[38;5;241m=\u001B[39mmethod\u001B[38;5;241m.\u001B[39mupper(),\n\u001B[0;32m    565\u001B[0m     url\u001B[38;5;241m=\u001B[39murl,\n\u001B[1;32m   (...)\u001B[0m\n\u001B[0;32m    573\u001B[0m     hooks\u001B[38;5;241m=\u001B[39mhooks,\n\u001B[0;32m    574\u001B[0m )\n\u001B[1;32m--> 575\u001B[0m prep \u001B[38;5;241m=\u001B[39m \u001B[38;5;28;43mself\u001B[39;49m\u001B[38;5;241;43m.\u001B[39;49m\u001B[43mprepare_request\u001B[49m\u001B[43m(\u001B[49m\u001B[43mreq\u001B[49m\u001B[43m)\u001B[49m\n\u001B[0;32m    577\u001B[0m proxies \u001B[38;5;241m=\u001B[39m proxies \u001B[38;5;129;01mor\u001B[39;00m {}\n\u001B[0;32m    579\u001B[0m settings \u001B[38;5;241m=\u001B[39m \u001B[38;5;28mself\u001B[39m\u001B[38;5;241m.\u001B[39mmerge_environment_settings(\n\u001B[0;32m    580\u001B[0m     prep\u001B[38;5;241m.\u001B[39murl, proxies, stream, verify, cert\n\u001B[0;32m    581\u001B[0m )\n",
      "File \u001B[1;32m~\\Data Analysis\\dataVenv\\lib\\site-packages\\requests\\sessions.py:486\u001B[0m, in \u001B[0;36mSession.prepare_request\u001B[1;34m(self, request)\u001B[0m\n\u001B[0;32m    483\u001B[0m     auth \u001B[38;5;241m=\u001B[39m get_netrc_auth(request\u001B[38;5;241m.\u001B[39murl)\n\u001B[0;32m    485\u001B[0m p \u001B[38;5;241m=\u001B[39m PreparedRequest()\n\u001B[1;32m--> 486\u001B[0m \u001B[43mp\u001B[49m\u001B[38;5;241;43m.\u001B[39;49m\u001B[43mprepare\u001B[49m\u001B[43m(\u001B[49m\n\u001B[0;32m    487\u001B[0m \u001B[43m    \u001B[49m\u001B[43mmethod\u001B[49m\u001B[38;5;241;43m=\u001B[39;49m\u001B[43mrequest\u001B[49m\u001B[38;5;241;43m.\u001B[39;49m\u001B[43mmethod\u001B[49m\u001B[38;5;241;43m.\u001B[39;49m\u001B[43mupper\u001B[49m\u001B[43m(\u001B[49m\u001B[43m)\u001B[49m\u001B[43m,\u001B[49m\n\u001B[0;32m    488\u001B[0m \u001B[43m    \u001B[49m\u001B[43murl\u001B[49m\u001B[38;5;241;43m=\u001B[39;49m\u001B[43mrequest\u001B[49m\u001B[38;5;241;43m.\u001B[39;49m\u001B[43murl\u001B[49m\u001B[43m,\u001B[49m\n\u001B[0;32m    489\u001B[0m \u001B[43m    \u001B[49m\u001B[43mfiles\u001B[49m\u001B[38;5;241;43m=\u001B[39;49m\u001B[43mrequest\u001B[49m\u001B[38;5;241;43m.\u001B[39;49m\u001B[43mfiles\u001B[49m\u001B[43m,\u001B[49m\n\u001B[0;32m    490\u001B[0m \u001B[43m    \u001B[49m\u001B[43mdata\u001B[49m\u001B[38;5;241;43m=\u001B[39;49m\u001B[43mrequest\u001B[49m\u001B[38;5;241;43m.\u001B[39;49m\u001B[43mdata\u001B[49m\u001B[43m,\u001B[49m\n\u001B[0;32m    491\u001B[0m \u001B[43m    \u001B[49m\u001B[43mjson\u001B[49m\u001B[38;5;241;43m=\u001B[39;49m\u001B[43mrequest\u001B[49m\u001B[38;5;241;43m.\u001B[39;49m\u001B[43mjson\u001B[49m\u001B[43m,\u001B[49m\n\u001B[0;32m    492\u001B[0m \u001B[43m    \u001B[49m\u001B[43mheaders\u001B[49m\u001B[38;5;241;43m=\u001B[39;49m\u001B[43mmerge_setting\u001B[49m\u001B[43m(\u001B[49m\n\u001B[0;32m    493\u001B[0m \u001B[43m        \u001B[49m\u001B[43mrequest\u001B[49m\u001B[38;5;241;43m.\u001B[39;49m\u001B[43mheaders\u001B[49m\u001B[43m,\u001B[49m\u001B[43m \u001B[49m\u001B[38;5;28;43mself\u001B[39;49m\u001B[38;5;241;43m.\u001B[39;49m\u001B[43mheaders\u001B[49m\u001B[43m,\u001B[49m\u001B[43m \u001B[49m\u001B[43mdict_class\u001B[49m\u001B[38;5;241;43m=\u001B[39;49m\u001B[43mCaseInsensitiveDict\u001B[49m\n\u001B[0;32m    494\u001B[0m \u001B[43m    \u001B[49m\u001B[43m)\u001B[49m\u001B[43m,\u001B[49m\n\u001B[0;32m    495\u001B[0m \u001B[43m    \u001B[49m\u001B[43mparams\u001B[49m\u001B[38;5;241;43m=\u001B[39;49m\u001B[43mmerge_setting\u001B[49m\u001B[43m(\u001B[49m\u001B[43mrequest\u001B[49m\u001B[38;5;241;43m.\u001B[39;49m\u001B[43mparams\u001B[49m\u001B[43m,\u001B[49m\u001B[43m \u001B[49m\u001B[38;5;28;43mself\u001B[39;49m\u001B[38;5;241;43m.\u001B[39;49m\u001B[43mparams\u001B[49m\u001B[43m)\u001B[49m\u001B[43m,\u001B[49m\n\u001B[0;32m    496\u001B[0m \u001B[43m    \u001B[49m\u001B[43mauth\u001B[49m\u001B[38;5;241;43m=\u001B[39;49m\u001B[43mmerge_setting\u001B[49m\u001B[43m(\u001B[49m\u001B[43mauth\u001B[49m\u001B[43m,\u001B[49m\u001B[43m \u001B[49m\u001B[38;5;28;43mself\u001B[39;49m\u001B[38;5;241;43m.\u001B[39;49m\u001B[43mauth\u001B[49m\u001B[43m)\u001B[49m\u001B[43m,\u001B[49m\n\u001B[0;32m    497\u001B[0m \u001B[43m    \u001B[49m\u001B[43mcookies\u001B[49m\u001B[38;5;241;43m=\u001B[39;49m\u001B[43mmerged_cookies\u001B[49m\u001B[43m,\u001B[49m\n\u001B[0;32m    498\u001B[0m \u001B[43m    \u001B[49m\u001B[43mhooks\u001B[49m\u001B[38;5;241;43m=\u001B[39;49m\u001B[43mmerge_hooks\u001B[49m\u001B[43m(\u001B[49m\u001B[43mrequest\u001B[49m\u001B[38;5;241;43m.\u001B[39;49m\u001B[43mhooks\u001B[49m\u001B[43m,\u001B[49m\u001B[43m \u001B[49m\u001B[38;5;28;43mself\u001B[39;49m\u001B[38;5;241;43m.\u001B[39;49m\u001B[43mhooks\u001B[49m\u001B[43m)\u001B[49m\u001B[43m,\u001B[49m\n\u001B[0;32m    499\u001B[0m \u001B[43m\u001B[49m\u001B[43m)\u001B[49m\n\u001B[0;32m    500\u001B[0m \u001B[38;5;28;01mreturn\u001B[39;00m p\n",
      "File \u001B[1;32m~\\Data Analysis\\dataVenv\\lib\\site-packages\\requests\\models.py:368\u001B[0m, in \u001B[0;36mPreparedRequest.prepare\u001B[1;34m(self, method, url, headers, files, data, params, auth, cookies, hooks, json)\u001B[0m\n\u001B[0;32m    365\u001B[0m \u001B[38;5;250m\u001B[39m\u001B[38;5;124;03m\"\"\"Prepares the entire request with the given parameters.\"\"\"\u001B[39;00m\n\u001B[0;32m    367\u001B[0m \u001B[38;5;28mself\u001B[39m\u001B[38;5;241m.\u001B[39mprepare_method(method)\n\u001B[1;32m--> 368\u001B[0m \u001B[38;5;28;43mself\u001B[39;49m\u001B[38;5;241;43m.\u001B[39;49m\u001B[43mprepare_url\u001B[49m\u001B[43m(\u001B[49m\u001B[43murl\u001B[49m\u001B[43m,\u001B[49m\u001B[43m \u001B[49m\u001B[43mparams\u001B[49m\u001B[43m)\u001B[49m\n\u001B[0;32m    369\u001B[0m \u001B[38;5;28mself\u001B[39m\u001B[38;5;241m.\u001B[39mprepare_headers(headers)\n\u001B[0;32m    370\u001B[0m \u001B[38;5;28mself\u001B[39m\u001B[38;5;241m.\u001B[39mprepare_cookies(cookies)\n",
      "File \u001B[1;32m~\\Data Analysis\\dataVenv\\lib\\site-packages\\requests\\models.py:439\u001B[0m, in \u001B[0;36mPreparedRequest.prepare_url\u001B[1;34m(self, url, params)\u001B[0m\n\u001B[0;32m    436\u001B[0m     \u001B[38;5;28;01mraise\u001B[39;00m InvalidURL(\u001B[38;5;241m*\u001B[39me\u001B[38;5;241m.\u001B[39margs)\n\u001B[0;32m    438\u001B[0m \u001B[38;5;28;01mif\u001B[39;00m \u001B[38;5;129;01mnot\u001B[39;00m scheme:\n\u001B[1;32m--> 439\u001B[0m     \u001B[38;5;28;01mraise\u001B[39;00m MissingSchema(\n\u001B[0;32m    440\u001B[0m         \u001B[38;5;124mf\u001B[39m\u001B[38;5;124m\"\u001B[39m\u001B[38;5;124mInvalid URL \u001B[39m\u001B[38;5;132;01m{\u001B[39;00murl\u001B[38;5;132;01m!r}\u001B[39;00m\u001B[38;5;124m: No scheme supplied. \u001B[39m\u001B[38;5;124m\"\u001B[39m\n\u001B[0;32m    441\u001B[0m         \u001B[38;5;124mf\u001B[39m\u001B[38;5;124m\"\u001B[39m\u001B[38;5;124mPerhaps you meant https://\u001B[39m\u001B[38;5;132;01m{\u001B[39;00murl\u001B[38;5;132;01m}\u001B[39;00m\u001B[38;5;124m?\u001B[39m\u001B[38;5;124m\"\u001B[39m\n\u001B[0;32m    442\u001B[0m     )\n\u001B[0;32m    444\u001B[0m \u001B[38;5;28;01mif\u001B[39;00m \u001B[38;5;129;01mnot\u001B[39;00m host:\n\u001B[0;32m    445\u001B[0m     \u001B[38;5;28;01mraise\u001B[39;00m InvalidURL(\u001B[38;5;124mf\u001B[39m\u001B[38;5;124m\"\u001B[39m\u001B[38;5;124mInvalid URL \u001B[39m\u001B[38;5;132;01m{\u001B[39;00murl\u001B[38;5;132;01m!r}\u001B[39;00m\u001B[38;5;124m: No host supplied\u001B[39m\u001B[38;5;124m\"\u001B[39m)\n",
      "\u001B[1;31mMissingSchema\u001B[0m: Invalid URL 'None': No scheme supplied. Perhaps you meant https://None?"
     ]
    }
   ],
   "source": [
    "data_list = []\n",
    "url = \"temp\"  #TODO\n",
    "links = get_links(url)\n",
    "\n",
    "soups = get_soup(links)\n",
    "\n",
    "for site_soup in soups:\n",
    "    try:\n",
    "        site_books = site_soup.select('.clearfix .clearfix .row')\n",
    "        for i in len(site_books):\n",
    "            data = get_book_detail(book)\n",
    "            data_list += [data]\n",
    "    except Exception:\n",
    "        logging.exception(\"An error occurred\")"
   ],
   "metadata": {
    "collapsed": false,
    "ExecuteTime": {
     "end_time": "2023-09-23T13:34:36.515035300Z",
     "start_time": "2023-09-23T13:34:36.436460300Z"
    }
   },
   "id": "3a38e9743f052b8"
  },
  {
   "cell_type": "code",
   "execution_count": 141,
   "outputs": [
    {
     "name": "stdout",
     "output_type": "stream",
     "text": [
      "ISBN:  9\n",
      "code:  270\n",
      "farsi title:  کتاب بر باد رفته\n",
      "english title:   Gone with the Wind\n",
      "price:   480,000 \n",
      "discount:   408,000 \n",
      "pages:  1293\n",
      "size رقعی\n",
      "persian calendar:  1401\n",
      "publisher:  ناهید\n",
      "author:  مارگارت میچل\n",
      "summary:\n",
      " کتاب برباد رفته، رمانی است که مارگارت میچل آن را به رشته ی تحریر درآورده و در سال 1936 برای اولین بار به چاپ رسیده است. داستان، در کلایتون کانتی و آتلانتا، و در زمان جنگ داخلی آمریکا و دوره ی بازسازی پس از جنگ می گذرد. اسکارلت اوهارا، دختر جوان و لوس مزرعه داری ثروتمند است که باید از همه ی امکاناتش استفاده کند تا بتواند خود را از فقر و فلاکت ناشی از جنگ و درگیری های خونین آن، برهاند. لازم به ذکر است که عنوان رمان بر باد رفته، از شعری نوشته ی ارنست داوسون گرفته شده است.\n",
      "کتاب برباد رفته، از همان لحظات آغازین به محبوبیت شگفت آوری در میان مخاطبان آمریکایی دست یافت و به پرفروش ترین اثر داستانی آمریکا در سال های 1936 و 1937 تبدیل گشت. نتایج یک نظرسنجی در سال 2014 نشان داد که رمان بر باد رفته، پس از کتاب مقدس، دومین اثر محبوب خوانندگان آمریکایی بوده و بیش از سی میلیون نسخه از آن، در سرتاسر جهان به فروش رفته است.\n",
      "-----------------------------------------\n"
     ]
    },
    {
     "name": "stderr",
     "output_type": "stream",
     "text": [
      "ERROR:root:This book has no summary!\n",
      "Traceback (most recent call last):\n",
      "  File \"C:\\Users\\raeim\\AppData\\Local\\Temp\\ipykernel_8768\\1115907846.py\", line 3, in get_summary\n",
      "    summary = soup.select('.product-description')[0].text.strip()\n",
      "IndexError: list index out of range\n"
     ]
    },
    {
     "name": "stdout",
     "output_type": "stream",
     "text": [
      "ISBN:  9\n",
      "code:  121475\n",
      "farsi title:  کتاب سربازهای پیاده به انتها نمی رسند\n",
      "english title:   Foot soldiers do not reach the end\n",
      "price:   110,000 \n",
      "discount:   93,500 \n",
      "pages:  1402\n",
      "size رقعی\n",
      "persian calendar:  شومیز\n",
      "publisher:  افراز\n",
      "author:  آتوسا زرنگارزاده شیرازی\n",
      "summary:\n",
      " None\n",
      "-----------------------------------------\n",
      "ISBN:  9\n",
      "code:  121501\n",
      "farsi title:  کتاب هفت گنج\n",
      "english title:   Setaregan-e sarnevesht\n",
      "price:   160,000 \n",
      "discount:   136,000 \n",
      "pages:  1402\n",
      "size رقعی\n",
      "persian calendar:  شومیز\n",
      "publisher:  موج\n",
      "author:  الناز دادخواه\n",
      "summary:\n",
      " خلاصه داستان: ایزابل دختر کاپیتان تورنادو، دزد دریایی معروف، پس از مرگ پدرش تنها وارث کشتی دزدان دریایی می‌شود او قصد دارد خود به عنوان کاپیتان کشتی دزدان دریایی وارد مجمع دزدان دریایی شود اما بر طبق سنت‌های دزدان دریایی، بودن یک زن در کشتی بد‌شانسی می‌آورد و هیچ‌کس حاضر نیست خدمه‌ی کشتی‌ای باشد که یک زن آنرا هدایت کند در این میان کاپیتان ویلیام در طی یک حمله کشتی خود را از دست می‌دهد اما دست تقدیر این دو کاپیتان را با هم آشنا می‌کند اما این آشنایی پر از چالش هایی خواهد بود...\n",
      "-----------------------------------------\n"
     ]
    },
    {
     "name": "stderr",
     "output_type": "stream",
     "text": [
      "ERROR:root:This book has no summary!\n",
      "Traceback (most recent call last):\n",
      "  File \"C:\\Users\\raeim\\AppData\\Local\\Temp\\ipykernel_8768\\1115907846.py\", line 3, in get_summary\n",
      "    summary = soup.select('.product-description')[0].text.strip()\n",
      "IndexError: list index out of range\n"
     ]
    },
    {
     "name": "stdout",
     "output_type": "stream",
     "text": [
      "ISBN:  9\n",
      "code:  119702\n",
      "farsi title:  کتاب شیطان در پیراهن آبی\n",
      "english title:   Devil in a Blue Dress\n",
      "price:   160,000 \n",
      "discount:   136,000 \n",
      "pages:  242\n",
      "size رقعی\n",
      "persian calendar:  1402\n",
      "publisher:  علمی و فرهنگی\n",
      "author:  والتر موزلی\n",
      "summary:\n",
      " None\n",
      "-----------------------------------------\n",
      "ISBN:  9\n",
      "code:  119533\n",
      "farsi title:  کتاب پس انداز پول\n",
      "english title:   Saving Money\n",
      "price:   120,000 \n",
      "discount:   102,000 \n",
      "pages:  32\n",
      "size وزیری\n",
      "persian calendar:  1402\n",
      "publisher:  فاطمی\n",
      "author:  بن هوبارد\n",
      "summary:\n",
      " مارک یک اسکوتر جدید می‌خواهد، اما باید برای خریدنش پس‌انداز کند! آیا مارک موفق می‌شود یا لباس‌های نو، اسباب‌بازی‌های تازه و شیرینی‌های خوشمزه او را وسوسه می‌کنند؟بعضی‌ها معتقدند پول است که جهان را می‌گرداند! اما واقعا پول چیست؟ درست است که نمی‌توانیم آن را بخوریم یا بیاشامیم، اما بیشتر ما برای زنده ماندن به پول نیاز داریم. درباره‌ی پول چه چیزهایی باید بدانیم؟ مجموعه‌ی چهارجلدی «هوش مالی» به کودکان کمک می‌کند تا با زبانی ساده با نقش پول در زندگی و مسئولیت‌پذیری مالی آشنا شوند.\n",
      "-----------------------------------------\n"
     ]
    },
    {
     "name": "stderr",
     "output_type": "stream",
     "text": [
      "ERROR:root:This book has no discount!\n",
      "Traceback (most recent call last):\n",
      "  File \"C:\\Users\\raeim\\AppData\\Local\\Temp\\ipykernel_8768\\2884324745.py\", line 3, in get_discount\n",
      "    discount_price = soup.select('.col-md-12+ .clearfix .price-special')[0].text\n",
      "IndexError: list index out of range\n",
      "ERROR:root:This book has no summary!\n",
      "Traceback (most recent call last):\n",
      "  File \"C:\\Users\\raeim\\AppData\\Local\\Temp\\ipykernel_8768\\1115907846.py\", line 3, in get_summary\n",
      "    summary = soup.select('.product-description')[0].text.strip()\n",
      "IndexError: list index out of range\n"
     ]
    },
    {
     "name": "stdout",
     "output_type": "stream",
     "text": [
      "ISBN:  9\n",
      "code:  121850\n",
      "farsi title:  کتاب فروافتادگان\n",
      "english title:   ‫‬‮‭Супруги Орловы\n",
      "price:  84,500\n",
      "discount:  None\n",
      "pages:  87\n",
      "size رقعی\n",
      "persian calendar:  1402\n",
      "publisher:  ارس\n",
      "author:  ماکسیم گورکی\n",
      "summary:\n",
      " None\n",
      "-----------------------------------------\n"
     ]
    }
   ],
   "source": [
    "#test cell  #TODO temp\n",
    "links = ['https://www.iranketab.ir/book/270-gone-with-the-wind',\n",
    "         'https://www.iranketab.ir/book/121475-foot-soldiers-do-not-reach-the-end',\n",
    "         'https://www.iranketab.ir/book/121501-setaregan-e-sarnevesht',\n",
    "         'https://www.iranketab.ir/book/119702-devil-in-a-blue-dress',\n",
    "         'https://www.iranketab.ir/book/119533-saving-money',\n",
    "         'https://www.iranketab.ir/book/121850-%e2%80%ab%e2%80%ac%e2%80%ae%e2%80%ad%d1%81%d1%83%d0%bf%d1%80%d1%83%d0%b3%d0%b8-%d0%be%d1%80%d0%bb%d0%be%d0%b2%d1%8b']\n",
    "\n",
    "for link in links:\n",
    "    test = get_soup(link)\n",
    "    print_book_detail(test)\n",
    "        "
   ],
   "metadata": {
    "collapsed": false,
    "ExecuteTime": {
     "end_time": "2023-09-23T14:17:09.141653Z",
     "start_time": "2023-09-23T14:17:07.064033600Z"
    }
   },
   "id": "15f94ddb4454136d"
  },
  {
   "cell_type": "code",
   "execution_count": null,
   "outputs": [],
   "source": [],
   "metadata": {
    "collapsed": false
   },
   "id": "732943d7efbc456d"
  }
 ],
 "metadata": {
  "kernelspec": {
   "display_name": "Python 3 (ipykernel)",
   "language": "python",
   "name": "python3"
  },
  "language_info": {
   "codemirror_mode": {
    "name": "ipython",
    "version": 3
   },
   "file_extension": ".py",
   "mimetype": "text/x-python",
   "name": "python",
   "nbconvert_exporter": "python",
   "pygments_lexer": "ipython3",
   "version": "3.11.3"
  }
 },
 "nbformat": 4,
 "nbformat_minor": 5
}
