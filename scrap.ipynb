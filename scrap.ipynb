{
 "cells": [
  {
   "cell_type": "code",
   "execution_count": 2,
   "id": "initial_id",
   "metadata": {
    "ExecuteTime": {
     "end_time": "2023-09-24T15:35:00.485177300Z",
     "start_time": "2023-09-24T15:34:59.809692200Z"
    }
   },
   "outputs": [],
   "source": [
    "#import all libraries\n",
    "import pandas as pd\n",
    "import requests\n",
    "import bs4\n",
    "import re\n",
    "import logging\n",
    "import concurrent.futures\n",
    "import threading\n",
    "import math\n",
    "from time import sleep"
   ]
  },
  {
   "cell_type": "code",
   "execution_count": 3,
   "outputs": [],
   "source": [
    "def get_links():\n",
    "    urls = list(pd.read_csv('books_url.csv')['link'])\n",
    "    return urls"
   ],
   "metadata": {
    "collapsed": false,
    "ExecuteTime": {
     "end_time": "2023-09-24T15:35:01.460099400Z",
     "start_time": "2023-09-24T15:35:01.424427100Z"
    }
   },
   "id": "6c2e65b93bcafb3c"
  },
  {
   "cell_type": "code",
   "execution_count": 4,
   "outputs": [],
   "source": [
    "def get_response(input_url):\n",
    "    headers = {\n",
    "        'User-Agent': 'My User Agent 1.0',\n",
    "        \"Accept-Language\": \"en-US,en;q=0.5\"\n",
    "    }\n",
    "    response = requests.get(input_url, headers=headers)\n",
    "    return response"
   ],
   "metadata": {
    "collapsed": false,
    "ExecuteTime": {
     "end_time": "2023-09-24T15:35:02.147040700Z",
     "start_time": "2023-09-24T15:35:02.110190600Z"
    }
   },
   "id": "fe12b9fe14593376"
  },
  {
   "cell_type": "code",
   "execution_count": 5,
   "id": "dd775c4290d33dfa",
   "metadata": {
    "ExecuteTime": {
     "end_time": "2023-09-24T15:35:02.583415900Z",
     "start_time": "2023-09-24T15:35:02.553540Z"
    }
   },
   "outputs": [],
   "source": [
    "def get_soup(input_url):\n",
    "    headers = {\n",
    "        'User-Agent': 'My User Agent 1.0',\n",
    "        \"Accept-Language\": \"en-US,en;q=0.5\"\n",
    "    }\n",
    "    response = requests.get(input_url, headers=headers)\n",
    "    if response.status_code != 200:\n",
    "        print(\"Error in getting link\")\n",
    "        print(\"response code is : \", response.status_code)\n",
    "    soup = bs4.BeautifulSoup(response.text, 'html.parser')\n",
    "    return soup"
   ]
  },
  {
   "cell_type": "code",
   "execution_count": 6,
   "id": "efc3968719f0d788",
   "metadata": {
    "ExecuteTime": {
     "end_time": "2023-09-24T15:35:03.055051100Z",
     "start_time": "2023-09-24T15:35:03.012264200Z"
    }
   },
   "outputs": [],
   "source": [
    "def get_fa_title(soup):\n",
    "    title = soup.select('.product-name strong')[0]\n",
    "    return title.text\n"
   ]
  },
  {
   "cell_type": "code",
   "execution_count": 7,
   "id": "2c4dab072bbbc2ab",
   "metadata": {
    "ExecuteTime": {
     "end_time": "2023-09-24T15:35:03.425629500Z",
     "start_time": "2023-09-24T15:35:03.398176800Z"
    }
   },
   "outputs": [],
   "source": [
    "def get_en_title(soup):\n",
    "    title = soup.select('.product-name-englishname')[0]\n",
    "    return title.text"
   ]
  },
  {
   "cell_type": "code",
   "execution_count": 8,
   "id": "5c6151c0ff09fc3e",
   "metadata": {
    "ExecuteTime": {
     "end_time": "2023-09-24T15:35:03.766994700Z",
     "start_time": "2023-09-24T15:35:03.730323700Z"
    }
   },
   "outputs": [],
   "source": [
    "def get_price(soup):\n",
    "    price = soup.select('.price-broken , .col-md-7 .price:nth-child(1)')[0].text\n",
    "    return int(price.replace(',', ''))"
   ]
  },
  {
   "cell_type": "code",
   "execution_count": 9,
   "id": "20dfbbc77ef0ea67",
   "metadata": {
    "ExecuteTime": {
     "end_time": "2023-09-24T15:35:04.097575100Z",
     "start_time": "2023-09-24T15:35:04.051381400Z"
    }
   },
   "outputs": [],
   "source": [
    "def get_discount(soup):\n",
    "    try:\n",
    "        discount_price = int(soup.select('.col-md-12+ .clearfix .price-special')[0].text.replace(',', ''))\n",
    "        discount_price = ((get_price(soup) - discount_price) / get_price(soup)) * 100\n",
    "    except Exception:\n",
    "        discount_price = 0\n",
    "        logging.exception(\"This book has no discount!\")\n",
    "    return discount_price  "
   ]
  },
  {
   "cell_type": "code",
   "execution_count": 10,
   "id": "3b95900da3f89757",
   "metadata": {
    "ExecuteTime": {
     "end_time": "2023-09-24T15:35:04.411296600Z",
     "start_time": "2023-09-24T15:35:04.387097700Z"
    }
   },
   "outputs": [],
   "source": [
    "def get_score(soup):\n",
    "    soup = soup.find('div', {'class':'col-md-7'}).find('li', {'class':'pull-left'}).find('div', {'class':'my-rating'})\n",
    "    soup_str = str(soup)\n",
    "\n",
    "    match = re.search(r'data-rating=\"(\\d+\\.\\d+)\"', soup_str)\n",
    "    if match:\n",
    "        data_rating = match.group(1)\n",
    "        return data_rating\n",
    "    "
   ]
  },
  {
   "cell_type": "code",
   "execution_count": 11,
   "id": "3c5c9ddc5b07b81e",
   "metadata": {
    "ExecuteTime": {
     "end_time": "2023-09-24T15:35:04.745445Z",
     "start_time": "2023-09-24T15:35:04.710099800Z"
    }
   },
   "outputs": [],
   "source": [
    "def get_publisher(soup):\n",
    "    try:\n",
    "        publisher = soup.select('.prodoct-attribute-items:nth-child(1) a .prodoct-attribute-item')[0].text.strip()\n",
    "        publisher_href = soup.find('div', {'class': 'row clearfix'}).find('a')['href']\n",
    "    except Exception:\n",
    "        publisher = None\n",
    "        logging.exception(\"This book has no publisher!\")\n",
    "    return publisher"
   ]
  },
  {
   "cell_type": "code",
   "execution_count": 12,
   "id": "235a6bc598b6b7ad",
   "metadata": {
    "ExecuteTime": {
     "end_time": "2023-09-24T15:35:05.090039500Z",
     "start_time": "2023-09-24T15:35:05.057832200Z"
    }
   },
   "outputs": [],
   "source": [
    "def get_author(soup):\n",
    "    try:\n",
    "        author = soup.select('.prodoct-attribute-items+ .prodoct-attribute-items a .prodoct-attribute-item')[0].text.strip()\n",
    "    except Exception:\n",
    "        author = None\n",
    "        logging.exception(\"This book has no author!\")    \n",
    "    return author"
   ]
  },
  {
   "cell_type": "code",
   "execution_count": 13,
   "outputs": [],
   "source": [
    "def get_precense(soup):\n",
    "    try:\n",
    "          existence=soup.select('.pull-left+ li span')[0].text\n",
    "    except:\n",
    "         existence = None\n",
    "         logging.exception(\"This book has no author!\")    \n",
    "    return existence\n",
    "    "
   ],
   "metadata": {
    "collapsed": false,
    "ExecuteTime": {
     "end_time": "2023-09-24T15:35:05.353840500Z",
     "start_time": "2023-09-24T15:35:05.328287Z"
    }
   },
   "id": "b21b1fa78bdd0d0e"
  },
  {
   "cell_type": "code",
   "execution_count": 14,
   "outputs": [],
   "source": [
    "def get_book_attribute(soup):\n",
    "    rows = soup.find('table', {'class': 'product-table'}).findAll('td')\n",
    "    code = -1\n",
    "    isbn = -1\n",
    "    size = -1\n",
    "    pages = -1\n",
    "    per_cal = -1\n",
    "    ad_cal = -1\n",
    "    material = -1\n",
    "    series = -1\n",
    "    send_time = -1\n",
    "    code_flag = 0\n",
    "    isbn_flag = 0\n",
    "    size_flag = 0\n",
    "    pages_flag = 0\n",
    "    per_cal_flag = 0\n",
    "    ad_cal_flag = 0\n",
    "    material_flag = 0\n",
    "    series_flag = 0\n",
    "    send_time_flag = 0\n",
    "\n",
    "    for row in rows:\n",
    "        text = row.text.strip()\n",
    "        if code_flag == 1:\n",
    "            code = int(text)\n",
    "            code_flag = 0\n",
    "        elif isbn_flag == 1:\n",
    "            isbn = text\n",
    "            isbn = re.sub('[^0-9-]', '', isbn)\n",
    "            isbn_flag = 0\n",
    "        elif size_flag == 1:\n",
    "            size = text\n",
    "            size_flag = 0\n",
    "        elif pages_flag == 1:\n",
    "            pages = int(text)\n",
    "            pages_flag = 0\n",
    "        elif per_cal_flag == 1:\n",
    "            per_cal = int(text)\n",
    "            per_cal_flag = 0\n",
    "        elif ad_cal_flag == 1:\n",
    "            ad_cal = int(text)\n",
    "            ad_cal_flag = 0\n",
    "        elif material_flag == 1:\n",
    "            material = text\n",
    "            material_flag = 0\n",
    "        elif series_flag == 1:\n",
    "            series = int(text)\n",
    "            series_flag = 0\n",
    "        elif send_time_flag == 1:\n",
    "            send_time = text\n",
    "            send_time_flag = 0\n",
    "\n",
    "        if 'کد کتاب' in text:\n",
    "            code_flag = 1\n",
    "        elif 'شابک' in text:\n",
    "            isbn_flag = 1\n",
    "        elif 'قطع' in text:\n",
    "            size_flag = 1\n",
    "        elif 'تعداد صفحه' in text:\n",
    "            pages_flag = 1\n",
    "        elif 'سال انتشار شمسی' in text:\n",
    "            per_cal_flag = 1\n",
    "        elif 'سال انتشار میلادی' in text:\n",
    "            ad_cal_flag = 1\n",
    "        elif 'نوع جلد' in text:\n",
    "            material_flag = 1\n",
    "        elif 'سری چاپ' in text:\n",
    "            series_flag = 1\n",
    "        elif 'زودترین زمان ارسال' in text:\n",
    "            send_time_flag = 1\n",
    "        \n",
    "    return [code, isbn, size, pages, per_cal, ad_cal, material, series, send_time]"
   ],
   "metadata": {
    "collapsed": false,
    "ExecuteTime": {
     "end_time": "2023-09-24T15:35:05.960803200Z",
     "start_time": "2023-09-24T15:35:05.879600700Z"
    }
   },
   "id": "91a45fd031eab930"
  },
  {
   "cell_type": "code",
   "execution_count": 15,
   "id": "5c297eef97f3ef6f",
   "metadata": {
    "ExecuteTime": {
     "end_time": "2023-09-24T15:35:06.303226800Z",
     "start_time": "2023-09-24T15:35:06.299227600Z"
    }
   },
   "outputs": [],
   "source": [
    "def get_summary(soup):\n",
    "    summary = soup.select('.product-description')[0].text.strip()\n",
    "    return summary"
   ]
  },
  {
   "cell_type": "code",
   "execution_count": 16,
   "id": "9680a41c872e4ad7",
   "metadata": {
    "ExecuteTime": {
     "end_time": "2023-09-24T15:35:06.643203700Z",
     "start_time": "2023-09-24T15:35:06.612238200Z"
    }
   },
   "outputs": [],
   "source": [
    "def get_tags(soup):\n",
    "    tags = soup.select('.product-tags-item')\n",
    "    tags_list = []\n",
    "    for tag in tags:\n",
    "        tags_list += [tag.text.strip()]\n",
    "    return tags_list"
   ]
  },
  {
   "cell_type": "code",
   "execution_count": 17,
   "id": "b487ed5aba32bcd",
   "metadata": {
    "ExecuteTime": {
     "end_time": "2023-09-24T15:35:06.968904300Z",
     "start_time": "2023-09-24T15:35:06.935140800Z"
    }
   },
   "outputs": [],
   "source": [
    "def get_book_detail(book_soup, site_index):\n",
    "    book_fa_title = get_fa_title(book_soup)\n",
    "    book_en_title = get_en_title(book_soup)\n",
    "    book_price = get_price(book_soup)\n",
    "    book_discount_percent = get_discount(book_soup)\n",
    "    book_score = get_score(book_soup)\n",
    "    book_publisher = get_publisher(book_soup)\n",
    "    book_author = get_author(book_soup)\n",
    "    book_precense=get_precense(book_soup)\n",
    "\n",
    "    [book_code, book_Isbn, book_size, book_pages, book_publication_per_date, book_publication_ad_date,\n",
    "     book_cover_material, book_print_series, book_earliest_send_time] = get_book_attribute(book_soup)\n",
    "\n",
    "    book_data = [site_index, int(book_code), book_Isbn, book_fa_title, book_en_title, book_price, int(book_discount_percent),\n",
    "                 book_score, book_publisher, book_author,\n",
    "                 int(book_pages), int(book_publication_per_date), int(book_publication_ad_date), book_size, book_cover_material,\n",
    "                 int(book_print_series), book_earliest_send_time,book_precense]\n",
    "    return book_data"
   ]
  },
  {
   "cell_type": "code",
   "execution_count": 18,
   "outputs": [],
   "source": [
    " def get_book_site_summary(book_soup, site_index):\n",
    "    try:\n",
    "        book_summary = get_summary(book_soup)\n",
    "    except Exception:\n",
    "        book_summary = None\n",
    "        logging.exception(\"This book has no summary!\")\n",
    "    return [site_index, book_summary]"
   ],
   "metadata": {
    "collapsed": false,
    "ExecuteTime": {
     "end_time": "2023-09-24T15:35:07.295241900Z",
     "start_time": "2023-09-24T15:35:07.268418900Z"
    }
   },
   "id": "52bb9e3fa91b9548"
  },
  {
   "cell_type": "code",
   "execution_count": 19,
   "outputs": [],
   "source": [
    " def get_book_site_tags(book_soup, site_index):\n",
    "    book_tags = get_tags(book_soup)\n",
    "    book_tags_list = []\n",
    "    for tag in book_tags:\n",
    "        book_tags_list += [[site_index,tag]]\n",
    "    return book_tags_list"
   ],
   "metadata": {
    "collapsed": false,
    "ExecuteTime": {
     "end_time": "2023-09-24T15:35:07.609016600Z",
     "start_time": "2023-09-24T15:35:07.579361400Z"
    }
   },
   "id": "12597cd1c3c3e9f5"
  },
  {
   "cell_type": "code",
   "execution_count": 20,
   "outputs": [],
   "source": [
    "def get_site_awards(soup, site_index):\n",
    "    awards_list = []\n",
    "    awards = soup.select('book_soup, site_index')\n",
    "    \n",
    "    for award in awards:\n",
    "        print(award.text)\n",
    "        awards += [award.text]"
   ],
   "metadata": {
    "collapsed": false,
    "ExecuteTime": {
     "end_time": "2023-09-24T15:35:07.906671800Z",
     "start_time": "2023-09-24T15:35:07.882172100Z"
    }
   },
   "id": "33fc61291443bf82"
  },
  {
   "cell_type": "code",
   "execution_count": 21,
   "outputs": [],
   "source": [
    "def get_req_list(list, req_count):\n",
    "    if len(list) >= req_count:\n",
    "        request_list = list[:req_count].copy()\n",
    "    else:\n",
    "        request_list = list.copy()\n",
    "    return request_list"
   ],
   "metadata": {
    "collapsed": false,
    "ExecuteTime": {
     "end_time": "2023-09-24T15:35:08.248335300Z",
     "start_time": "2023-09-24T15:35:08.206593Z"
    }
   },
   "id": "3e410df15deddef2"
  },
  {
   "cell_type": "code",
   "execution_count": null,
   "outputs": [],
   "source": [
    "# links = get_links()\n",
    "# site_index = 1\n",
    "# books_data_list = []\n",
    "# site_summary_data_list = []\n",
    "# site_tags_data_list = []\n",
    "# lock = threading.Lock()\n",
    "# \n",
    "# def process_link(link):\n",
    "#     try:\n",
    "#         site_soup = get_soup(link)\n",
    "#         with lock:\n",
    "#             global site_index\n",
    "#             site_summary_data_list.append(get_book_site_summary(site_soup, site_index))\n",
    "#             site_tags_data_list.extend(get_book_site_tags(site_soup, site_index))\n",
    "#             site_page_books = site_soup.select('.clearfix .clearfix .row')\n",
    "#             for book_index in range(0, len(site_page_books), 2):\n",
    "#                 data = get_book_detail(site_page_books[book_index], site_index)\n",
    "#                 books_data_list.append(data)\n",
    "#             site_index += 1\n",
    "#     except Exception:\n",
    "#         logging.exception(\"An error occurred\")\n",
    "# \n",
    "# with concurrent.futures.ThreadPoolExecutor(max_workers=15) as executor:\n",
    "#     executor.map(process_link, links)\n"
   ],
   "metadata": {
    "collapsed": false,
    "is_executing": true
   },
   "id": "37169d3dffe9614e"
  },
  {
   "cell_type": "code",
   "execution_count": 22,
   "outputs": [
    {
     "name": "stdout",
     "output_type": "stream",
     "text": [
      "11\n"
     ]
    },
    {
     "name": "stderr",
     "output_type": "stream",
     "text": [
      "ERROR:root:This book has no summary!\n",
      "Traceback (most recent call last):\n",
      "  File \"C:\\Users\\raeim\\AppData\\Local\\Temp\\ipykernel_5524\\2869572784.py\", line 3, in get_book_site_summary\n",
      "    book_summary = get_summary(book_soup)\n",
      "  File \"C:\\Users\\raeim\\AppData\\Local\\Temp\\ipykernel_5524\\1354406443.py\", line 2, in get_summary\n",
      "    summary = soup.select('.product-description')[0].text.strip()\n",
      "IndexError: list index out of range\n",
      "ERROR:root:This book has no summary!\n",
      "Traceback (most recent call last):\n",
      "  File \"C:\\Users\\raeim\\AppData\\Local\\Temp\\ipykernel_5524\\2869572784.py\", line 3, in get_book_site_summary\n",
      "    book_summary = get_summary(book_soup)\n",
      "  File \"C:\\Users\\raeim\\AppData\\Local\\Temp\\ipykernel_5524\\1354406443.py\", line 2, in get_summary\n",
      "    summary = soup.select('.product-description')[0].text.strip()\n",
      "IndexError: list index out of range\n",
      "ERROR:root:This book has no summary!\n",
      "Traceback (most recent call last):\n",
      "  File \"C:\\Users\\raeim\\AppData\\Local\\Temp\\ipykernel_5524\\2869572784.py\", line 3, in get_book_site_summary\n",
      "    book_summary = get_summary(book_soup)\n",
      "  File \"C:\\Users\\raeim\\AppData\\Local\\Temp\\ipykernel_5524\\1354406443.py\", line 2, in get_summary\n",
      "    summary = soup.select('.product-description')[0].text.strip()\n",
      "IndexError: list index out of range\n",
      "ERROR:root:This book has no summary!\n",
      "Traceback (most recent call last):\n",
      "  File \"C:\\Users\\raeim\\AppData\\Local\\Temp\\ipykernel_5524\\2869572784.py\", line 3, in get_book_site_summary\n",
      "    book_summary = get_summary(book_soup)\n",
      "  File \"C:\\Users\\raeim\\AppData\\Local\\Temp\\ipykernel_5524\\1354406443.py\", line 2, in get_summary\n",
      "    summary = soup.select('.product-description')[0].text.strip()\n",
      "IndexError: list index out of range\n",
      "ERROR:root:This book has no discount!\n",
      "Traceback (most recent call last):\n",
      "  File \"C:\\Users\\raeim\\AppData\\Local\\Temp\\ipykernel_5524\\709879376.py\", line 3, in get_discount\n",
      "    discount_price = int(soup.select('.col-md-12+ .clearfix .price-special')[0].text.replace(',', ''))\n",
      "IndexError: list index out of range\n",
      "ERROR:root:This book has no discount!\n",
      "Traceback (most recent call last):\n",
      "  File \"C:\\Users\\raeim\\AppData\\Local\\Temp\\ipykernel_5524\\709879376.py\", line 3, in get_discount\n",
      "    discount_price = int(soup.select('.col-md-12+ .clearfix .price-special')[0].text.replace(',', ''))\n",
      "IndexError: list index out of range\n",
      "ERROR:root:This book has no discount!\n",
      "Traceback (most recent call last):\n",
      "  File \"C:\\Users\\raeim\\AppData\\Local\\Temp\\ipykernel_5524\\709879376.py\", line 3, in get_discount\n",
      "    discount_price = int(soup.select('.col-md-12+ .clearfix .price-special')[0].text.replace(',', ''))\n",
      "IndexError: list index out of range\n",
      "ERROR:root:This book has no discount!\n",
      "Traceback (most recent call last):\n",
      "  File \"C:\\Users\\raeim\\AppData\\Local\\Temp\\ipykernel_5524\\709879376.py\", line 3, in get_discount\n",
      "    discount_price = int(soup.select('.col-md-12+ .clearfix .price-special')[0].text.replace(',', ''))\n",
      "IndexError: list index out of range\n",
      "ERROR:root:This book has no discount!\n",
      "Traceback (most recent call last):\n",
      "  File \"C:\\Users\\raeim\\AppData\\Local\\Temp\\ipykernel_5524\\709879376.py\", line 3, in get_discount\n",
      "    discount_price = int(soup.select('.col-md-12+ .clearfix .price-special')[0].text.replace(',', ''))\n",
      "IndexError: list index out of range\n",
      "ERROR:root:This book has no discount!\n",
      "Traceback (most recent call last):\n",
      "  File \"C:\\Users\\raeim\\AppData\\Local\\Temp\\ipykernel_5524\\709879376.py\", line 3, in get_discount\n",
      "    discount_price = int(soup.select('.col-md-12+ .clearfix .price-special')[0].text.replace(',', ''))\n",
      "IndexError: list index out of range\n",
      "ERROR:root:This book has no discount!\n",
      "Traceback (most recent call last):\n",
      "  File \"C:\\Users\\raeim\\AppData\\Local\\Temp\\ipykernel_5524\\709879376.py\", line 3, in get_discount\n",
      "    discount_price = int(soup.select('.col-md-12+ .clearfix .price-special')[0].text.replace(',', ''))\n",
      "IndexError: list index out of range\n",
      "ERROR:root:This book has no discount!\n",
      "Traceback (most recent call last):\n",
      "  File \"C:\\Users\\raeim\\AppData\\Local\\Temp\\ipykernel_5524\\709879376.py\", line 3, in get_discount\n",
      "    discount_price = int(soup.select('.col-md-12+ .clearfix .price-special')[0].text.replace(',', ''))\n",
      "IndexError: list index out of range\n",
      "ERROR:root:This book has no discount!\n",
      "Traceback (most recent call last):\n",
      "  File \"C:\\Users\\raeim\\AppData\\Local\\Temp\\ipykernel_5524\\709879376.py\", line 3, in get_discount\n",
      "    discount_price = int(soup.select('.col-md-12+ .clearfix .price-special')[0].text.replace(',', ''))\n",
      "IndexError: list index out of range\n",
      "ERROR:root:This book has no author!\n",
      "Traceback (most recent call last):\n",
      "  File \"C:\\Users\\raeim\\AppData\\Local\\Temp\\ipykernel_5524\\3840233199.py\", line 3, in get_author\n",
      "    author = soup.select('.prodoct-attribute-items+ .prodoct-attribute-items a .prodoct-attribute-item')[0].text.strip()\n",
      "IndexError: list index out of range\n"
     ]
    }
   ],
   "source": [
    "links = get_links()[:10] + ['https://www.iranketab.ir/book/270-gone-with-the-wind']\n",
    "site_index = 1\n",
    "books_data_list = []\n",
    "site_summary_data_list = []\n",
    "site_tags_data_list = []\n",
    "lock = threading.Lock()\n",
    "\n",
    "\n",
    "def process_link(site_soup):\n",
    "    try:\n",
    "        with lock:\n",
    "            global site_index\n",
    "            site_summary_data_list.append(get_book_site_summary(site_soup, site_index))\n",
    "            site_tags_data_list.extend(get_book_site_tags(site_soup, site_index))\n",
    "            site_page_books = site_soup.select('.clearfix .clearfix .row')\n",
    "            for book_index in range(0, len(site_page_books), 2):\n",
    "                data = get_book_detail(site_page_books[book_index], site_index)\n",
    "                books_data_list.append(data)\n",
    "            site_index += 1\n",
    "    except Exception:\n",
    "        logging.exception(\"An error occurred\")\n",
    "\n",
    "\n",
    "book_urls = links.copy()\n",
    "page_response = []\n",
    "book_count_request = 20  #number of requests per time\n",
    "sleep_time = 1\n",
    "while len(book_urls):\n",
    "    sleep(sleep_time)  #sleep so that the site does not bann us\n",
    "    request_list = get_req_list(book_urls, book_count_request)  #list of book's urls we want to send request \n",
    "    with concurrent.futures.ThreadPoolExecutor(max_workers=20) as executor:\n",
    "        future_list = executor.map(get_response, request_list)\n",
    "        for future in future_list:\n",
    "            try:\n",
    "                data = future\n",
    "                page_response.append(data)\n",
    "            except Exception as exc:\n",
    "                continue\n",
    "        for item in page_response:\n",
    "            if item.status_code == 200:\n",
    "                page_url = item.url\n",
    "                if page_url in request_list:\n",
    "                    page_soup = bs4.BeautifulSoup(item.content, 'html.parser')\n",
    "                    process_link(page_soup)\n",
    "                    book_urls.remove(page_url)\n",
    "   "
   ],
   "metadata": {
    "collapsed": false,
    "ExecuteTime": {
     "end_time": "2023-09-24T15:35:20.406203800Z",
     "start_time": "2023-09-24T15:35:14.312540500Z"
    }
   },
   "id": "9a609902c961aa8e"
  },
  {
   "cell_type": "code",
   "execution_count": 23,
   "outputs": [
    {
     "name": "stdout",
     "output_type": "stream",
     "text": [
      "All links scraped!\n"
     ]
    }
   ],
   "source": [
    "if len(book_urls) == 0:\n",
    "    print('All links scraped!')\n",
    "else:\n",
    "    print('Something wrong happened')"
   ],
   "metadata": {
    "collapsed": false,
    "ExecuteTime": {
     "end_time": "2023-09-24T15:35:40.294069800Z",
     "start_time": "2023-09-24T15:35:40.216117200Z"
    }
   },
   "id": "61f7e5ebf2342413"
  },
  {
   "cell_type": "code",
   "execution_count": 25,
   "id": "ad990b979ac7f334",
   "metadata": {
    "ExecuteTime": {
     "end_time": "2023-09-24T15:35:59.710700100Z",
     "start_time": "2023-09-24T15:35:59.603933300Z"
    }
   },
   "outputs": [
    {
     "data": {
      "text/plain": "    site_index    code               Isbn  \\\n0            1   70554     978-9647553261   \n1            2   51563     978-9641940289   \n2            3   49138     978-9644458071   \n3            4  116421     978-6009313884   \n4            5   76016     978-9642683864   \n5            6   73891     978-9640669687   \n6            7   41857     978-9644239441   \n7            8  107977     978-9641721932   \n8            9   27986     978-9643911140   \n9           10   64447     978-6229736944   \n10          11     270  978-964-6205-34-5   \n11          11   99322     978-2001035908   \n12          11  120551     978-6226344562   \n13          11   14026     978-6001217265   \n14          11  116674     978-6006608570   \n15          11   16059     978-9645967442   \n16          11   24045     978-6002534125   \n17          11  121720     978-9646174863   \n\n                                      fa_title  \\\n0        کتاب کلیات پزشکی سنتی چینی و طب سوزنی   \n1                  کتاب بانوان عمارت میسالونگی   \n2               کتاب گوزن شاخدار فایده اش چیه؟   \n3                                   کتاب تانیا   \n4                        کتاب دانه های روشنایی   \n5               کتاب رازهای ناگفته ی بازاریابی   \n6                          کتاب سلام بر عاشورا   \n7             کتاب قاصدک ها در هوا ایستاده اند   \n8   کتاب سقف تالار آیینه عمارت نارنجستان شیراز   \n9                      کتاب فناوری در سال 2021   \n10                            کتاب بر باد رفته   \n11                                  برباد رفته   \n12                                 بر باد رفته   \n13                         برباد رفته (۲ جلدی)   \n14                                 بر باد رفته   \n15                                 بر باد رفته   \n16                                 بر باد رفته   \n17                                  برباد رفته   \n\n                               en_title   price  discount     score  \\\n0                      Pezeshki Sonnati  300000        15      3.87   \n1             The Ladies of Missalonghi   30000        15      3.17   \n2                  What Use Is A Moose?   70000        15      3.58   \n3                                 Tanya   75000        20      3.62   \n4                       Flakes of light    9000        30      3.67   \n5                             Marketing   20000        15      3.67   \n6                     Salam bar Ashoora    5000        15      3.63   \n7    Dandelions are standing in the air   69000        20      3.18   \n8               Saghf-e Talar-e Ayieneh    1600         0      3.35   \n9                The Year in Tech, 2021   41500         0      3.01   \n10                   Gone with the Wind  480000        15      4.28   \n11                   Gone with the Wind  700000         0      3.69   \n12                   Gone with the Wind   52000         0      3.98   \n13                   Gone with the Wind  400000         0  3.590909   \n14                   Gone with the Wind   20000         0      3.29   \n15                   Gone with the Wind  550000         0      3.43   \n16                   Gone with the Wind   65000         0      3.18   \n17                   Gone with the wind  575000         0      3.76   \n\n                           publisher                author  pages  \\\n0                              المعی            حسن رضوانی    672   \n1            روشنگران و مطالعات زنان         کالین مک کالو    184   \n2                      علمی و فرهنگی           مارتین وادل     32   \n3                        پژواک فرزان         آلکسی آربوزوف    159   \n4                                اشک          عباس مهرپویا     32   \n5                       نیما عربشاهی             جو ویتالی     96   \n6                            اطلاعات          رضا اسماعیلی     94   \n7                           دنیای نو      مهدی حسینی (مهد)    123   \n8   کانون پرورش فکری کودکان و نوجوان              هادی سیف     28   \n9                         راه پرداخت  هاروارد بیزینس ریویو    116   \n10                             ناهید          مارگارت میچل   1293   \n11                     بدرقه جاویدان          مارگارت میچل   1580   \n12                              نفیر          مارگارت میچل    116   \n13                     علمی و فرهنگی          مارگارت میچل   1492   \n14                              دبیر          مارگارت میچل    128   \n15                              دبیر          مارگارت میچل   1184   \n16                    نشر کتاب پارسه          مارگارت میچل    448   \n17                              نگاه                  None   1400   \n\n    publication_per_date  publication_ad_date   size cover_material  \\\n0                   1402                   -1  وزیری          شومیز   \n1                   1388                 1987   رقعی          شومیز   \n2                   1400                 1996  وزیری          شومیز   \n3                   1396                 1939   جیبی          شومیز   \n4                   1388                   -1   خشتی          شومیز   \n5                   1384                   -1   خشتی          شومیز   \n6                   1394                   -1   رقعی          شومیز   \n7                   1401                   -1   رقعی          شومیز   \n8                   1390                   -1   رحلی          شومیز   \n9                   1399                 2020   رقعی          شومیز   \n10                  1401                 1936   رقعی        جلد سخت   \n11                  1401                 1936   رقعی          زرکوب   \n12                  1400                 1936   رقعی          شومیز   \n13                  1402                 1936   رقعی          شومیز   \n14                  1398                   -1   رقعی        جلد سخت   \n15                  1398                 1936  وزیری          زرکوب   \n16                  1398                 1936   جیبی        جلد سخت   \n17                  1401                 1936   رقعی        جلد سخت   \n\n    print_series earliest_send_time                    presence  \n0              4              4 مهر                      موجود   \n1              1              4 مهر                      موجود   \n2              5              4 مهر                      موجود   \n3              1              6 مهر                      موجود   \n4              1              4 مهر                      موجود   \n5              1              6 مهر                      موجود   \n6              2              6 مهر                      موجود   \n7              1              6 مهر                      موجود   \n8              2                ---                 به زودی  🙄   \n9              1                ---    تمام شد ، اما میاریمش 😏   \n10            10              4 مهر                      موجود   \n11             1              4 مهر                      موجود   \n12             1              6 مهر                      موجود   \n13             9                ---                 به زودی  🙄   \n14             2                ---    تمام شد ، اما میاریمش 😏   \n15            12                ---    تمام شد ، اما میاریمش 😏   \n16             2                ---    تمام شد ، اما میاریمش 😏   \n17             8                ---    تمام شد ، اما میاریمش 😏   ",
      "text/html": "<div>\n<style scoped>\n    .dataframe tbody tr th:only-of-type {\n        vertical-align: middle;\n    }\n\n    .dataframe tbody tr th {\n        vertical-align: top;\n    }\n\n    .dataframe thead th {\n        text-align: right;\n    }\n</style>\n<table border=\"1\" class=\"dataframe\">\n  <thead>\n    <tr style=\"text-align: right;\">\n      <th></th>\n      <th>site_index</th>\n      <th>code</th>\n      <th>Isbn</th>\n      <th>fa_title</th>\n      <th>en_title</th>\n      <th>price</th>\n      <th>discount</th>\n      <th>score</th>\n      <th>publisher</th>\n      <th>author</th>\n      <th>pages</th>\n      <th>publication_per_date</th>\n      <th>publication_ad_date</th>\n      <th>size</th>\n      <th>cover_material</th>\n      <th>print_series</th>\n      <th>earliest_send_time</th>\n      <th>presence</th>\n    </tr>\n  </thead>\n  <tbody>\n    <tr>\n      <th>0</th>\n      <td>1</td>\n      <td>70554</td>\n      <td>978-9647553261</td>\n      <td>کتاب کلیات پزشکی سنتی چینی و طب سوزنی</td>\n      <td>Pezeshki Sonnati</td>\n      <td>300000</td>\n      <td>15</td>\n      <td>3.87</td>\n      <td>المعی</td>\n      <td>حسن رضوانی</td>\n      <td>672</td>\n      <td>1402</td>\n      <td>-1</td>\n      <td>وزیری</td>\n      <td>شومیز</td>\n      <td>4</td>\n      <td>4 مهر</td>\n      <td>موجود</td>\n    </tr>\n    <tr>\n      <th>1</th>\n      <td>2</td>\n      <td>51563</td>\n      <td>978-9641940289</td>\n      <td>کتاب بانوان عمارت میسالونگی</td>\n      <td>The Ladies of Missalonghi</td>\n      <td>30000</td>\n      <td>15</td>\n      <td>3.17</td>\n      <td>روشنگران و مطالعات زنان</td>\n      <td>کالین مک کالو</td>\n      <td>184</td>\n      <td>1388</td>\n      <td>1987</td>\n      <td>رقعی</td>\n      <td>شومیز</td>\n      <td>1</td>\n      <td>4 مهر</td>\n      <td>موجود</td>\n    </tr>\n    <tr>\n      <th>2</th>\n      <td>3</td>\n      <td>49138</td>\n      <td>978-9644458071</td>\n      <td>کتاب گوزن شاخدار فایده اش چیه؟</td>\n      <td>What Use Is A Moose?</td>\n      <td>70000</td>\n      <td>15</td>\n      <td>3.58</td>\n      <td>علمی و فرهنگی</td>\n      <td>مارتین وادل</td>\n      <td>32</td>\n      <td>1400</td>\n      <td>1996</td>\n      <td>وزیری</td>\n      <td>شومیز</td>\n      <td>5</td>\n      <td>4 مهر</td>\n      <td>موجود</td>\n    </tr>\n    <tr>\n      <th>3</th>\n      <td>4</td>\n      <td>116421</td>\n      <td>978-6009313884</td>\n      <td>کتاب تانیا</td>\n      <td>Tanya</td>\n      <td>75000</td>\n      <td>20</td>\n      <td>3.62</td>\n      <td>پژواک فرزان</td>\n      <td>آلکسی آربوزوف</td>\n      <td>159</td>\n      <td>1396</td>\n      <td>1939</td>\n      <td>جیبی</td>\n      <td>شومیز</td>\n      <td>1</td>\n      <td>6 مهر</td>\n      <td>موجود</td>\n    </tr>\n    <tr>\n      <th>4</th>\n      <td>5</td>\n      <td>76016</td>\n      <td>978-9642683864</td>\n      <td>کتاب دانه های روشنایی</td>\n      <td>Flakes of light</td>\n      <td>9000</td>\n      <td>30</td>\n      <td>3.67</td>\n      <td>اشک</td>\n      <td>عباس مهرپویا</td>\n      <td>32</td>\n      <td>1388</td>\n      <td>-1</td>\n      <td>خشتی</td>\n      <td>شومیز</td>\n      <td>1</td>\n      <td>4 مهر</td>\n      <td>موجود</td>\n    </tr>\n    <tr>\n      <th>5</th>\n      <td>6</td>\n      <td>73891</td>\n      <td>978-9640669687</td>\n      <td>کتاب رازهای ناگفته ی بازاریابی</td>\n      <td>Marketing</td>\n      <td>20000</td>\n      <td>15</td>\n      <td>3.67</td>\n      <td>نیما عربشاهی</td>\n      <td>جو ویتالی</td>\n      <td>96</td>\n      <td>1384</td>\n      <td>-1</td>\n      <td>خشتی</td>\n      <td>شومیز</td>\n      <td>1</td>\n      <td>6 مهر</td>\n      <td>موجود</td>\n    </tr>\n    <tr>\n      <th>6</th>\n      <td>7</td>\n      <td>41857</td>\n      <td>978-9644239441</td>\n      <td>کتاب سلام بر عاشورا</td>\n      <td>Salam bar Ashoora</td>\n      <td>5000</td>\n      <td>15</td>\n      <td>3.63</td>\n      <td>اطلاعات</td>\n      <td>رضا اسماعیلی</td>\n      <td>94</td>\n      <td>1394</td>\n      <td>-1</td>\n      <td>رقعی</td>\n      <td>شومیز</td>\n      <td>2</td>\n      <td>6 مهر</td>\n      <td>موجود</td>\n    </tr>\n    <tr>\n      <th>7</th>\n      <td>8</td>\n      <td>107977</td>\n      <td>978-9641721932</td>\n      <td>کتاب قاصدک ها در هوا ایستاده اند</td>\n      <td>Dandelions are standing in the air</td>\n      <td>69000</td>\n      <td>20</td>\n      <td>3.18</td>\n      <td>دنیای نو</td>\n      <td>مهدی حسینی (مهد)</td>\n      <td>123</td>\n      <td>1401</td>\n      <td>-1</td>\n      <td>رقعی</td>\n      <td>شومیز</td>\n      <td>1</td>\n      <td>6 مهر</td>\n      <td>موجود</td>\n    </tr>\n    <tr>\n      <th>8</th>\n      <td>9</td>\n      <td>27986</td>\n      <td>978-9643911140</td>\n      <td>کتاب سقف تالار آیینه عمارت نارنجستان شیراز</td>\n      <td>Saghf-e Talar-e Ayieneh</td>\n      <td>1600</td>\n      <td>0</td>\n      <td>3.35</td>\n      <td>کانون پرورش فکری کودکان و نوجوان</td>\n      <td>هادی سیف</td>\n      <td>28</td>\n      <td>1390</td>\n      <td>-1</td>\n      <td>رحلی</td>\n      <td>شومیز</td>\n      <td>2</td>\n      <td>---</td>\n      <td>به زودی  🙄</td>\n    </tr>\n    <tr>\n      <th>9</th>\n      <td>10</td>\n      <td>64447</td>\n      <td>978-6229736944</td>\n      <td>کتاب فناوری در سال 2021</td>\n      <td>The Year in Tech, 2021</td>\n      <td>41500</td>\n      <td>0</td>\n      <td>3.01</td>\n      <td>راه پرداخت</td>\n      <td>هاروارد بیزینس ریویو</td>\n      <td>116</td>\n      <td>1399</td>\n      <td>2020</td>\n      <td>رقعی</td>\n      <td>شومیز</td>\n      <td>1</td>\n      <td>---</td>\n      <td>تمام شد ، اما میاریمش 😏</td>\n    </tr>\n    <tr>\n      <th>10</th>\n      <td>11</td>\n      <td>270</td>\n      <td>978-964-6205-34-5</td>\n      <td>کتاب بر باد رفته</td>\n      <td>Gone with the Wind</td>\n      <td>480000</td>\n      <td>15</td>\n      <td>4.28</td>\n      <td>ناهید</td>\n      <td>مارگارت میچل</td>\n      <td>1293</td>\n      <td>1401</td>\n      <td>1936</td>\n      <td>رقعی</td>\n      <td>جلد سخت</td>\n      <td>10</td>\n      <td>4 مهر</td>\n      <td>موجود</td>\n    </tr>\n    <tr>\n      <th>11</th>\n      <td>11</td>\n      <td>99322</td>\n      <td>978-2001035908</td>\n      <td>برباد رفته</td>\n      <td>Gone with the Wind</td>\n      <td>700000</td>\n      <td>0</td>\n      <td>3.69</td>\n      <td>بدرقه جاویدان</td>\n      <td>مارگارت میچل</td>\n      <td>1580</td>\n      <td>1401</td>\n      <td>1936</td>\n      <td>رقعی</td>\n      <td>زرکوب</td>\n      <td>1</td>\n      <td>4 مهر</td>\n      <td>موجود</td>\n    </tr>\n    <tr>\n      <th>12</th>\n      <td>11</td>\n      <td>120551</td>\n      <td>978-6226344562</td>\n      <td>بر باد رفته</td>\n      <td>Gone with the Wind</td>\n      <td>52000</td>\n      <td>0</td>\n      <td>3.98</td>\n      <td>نفیر</td>\n      <td>مارگارت میچل</td>\n      <td>116</td>\n      <td>1400</td>\n      <td>1936</td>\n      <td>رقعی</td>\n      <td>شومیز</td>\n      <td>1</td>\n      <td>6 مهر</td>\n      <td>موجود</td>\n    </tr>\n    <tr>\n      <th>13</th>\n      <td>11</td>\n      <td>14026</td>\n      <td>978-6001217265</td>\n      <td>برباد رفته (۲ جلدی)</td>\n      <td>Gone with the Wind</td>\n      <td>400000</td>\n      <td>0</td>\n      <td>3.590909</td>\n      <td>علمی و فرهنگی</td>\n      <td>مارگارت میچل</td>\n      <td>1492</td>\n      <td>1402</td>\n      <td>1936</td>\n      <td>رقعی</td>\n      <td>شومیز</td>\n      <td>9</td>\n      <td>---</td>\n      <td>به زودی  🙄</td>\n    </tr>\n    <tr>\n      <th>14</th>\n      <td>11</td>\n      <td>116674</td>\n      <td>978-6006608570</td>\n      <td>بر باد رفته</td>\n      <td>Gone with the Wind</td>\n      <td>20000</td>\n      <td>0</td>\n      <td>3.29</td>\n      <td>دبیر</td>\n      <td>مارگارت میچل</td>\n      <td>128</td>\n      <td>1398</td>\n      <td>-1</td>\n      <td>رقعی</td>\n      <td>جلد سخت</td>\n      <td>2</td>\n      <td>---</td>\n      <td>تمام شد ، اما میاریمش 😏</td>\n    </tr>\n    <tr>\n      <th>15</th>\n      <td>11</td>\n      <td>16059</td>\n      <td>978-9645967442</td>\n      <td>بر باد رفته</td>\n      <td>Gone with the Wind</td>\n      <td>550000</td>\n      <td>0</td>\n      <td>3.43</td>\n      <td>دبیر</td>\n      <td>مارگارت میچل</td>\n      <td>1184</td>\n      <td>1398</td>\n      <td>1936</td>\n      <td>وزیری</td>\n      <td>زرکوب</td>\n      <td>12</td>\n      <td>---</td>\n      <td>تمام شد ، اما میاریمش 😏</td>\n    </tr>\n    <tr>\n      <th>16</th>\n      <td>11</td>\n      <td>24045</td>\n      <td>978-6002534125</td>\n      <td>بر باد رفته</td>\n      <td>Gone with the Wind</td>\n      <td>65000</td>\n      <td>0</td>\n      <td>3.18</td>\n      <td>نشر کتاب پارسه</td>\n      <td>مارگارت میچل</td>\n      <td>448</td>\n      <td>1398</td>\n      <td>1936</td>\n      <td>جیبی</td>\n      <td>جلد سخت</td>\n      <td>2</td>\n      <td>---</td>\n      <td>تمام شد ، اما میاریمش 😏</td>\n    </tr>\n    <tr>\n      <th>17</th>\n      <td>11</td>\n      <td>121720</td>\n      <td>978-9646174863</td>\n      <td>برباد رفته</td>\n      <td>Gone with the wind</td>\n      <td>575000</td>\n      <td>0</td>\n      <td>3.76</td>\n      <td>نگاه</td>\n      <td>None</td>\n      <td>1400</td>\n      <td>1401</td>\n      <td>1936</td>\n      <td>رقعی</td>\n      <td>جلد سخت</td>\n      <td>8</td>\n      <td>---</td>\n      <td>تمام شد ، اما میاریمش 😏</td>\n    </tr>\n  </tbody>\n</table>\n</div>"
     },
     "execution_count": 25,
     "metadata": {},
     "output_type": "execute_result"
    }
   ],
   "source": [
    "tableOfData = pd.DataFrame(books_data_list,\n",
    "                           columns=['site_index', 'code', 'Isbn', 'fa_title', 'en_title', 'price', 'discount', 'score',\n",
    "                                    'publisher', 'author', 'pages', 'publication_per_date', 'publication_ad_date',\n",
    "                                    'size', 'cover_material', 'print_series', 'earliest_send_time','presence'])\n",
    "tableOfData"
   ]
  },
  {
   "cell_type": "code",
   "execution_count": null,
   "id": "15f94ddb4454136d",
   "metadata": {},
   "outputs": [],
   "source": [
    "file_path = \"bookData.csv\"\n",
    "tableOfData.to_csv(file_path, index=False, encoding='utf-8')"
   ]
  },
  {
   "cell_type": "code",
   "execution_count": 26,
   "outputs": [
    {
     "data": {
      "text/plain": "    site_index                                            summary\n0            1  طب چینی یا سوزنی یکی از دو رشته درمانی طبی دنی...\n1            2                                               None\n2            3                                               None\n3            4  نمایش‌نامه «تانیا» داستان زندگی زنی جوان است ک...\n4            5                                               None\n5            6  این کتابچه متضمن چهل و پنج راهکار و نکته در با...\n6            7  شاعر گرانمایه جناب آقای رضا اسماعیلی که از چهر...\n7            8                                               None\n8            9  کتاب حاضر، از مجموعه ی \"چرا ندیدیم؟\"، معرفی دق...\n9           10  امروزه هنگامی که کســب‌وکارها بــه فناوری فکر ...\n10          11  کتاب برباد رفته، رمانی است که مارگارت میچل آن ...",
      "text/html": "<div>\n<style scoped>\n    .dataframe tbody tr th:only-of-type {\n        vertical-align: middle;\n    }\n\n    .dataframe tbody tr th {\n        vertical-align: top;\n    }\n\n    .dataframe thead th {\n        text-align: right;\n    }\n</style>\n<table border=\"1\" class=\"dataframe\">\n  <thead>\n    <tr style=\"text-align: right;\">\n      <th></th>\n      <th>site_index</th>\n      <th>summary</th>\n    </tr>\n  </thead>\n  <tbody>\n    <tr>\n      <th>0</th>\n      <td>1</td>\n      <td>طب چینی یا سوزنی یکی از دو رشته درمانی طبی دنی...</td>\n    </tr>\n    <tr>\n      <th>1</th>\n      <td>2</td>\n      <td>None</td>\n    </tr>\n    <tr>\n      <th>2</th>\n      <td>3</td>\n      <td>None</td>\n    </tr>\n    <tr>\n      <th>3</th>\n      <td>4</td>\n      <td>نمایش‌نامه «تانیا» داستان زندگی زنی جوان است ک...</td>\n    </tr>\n    <tr>\n      <th>4</th>\n      <td>5</td>\n      <td>None</td>\n    </tr>\n    <tr>\n      <th>5</th>\n      <td>6</td>\n      <td>این کتابچه متضمن چهل و پنج راهکار و نکته در با...</td>\n    </tr>\n    <tr>\n      <th>6</th>\n      <td>7</td>\n      <td>شاعر گرانمایه جناب آقای رضا اسماعیلی که از چهر...</td>\n    </tr>\n    <tr>\n      <th>7</th>\n      <td>8</td>\n      <td>None</td>\n    </tr>\n    <tr>\n      <th>8</th>\n      <td>9</td>\n      <td>کتاب حاضر، از مجموعه ی \"چرا ندیدیم؟\"، معرفی دق...</td>\n    </tr>\n    <tr>\n      <th>9</th>\n      <td>10</td>\n      <td>امروزه هنگامی که کســب‌وکارها بــه فناوری فکر ...</td>\n    </tr>\n    <tr>\n      <th>10</th>\n      <td>11</td>\n      <td>کتاب برباد رفته، رمانی است که مارگارت میچل آن ...</td>\n    </tr>\n  </tbody>\n</table>\n</div>"
     },
     "execution_count": 26,
     "metadata": {},
     "output_type": "execute_result"
    }
   ],
   "source": [
    "tableOfSummaryData = pd.DataFrame(site_summary_data_list, columns=['site_index', 'summary'])\n",
    "tableOfSummaryData"
   ],
   "metadata": {
    "collapsed": false,
    "ExecuteTime": {
     "end_time": "2023-09-24T15:36:11.458853200Z",
     "start_time": "2023-09-24T15:36:11.416662900Z"
    }
   },
   "id": "49865f3f491e2893"
  },
  {
   "cell_type": "code",
   "execution_count": null,
   "outputs": [],
   "source": [
    "file_path = \"BookSummaryData.csv\"\n",
    "tableOfData.to_csv(file_path, index=False, encoding='utf-8')"
   ],
   "metadata": {
    "collapsed": false
   },
   "id": "7181915a808b0a33"
  },
  {
   "cell_type": "code",
   "execution_count": 27,
   "outputs": [
    {
     "data": {
      "text/plain": "    site_index                                    tag\n0            1                                  پزشکی\n1            1                           ادبیات ایران\n2            1                              کتاب مصور\n3            1                                 بهداشت\n4            2                        ادبیات استرالیا\n..         ...                                    ...\n66          11           فهرست برترین رمان های تاریخی\n67          11   برترین آثار داستانی با شخصیت اصلی زن\n68          11  برترین آثار تبدیل شده به فیلم و سریال\n69          11          فهرست برترین رمان های عاشقانه\n70          11  فهرست برترین کتاب ها درباره نژادپرستی\n\n[71 rows x 2 columns]",
      "text/html": "<div>\n<style scoped>\n    .dataframe tbody tr th:only-of-type {\n        vertical-align: middle;\n    }\n\n    .dataframe tbody tr th {\n        vertical-align: top;\n    }\n\n    .dataframe thead th {\n        text-align: right;\n    }\n</style>\n<table border=\"1\" class=\"dataframe\">\n  <thead>\n    <tr style=\"text-align: right;\">\n      <th></th>\n      <th>site_index</th>\n      <th>tag</th>\n    </tr>\n  </thead>\n  <tbody>\n    <tr>\n      <th>0</th>\n      <td>1</td>\n      <td>پزشکی</td>\n    </tr>\n    <tr>\n      <th>1</th>\n      <td>1</td>\n      <td>ادبیات ایران</td>\n    </tr>\n    <tr>\n      <th>2</th>\n      <td>1</td>\n      <td>کتاب مصور</td>\n    </tr>\n    <tr>\n      <th>3</th>\n      <td>1</td>\n      <td>بهداشت</td>\n    </tr>\n    <tr>\n      <th>4</th>\n      <td>2</td>\n      <td>ادبیات استرالیا</td>\n    </tr>\n    <tr>\n      <th>...</th>\n      <td>...</td>\n      <td>...</td>\n    </tr>\n    <tr>\n      <th>66</th>\n      <td>11</td>\n      <td>فهرست برترین رمان های تاریخی</td>\n    </tr>\n    <tr>\n      <th>67</th>\n      <td>11</td>\n      <td>برترین آثار داستانی با شخصیت اصلی زن</td>\n    </tr>\n    <tr>\n      <th>68</th>\n      <td>11</td>\n      <td>برترین آثار تبدیل شده به فیلم و سریال</td>\n    </tr>\n    <tr>\n      <th>69</th>\n      <td>11</td>\n      <td>فهرست برترین رمان های عاشقانه</td>\n    </tr>\n    <tr>\n      <th>70</th>\n      <td>11</td>\n      <td>فهرست برترین کتاب ها درباره نژادپرستی</td>\n    </tr>\n  </tbody>\n</table>\n<p>71 rows × 2 columns</p>\n</div>"
     },
     "execution_count": 27,
     "metadata": {},
     "output_type": "execute_result"
    }
   ],
   "source": [
    "tableOfSiteTagsData = pd.DataFrame(site_tags_data_list, columns=['site_index', 'tag'])\n",
    "tableOfSiteTagsData"
   ],
   "metadata": {
    "collapsed": false,
    "ExecuteTime": {
     "end_time": "2023-09-24T15:36:15.309379800Z",
     "start_time": "2023-09-24T15:36:15.284335400Z"
    }
   },
   "id": "4fb17a40b865591"
  },
  {
   "cell_type": "code",
   "execution_count": null,
   "outputs": [],
   "source": [
    "file_path = \"bookTagsData.csv\"\n",
    "tableOfData.to_csv(file_path, index=False, encoding='utf-8')"
   ],
   "metadata": {
    "collapsed": false
   },
   "id": "807ebe5799696472"
  },
  {
   "cell_type": "code",
   "execution_count": null,
   "outputs": [],
   "source": [],
   "metadata": {
    "collapsed": false
   },
   "id": "67d3b338aab9ca3b"
  }
 ],
 "metadata": {
  "kernelspec": {
   "display_name": "Python 3 (ipykernel)",
   "language": "python",
   "name": "python3"
  },
  "language_info": {
   "codemirror_mode": {
    "name": "ipython",
    "version": 3
   },
   "file_extension": ".py",
   "mimetype": "text/x-python",
   "name": "python",
   "nbconvert_exporter": "python",
   "pygments_lexer": "ipython3",
   "version": "3.11.3"
  }
 },
 "nbformat": 4,
 "nbformat_minor": 5
}
