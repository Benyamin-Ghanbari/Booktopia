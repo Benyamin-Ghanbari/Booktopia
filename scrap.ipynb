{
 "cells": [
  {
   "cell_type": "code",
   "execution_count": null,
   "id": "initial_id",
   "metadata": {
    "collapsed": true
   },
   "outputs": [],
   "source": [
    "#import all libraries\n",
    "import pandas as pd\n",
    "import requests\n",
    "from bs4 import BeautifulSoup\n",
    "import re\n",
    "import zipfile\n",
    "import logging"
   ]
  },
  {
   "cell_type": "code",
   "execution_count": null,
   "outputs": [],
   "source": [
    "def get_links(input_url):\n",
    "    pass #TODO"
   ],
   "metadata": {
    "collapsed": false
   },
   "id": "6c2e65b93bcafb3c"
  },
  {
   "cell_type": "code",
   "execution_count": null,
   "outputs": [],
   "source": [
    "def get_soup(input_url):\n",
    "    headers = {\n",
    "        'User-Agent': 'My User Agent 1.0',\n",
    "        \"Accept-Language\": \"en-US,en;q=0.5\"\n",
    "    }\n",
    "    response = requests.get(input_url, headers=headers)\n",
    "    if response.status_code != 200:\n",
    "        print(\"Error in getting link\")\n",
    "        print(\"response code is : \", response.status_code)\n",
    "    site_soup = BeautifulSoup(response.text, 'html.parser')\n",
    "    return site_soup"
   ],
   "metadata": {
    "collapsed": false
   },
   "id": "dd775c4290d33dfa"
  },
  {
   "cell_type": "code",
   "execution_count": null,
   "outputs": [],
   "source": [
    "def get_fa_title(soup):\n",
    "    pass #TODO"
   ],
   "metadata": {
    "collapsed": false
   },
   "id": "efc3968719f0d788"
  },
  {
   "cell_type": "code",
   "execution_count": null,
   "outputs": [],
   "source": [
    "def get_en_title(soup):\n",
    "    pass #TODO"
   ],
   "metadata": {
    "collapsed": false
   },
   "id": "2c4dab072bbbc2ab"
  },
  {
   "cell_type": "code",
   "execution_count": null,
   "outputs": [],
   "source": [
    "def get_price(soup):\n",
    "    pass"
   ],
   "metadata": {
    "collapsed": false
   },
   "id": "5c6151c0ff09fc3e"
  },
  {
   "cell_type": "code",
   "execution_count": 1,
   "outputs": [],
   "source": [
    "def get_discount(soup):\n",
    "    pass"
   ],
   "metadata": {
    "collapsed": false,
    "ExecuteTime": {
     "end_time": "2023-09-23T07:54:42.121626300Z",
     "start_time": "2023-09-23T07:54:42.090316900Z"
    }
   },
   "id": "20dfbbc77ef0ea67"
  },
  {
   "cell_type": "code",
   "execution_count": null,
   "outputs": [],
   "source": [
    "def get_score(soup):\n",
    "    pass"
   ],
   "metadata": {
    "collapsed": false
   },
   "id": "3b95900da3f89757"
  },
  {
   "cell_type": "code",
   "execution_count": null,
   "outputs": [],
   "source": [
    "def get_publisher(soup):\n",
    "    pass"
   ],
   "metadata": {
    "collapsed": false
   },
   "id": "3c5c9ddc5b07b81e"
  },
  {
   "cell_type": "code",
   "execution_count": null,
   "outputs": [],
   "source": [
    "def get_author(soup):\n",
    "    pass"
   ],
   "metadata": {
    "collapsed": false
   },
   "id": "235a6bc598b6b7ad"
  },
  {
   "cell_type": "code",
   "execution_count": null,
   "outputs": [],
   "source": [
    "def get_code(soup):\n",
    "    pass"
   ],
   "metadata": {
    "collapsed": false
   },
   "id": "91ceef904ea69bb2"
  },
  {
   "cell_type": "code",
   "execution_count": null,
   "outputs": [],
   "source": [
    "def get_isbn(soup):\n",
    "    pass"
   ],
   "metadata": {
    "collapsed": false
   },
   "id": "98f97669a6c5afb7"
  },
  {
   "cell_type": "code",
   "execution_count": null,
   "outputs": [],
   "source": [
    "def get_pages(soup):\n",
    "    pass"
   ],
   "metadata": {
    "collapsed": false
   },
   "id": "5a8deda3f95651a7"
  },
  {
   "cell_type": "code",
   "execution_count": null,
   "outputs": [],
   "source": [
    "def get_per_date(soup):\n",
    "    pass"
   ],
   "metadata": {
    "collapsed": false
   },
   "id": "bd1e66592f6110a7"
  },
  {
   "cell_type": "code",
   "execution_count": null,
   "outputs": [],
   "source": [
    "def get_ad_date(soup):\n",
    "    pass"
   ],
   "metadata": {
    "collapsed": false
   },
   "id": "f92f05890158c595"
  },
  {
   "cell_type": "code",
   "execution_count": null,
   "outputs": [],
   "source": [
    "def get_size(soup):\n",
    "    pass"
   ],
   "metadata": {
    "collapsed": false
   },
   "id": "5e1c4f56dadca0ca"
  },
  {
   "cell_type": "code",
   "execution_count": null,
   "outputs": [],
   "source": [
    "def get_material(soup):\n",
    "    pass"
   ],
   "metadata": {
    "collapsed": false
   },
   "id": "1a64d1acef92b833"
  },
  {
   "cell_type": "code",
   "execution_count": null,
   "outputs": [],
   "source": [
    "data_list = []\n",
    "url = \"temp\"  #TODO\n",
    "links = get_links(url)\n",
    "soups = get_soup(links)\n",
    "\n",
    "for site_soup in soups:\n",
    "    try:\n",
    "        book_fa_title = get_fa_title(site_soup)\n",
    "        book_en_title = get_en_title(site_soup)\n",
    "        book_price = get_price(site_soup)\n",
    "        book_discount = get_discount(site_soup)\n",
    "        book_score = get_score(site_soup)\n",
    "        book_publisher = get_publisher(site_soup)\n",
    "        book_author = get_author(site_soup)\n",
    "        book_code = get_code(site_soup)\n",
    "        book_Isbn = get_isbn(site_soup)\n",
    "        book_pages = get_pages(site_soup)\n",
    "        book_publication_per_date = get_per_date(site_soup)\n",
    "        book_publication_ad_date = get_ad_date(site_soup)\n",
    "        book_size = get_size(site_soup)\n",
    "        boo_cover_material = get_material(site_soup)\n",
    "\n",
    "        data = \"Temp\"  #TODO\n",
    "        data_list += [data]\n",
    "    except Exception:\n",
    "        logging.exception(\"An error occurred\")"
   ],
   "metadata": {
    "collapsed": false
   },
   "id": "3a38e9743f052b8"
  }
 ],
 "metadata": {
  "kernelspec": {
   "display_name": "Python 3",
   "language": "python",
   "name": "python3"
  },
  "language_info": {
   "codemirror_mode": {
    "name": "ipython",
    "version": 2
   },
   "file_extension": ".py",
   "mimetype": "text/x-python",
   "name": "python",
   "nbconvert_exporter": "python",
   "pygments_lexer": "ipython2",
   "version": "2.7.6"
  }
 },
 "nbformat": 4,
 "nbformat_minor": 5
}
