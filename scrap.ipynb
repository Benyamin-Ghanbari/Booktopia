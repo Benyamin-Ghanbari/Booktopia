{
 "cells": [
  {
   "cell_type": "code",
   "execution_count": 29,
   "id": "initial_id",
   "metadata": {
    "ExecuteTime": {
     "end_time": "2023-09-23T11:15:20.942406500Z",
     "start_time": "2023-09-23T11:15:20.903508400Z"
    }
   },
   "outputs": [],
   "source": [
    "#import all libraries\n",
    "import pandas as pd\n",
    "import requests\n",
    "from bs4 import BeautifulSoup\n",
    "import re\n",
    "import zipfile\n",
    "import logging"
   ]
  },
  {
   "cell_type": "code",
   "execution_count": 30,
   "id": "6c2e65b93bcafb3c",
   "metadata": {
    "ExecuteTime": {
     "end_time": "2023-09-23T11:15:21.571754900Z",
     "start_time": "2023-09-23T11:15:21.540322400Z"
    }
   },
   "outputs": [],
   "source": [
    "def get_links(input_url):\n",
    "    pass #TODO"
   ]
  },
  {
   "cell_type": "code",
   "execution_count": 31,
   "id": "dd775c4290d33dfa",
   "metadata": {
    "ExecuteTime": {
     "end_time": "2023-09-23T11:15:22.272959900Z",
     "start_time": "2023-09-23T11:15:22.214599100Z"
    }
   },
   "outputs": [],
   "source": [
    "def get_soup(input_url):\n",
    "    headers = {\n",
    "        'User-Agent': 'My User Agent 1.0',\n",
    "        \"Accept-Language\": \"en-US,en;q=0.5\"\n",
    "    }\n",
    "    response = requests.get(input_url, headers=headers)\n",
    "    if response.status_code != 200:\n",
    "        print(\"Error in getting link\")\n",
    "        print(\"response code is : \", response.status_code)\n",
    "    soup = BeautifulSoup(response.text, 'html.parser')\n",
    "    return soup"
   ]
  },
  {
   "cell_type": "code",
   "execution_count": 58,
   "id": "efc3968719f0d788",
   "metadata": {
    "ExecuteTime": {
     "end_time": "2023-09-23T11:25:05.827582100Z",
     "start_time": "2023-09-23T11:25:05.799643400Z"
    }
   },
   "outputs": [],
   "source": [
    "def get_fa_title(soup):\n",
    "    titles = soup.select('.product-name strong')\n",
    "    title_list = []\n",
    "    for title in titles:\n",
    "        title_list += [title.text]\n",
    "    return title_list\n"
   ]
  },
  {
   "cell_type": "code",
   "execution_count": 33,
   "id": "2c4dab072bbbc2ab",
   "metadata": {
    "ExecuteTime": {
     "end_time": "2023-09-23T11:15:23.313275100Z",
     "start_time": "2023-09-23T11:15:23.284351600Z"
    }
   },
   "outputs": [],
   "source": [
    "def get_en_title(soup):\n",
    "    pass #TODO"
   ]
  },
  {
   "cell_type": "code",
   "execution_count": 34,
   "id": "5c6151c0ff09fc3e",
   "metadata": {
    "ExecuteTime": {
     "end_time": "2023-09-23T11:15:23.848364300Z",
     "start_time": "2023-09-23T11:15:23.774940100Z"
    }
   },
   "outputs": [],
   "source": [
    "def get_price(soup):\n",
    "    pass #TODO"
   ]
  },
  {
   "cell_type": "code",
   "execution_count": 35,
   "id": "20dfbbc77ef0ea67",
   "metadata": {
    "ExecuteTime": {
     "end_time": "2023-09-23T11:15:24.621867600Z",
     "start_time": "2023-09-23T11:15:24.576983700Z"
    }
   },
   "outputs": [],
   "source": [
    "def get_discount(soup):\n",
    "    pass #TODO"
   ]
  },
  {
   "cell_type": "code",
   "execution_count": 36,
   "id": "3b95900da3f89757",
   "metadata": {
    "ExecuteTime": {
     "end_time": "2023-09-23T11:15:24.927783200Z",
     "start_time": "2023-09-23T11:15:24.896865600Z"
    }
   },
   "outputs": [],
   "source": [
    "def get_score(soup):\n",
    "    pass #TODO"
   ]
  },
  {
   "cell_type": "code",
   "execution_count": 37,
   "id": "3c5c9ddc5b07b81e",
   "metadata": {
    "ExecuteTime": {
     "end_time": "2023-09-23T11:15:25.459665300Z",
     "start_time": "2023-09-23T11:15:25.366064100Z"
    }
   },
   "outputs": [],
   "source": [
    "def get_publisher(soup):\n",
    "    pass #TODO"
   ]
  },
  {
   "cell_type": "code",
   "execution_count": 38,
   "id": "235a6bc598b6b7ad",
   "metadata": {
    "ExecuteTime": {
     "end_time": "2023-09-23T11:15:25.937389300Z",
     "start_time": "2023-09-23T11:15:25.902100200Z"
    }
   },
   "outputs": [],
   "source": [
    "def get_author(soup):\n",
    "    pass #TODO"
   ]
  },
  {
   "cell_type": "code",
   "execution_count": 39,
   "id": "91ceef904ea69bb2",
   "metadata": {
    "ExecuteTime": {
     "end_time": "2023-09-23T11:15:26.513402800Z",
     "start_time": "2023-09-23T11:15:26.476277300Z"
    }
   },
   "outputs": [],
   "source": [
    "def get_code(soup):\n",
    "    soups=soup.select('tr:nth-child(1) td+ td')\n",
    "    codes=[]\n",
    "    for s in soups:\n",
    "        codes.append(s.text)\n",
    "\n",
    "    return codes"
   ]
  },
  {
   "cell_type": "code",
   "execution_count": 40,
   "id": "98f97669a6c5afb7",
   "metadata": {
    "ExecuteTime": {
     "end_time": "2023-09-23T11:15:27.637301600Z",
     "start_time": "2023-09-23T11:15:27.611371600Z"
    }
   },
   "outputs": [],
   "source": [
    "def get_isbn(soup):\n",
    "    soups = soup.select('.product-table .ltr')\n",
    "    isbn_numbers = []\n",
    "    for inum in soups:\n",
    "        cleaned_text = inum.text.strip()  \n",
    "        cleaned_text = re.sub('[^0-9-]', '', cleaned_text)  \n",
    "        isbn_numbers.append(cleaned_text)\n",
    "\n",
    "    return isbn_numbers"
   ]
  },
  {
   "cell_type": "code",
   "execution_count": 41,
   "id": "5a8deda3f95651a7",
   "metadata": {
    "ExecuteTime": {
     "end_time": "2023-09-23T11:15:28.795295700Z",
     "start_time": "2023-09-23T11:15:28.766852600Z"
    }
   },
   "outputs": [],
   "source": [
    "def get_pages(soup):\n",
    "    soups = soup.select('tr:nth-child(5) .rtl')\n",
    "    pages=[]\n",
    "    for i in soups:\n",
    "        cleaned_text=i.text.strip()\n",
    "        cleaned_text = re.sub('[^0-9-]', '', cleaned_text)\n",
    "        pages.append(cleaned_text)\n",
    "    return pages"
   ]
  },
  {
   "cell_type": "code",
   "execution_count": 42,
   "id": "bd1e66592f6110a7",
   "metadata": {
    "ExecuteTime": {
     "end_time": "2023-09-23T11:15:29.584575200Z",
     "start_time": "2023-09-23T11:15:29.543436700Z"
    }
   },
   "outputs": [],
   "source": [
    "def get_per_date(soup):\n",
    "    pass #TODO"
   ]
  },
  {
   "cell_type": "code",
   "execution_count": 43,
   "id": "f92f05890158c595",
   "metadata": {
    "ExecuteTime": {
     "end_time": "2023-09-23T11:15:30.369774400Z",
     "start_time": "2023-09-23T11:15:30.336491400Z"
    }
   },
   "outputs": [],
   "source": [
    "def get_ad_date(soup):\n",
    "    pass #TODO"
   ]
  },
  {
   "cell_type": "code",
   "execution_count": 44,
   "id": "5e1c4f56dadca0ca",
   "metadata": {
    "ExecuteTime": {
     "end_time": "2023-09-23T11:15:30.828846400Z",
     "start_time": "2023-09-23T11:15:30.753450200Z"
    }
   },
   "outputs": [],
   "source": [
    "def get_size(soup):\n",
    "    pass #TODO"
   ]
  },
  {
   "cell_type": "code",
   "execution_count": 45,
   "id": "1a64d1acef92b833",
   "metadata": {
    "ExecuteTime": {
     "end_time": "2023-09-23T11:15:31.472626Z",
     "start_time": "2023-09-23T11:15:31.437978100Z"
    }
   },
   "outputs": [],
   "source": [
    "def get_material(soup):\n",
    "    pass #TODO"
   ]
  },
  {
   "cell_type": "code",
   "execution_count": 46,
   "id": "49efd3b85388bd1e",
   "metadata": {
    "ExecuteTime": {
     "end_time": "2023-09-23T11:15:32.053468800Z",
     "start_time": "2023-09-23T11:15:32.009722800Z"
    }
   },
   "outputs": [],
   "source": [
    "def get_series(soup):\n",
    "    pass #TODO"
   ]
  },
  {
   "cell_type": "code",
   "execution_count": 47,
   "id": "1dcebd694258ecee",
   "metadata": {
    "ExecuteTime": {
     "end_time": "2023-09-23T11:15:32.563441100Z",
     "start_time": "2023-09-23T11:15:32.507392900Z"
    }
   },
   "outputs": [],
   "source": [
    "def get_send_time(soup):\n",
    "    pass"
   ]
  },
  {
   "cell_type": "code",
   "execution_count": 48,
   "id": "5c297eef97f3ef6f",
   "metadata": {
    "ExecuteTime": {
     "end_time": "2023-09-23T11:15:33.383570700Z",
     "start_time": "2023-09-23T11:15:33.343035300Z"
    }
   },
   "outputs": [],
   "source": [
    "def get_summary(soup):\n",
    "    try:\n",
    "        summary = soup.select('.product-description')[0].text\n",
    "    except Exception:\n",
    "        summary = None\n",
    "        logging.exception(\"This book has no summary!\")\n",
    "    return summary"
   ]
  },
  {
   "cell_type": "code",
   "execution_count": 49,
   "id": "9680a41c872e4ad7",
   "metadata": {
    "ExecuteTime": {
     "end_time": "2023-09-23T11:15:34.437226200Z",
     "start_time": "2023-09-23T11:15:34.404631900Z"
    }
   },
   "outputs": [],
   "source": [
    "def get_tags(soup):\n",
    "    pass"
   ]
  },
  {
   "cell_type": "code",
   "execution_count": 60,
   "outputs": [
    {
     "name": "stdout",
     "output_type": "stream",
     "text": [
      "\r\n",
      "                                کتاب برباد رفته، رمانی است که مارگارت میچل آن را به رشته ی تحریر درآورده و در سال 1936 برای اولین بار به چاپ رسیده است. داستان، در کلایتون کانتی و آتلانتا، و در زمان جنگ داخلی آمریکا و دوره ی بازسازی پس از جنگ می گذرد. اسکارلت اوهارا، دختر جوان و لوس مزرعه داری ثروتمند است که باید از همه ی امکاناتش استفاده کند تا بتواند خود را از فقر و فلاکت ناشی از جنگ و درگیری های خونین آن، برهاند. لازم به ذکر است که عنوان رمان بر باد رفته، از شعری نوشته ی ارنست داوسون گرفته شده است.\n",
      "کتاب برباد رفته، از همان لحظات آغازین به محبوبیت شگفت آوری در میان مخاطبان آمریکایی دست یافت و به پرفروش ترین اثر داستانی آمریکا در سال های 1936 و 1937 تبدیل گشت. نتایج یک نظرسنجی در سال 2014 نشان داد که رمان بر باد رفته، پس از کتاب مقدس، دومین اثر محبوب خوانندگان آمریکایی بوده و بیش از سی میلیون نسخه از آن، در سرتاسر جهان به فروش رفته است.\n",
      "\r\n",
      "                            \n",
      "['کتاب بر باد رفته', 'برباد رفته', 'بر باد رفته', 'برباد رفته (۲ جلدی)', 'بر باد رفته', 'بر باد رفته', 'بر باد رفته', 'برباد رفته']\n",
      "---------------------\n"
     ]
    },
    {
     "name": "stderr",
     "output_type": "stream",
     "text": [
      "ERROR:root:This book has no summary!\n",
      "Traceback (most recent call last):\n",
      "  File \"C:\\Users\\raeim\\AppData\\Local\\Temp\\ipykernel_23596\\4012058573.py\", line 3, in get_summary\n",
      "    summary = soup.select('.product-description')[0].text\n",
      "IndexError: list index out of range\n"
     ]
    },
    {
     "name": "stdout",
     "output_type": "stream",
     "text": [
      "None\n",
      "['کتاب سربازهای پیاده به انتها نمی رسند']\n",
      "---------------------\n",
      "\r\n",
      "                                خلاصه داستان: ایزابل دختر کاپیتان تورنادو، دزد دریایی معروف، پس از مرگ پدرش تنها وارث کشتی دزدان دریایی می‌شود او قصد دارد خود به عنوان کاپیتان کشتی دزدان دریایی وارد مجمع دزدان دریایی شود اما بر طبق سنت‌های دزدان دریایی، بودن یک زن در کشتی بد‌شانسی می‌آورد و هیچ‌کس حاضر نیست خدمه‌ی کشتی‌ای باشد که یک زن آنرا هدایت کند در این میان کاپیتان ویلیام در طی یک حمله کشتی خود را از دست می‌دهد اما دست تقدیر این دو کاپیتان را با هم آشنا می‌کند اما این آشنایی پر از چالش هایی خواهد بود...\n",
      "\n",
      "['کتاب هفت گنج']\n",
      "---------------------\n"
     ]
    },
    {
     "name": "stderr",
     "output_type": "stream",
     "text": [
      "ERROR:root:This book has no summary!\n",
      "Traceback (most recent call last):\n",
      "  File \"C:\\Users\\raeim\\AppData\\Local\\Temp\\ipykernel_23596\\4012058573.py\", line 3, in get_summary\n",
      "    summary = soup.select('.product-description')[0].text\n",
      "IndexError: list index out of range\n"
     ]
    },
    {
     "name": "stdout",
     "output_type": "stream",
     "text": [
      "None\n",
      "['کتاب شیطان در پیراهن آبی']\n",
      "---------------------\n",
      "\r\n",
      "                                مارک یک اسکوتر جدید می‌خواهد، اما باید برای خریدنش پس‌انداز کند! آیا مارک موفق می‌شود یا لباس‌های نو، اسباب‌بازی‌های تازه و شیرینی‌های خوشمزه او را وسوسه می‌کنند؟بعضی‌ها معتقدند پول است که جهان را می‌گرداند! اما واقعا پول چیست؟ درست است که نمی‌توانیم آن را بخوریم یا بیاشامیم، اما بیشتر ما برای زنده ماندن به پول نیاز داریم. درباره‌ی پول چه چیزهایی باید بدانیم؟ مجموعه‌ی چهارجلدی «هوش مالی» به کودکان کمک می‌کند تا با زبانی ساده با نقش پول در زندگی و مسئولیت‌پذیری مالی آشنا شوند.\r\n",
      "                            \n",
      "['کتاب پس انداز پول']\n",
      "---------------------\n"
     ]
    }
   ],
   "source": [
    "#test cell  #TODO temp\n",
    "links = ['https://www.iranketab.ir/book/270-gone-with-the-wind',\n",
    "         'https://www.iranketab.ir/book/121475-foot-soldiers-do-not-reach-the-end',\n",
    "         'https://www.iranketab.ir/book/121501-setaregan-e-sarnevesht',\n",
    "         'https://www.iranketab.ir/book/119702-devil-in-a-blue-dress',\n",
    "         'https://www.iranketab.ir/book/119533-saving-money']\n",
    "for link in links:\n",
    "    print(get_fa_title(test))\n",
    "    test = get_soup(link)\n",
    "    print(get_summary(test))\n",
    "    print(\"---------------------\")"
   ],
   "metadata": {
    "collapsed": false,
    "ExecuteTime": {
     "end_time": "2023-09-23T11:25:58.796399700Z",
     "start_time": "2023-09-23T11:25:56.716180100Z"
    }
   },
   "id": "ab26d8cd6d8be248"
  },
  {
   "cell_type": "code",
   "execution_count": 22,
   "id": "3a38e9743f052b8",
   "metadata": {},
   "outputs": [
    {
     "ename": "MissingSchema",
     "evalue": "Invalid URL 'None': No scheme supplied. Perhaps you meant https://None?",
     "output_type": "error",
     "traceback": [
      "\u001B[1;31m---------------------------------------------------------------------------\u001B[0m",
      "\u001B[1;31mMissingSchema\u001B[0m                             Traceback (most recent call last)",
      "Cell \u001B[1;32mIn[22], line 5\u001B[0m\n\u001B[0;32m      2\u001B[0m url \u001B[38;5;241m=\u001B[39m \u001B[38;5;124m\"\u001B[39m\u001B[38;5;124mtemp\u001B[39m\u001B[38;5;124m\"\u001B[39m  \u001B[38;5;66;03m#TODO\u001B[39;00m\n\u001B[0;32m      3\u001B[0m links \u001B[38;5;241m=\u001B[39m get_links(url)\n\u001B[1;32m----> 5\u001B[0m soups \u001B[38;5;241m=\u001B[39m get_soup(links)\n\u001B[0;32m      7\u001B[0m \u001B[38;5;28;01mfor\u001B[39;00m site_soup \u001B[38;5;129;01min\u001B[39;00m soups:\n\u001B[0;32m      8\u001B[0m     \u001B[38;5;28;01mtry\u001B[39;00m:\n",
      "Cell \u001B[1;32mIn[3], line 6\u001B[0m, in \u001B[0;36mget_soup\u001B[1;34m(input_url)\u001B[0m\n\u001B[0;32m      1\u001B[0m \u001B[38;5;28;01mdef\u001B[39;00m \u001B[38;5;21mget_soup\u001B[39m(input_url):\n\u001B[0;32m      2\u001B[0m     headers \u001B[38;5;241m=\u001B[39m {\n\u001B[0;32m      3\u001B[0m         \u001B[38;5;124m'\u001B[39m\u001B[38;5;124mUser-Agent\u001B[39m\u001B[38;5;124m'\u001B[39m: \u001B[38;5;124m'\u001B[39m\u001B[38;5;124mMy User Agent 1.0\u001B[39m\u001B[38;5;124m'\u001B[39m,\n\u001B[0;32m      4\u001B[0m         \u001B[38;5;124m\"\u001B[39m\u001B[38;5;124mAccept-Language\u001B[39m\u001B[38;5;124m\"\u001B[39m: \u001B[38;5;124m\"\u001B[39m\u001B[38;5;124men-US,en;q=0.5\u001B[39m\u001B[38;5;124m\"\u001B[39m\n\u001B[0;32m      5\u001B[0m     }\n\u001B[1;32m----> 6\u001B[0m     response \u001B[38;5;241m=\u001B[39m requests\u001B[38;5;241m.\u001B[39mget(input_url, headers\u001B[38;5;241m=\u001B[39mheaders)\n\u001B[0;32m      7\u001B[0m     \u001B[38;5;28;01mif\u001B[39;00m response\u001B[38;5;241m.\u001B[39mstatus_code \u001B[38;5;241m!=\u001B[39m \u001B[38;5;241m200\u001B[39m:\n\u001B[0;32m      8\u001B[0m         \u001B[38;5;28mprint\u001B[39m(\u001B[38;5;124m\"\u001B[39m\u001B[38;5;124mError in getting link\u001B[39m\u001B[38;5;124m\"\u001B[39m)\n",
      "File \u001B[1;32mC:\\Anaconda\\Lib\\site-packages\\requests\\api.py:73\u001B[0m, in \u001B[0;36mget\u001B[1;34m(url, params, **kwargs)\u001B[0m\n\u001B[0;32m     62\u001B[0m \u001B[38;5;28;01mdef\u001B[39;00m \u001B[38;5;21mget\u001B[39m(url, params\u001B[38;5;241m=\u001B[39m\u001B[38;5;28;01mNone\u001B[39;00m, \u001B[38;5;241m*\u001B[39m\u001B[38;5;241m*\u001B[39mkwargs):\n\u001B[0;32m     63\u001B[0m \u001B[38;5;250m    \u001B[39m\u001B[38;5;124mr\u001B[39m\u001B[38;5;124;03m\"\"\"Sends a GET request.\u001B[39;00m\n\u001B[0;32m     64\u001B[0m \n\u001B[0;32m     65\u001B[0m \u001B[38;5;124;03m    :param url: URL for the new :class:`Request` object.\u001B[39;00m\n\u001B[1;32m   (...)\u001B[0m\n\u001B[0;32m     70\u001B[0m \u001B[38;5;124;03m    :rtype: requests.Response\u001B[39;00m\n\u001B[0;32m     71\u001B[0m \u001B[38;5;124;03m    \"\"\"\u001B[39;00m\n\u001B[1;32m---> 73\u001B[0m     \u001B[38;5;28;01mreturn\u001B[39;00m request(\u001B[38;5;124m\"\u001B[39m\u001B[38;5;124mget\u001B[39m\u001B[38;5;124m\"\u001B[39m, url, params\u001B[38;5;241m=\u001B[39mparams, \u001B[38;5;241m*\u001B[39m\u001B[38;5;241m*\u001B[39mkwargs)\n",
      "File \u001B[1;32mC:\\Anaconda\\Lib\\site-packages\\requests\\api.py:59\u001B[0m, in \u001B[0;36mrequest\u001B[1;34m(method, url, **kwargs)\u001B[0m\n\u001B[0;32m     55\u001B[0m \u001B[38;5;66;03m# By using the 'with' statement we are sure the session is closed, thus we\u001B[39;00m\n\u001B[0;32m     56\u001B[0m \u001B[38;5;66;03m# avoid leaving sockets open which can trigger a ResourceWarning in some\u001B[39;00m\n\u001B[0;32m     57\u001B[0m \u001B[38;5;66;03m# cases, and look like a memory leak in others.\u001B[39;00m\n\u001B[0;32m     58\u001B[0m \u001B[38;5;28;01mwith\u001B[39;00m sessions\u001B[38;5;241m.\u001B[39mSession() \u001B[38;5;28;01mas\u001B[39;00m session:\n\u001B[1;32m---> 59\u001B[0m     \u001B[38;5;28;01mreturn\u001B[39;00m session\u001B[38;5;241m.\u001B[39mrequest(method\u001B[38;5;241m=\u001B[39mmethod, url\u001B[38;5;241m=\u001B[39murl, \u001B[38;5;241m*\u001B[39m\u001B[38;5;241m*\u001B[39mkwargs)\n",
      "File \u001B[1;32mC:\\Anaconda\\Lib\\site-packages\\requests\\sessions.py:575\u001B[0m, in \u001B[0;36mSession.request\u001B[1;34m(self, method, url, params, data, headers, cookies, files, auth, timeout, allow_redirects, proxies, hooks, stream, verify, cert, json)\u001B[0m\n\u001B[0;32m    562\u001B[0m \u001B[38;5;66;03m# Create the Request.\u001B[39;00m\n\u001B[0;32m    563\u001B[0m req \u001B[38;5;241m=\u001B[39m Request(\n\u001B[0;32m    564\u001B[0m     method\u001B[38;5;241m=\u001B[39mmethod\u001B[38;5;241m.\u001B[39mupper(),\n\u001B[0;32m    565\u001B[0m     url\u001B[38;5;241m=\u001B[39murl,\n\u001B[1;32m   (...)\u001B[0m\n\u001B[0;32m    573\u001B[0m     hooks\u001B[38;5;241m=\u001B[39mhooks,\n\u001B[0;32m    574\u001B[0m )\n\u001B[1;32m--> 575\u001B[0m prep \u001B[38;5;241m=\u001B[39m \u001B[38;5;28mself\u001B[39m\u001B[38;5;241m.\u001B[39mprepare_request(req)\n\u001B[0;32m    577\u001B[0m proxies \u001B[38;5;241m=\u001B[39m proxies \u001B[38;5;129;01mor\u001B[39;00m {}\n\u001B[0;32m    579\u001B[0m settings \u001B[38;5;241m=\u001B[39m \u001B[38;5;28mself\u001B[39m\u001B[38;5;241m.\u001B[39mmerge_environment_settings(\n\u001B[0;32m    580\u001B[0m     prep\u001B[38;5;241m.\u001B[39murl, proxies, stream, verify, cert\n\u001B[0;32m    581\u001B[0m )\n",
      "File \u001B[1;32mC:\\Anaconda\\Lib\\site-packages\\requests\\sessions.py:486\u001B[0m, in \u001B[0;36mSession.prepare_request\u001B[1;34m(self, request)\u001B[0m\n\u001B[0;32m    483\u001B[0m     auth \u001B[38;5;241m=\u001B[39m get_netrc_auth(request\u001B[38;5;241m.\u001B[39murl)\n\u001B[0;32m    485\u001B[0m p \u001B[38;5;241m=\u001B[39m PreparedRequest()\n\u001B[1;32m--> 486\u001B[0m p\u001B[38;5;241m.\u001B[39mprepare(\n\u001B[0;32m    487\u001B[0m     method\u001B[38;5;241m=\u001B[39mrequest\u001B[38;5;241m.\u001B[39mmethod\u001B[38;5;241m.\u001B[39mupper(),\n\u001B[0;32m    488\u001B[0m     url\u001B[38;5;241m=\u001B[39mrequest\u001B[38;5;241m.\u001B[39murl,\n\u001B[0;32m    489\u001B[0m     files\u001B[38;5;241m=\u001B[39mrequest\u001B[38;5;241m.\u001B[39mfiles,\n\u001B[0;32m    490\u001B[0m     data\u001B[38;5;241m=\u001B[39mrequest\u001B[38;5;241m.\u001B[39mdata,\n\u001B[0;32m    491\u001B[0m     json\u001B[38;5;241m=\u001B[39mrequest\u001B[38;5;241m.\u001B[39mjson,\n\u001B[0;32m    492\u001B[0m     headers\u001B[38;5;241m=\u001B[39mmerge_setting(\n\u001B[0;32m    493\u001B[0m         request\u001B[38;5;241m.\u001B[39mheaders, \u001B[38;5;28mself\u001B[39m\u001B[38;5;241m.\u001B[39mheaders, dict_class\u001B[38;5;241m=\u001B[39mCaseInsensitiveDict\n\u001B[0;32m    494\u001B[0m     ),\n\u001B[0;32m    495\u001B[0m     params\u001B[38;5;241m=\u001B[39mmerge_setting(request\u001B[38;5;241m.\u001B[39mparams, \u001B[38;5;28mself\u001B[39m\u001B[38;5;241m.\u001B[39mparams),\n\u001B[0;32m    496\u001B[0m     auth\u001B[38;5;241m=\u001B[39mmerge_setting(auth, \u001B[38;5;28mself\u001B[39m\u001B[38;5;241m.\u001B[39mauth),\n\u001B[0;32m    497\u001B[0m     cookies\u001B[38;5;241m=\u001B[39mmerged_cookies,\n\u001B[0;32m    498\u001B[0m     hooks\u001B[38;5;241m=\u001B[39mmerge_hooks(request\u001B[38;5;241m.\u001B[39mhooks, \u001B[38;5;28mself\u001B[39m\u001B[38;5;241m.\u001B[39mhooks),\n\u001B[0;32m    499\u001B[0m )\n\u001B[0;32m    500\u001B[0m \u001B[38;5;28;01mreturn\u001B[39;00m p\n",
      "File \u001B[1;32mC:\\Anaconda\\Lib\\site-packages\\requests\\models.py:368\u001B[0m, in \u001B[0;36mPreparedRequest.prepare\u001B[1;34m(self, method, url, headers, files, data, params, auth, cookies, hooks, json)\u001B[0m\n\u001B[0;32m    365\u001B[0m \u001B[38;5;250m\u001B[39m\u001B[38;5;124;03m\"\"\"Prepares the entire request with the given parameters.\"\"\"\u001B[39;00m\n\u001B[0;32m    367\u001B[0m \u001B[38;5;28mself\u001B[39m\u001B[38;5;241m.\u001B[39mprepare_method(method)\n\u001B[1;32m--> 368\u001B[0m \u001B[38;5;28mself\u001B[39m\u001B[38;5;241m.\u001B[39mprepare_url(url, params)\n\u001B[0;32m    369\u001B[0m \u001B[38;5;28mself\u001B[39m\u001B[38;5;241m.\u001B[39mprepare_headers(headers)\n\u001B[0;32m    370\u001B[0m \u001B[38;5;28mself\u001B[39m\u001B[38;5;241m.\u001B[39mprepare_cookies(cookies)\n",
      "File \u001B[1;32mC:\\Anaconda\\Lib\\site-packages\\requests\\models.py:439\u001B[0m, in \u001B[0;36mPreparedRequest.prepare_url\u001B[1;34m(self, url, params)\u001B[0m\n\u001B[0;32m    436\u001B[0m     \u001B[38;5;28;01mraise\u001B[39;00m InvalidURL(\u001B[38;5;241m*\u001B[39me\u001B[38;5;241m.\u001B[39margs)\n\u001B[0;32m    438\u001B[0m \u001B[38;5;28;01mif\u001B[39;00m \u001B[38;5;129;01mnot\u001B[39;00m scheme:\n\u001B[1;32m--> 439\u001B[0m     \u001B[38;5;28;01mraise\u001B[39;00m MissingSchema(\n\u001B[0;32m    440\u001B[0m         \u001B[38;5;124mf\u001B[39m\u001B[38;5;124m\"\u001B[39m\u001B[38;5;124mInvalid URL \u001B[39m\u001B[38;5;132;01m{\u001B[39;00murl\u001B[38;5;132;01m!r}\u001B[39;00m\u001B[38;5;124m: No scheme supplied. \u001B[39m\u001B[38;5;124m\"\u001B[39m\n\u001B[0;32m    441\u001B[0m         \u001B[38;5;124mf\u001B[39m\u001B[38;5;124m\"\u001B[39m\u001B[38;5;124mPerhaps you meant https://\u001B[39m\u001B[38;5;132;01m{\u001B[39;00murl\u001B[38;5;132;01m}\u001B[39;00m\u001B[38;5;124m?\u001B[39m\u001B[38;5;124m\"\u001B[39m\n\u001B[0;32m    442\u001B[0m     )\n\u001B[0;32m    444\u001B[0m \u001B[38;5;28;01mif\u001B[39;00m \u001B[38;5;129;01mnot\u001B[39;00m host:\n\u001B[0;32m    445\u001B[0m     \u001B[38;5;28;01mraise\u001B[39;00m InvalidURL(\u001B[38;5;124mf\u001B[39m\u001B[38;5;124m\"\u001B[39m\u001B[38;5;124mInvalid URL \u001B[39m\u001B[38;5;132;01m{\u001B[39;00murl\u001B[38;5;132;01m!r}\u001B[39;00m\u001B[38;5;124m: No host supplied\u001B[39m\u001B[38;5;124m\"\u001B[39m)\n",
      "\u001B[1;31mMissingSchema\u001B[0m: Invalid URL 'None': No scheme supplied. Perhaps you meant https://None?"
     ]
    }
   ],
   "source": [
    "data_list = []\n",
    "url = \"temp\"  #TODO\n",
    "links = get_links(url)\n",
    "\n",
    "soups = get_soup(links)\n",
    "\n",
    "for site_soup in soups:\n",
    "    try:\n",
    "        book_fa_title = get_fa_title(site_soup)\n",
    "        book_en_title = get_en_title(site_soup)\n",
    "        book_price = get_price(site_soup)\n",
    "        book_discount = get_discount(site_soup)\n",
    "        book_score = get_score(site_soup)\n",
    "        book_publisher = get_publisher(site_soup)\n",
    "        book_author = get_author(site_soup)\n",
    "        book_code = get_code(site_soup)\n",
    "        book_Isbn = get_isbn(site_soup)\n",
    "        book_pages = get_pages(site_soup)\n",
    "        book_publication_per_date = get_per_date(site_soup)\n",
    "        book_publication_ad_date = get_ad_date(site_soup)\n",
    "        book_size = get_size(site_soup)\n",
    "        book_cover_material = get_material(site_soup)\n",
    "        book_print_series = get_series(site_soup)\n",
    "        book_earliest_send_time = get_send_time(site_soup)\n",
    "        book_summary = get_summary(site_soup)\n",
    "        book_tags = get_tags(site_soup)\n",
    "\n",
    "        data = [book_fa_title, book_en_title, book_price, book_discount, book_score, book_publisher, book_author,\n",
    "                book_code, book_Isbn, book_pages, book_publication_per_date, book_publication_ad_date, book_size,\n",
    "                book_cover_material, book_print_series, book_earliest_send_time, book_summary, book_tags]  #TODO\n",
    "        data_list += [data]\n",
    "    except Exception:\n",
    "        logging.exception(\"An error occurred\")"
   ]
  }
 ],
 "metadata": {
  "kernelspec": {
   "display_name": "Python 3 (ipykernel)",
   "language": "python",
   "name": "python3"
  },
  "language_info": {
   "codemirror_mode": {
    "name": "ipython",
    "version": 3
   },
   "file_extension": ".py",
   "mimetype": "text/x-python",
   "name": "python",
   "nbconvert_exporter": "python",
   "pygments_lexer": "ipython3",
   "version": "3.11.3"
  }
 },
 "nbformat": 4,
 "nbformat_minor": 5
}
