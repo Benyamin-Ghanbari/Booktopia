{
 "cells": [
  {
   "cell_type": "code",
   "execution_count": 1,
   "id": "initial_id",
   "metadata": {
    "ExecuteTime": {
     "end_time": "2023-09-24T04:44:24.601749800Z",
     "start_time": "2023-09-24T04:44:24.570060300Z"
    }
   },
   "outputs": [],
   "source": [
    "#import all libraries\n",
    "import pandas as pd\n",
    "import requests\n",
    "import bs4\n",
    "import re\n",
    "import zipfile\n",
    "import logging\n",
    "import concurrent.futures\n",
    "import math\n",
    "from time import sleep\n",
    "from concurrent.futures import ThreadPoolExecutor\n",
    "from concurrent.futures import as_completed"
   ]
  },
  {
   "cell_type": "code",
   "execution_count": 2,
   "id": "6c2e65b93bcafb3c",
   "metadata": {
    "ExecuteTime": {
     "end_time": "2023-09-24T04:44:25.087917900Z",
     "start_time": "2023-09-24T04:44:25.059445800Z"
    }
   },
   "outputs": [],
   "source": [
    "def get_links():\n",
    "    urls = list(pd.read_csv('books_url.csv')['link'])\n",
    "    return urls"
   ]
  },
  {
   "cell_type": "code",
   "execution_count": 3,
   "id": "dd775c4290d33dfa",
   "metadata": {
    "ExecuteTime": {
     "end_time": "2023-09-24T04:44:25.809470200Z",
     "start_time": "2023-09-24T04:44:25.790535100Z"
    }
   },
   "outputs": [],
   "source": [
    "def get_soup(input_url):\n",
    "    headers = {\n",
    "        'User-Agent': 'My User Agent 1.0',\n",
    "        \"Accept-Language\": \"en-US,en;q=0.5\"\n",
    "    }\n",
    "    response = requests.get(input_url, headers=headers)\n",
    "    if response.status_code != 200:\n",
    "        print(\"Error in getting link\")\n",
    "        print(\"response code is : \", response.status_code)\n",
    "    soup = bs4.BeautifulSoup(response.text, 'html.parser')\n",
    "    return soup"
   ]
  },
  {
   "cell_type": "code",
   "execution_count": 4,
   "id": "efc3968719f0d788",
   "metadata": {
    "ExecuteTime": {
     "end_time": "2023-09-24T04:44:26.353162100Z",
     "start_time": "2023-09-24T04:44:26.309715900Z"
    }
   },
   "outputs": [],
   "source": [
    "def get_fa_title(soup):\n",
    "    title = soup.select('.product-name strong')[0]\n",
    "    return title.text\n"
   ]
  },
  {
   "cell_type": "code",
   "execution_count": 5,
   "id": "2c4dab072bbbc2ab",
   "metadata": {
    "ExecuteTime": {
     "end_time": "2023-09-24T04:44:26.789417400Z",
     "start_time": "2023-09-24T04:44:26.765208500Z"
    }
   },
   "outputs": [],
   "source": [
    "def get_en_title(soup):\n",
    "    title = soup.select('.product-name-englishname')[0]\n",
    "    return title.text"
   ]
  },
  {
   "cell_type": "code",
   "execution_count": 6,
   "id": "5c6151c0ff09fc3e",
   "metadata": {
    "ExecuteTime": {
     "end_time": "2023-09-24T04:44:27.207657700Z",
     "start_time": "2023-09-24T04:44:27.184179Z"
    }
   },
   "outputs": [],
   "source": [
    "def get_price(soup):\n",
    "    price = soup.select('.col-md-7 .price-special')[0].text\n",
    "    return int(price.replace(',', ''))  #TODO make the price integer"
   ]
  },
  {
   "cell_type": "code",
   "execution_count": 7,
   "id": "20dfbbc77ef0ea67",
   "metadata": {
    "ExecuteTime": {
     "end_time": "2023-09-24T04:44:27.643807300Z",
     "start_time": "2023-09-24T04:44:27.615776500Z"
    }
   },
   "outputs": [],
   "source": [
    "# def get_discount(soup):\n",
    "#     try:\n",
    "#         discount_price = int(soup.select('.col-md-12+ .clearfix .price-special')[0].text.replace(',', ''))\n",
    "#         discount_price = ((get_price(soup) - discount_price) / get_price(soup)) * 100\n",
    "#     except Exception:\n",
    "#         discount_price = 0\n",
    "#         logging.exception(\"This book has no discount!\")\n",
    "#     return discount_price  \n",
    "\n",
    "############################################################################################\n",
    "#plz check\n",
    "############################################################################################\n",
    "\n",
    "def get_discount(soup):\n",
    "    cleaned_text=soup.select('li:nth-child(1) div')[0].text\n",
    "    cleaned_text=re.sub('تخفیف','',cleaned_text)\n",
    "    return cleaned_text"
   ]
  },
  {
   "cell_type": "code",
   "execution_count": 10,
   "id": "3b95900da3f89757",
   "metadata": {
    "ExecuteTime": {
     "end_time": "2023-09-24T04:44:28.139113700Z",
     "start_time": "2023-09-24T04:44:28.107170800Z"
    }
   },
   "outputs": [],
   "source": [
    "def get_score(soup):\n",
    "    soup = soup.find('div', {'class':'col-md-7'}).find('li', {'class':'pull-left'}).find('div', {'class':'my-rating'})\n",
    "    soup_str = str(soup)\n",
    "\n",
    "    match = re.search(r'data-rating=\"(\\d+\\.\\d+)\"', soup_str)\n",
    "    if match:\n",
    "        data_rating = match.group(1)\n",
    "        return data_rating\n",
    "    "
   ]
  },
  {
   "cell_type": "code",
   "execution_count": 30,
   "id": "3c5c9ddc5b07b81e",
   "metadata": {
    "ExecuteTime": {
     "end_time": "2023-09-24T04:44:28.541976Z",
     "start_time": "2023-09-24T04:44:28.518165900Z"
    }
   },
   "outputs": [],
   "source": [
    "def get_publisher(soup):\n",
    "    publisher_href = soup.find('div', {'class': 'row clearfix'}).find('a')['href']\n",
    "    try:\n",
    "        publisher = soup.select('.prodoct-attribute-items:nth-child(1) a .prodoct-attribute-item')[0].text.strip()\n",
    "    except Exception:\n",
    "        publisher = None\n",
    "        logging.exception(\"This book has no publisher!\")\n",
    "    return publisher"
   ]
  },
  {
   "cell_type": "code",
   "execution_count": null,
   "id": "235a6bc598b6b7ad",
   "metadata": {
    "ExecuteTime": {
     "end_time": "2023-09-24T04:44:29.021939800Z",
     "start_time": "2023-09-24T04:44:28.986464900Z"
    }
   },
   "outputs": [],
   "source": [
    "def get_author(soup):\n",
    "    try:\n",
    "        author = soup.select('.prodoct-attribute-items+ .prodoct-attribute-items a .prodoct-attribute-item')[0].text.strip()\n",
    "    except Exception:\n",
    "        author = None\n",
    "        logging.exception(\"This book has no author!\")    \n",
    "    return author"
   ]
  },
  {
   "cell_type": "code",
   "execution_count": null,
   "id": "91ceef904ea69bb2",
   "metadata": {
    "ExecuteTime": {
     "end_time": "2023-09-24T04:44:29.713932800Z",
     "start_time": "2023-09-24T04:44:29.686498Z"
    }
   },
   "outputs": [],
   "source": [
    "def get_code(soup):\n",
    "    code = soup.select('tr:nth-child(1) td+ td')[0]\n",
    "    return code.text"
   ]
  },
  {
   "cell_type": "code",
   "execution_count": null,
   "id": "98f97669a6c5afb7",
   "metadata": {
    "ExecuteTime": {
     "end_time": "2023-09-24T04:44:30.071726600Z",
     "start_time": "2023-09-24T04:44:30.054385500Z"
    }
   },
   "outputs": [],
   "source": [
    "def get_isbn(soup):\n",
    "    isbn = soup.select('.product-table .ltr')[0]\n",
    "    cleaned_isbn = isbn.text.strip()\n",
    "    cleaned_isbn = re.sub('[^0-9-]', '', cleaned_isbn)\n",
    "    return cleaned_isbn"
   ]
  },
  {
   "cell_type": "code",
   "execution_count": null,
   "id": "5a8deda3f95651a7",
   "metadata": {
    "ExecuteTime": {
     "end_time": "2023-09-24T04:44:30.504569700Z",
     "start_time": "2023-09-24T04:44:30.478424600Z"
    }
   },
   "outputs": [],
   "source": [
    "def get_pages(soup):\n",
    "    pages = soup.select('tr:nth-child(5) .rtl')[0]\n",
    "    cleaned_pages = pages.text.strip()\n",
    "    cleaned_pages = re.sub('[^0-9-]', '', cleaned_pages)\n",
    "    return cleaned_pages"
   ]
  },
  {
   "cell_type": "code",
   "execution_count": null,
   "id": "bd1e66592f6110a7",
   "metadata": {
    "ExecuteTime": {
     "end_time": "2023-09-24T04:44:30.908446300Z",
     "start_time": "2023-09-24T04:44:30.878714500Z"
    }
   },
   "outputs": [],
   "source": [
    "def get_per_date(soup):\n",
    "    try:\n",
    "        date = soup.select('.product-table > tbody:nth-child(1) > tr:nth-child(6) > td:nth-child(2)')[0].text\n",
    "    except Exception:\n",
    "        date = None\n",
    "        logging.exception(\"This book has persian calendar!\")\n",
    "    return date.strip() "
   ]
  },
  {
   "cell_type": "code",
   "execution_count": null,
   "id": "f92f05890158c595",
   "metadata": {
    "ExecuteTime": {
     "end_time": "2023-09-24T04:44:31.341428300Z",
     "start_time": "2023-09-24T04:44:31.320911500Z"
    }
   },
   "outputs": [],
   "source": [
    "def get_ad_date(soup):\n",
    "    pass #TODO\n",
    "    return None"
   ]
  },
  {
   "cell_type": "code",
   "execution_count": null,
   "id": "5e1c4f56dadca0ca",
   "metadata": {
    "ExecuteTime": {
     "end_time": "2023-09-24T04:44:31.716537Z",
     "start_time": "2023-09-24T04:44:31.694605Z"
    }
   },
   "outputs": [],
   "source": [
    "def get_size(soup):\n",
    "    size = soup.select(\n",
    "        'html body div.container div div.product-container.well.clearfix div.clearfix div.col-md-9.col-sm-9 div.row div.col-md-5 table.product-table tbody tr td.rtl')[0].text\n",
    "    return size.strip()\n"
   ]
  },
  {
   "cell_type": "code",
   "execution_count": null,
   "id": "1a64d1acef92b833",
   "metadata": {
    "ExecuteTime": {
     "end_time": "2023-09-24T04:44:32.116550700Z",
     "start_time": "2023-09-24T04:44:32.092200900Z"
    }
   },
   "outputs": [],
   "source": [
    "def get_material(soup):\n",
    "    pass #TODO\n",
    "    return None\n"
   ]
  },
  {
   "cell_type": "code",
   "execution_count": null,
   "id": "49efd3b85388bd1e",
   "metadata": {
    "ExecuteTime": {
     "end_time": "2023-09-24T04:44:32.505512300Z",
     "start_time": "2023-09-24T04:44:32.471059100Z"
    }
   },
   "outputs": [],
   "source": [
    "def get_series(soup):\n",
    "    pass #TODO\n",
    "    return None\n"
   ]
  },
  {
   "cell_type": "code",
   "execution_count": null,
   "id": "1dcebd694258ecee",
   "metadata": {
    "ExecuteTime": {
     "end_time": "2023-09-24T04:44:32.939545700Z",
     "start_time": "2023-09-24T04:44:32.915610Z"
    }
   },
   "outputs": [],
   "source": [
    "def get_send_time(soup):\n",
    "    pass\n",
    "    return None\n"
   ]
  },
  {
   "cell_type": "code",
   "execution_count": null,
   "id": "5c297eef97f3ef6f",
   "metadata": {
    "ExecuteTime": {
     "end_time": "2023-09-24T05:10:26.813231300Z",
     "start_time": "2023-09-24T05:10:26.778468200Z"
    }
   },
   "outputs": [],
   "source": [
    "def get_summary(soup):\n",
    "    summary = soup.select('.product-description')[0].text.strip()\n",
    "    return summary"
   ]
  },
  {
   "cell_type": "code",
   "execution_count": null,
   "id": "9680a41c872e4ad7",
   "metadata": {
    "ExecuteTime": {
     "end_time": "2023-09-24T04:44:33.622399300Z",
     "start_time": "2023-09-24T04:44:33.597297500Z"
    }
   },
   "outputs": [],
   "source": [
    "def get_tags(soup):\n",
    "    tags = soup.select('.product-tags-item')\n",
    "    tags_list = []\n",
    "    for tag in tags:\n",
    "        tags_list += [tag.text.strip()]\n",
    "    return tags_list"
   ]
  },
  {
   "cell_type": "code",
   "execution_count": null,
   "id": "b487ed5aba32bcd",
   "metadata": {
    "ExecuteTime": {
     "end_time": "2023-09-24T04:59:09.781428Z",
     "start_time": "2023-09-24T04:59:09.758266800Z"
    }
   },
   "outputs": [],
   "source": [
    " def get_book_detail(book_soup, site_index):\n",
    "    book_fa_title = get_fa_title(book_soup)\n",
    "    book_en_title = get_en_title(book_soup)\n",
    "    book_price = get_price(book_soup)\n",
    "    book_discount_percent = get_discount(book_soup)\n",
    "    book_score = get_score(book_soup)\n",
    "    book_publisher = get_publisher(book_soup)\n",
    "    book_author = get_author(book_soup)\n",
    "    book_code = get_code(book_soup)\n",
    "    book_Isbn = get_isbn(book_soup)\n",
    "    book_pages = get_pages(book_soup)\n",
    "    book_publication_per_date = get_per_date(book_soup)\n",
    "    book_publication_ad_date = get_ad_date(book_soup)\n",
    "    book_size = get_size(book_soup)\n",
    "    book_cover_material = get_material(book_soup)\n",
    "    book_print_series = get_series(book_soup)\n",
    "    book_earliest_send_time = get_send_time(book_soup)\n",
    "\n",
    "    book_data = [site_index, book_code, book_Isbn, book_fa_title, book_en_title, book_price, book_discount_percent,\n",
    "                 book_score, book_publisher, book_author,\n",
    "                 book_pages, book_publication_per_date, book_publication_ad_date, book_size, book_cover_material,\n",
    "                 book_print_series, book_earliest_send_time]  #TODO\n",
    "    return book_data"
   ]
  },
  {
   "cell_type": "code",
   "execution_count": null,
   "id": "52bb9e3fa91b9548",
   "metadata": {
    "ExecuteTime": {
     "end_time": "2023-09-24T05:10:59.786292300Z",
     "start_time": "2023-09-24T05:10:59.743667900Z"
    }
   },
   "outputs": [],
   "source": [
    " def get_book_site_summary(book_soup, site_index):\n",
    "    try:\n",
    "        book_summary = get_summary(book_soup)\n",
    "    except Exception:\n",
    "        book_summary = None\n",
    "        logging.exception(\"This book has no summary!\")\n",
    "    return [site_index, book_summary]"
   ]
  },
  {
   "cell_type": "code",
   "execution_count": null,
   "id": "12597cd1c3c3e9f5",
   "metadata": {
    "ExecuteTime": {
     "end_time": "2023-09-24T05:05:21.350032900Z",
     "start_time": "2023-09-24T05:05:21.316934300Z"
    }
   },
   "outputs": [],
   "source": [
    " def get_book_site_tags(book_soup, site_index):\n",
    "    book_tags = get_tags(book_soup)\n",
    "    book_tags_list = []\n",
    "    for tag in book_tags:\n",
    "        book_tags_list += [[site_index,tag]]\n",
    "    return book_tags_list"
   ]
  },
  {
   "cell_type": "code",
   "execution_count": null,
   "id": "6829825503086f59",
   "metadata": {
    "ExecuteTime": {
     "end_time": "2023-09-24T05:05:29.774090100Z",
     "start_time": "2023-09-24T05:05:26.436353300Z"
    }
   },
   "outputs": [],
   "source": [
    "books_data_list = []\n",
    "site_index = 1\n",
    "site_summary_data_list = []\n",
    "site_tags_data_list = []\n",
    "links = get_links()[:10] + ['https://www.iranketab.ir/book/270-gone-with-the-wind']\n",
    "\n",
    "for link in links:\n",
    "    try:\n",
    "        site_soup = get_soup(link)\n",
    "        site_summary_data_list += [get_book_site_summary(site_soup, site_index)]\n",
    "        for site_tag in get_book_site_tags(site_soup, site_index):\n",
    "            site_tags_data_list += [site_tag]\n",
    "        site_page_books = site_soup.select('.clearfix .clearfix .row')\n",
    "        for book_index in range(0, len(site_page_books), 2):\n",
    "            data = get_book_detail(site_page_books[book_index], site_index)\n",
    "            books_data_list += [data];\n",
    "        site_index += 1\n",
    "    except Exception:\n",
    "        logging.exception(\"An error occurred\");"
   ]
  },
  {
   "cell_type": "code",
   "execution_count": null,
   "id": "37169d3dffe9614e",
   "metadata": {
    "ExecuteTime": {
     "end_time": "2023-09-24T05:13:38.452090800Z",
     "start_time": "2023-09-24T05:13:29.059985300Z"
    }
   },
   "outputs": [],
   "source": [
    "from concurrent.futures import ThreadPoolExecutor\n",
    "import threading\n",
    "\n",
    "books_data_list = []\n",
    "site_summary_data_list = []\n",
    "site_tags_data_list = []\n",
    "links = get_links()[:100] + ['https://www.iranketab.ir/book/270-gone-with-the-wind']\n",
    "site_index = 1\n",
    "# Create a lock for the shared resource\n",
    "lock = threading.Lock()\n",
    "\n",
    "def process_link(link):\n",
    "    try:\n",
    "        site_soup = get_soup(link)\n",
    "        with lock:\n",
    "            global site_index\n",
    "            site_summary_data_list.append(get_book_site_summary(site_soup, site_index))\n",
    "            site_tags_data_list.extend(get_book_site_tags(site_soup, site_index))\n",
    "            site_page_books = site_soup.select('.clearfix .clearfix .row')\n",
    "            for book_index in range(0, len(site_page_books), 2):\n",
    "                data = get_book_detail(site_page_books[book_index], site_index)\n",
    "                books_data_list.append(data)\n",
    "            site_index += 1\n",
    "    except Exception:\n",
    "        logging.exception(\"An error occurred\")\n",
    "\n",
    "# Use ThreadPoolExecutor to run the loop in parallel\n",
    "with ThreadPoolExecutor(max_workers=10) as executor:\n",
    "    executor.map(process_link, links)\n"
   ]
  },
  {
   "cell_type": "code",
   "execution_count": null,
   "id": "ad990b979ac7f334",
   "metadata": {
    "ExecuteTime": {
     "end_time": "2023-09-24T05:13:40.713018100Z",
     "start_time": "2023-09-24T05:13:40.655465200Z"
    }
   },
   "outputs": [],
   "source": [
    "tableOfData = pd.DataFrame(books_data_list,\n",
    "                           columns=['site_index', 'code', 'Isbn', 'fa_title', 'en_title', 'price', 'discount', 'score',\n",
    "                                    'publisher', 'author', 'pages', 'publication_per_date', 'publication_ad_date',\n",
    "                                    'size', 'cover_material', 'print_series', 'earliest_send_time'])\n",
    "tableOfData"
   ]
  },
  {
   "cell_type": "code",
   "execution_count": null,
   "id": "49865f3f491e2893",
   "metadata": {
    "ExecuteTime": {
     "end_time": "2023-09-24T05:14:05.820233900Z",
     "start_time": "2023-09-24T05:14:05.765338200Z"
    }
   },
   "outputs": [],
   "source": [
    "tableOfSummaryData = pd.DataFrame(site_summary_data_list, columns=['site_index', 'summary'])\n",
    "tableOfSummaryData"
   ]
  },
  {
   "cell_type": "code",
   "execution_count": null,
   "id": "4fb17a40b865591",
   "metadata": {
    "ExecuteTime": {
     "end_time": "2023-09-24T05:14:51.443893500Z",
     "start_time": "2023-09-24T05:14:51.403665600Z"
    }
   },
   "outputs": [],
   "source": [
    "tableOfSiteTagsData = pd.DataFrame(site_tags_data_list, columns=['site_index', 'tag'])\n",
    "tableOfSiteTagsData"
   ]
  },
  {
   "cell_type": "code",
   "execution_count": null,
   "id": "15f94ddb4454136d",
   "metadata": {
    "ExecuteTime": {
     "end_time": "2023-09-23T18:06:36.594037600Z",
     "start_time": "2023-09-23T18:06:36.524864900Z"
    }
   },
   "outputs": [],
   "source": [
    "file_path = \"data.csv\"\n",
    "\n",
    "tableOfData.to_csv(file_path, index=False, encoding='utf-8')"
   ]
  },
  {
   "cell_type": "code",
   "execution_count": null,
   "id": "db2251abeea295ca",
   "metadata": {},
   "outputs": [],
   "source": []
  }
 ],
 "metadata": {
  "kernelspec": {
   "display_name": "Python 3 (ipykernel)",
   "language": "python",
   "name": "python3"
  },
  "language_info": {
   "codemirror_mode": {
    "name": "ipython",
    "version": 3
   },
   "file_extension": ".py",
   "mimetype": "text/x-python",
   "name": "python",
   "nbconvert_exporter": "python",
   "pygments_lexer": "ipython3",
   "version": "3.11.3"
  }
 },
 "nbformat": 4,
 "nbformat_minor": 5
}
