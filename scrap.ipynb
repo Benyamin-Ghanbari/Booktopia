{
 "cells": [
  {
   "cell_type": "code",
   "execution_count": 13,
   "id": "initial_id",
   "metadata": {
    "ExecuteTime": {
     "end_time": "2023-09-23T09:09:17.546120300Z",
     "start_time": "2023-09-23T09:09:15.355221800Z"
    }
   },
   "outputs": [],
   "source": [
    "#import all libraries\n",
    "import pandas as pd\n",
    "import requests\n",
    "from bs4 import BeautifulSoup\n",
    "import re\n",
    "import zipfile\n",
    "import logging"
   ]
  },
  {
   "cell_type": "code",
   "execution_count": 14,
   "id": "6c2e65b93bcafb3c",
   "metadata": {
    "ExecuteTime": {
     "end_time": "2023-09-23T09:09:21.509958200Z",
     "start_time": "2023-09-23T09:09:21.433551800Z"
    }
   },
   "outputs": [],
   "source": [
    "def get_links(input_url):\n",
    "    pass #TODO"
   ]
  },
  {
   "cell_type": "code",
   "execution_count": 15,
   "id": "dd775c4290d33dfa",
   "metadata": {
    "ExecuteTime": {
     "end_time": "2023-09-23T09:09:34.978618200Z",
     "start_time": "2023-09-23T09:09:34.919777600Z"
    }
   },
   "outputs": [],
   "source": [
    "def get_soup(input_url):\n",
    "    headers = {\n",
    "        'User-Agent': 'My User Agent 1.0',\n",
    "        \"Accept-Language\": \"en-US,en;q=0.5\"\n",
    "    }\n",
    "    response = requests.get(input_url, headers=headers)\n",
    "    if response.status_code != 200:\n",
    "        print(\"Error in getting link\")\n",
    "        print(\"response code is : \", response.status_code)\n",
    "    soup = BeautifulSoup(response.text, 'html.parser')\n",
    "    return soup"
   ]
  },
  {
   "cell_type": "code",
   "execution_count": 16,
   "id": "efc3968719f0d788",
   "metadata": {
    "ExecuteTime": {
     "end_time": "2023-09-23T09:09:36.200967300Z",
     "start_time": "2023-09-23T09:09:36.164066800Z"
    }
   },
   "outputs": [],
   "source": [
    "def get_fa_title(soup):\n",
    "    pass #TODO"
   ]
  },
  {
   "cell_type": "code",
   "execution_count": 17,
   "id": "2c4dab072bbbc2ab",
   "metadata": {
    "ExecuteTime": {
     "end_time": "2023-09-23T09:09:36.875838700Z",
     "start_time": "2023-09-23T09:09:36.847278100Z"
    }
   },
   "outputs": [],
   "source": [
    "def get_en_title(soup):\n",
    "    pass #TODO"
   ]
  },
  {
   "cell_type": "code",
   "execution_count": 18,
   "id": "5c6151c0ff09fc3e",
   "metadata": {
    "ExecuteTime": {
     "end_time": "2023-09-23T09:09:37.458566900Z",
     "start_time": "2023-09-23T09:09:37.427621400Z"
    }
   },
   "outputs": [],
   "source": [
    "def get_price(soup):\n",
    "    pass #TODO"
   ]
  },
  {
   "cell_type": "code",
   "execution_count": 19,
   "id": "20dfbbc77ef0ea67",
   "metadata": {
    "ExecuteTime": {
     "end_time": "2023-09-23T09:09:38.197545Z",
     "start_time": "2023-09-23T09:09:38.162267200Z"
    }
   },
   "outputs": [],
   "source": [
    "def get_discount(soup):\n",
    "    pass #TODO"
   ]
  },
  {
   "cell_type": "code",
   "execution_count": 20,
   "id": "3b95900da3f89757",
   "metadata": {
    "ExecuteTime": {
     "end_time": "2023-09-23T09:09:38.764563900Z",
     "start_time": "2023-09-23T09:09:38.718108600Z"
    }
   },
   "outputs": [],
   "source": [
    "def get_score(soup):\n",
    "    pass #TODO"
   ]
  },
  {
   "cell_type": "code",
   "execution_count": 21,
   "id": "3c5c9ddc5b07b81e",
   "metadata": {
    "ExecuteTime": {
     "end_time": "2023-09-23T09:09:39.305993200Z",
     "start_time": "2023-09-23T09:09:39.256127100Z"
    }
   },
   "outputs": [],
   "source": [
    "def get_publisher(soup):\n",
    "    pass #TODO"
   ]
  },
  {
   "cell_type": "code",
   "execution_count": 22,
   "id": "235a6bc598b6b7ad",
   "metadata": {
    "ExecuteTime": {
     "end_time": "2023-09-23T09:09:39.888219Z",
     "start_time": "2023-09-23T09:09:39.851178100Z"
    }
   },
   "outputs": [],
   "source": [
    "def get_author(soup):\n",
    "    pass #TODO"
   ]
  },
  {
   "cell_type": "code",
   "execution_count": 26,
   "id": "91ceef904ea69bb2",
   "metadata": {
    "ExecuteTime": {
     "end_time": "2023-09-23T09:09:40.383081800Z",
     "start_time": "2023-09-23T09:09:40.343668800Z"
    }
   },
   "outputs": [],
   "source": [
    "def get_code(soup):\n",
    "    soups=soup.select('tr:nth-child(1) td+ td')\n",
    "    codes=[]\n",
    "    for s in soups:\n",
    "        codes.append(s.text)\n",
    "\n",
    "    return codes"
   ]
  },
  {
   "cell_type": "code",
   "execution_count": 29,
   "id": "98f97669a6c5afb7",
   "metadata": {
    "ExecuteTime": {
     "end_time": "2023-09-23T09:09:40.885593500Z",
     "start_time": "2023-09-23T09:09:40.854738800Z"
    }
   },
   "outputs": [],
   "source": [
    "def get_isbn(soup):\n",
    "    soups = soup.select('.product-table .ltr')\n",
    "    isbn_numbers = []\n",
    "    for inum in soups:\n",
    "        cleaned_text = inum.text.strip()  \n",
    "        cleaned_text = re.sub('[^0-9-]', '', cleaned_text)  \n",
    "        isbn_numbers.append(cleaned_text)\n",
    "\n",
    "    return isbn_numbers"
   ]
  },
  {
   "cell_type": "code",
   "execution_count": null,
   "id": "5a8deda3f95651a7",
   "metadata": {
    "ExecuteTime": {
     "end_time": "2023-09-23T09:09:41.551113200Z",
     "start_time": "2023-09-23T09:09:41.359191300Z"
    }
   },
   "outputs": [],
   "source": [
    "def get_pages(soup):\n",
    "    pass #TODO"
   ]
  },
  {
   "cell_type": "code",
   "execution_count": null,
   "id": "bd1e66592f6110a7",
   "metadata": {
    "ExecuteTime": {
     "end_time": "2023-09-23T09:09:42.054654200Z",
     "start_time": "2023-09-23T09:09:41.962366500Z"
    }
   },
   "outputs": [],
   "source": [
    "def get_per_date(soup):\n",
    "    pass #TODO"
   ]
  },
  {
   "cell_type": "code",
   "execution_count": null,
   "id": "f92f05890158c595",
   "metadata": {
    "ExecuteTime": {
     "end_time": "2023-09-23T09:09:42.529990100Z",
     "start_time": "2023-09-23T09:09:42.493562600Z"
    }
   },
   "outputs": [],
   "source": [
    "def get_ad_date(soup):\n",
    "    pass #TODO"
   ]
  },
  {
   "cell_type": "code",
   "execution_count": null,
   "id": "5e1c4f56dadca0ca",
   "metadata": {
    "ExecuteTime": {
     "end_time": "2023-09-23T09:09:42.962997700Z",
     "start_time": "2023-09-23T09:09:42.929569100Z"
    }
   },
   "outputs": [],
   "source": [
    "def get_size(soup):\n",
    "    pass #TODO"
   ]
  },
  {
   "cell_type": "code",
   "execution_count": null,
   "id": "1a64d1acef92b833",
   "metadata": {
    "ExecuteTime": {
     "end_time": "2023-09-23T09:09:43.526321900Z",
     "start_time": "2023-09-23T09:09:43.476423200Z"
    }
   },
   "outputs": [],
   "source": [
    "def get_material(soup):\n",
    "    pass #TODO"
   ]
  },
  {
   "cell_type": "code",
   "execution_count": null,
   "id": "49efd3b85388bd1e",
   "metadata": {
    "ExecuteTime": {
     "end_time": "2023-09-23T09:09:43.907873700Z",
     "start_time": "2023-09-23T09:09:43.854015800Z"
    }
   },
   "outputs": [],
   "source": [
    "def get_series(soup):\n",
    "    pass #TODO"
   ]
  },
  {
   "cell_type": "code",
   "execution_count": null,
   "id": "1dcebd694258ecee",
   "metadata": {
    "ExecuteTime": {
     "end_time": "2023-09-23T09:09:44.355378300Z",
     "start_time": "2023-09-23T09:09:44.318930900Z"
    }
   },
   "outputs": [],
   "source": [
    "def get_send_time(soup):\n",
    "    pass"
   ]
  },
  {
   "cell_type": "code",
   "execution_count": null,
   "id": "5c297eef97f3ef6f",
   "metadata": {
    "ExecuteTime": {
     "end_time": "2023-09-23T09:09:45.654142700Z",
     "start_time": "2023-09-23T09:09:45.607332800Z"
    }
   },
   "outputs": [],
   "source": [
    "def get_summary(soup):\n",
    "    try:\n",
    "        summary = soup.select('.product-description')[0].text\n",
    "    except Exception:\n",
    "        summary = None\n",
    "        logging.exception(\"This book has no summary!\")\n",
    "    return summary"
   ]
  },
  {
   "cell_type": "code",
   "execution_count": null,
   "id": "9680a41c872e4ad7",
   "metadata": {
    "ExecuteTime": {
     "end_time": "2023-09-23T09:09:46.831990200Z",
     "start_time": "2023-09-23T09:09:46.772146900Z"
    }
   },
   "outputs": [],
   "source": [
    "def get_tags(soup):\n",
    "    pass"
   ]
  },
  {
   "cell_type": "code",
   "execution_count": null,
   "id": "3a38e9743f052b8",
   "metadata": {},
   "outputs": [],
   "source": [
    "data_list = []\n",
    "url = \"temp\"  #TODO\n",
    "links = get_links(url)\n",
    "\n",
    "soups = get_soup(links)\n",
    "\n",
    "for site_soup in soups:\n",
    "    try:\n",
    "        book_fa_title = get_fa_title(site_soup)\n",
    "        book_en_title = get_en_title(site_soup)\n",
    "        book_price = get_price(site_soup)\n",
    "        book_discount = get_discount(site_soup)\n",
    "        book_score = get_score(site_soup)\n",
    "        book_publisher = get_publisher(site_soup)\n",
    "        book_author = get_author(site_soup)\n",
    "        book_code = get_code(site_soup)\n",
    "        book_Isbn = get_isbn(site_soup)\n",
    "        book_pages = get_pages(site_soup)\n",
    "        book_publication_per_date = get_per_date(site_soup)\n",
    "        book_publication_ad_date = get_ad_date(site_soup)\n",
    "        book_size = get_size(site_soup)\n",
    "        book_cover_material = get_material(site_soup)\n",
    "        book_print_series = get_series(site_soup)\n",
    "        book_earliest_send_time = get_send_time(site_soup)\n",
    "        book_summary = get_summary(site_soup)\n",
    "        book_tags = get_tags(site_soup)\n",
    "\n",
    "        data = [book_fa_title, book_en_title, book_price, book_discount, book_score, book_publisher, book_author,\n",
    "                book_code, book_Isbn, book_pages, book_publication_per_date, book_publication_ad_date, book_size,\n",
    "                book_cover_material, book_print_series, book_earliest_send_time, book_summary, book_tags]  #TODO\n",
    "        data_list += [data]\n",
    "    except Exception:\n",
    "        logging.exception(\"An error occurred\")"
   ]
  }
 ],
 "metadata": {
  "kernelspec": {
   "display_name": "Python 3 (ipykernel)",
   "language": "python",
   "name": "python3"
  },
  "language_info": {
   "codemirror_mode": {
    "name": "ipython",
    "version": 3
   },
   "file_extension": ".py",
   "mimetype": "text/x-python",
   "name": "python",
   "nbconvert_exporter": "python",
   "pygments_lexer": "ipython3",
   "version": "3.11.3"
  }
 },
 "nbformat": 4,
 "nbformat_minor": 5
}
