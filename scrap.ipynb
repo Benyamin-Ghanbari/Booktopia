{
 "cells": [
  {
   "cell_type": "code",
   "execution_count": 89,
   "id": "initial_id",
   "metadata": {
    "ExecuteTime": {
     "end_time": "2023-09-24T04:44:24.601749800Z",
     "start_time": "2023-09-24T04:44:24.570060300Z"
    }
   },
   "outputs": [],
   "source": [
    "#import all libraries\n",
    "import pandas as pd\n",
    "import requests\n",
    "import bs4\n",
    "import re\n",
    "import zipfile\n",
    "import logging\n",
    "import concurrent.futures\n",
    "import math\n",
    "from time import sleep\n",
    "from concurrent.futures import ThreadPoolExecutor\n",
    "from concurrent.futures import as_completed"
   ]
  },
  {
   "cell_type": "code",
   "execution_count": 90,
   "outputs": [],
   "source": [
    "def get_links():\n",
    "    urls = list(pd.read_csv('books_url.csv')['link'])\n",
    "    return urls"
   ],
   "metadata": {
    "collapsed": false,
    "ExecuteTime": {
     "end_time": "2023-09-24T04:44:25.087917900Z",
     "start_time": "2023-09-24T04:44:25.059445800Z"
    }
   },
   "id": "6c2e65b93bcafb3c"
  },
  {
   "cell_type": "code",
   "execution_count": 91,
   "id": "dd775c4290d33dfa",
   "metadata": {
    "ExecuteTime": {
     "end_time": "2023-09-24T04:44:25.809470200Z",
     "start_time": "2023-09-24T04:44:25.790535100Z"
    }
   },
   "outputs": [],
   "source": [
    "def get_soup(input_url):\n",
    "    headers = {\n",
    "        'User-Agent': 'My User Agent 1.0',\n",
    "        \"Accept-Language\": \"en-US,en;q=0.5\"\n",
    "    }\n",
    "    response = requests.get(input_url, headers=headers)\n",
    "    if response.status_code != 200:\n",
    "        print(\"Error in getting link\")\n",
    "        print(\"response code is : \", response.status_code)\n",
    "    soup = bs4.BeautifulSoup(response.text, 'html.parser')\n",
    "    return soup"
   ]
  },
  {
   "cell_type": "code",
   "execution_count": 92,
   "id": "efc3968719f0d788",
   "metadata": {
    "ExecuteTime": {
     "end_time": "2023-09-24T04:44:26.353162100Z",
     "start_time": "2023-09-24T04:44:26.309715900Z"
    }
   },
   "outputs": [],
   "source": [
    "def get_fa_title(soup):\n",
    "    title = soup.select('.product-name strong')[0]\n",
    "    return title.text\n"
   ]
  },
  {
   "cell_type": "code",
   "execution_count": 93,
   "id": "2c4dab072bbbc2ab",
   "metadata": {
    "ExecuteTime": {
     "end_time": "2023-09-24T04:44:26.789417400Z",
     "start_time": "2023-09-24T04:44:26.765208500Z"
    }
   },
   "outputs": [],
   "source": [
    "def get_en_title(soup):\n",
    "    title = soup.select('.product-name-englishname')[0]\n",
    "    return title.text"
   ]
  },
  {
   "cell_type": "code",
   "execution_count": 94,
   "id": "5c6151c0ff09fc3e",
   "metadata": {
    "ExecuteTime": {
     "end_time": "2023-09-24T04:44:27.207657700Z",
     "start_time": "2023-09-24T04:44:27.184179Z"
    }
   },
   "outputs": [],
   "source": [
    "def get_price(soup):\n",
    "    price = soup.select('.price-broken , .col-md-7 .price:nth-child(1)')[0].text\n",
    "    return int(price.replace(',', ''))  #TODO make the price integer"
   ]
  },
  {
   "cell_type": "code",
   "execution_count": 95,
   "id": "20dfbbc77ef0ea67",
   "metadata": {
    "ExecuteTime": {
     "end_time": "2023-09-24T04:44:27.643807300Z",
     "start_time": "2023-09-24T04:44:27.615776500Z"
    }
   },
   "outputs": [],
   "source": [
    "def get_discount(soup):\n",
    "    try:\n",
    "        discount_price = int(soup.select('.col-md-12+ .clearfix .price-special')[0].text.replace(',', ''))\n",
    "        discount_price = ((get_price(soup) - discount_price) / get_price(soup)) * 100\n",
    "    except Exception:\n",
    "        discount_price = 0\n",
    "        logging.exception(\"This book has no discount!\")\n",
    "    return discount_price  "
   ]
  },
  {
   "cell_type": "code",
   "execution_count": 96,
   "id": "3b95900da3f89757",
   "metadata": {
    "ExecuteTime": {
     "end_time": "2023-09-24T04:44:28.139113700Z",
     "start_time": "2023-09-24T04:44:28.107170800Z"
    }
   },
   "outputs": [],
   "source": [
    "def get_score(soup):\n",
    "    soup = soup.find('div', {'class':'col-md-7'}).find('li', {'class':'pull-left'}).find('div', {'class':'my-rating'})\n",
    "    soup_str = str(soup)\n",
    "\n",
    "    match = re.search(r'data-rating=\"(\\d+\\.\\d+)\"', soup_str)\n",
    "    if match:\n",
    "        data_rating = match.group(1)\n",
    "        return data_rating\n",
    "    "
   ]
  },
  {
   "cell_type": "code",
   "execution_count": 97,
   "id": "3c5c9ddc5b07b81e",
   "metadata": {
    "ExecuteTime": {
     "end_time": "2023-09-24T04:44:28.541976Z",
     "start_time": "2023-09-24T04:44:28.518165900Z"
    }
   },
   "outputs": [],
   "source": [
    "def get_publisher(soup):\n",
    "    try:\n",
    "        publisher = soup.select('.prodoct-attribute-items:nth-child(1) a .prodoct-attribute-item')[0].text.strip()\n",
    "    except Exception:\n",
    "        publisher = None\n",
    "        logging.exception(\"This book has no publisher!\")\n",
    "    return publisher"
   ]
  },
  {
   "cell_type": "code",
   "execution_count": 98,
   "id": "235a6bc598b6b7ad",
   "metadata": {
    "ExecuteTime": {
     "end_time": "2023-09-24T04:44:29.021939800Z",
     "start_time": "2023-09-24T04:44:28.986464900Z"
    }
   },
   "outputs": [],
   "source": [
    "def get_author(soup):\n",
    "    try:\n",
    "        author = soup.select('.prodoct-attribute-items+ .prodoct-attribute-items a .prodoct-attribute-item')[0].text.strip()\n",
    "    except Exception:\n",
    "        author = None\n",
    "        logging.exception(\"This book has no author!\")    \n",
    "    return author"
   ]
  },
  {
   "cell_type": "code",
   "execution_count": 99,
   "id": "91ceef904ea69bb2",
   "metadata": {
    "ExecuteTime": {
     "end_time": "2023-09-24T04:44:29.713932800Z",
     "start_time": "2023-09-24T04:44:29.686498Z"
    }
   },
   "outputs": [],
   "source": [
    "def get_code(soup):\n",
    "    code = soup.select('tr:nth-child(1) td+ td')[0]\n",
    "    return code.text"
   ]
  },
  {
   "cell_type": "code",
   "execution_count": 100,
   "id": "98f97669a6c5afb7",
   "metadata": {
    "ExecuteTime": {
     "end_time": "2023-09-24T04:44:30.071726600Z",
     "start_time": "2023-09-24T04:44:30.054385500Z"
    }
   },
   "outputs": [],
   "source": [
    "def get_isbn(soup):\n",
    "    isbn = soup.select('.product-table .ltr')[0]\n",
    "    cleaned_isbn = isbn.text.strip()\n",
    "    cleaned_isbn = re.sub('[^0-9-]', '', cleaned_isbn)\n",
    "    return cleaned_isbn"
   ]
  },
  {
   "cell_type": "code",
   "execution_count": 101,
   "id": "5a8deda3f95651a7",
   "metadata": {
    "ExecuteTime": {
     "end_time": "2023-09-24T04:44:30.504569700Z",
     "start_time": "2023-09-24T04:44:30.478424600Z"
    }
   },
   "outputs": [],
   "source": [
    "def get_pages(soup):\n",
    "    pages = soup.select('tr:nth-child(5) .rtl')[0]\n",
    "    cleaned_pages = pages.text.strip()\n",
    "    cleaned_pages = re.sub('[^0-9-]', '', cleaned_pages)\n",
    "    return cleaned_pages"
   ]
  },
  {
   "cell_type": "code",
   "execution_count": 102,
   "id": "bd1e66592f6110a7",
   "metadata": {
    "ExecuteTime": {
     "end_time": "2023-09-24T04:44:30.908446300Z",
     "start_time": "2023-09-24T04:44:30.878714500Z"
    }
   },
   "outputs": [],
   "source": [
    "def get_per_date(soup):\n",
    "    try:\n",
    "        date = soup.select('.product-table > tbody:nth-child(1) > tr:nth-child(6) > td:nth-child(2)')[0].text\n",
    "    except Exception:\n",
    "        date = None\n",
    "        logging.exception(\"This book has persian calendar!\")\n",
    "    return date.strip() "
   ]
  },
  {
   "cell_type": "code",
   "execution_count": 103,
   "id": "f92f05890158c595",
   "metadata": {
    "ExecuteTime": {
     "end_time": "2023-09-24T04:44:31.341428300Z",
     "start_time": "2023-09-24T04:44:31.320911500Z"
    }
   },
   "outputs": [],
   "source": [
    "def get_ad_date(soup):\n",
    "    pass #TODO\n",
    "    return None"
   ]
  },
  {
   "cell_type": "code",
   "execution_count": 104,
   "id": "5e1c4f56dadca0ca",
   "metadata": {
    "ExecuteTime": {
     "end_time": "2023-09-24T04:44:31.716537Z",
     "start_time": "2023-09-24T04:44:31.694605Z"
    }
   },
   "outputs": [],
   "source": [
    "def get_size(soup):\n",
    "    size = soup.select(\n",
    "        'html body div.container div div.product-container.well.clearfix div.clearfix div.col-md-9.col-sm-9 div.row div.col-md-5 table.product-table tbody tr td.rtl')[0].text\n",
    "    return size.strip()\n"
   ]
  },
  {
   "cell_type": "code",
   "execution_count": 105,
   "id": "1a64d1acef92b833",
   "metadata": {
    "ExecuteTime": {
     "end_time": "2023-09-24T04:44:32.116550700Z",
     "start_time": "2023-09-24T04:44:32.092200900Z"
    }
   },
   "outputs": [],
   "source": [
    "def get_material(soup):\n",
    "    pass #TODO\n",
    "    return None\n"
   ]
  },
  {
   "cell_type": "code",
   "execution_count": 106,
   "id": "49efd3b85388bd1e",
   "metadata": {
    "ExecuteTime": {
     "end_time": "2023-09-24T04:44:32.505512300Z",
     "start_time": "2023-09-24T04:44:32.471059100Z"
    }
   },
   "outputs": [],
   "source": [
    "def get_series(soup):\n",
    "    pass #TODO\n",
    "    return None\n"
   ]
  },
  {
   "cell_type": "code",
   "execution_count": 107,
   "id": "1dcebd694258ecee",
   "metadata": {
    "ExecuteTime": {
     "end_time": "2023-09-24T04:44:32.939545700Z",
     "start_time": "2023-09-24T04:44:32.915610Z"
    }
   },
   "outputs": [],
   "source": [
    "def get_send_time(soup):\n",
    "    pass\n",
    "    return None\n"
   ]
  },
  {
   "cell_type": "code",
   "execution_count": 143,
   "id": "5c297eef97f3ef6f",
   "metadata": {
    "ExecuteTime": {
     "end_time": "2023-09-24T05:10:26.813231300Z",
     "start_time": "2023-09-24T05:10:26.778468200Z"
    }
   },
   "outputs": [],
   "source": [
    "def get_summary(soup):\n",
    "    summary = soup.select('.product-description')[0].text.strip()\n",
    "    return summary"
   ]
  },
  {
   "cell_type": "code",
   "execution_count": 109,
   "id": "9680a41c872e4ad7",
   "metadata": {
    "ExecuteTime": {
     "end_time": "2023-09-24T04:44:33.622399300Z",
     "start_time": "2023-09-24T04:44:33.597297500Z"
    }
   },
   "outputs": [],
   "source": [
    "def get_tags(soup):\n",
    "    tags = soup.select('.product-tags-item')\n",
    "    tags_list = []\n",
    "    for tag in tags:\n",
    "        tags_list += [tag.text.strip()]\n",
    "    return tags_list"
   ]
  },
  {
   "cell_type": "code",
   "execution_count": 124,
   "id": "b487ed5aba32bcd",
   "metadata": {
    "ExecuteTime": {
     "end_time": "2023-09-24T04:59:09.781428Z",
     "start_time": "2023-09-24T04:59:09.758266800Z"
    }
   },
   "outputs": [],
   "source": [
    " def get_book_detail(book_soup, site_index):\n",
    "    book_fa_title = get_fa_title(book_soup)\n",
    "    book_en_title = get_en_title(book_soup)\n",
    "    book_price = get_price(book_soup)\n",
    "    book_discount_percent = get_discount(book_soup)\n",
    "    book_score = get_score(book_soup)\n",
    "    book_publisher = get_publisher(book_soup)\n",
    "    book_author = get_author(book_soup)\n",
    "    book_code = get_code(book_soup)\n",
    "    book_Isbn = get_isbn(book_soup)\n",
    "    book_pages = get_pages(book_soup)\n",
    "    book_publication_per_date = get_per_date(book_soup)\n",
    "    book_publication_ad_date = get_ad_date(book_soup)\n",
    "    book_size = get_size(book_soup)\n",
    "    book_cover_material = get_material(book_soup)\n",
    "    book_print_series = get_series(book_soup)\n",
    "    book_earliest_send_time = get_send_time(book_soup)\n",
    "\n",
    "    book_data = [site_index, book_code, book_Isbn, book_fa_title, book_en_title, book_price, book_discount_percent,\n",
    "                 book_score, book_publisher, book_author,\n",
    "                 book_pages, book_publication_per_date, book_publication_ad_date, book_size, book_cover_material,\n",
    "                 book_print_series, book_earliest_send_time]  #TODO\n",
    "    return book_data"
   ]
  },
  {
   "cell_type": "code",
   "execution_count": 144,
   "outputs": [],
   "source": [
    " def get_book_site_summary(book_soup, site_index):\n",
    "    try:\n",
    "        book_summary = get_summary(book_soup)\n",
    "    except Exception:\n",
    "        book_summary = None\n",
    "        logging.exception(\"This book has no summary!\")\n",
    "    return [site_index, book_summary]"
   ],
   "metadata": {
    "collapsed": false,
    "ExecuteTime": {
     "end_time": "2023-09-24T05:10:59.786292300Z",
     "start_time": "2023-09-24T05:10:59.743667900Z"
    }
   },
   "id": "52bb9e3fa91b9548"
  },
  {
   "cell_type": "code",
   "execution_count": 137,
   "outputs": [],
   "source": [
    " def get_book_site_tags(book_soup, site_index):\n",
    "    book_tags = get_tags(book_soup)\n",
    "    book_tags_list = []\n",
    "    for tag in book_tags:\n",
    "        book_tags_list += [[site_index,tag]]\n",
    "    return book_tags_list"
   ],
   "metadata": {
    "collapsed": false,
    "ExecuteTime": {
     "end_time": "2023-09-24T05:05:21.350032900Z",
     "start_time": "2023-09-24T05:05:21.316934300Z"
    }
   },
   "id": "12597cd1c3c3e9f5"
  },
  {
   "cell_type": "code",
   "execution_count": 138,
   "outputs": [
    {
     "name": "stderr",
     "output_type": "stream",
     "text": [
      "ERROR:root:This book has no summary!\n",
      "Traceback (most recent call last):\n",
      "  File \"C:\\Users\\raeim\\AppData\\Local\\Temp\\ipykernel_4956\\1115907846.py\", line 3, in get_summary\n",
      "    summary = soup.select('.product-description')[0].text.strip()\n",
      "IndexError: list index out of range\n",
      "ERROR:root:This book has no summary!\n",
      "Traceback (most recent call last):\n",
      "  File \"C:\\Users\\raeim\\AppData\\Local\\Temp\\ipykernel_4956\\1115907846.py\", line 3, in get_summary\n",
      "    summary = soup.select('.product-description')[0].text.strip()\n",
      "IndexError: list index out of range\n",
      "ERROR:root:This book has no summary!\n",
      "Traceback (most recent call last):\n",
      "  File \"C:\\Users\\raeim\\AppData\\Local\\Temp\\ipykernel_4956\\1115907846.py\", line 3, in get_summary\n",
      "    summary = soup.select('.product-description')[0].text.strip()\n",
      "IndexError: list index out of range\n",
      "ERROR:root:This book has no summary!\n",
      "Traceback (most recent call last):\n",
      "  File \"C:\\Users\\raeim\\AppData\\Local\\Temp\\ipykernel_4956\\1115907846.py\", line 3, in get_summary\n",
      "    summary = soup.select('.product-description')[0].text.strip()\n",
      "IndexError: list index out of range\n",
      "ERROR:root:This book has no discount!\n",
      "Traceback (most recent call last):\n",
      "  File \"C:\\Users\\raeim\\AppData\\Local\\Temp\\ipykernel_4956\\709879376.py\", line 3, in get_discount\n",
      "    discount_price = int(soup.select('.col-md-12+ .clearfix .price-special')[0].text.replace(',', ''))\n",
      "IndexError: list index out of range\n",
      "ERROR:root:This book has no discount!\n",
      "Traceback (most recent call last):\n",
      "  File \"C:\\Users\\raeim\\AppData\\Local\\Temp\\ipykernel_4956\\709879376.py\", line 3, in get_discount\n",
      "    discount_price = int(soup.select('.col-md-12+ .clearfix .price-special')[0].text.replace(',', ''))\n",
      "IndexError: list index out of range\n",
      "ERROR:root:This book has no discount!\n",
      "Traceback (most recent call last):\n",
      "  File \"C:\\Users\\raeim\\AppData\\Local\\Temp\\ipykernel_4956\\709879376.py\", line 3, in get_discount\n",
      "    discount_price = int(soup.select('.col-md-12+ .clearfix .price-special')[0].text.replace(',', ''))\n",
      "IndexError: list index out of range\n",
      "ERROR:root:This book has no discount!\n",
      "Traceback (most recent call last):\n",
      "  File \"C:\\Users\\raeim\\AppData\\Local\\Temp\\ipykernel_4956\\709879376.py\", line 3, in get_discount\n",
      "    discount_price = int(soup.select('.col-md-12+ .clearfix .price-special')[0].text.replace(',', ''))\n",
      "IndexError: list index out of range\n",
      "ERROR:root:This book has no discount!\n",
      "Traceback (most recent call last):\n",
      "  File \"C:\\Users\\raeim\\AppData\\Local\\Temp\\ipykernel_4956\\709879376.py\", line 3, in get_discount\n",
      "    discount_price = int(soup.select('.col-md-12+ .clearfix .price-special')[0].text.replace(',', ''))\n",
      "IndexError: list index out of range\n",
      "ERROR:root:This book has no discount!\n",
      "Traceback (most recent call last):\n",
      "  File \"C:\\Users\\raeim\\AppData\\Local\\Temp\\ipykernel_4956\\709879376.py\", line 3, in get_discount\n",
      "    discount_price = int(soup.select('.col-md-12+ .clearfix .price-special')[0].text.replace(',', ''))\n",
      "IndexError: list index out of range\n",
      "ERROR:root:This book has no discount!\n",
      "Traceback (most recent call last):\n",
      "  File \"C:\\Users\\raeim\\AppData\\Local\\Temp\\ipykernel_4956\\709879376.py\", line 3, in get_discount\n",
      "    discount_price = int(soup.select('.col-md-12+ .clearfix .price-special')[0].text.replace(',', ''))\n",
      "IndexError: list index out of range\n",
      "ERROR:root:This book has no discount!\n",
      "Traceback (most recent call last):\n",
      "  File \"C:\\Users\\raeim\\AppData\\Local\\Temp\\ipykernel_4956\\709879376.py\", line 3, in get_discount\n",
      "    discount_price = int(soup.select('.col-md-12+ .clearfix .price-special')[0].text.replace(',', ''))\n",
      "IndexError: list index out of range\n",
      "ERROR:root:This book has no discount!\n",
      "Traceback (most recent call last):\n",
      "  File \"C:\\Users\\raeim\\AppData\\Local\\Temp\\ipykernel_4956\\709879376.py\", line 3, in get_discount\n",
      "    discount_price = int(soup.select('.col-md-12+ .clearfix .price-special')[0].text.replace(',', ''))\n",
      "IndexError: list index out of range\n",
      "ERROR:root:This book has no author!\n",
      "Traceback (most recent call last):\n",
      "  File \"C:\\Users\\raeim\\AppData\\Local\\Temp\\ipykernel_4956\\3840233199.py\", line 3, in get_author\n",
      "    author = soup.select('.prodoct-attribute-items+ .prodoct-attribute-items a .prodoct-attribute-item')[0].text.strip()\n",
      "IndexError: list index out of range\n"
     ]
    }
   ],
   "source": [
    "books_data_list = []\n",
    "site_index = 1\n",
    "site_summary_data_list = []\n",
    "site_tags_data_list = []\n",
    "links = get_links()[:10] + ['https://www.iranketab.ir/book/270-gone-with-the-wind']\n",
    "\n",
    "for link in links:\n",
    "    try:\n",
    "        site_soup = get_soup(link)\n",
    "        site_summary_data_list += [get_book_site_summary(site_soup, site_index)]\n",
    "        for site_tag in get_book_site_tags(site_soup, site_index):\n",
    "            site_tags_data_list += [site_tag]\n",
    "        site_page_books = site_soup.select('.clearfix .clearfix .row')\n",
    "        for book_index in range(0, len(site_page_books), 2):\n",
    "            data = get_book_detail(site_page_books[book_index], site_index)\n",
    "            books_data_list += [data];\n",
    "        site_index += 1\n",
    "    except Exception:\n",
    "        logging.exception(\"An error occurred\");"
   ],
   "metadata": {
    "collapsed": false,
    "ExecuteTime": {
     "end_time": "2023-09-24T05:05:29.774090100Z",
     "start_time": "2023-09-24T05:05:26.436353300Z"
    }
   },
   "id": "6829825503086f59"
  },
  {
   "cell_type": "code",
   "execution_count": 152,
   "outputs": [
    {
     "name": "stderr",
     "output_type": "stream",
     "text": [
      "ERROR:root:This book has no summary!\n",
      "Traceback (most recent call last):\n",
      "  File \"C:\\Users\\raeim\\AppData\\Local\\Temp\\ipykernel_4956\\2869572784.py\", line 3, in get_book_site_summary\n",
      "    book_summary = get_summary(book_soup)\n",
      "  File \"C:\\Users\\raeim\\AppData\\Local\\Temp\\ipykernel_4956\\1354406443.py\", line 2, in get_summary\n",
      "    summary = soup.select('.product-description')[0].text.strip()\n",
      "IndexError: list index out of range\n",
      "ERROR:root:This book has no summary!\n",
      "Traceback (most recent call last):\n",
      "  File \"C:\\Users\\raeim\\AppData\\Local\\Temp\\ipykernel_4956\\2869572784.py\", line 3, in get_book_site_summary\n",
      "    book_summary = get_summary(book_soup)\n",
      "  File \"C:\\Users\\raeim\\AppData\\Local\\Temp\\ipykernel_4956\\1354406443.py\", line 2, in get_summary\n",
      "    summary = soup.select('.product-description')[0].text.strip()\n",
      "IndexError: list index out of range\n",
      "ERROR:root:This book has no discount!\n",
      "Traceback (most recent call last):\n",
      "  File \"C:\\Users\\raeim\\AppData\\Local\\Temp\\ipykernel_4956\\709879376.py\", line 3, in get_discount\n",
      "    discount_price = int(soup.select('.col-md-12+ .clearfix .price-special')[0].text.replace(',', ''))\n",
      "IndexError: list index out of range\n",
      "ERROR:root:This book has no summary!\n",
      "Traceback (most recent call last):\n",
      "  File \"C:\\Users\\raeim\\AppData\\Local\\Temp\\ipykernel_4956\\2869572784.py\", line 3, in get_book_site_summary\n",
      "    book_summary = get_summary(book_soup)\n",
      "  File \"C:\\Users\\raeim\\AppData\\Local\\Temp\\ipykernel_4956\\1354406443.py\", line 2, in get_summary\n",
      "    summary = soup.select('.product-description')[0].text.strip()\n",
      "IndexError: list index out of range\n",
      "ERROR:root:This book has no summary!\n",
      "Traceback (most recent call last):\n",
      "  File \"C:\\Users\\raeim\\AppData\\Local\\Temp\\ipykernel_4956\\2869572784.py\", line 3, in get_book_site_summary\n",
      "    book_summary = get_summary(book_soup)\n",
      "  File \"C:\\Users\\raeim\\AppData\\Local\\Temp\\ipykernel_4956\\1354406443.py\", line 2, in get_summary\n",
      "    summary = soup.select('.product-description')[0].text.strip()\n",
      "IndexError: list index out of range\n",
      "ERROR:root:This book has no discount!\n",
      "Traceback (most recent call last):\n",
      "  File \"C:\\Users\\raeim\\AppData\\Local\\Temp\\ipykernel_4956\\709879376.py\", line 3, in get_discount\n",
      "    discount_price = int(soup.select('.col-md-12+ .clearfix .price-special')[0].text.replace(',', ''))\n",
      "IndexError: list index out of range\n",
      "ERROR:root:This book has no discount!\n",
      "Traceback (most recent call last):\n",
      "  File \"C:\\Users\\raeim\\AppData\\Local\\Temp\\ipykernel_4956\\709879376.py\", line 3, in get_discount\n",
      "    discount_price = int(soup.select('.col-md-12+ .clearfix .price-special')[0].text.replace(',', ''))\n",
      "IndexError: list index out of range\n",
      "ERROR:root:This book has no author!\n",
      "Traceback (most recent call last):\n",
      "  File \"C:\\Users\\raeim\\AppData\\Local\\Temp\\ipykernel_4956\\3840233199.py\", line 3, in get_author\n",
      "    author = soup.select('.prodoct-attribute-items+ .prodoct-attribute-items a .prodoct-attribute-item')[0].text.strip()\n",
      "IndexError: list index out of range\n",
      "ERROR:root:An error occurred\n",
      "Traceback (most recent call last):\n",
      "  File \"C:\\Users\\raeim\\AppData\\Local\\Temp\\ipykernel_4956\\2366682592.py\", line 21, in process_link\n",
      "    data = get_book_detail(site_page_books[book_index], site_index)\n",
      "  File \"C:\\Users\\raeim\\AppData\\Local\\Temp\\ipykernel_4956\\1614564803.py\", line 11, in get_book_detail\n",
      "    book_pages = get_pages(book_soup)\n",
      "  File \"C:\\Users\\raeim\\AppData\\Local\\Temp\\ipykernel_4956\\328072860.py\", line 2, in get_pages\n",
      "    pages = soup.select('tr:nth-child(5) .rtl')[0]\n",
      "IndexError: list index out of range\n",
      "ERROR:root:This book has no summary!\n",
      "Traceback (most recent call last):\n",
      "  File \"C:\\Users\\raeim\\AppData\\Local\\Temp\\ipykernel_4956\\2869572784.py\", line 3, in get_book_site_summary\n",
      "    book_summary = get_summary(book_soup)\n",
      "  File \"C:\\Users\\raeim\\AppData\\Local\\Temp\\ipykernel_4956\\1354406443.py\", line 2, in get_summary\n",
      "    summary = soup.select('.product-description')[0].text.strip()\n",
      "IndexError: list index out of range\n",
      "ERROR:root:This book has no summary!\n",
      "Traceback (most recent call last):\n",
      "  File \"C:\\Users\\raeim\\AppData\\Local\\Temp\\ipykernel_4956\\2869572784.py\", line 3, in get_book_site_summary\n",
      "    book_summary = get_summary(book_soup)\n",
      "  File \"C:\\Users\\raeim\\AppData\\Local\\Temp\\ipykernel_4956\\1354406443.py\", line 2, in get_summary\n",
      "    summary = soup.select('.product-description')[0].text.strip()\n",
      "IndexError: list index out of range\n",
      "ERROR:root:This book has no summary!\n",
      "Traceback (most recent call last):\n",
      "  File \"C:\\Users\\raeim\\AppData\\Local\\Temp\\ipykernel_4956\\2869572784.py\", line 3, in get_book_site_summary\n",
      "    book_summary = get_summary(book_soup)\n",
      "  File \"C:\\Users\\raeim\\AppData\\Local\\Temp\\ipykernel_4956\\1354406443.py\", line 2, in get_summary\n",
      "    summary = soup.select('.product-description')[0].text.strip()\n",
      "IndexError: list index out of range\n",
      "ERROR:root:This book has no discount!\n",
      "Traceback (most recent call last):\n",
      "  File \"C:\\Users\\raeim\\AppData\\Local\\Temp\\ipykernel_4956\\709879376.py\", line 3, in get_discount\n",
      "    discount_price = int(soup.select('.col-md-12+ .clearfix .price-special')[0].text.replace(',', ''))\n",
      "IndexError: list index out of range\n",
      "ERROR:root:This book has no summary!\n",
      "Traceback (most recent call last):\n",
      "  File \"C:\\Users\\raeim\\AppData\\Local\\Temp\\ipykernel_4956\\2869572784.py\", line 3, in get_book_site_summary\n",
      "    book_summary = get_summary(book_soup)\n",
      "  File \"C:\\Users\\raeim\\AppData\\Local\\Temp\\ipykernel_4956\\1354406443.py\", line 2, in get_summary\n",
      "    summary = soup.select('.product-description')[0].text.strip()\n",
      "IndexError: list index out of range\n",
      "ERROR:root:This book has no discount!\n",
      "Traceback (most recent call last):\n",
      "  File \"C:\\Users\\raeim\\AppData\\Local\\Temp\\ipykernel_4956\\709879376.py\", line 3, in get_discount\n",
      "    discount_price = int(soup.select('.col-md-12+ .clearfix .price-special')[0].text.replace(',', ''))\n",
      "IndexError: list index out of range\n",
      "ERROR:root:This book has no discount!\n",
      "Traceback (most recent call last):\n",
      "  File \"C:\\Users\\raeim\\AppData\\Local\\Temp\\ipykernel_4956\\709879376.py\", line 3, in get_discount\n",
      "    discount_price = int(soup.select('.col-md-12+ .clearfix .price-special')[0].text.replace(',', ''))\n",
      "IndexError: list index out of range\n",
      "ERROR:root:An error occurred\n",
      "Traceback (most recent call last):\n",
      "  File \"C:\\Users\\raeim\\AppData\\Local\\Temp\\ipykernel_4956\\2366682592.py\", line 21, in process_link\n",
      "    data = get_book_detail(site_page_books[book_index], site_index)\n",
      "  File \"C:\\Users\\raeim\\AppData\\Local\\Temp\\ipykernel_4956\\1614564803.py\", line 10, in get_book_detail\n",
      "    book_Isbn = get_isbn(book_soup)\n",
      "  File \"C:\\Users\\raeim\\AppData\\Local\\Temp\\ipykernel_4956\\3220124366.py\", line 2, in get_isbn\n",
      "    isbn = soup.select('.product-table .ltr')[0]\n",
      "IndexError: list index out of range\n",
      "ERROR:root:This book has no author!\n",
      "Traceback (most recent call last):\n",
      "  File \"C:\\Users\\raeim\\AppData\\Local\\Temp\\ipykernel_4956\\3840233199.py\", line 3, in get_author\n",
      "    author = soup.select('.prodoct-attribute-items+ .prodoct-attribute-items a .prodoct-attribute-item')[0].text.strip()\n",
      "IndexError: list index out of range\n",
      "ERROR:root:This book has no discount!\n",
      "Traceback (most recent call last):\n",
      "  File \"C:\\Users\\raeim\\AppData\\Local\\Temp\\ipykernel_4956\\709879376.py\", line 3, in get_discount\n",
      "    discount_price = int(soup.select('.col-md-12+ .clearfix .price-special')[0].text.replace(',', ''))\n",
      "IndexError: list index out of range\n",
      "ERROR:root:This book has no discount!\n",
      "Traceback (most recent call last):\n",
      "  File \"C:\\Users\\raeim\\AppData\\Local\\Temp\\ipykernel_4956\\709879376.py\", line 3, in get_discount\n",
      "    discount_price = int(soup.select('.col-md-12+ .clearfix .price-special')[0].text.replace(',', ''))\n",
      "IndexError: list index out of range\n",
      "ERROR:root:This book has no discount!\n",
      "Traceback (most recent call last):\n",
      "  File \"C:\\Users\\raeim\\AppData\\Local\\Temp\\ipykernel_4956\\709879376.py\", line 3, in get_discount\n",
      "    discount_price = int(soup.select('.col-md-12+ .clearfix .price-special')[0].text.replace(',', ''))\n",
      "IndexError: list index out of range\n",
      "ERROR:root:An error occurred\n",
      "Traceback (most recent call last):\n",
      "  File \"C:\\Users\\raeim\\AppData\\Local\\Temp\\ipykernel_4956\\2366682592.py\", line 21, in process_link\n",
      "    data = get_book_detail(site_page_books[book_index], site_index)\n",
      "  File \"C:\\Users\\raeim\\AppData\\Local\\Temp\\ipykernel_4956\\1614564803.py\", line 10, in get_book_detail\n",
      "    book_Isbn = get_isbn(book_soup)\n",
      "  File \"C:\\Users\\raeim\\AppData\\Local\\Temp\\ipykernel_4956\\3220124366.py\", line 2, in get_isbn\n",
      "    isbn = soup.select('.product-table .ltr')[0]\n",
      "IndexError: list index out of range\n",
      "ERROR:root:This book has no discount!\n",
      "Traceback (most recent call last):\n",
      "  File \"C:\\Users\\raeim\\AppData\\Local\\Temp\\ipykernel_4956\\709879376.py\", line 3, in get_discount\n",
      "    discount_price = int(soup.select('.col-md-12+ .clearfix .price-special')[0].text.replace(',', ''))\n",
      "IndexError: list index out of range\n",
      "ERROR:root:This book has no discount!\n",
      "Traceback (most recent call last):\n",
      "  File \"C:\\Users\\raeim\\AppData\\Local\\Temp\\ipykernel_4956\\709879376.py\", line 3, in get_discount\n",
      "    discount_price = int(soup.select('.col-md-12+ .clearfix .price-special')[0].text.replace(',', ''))\n",
      "IndexError: list index out of range\n",
      "ERROR:root:This book has no discount!\n",
      "Traceback (most recent call last):\n",
      "  File \"C:\\Users\\raeim\\AppData\\Local\\Temp\\ipykernel_4956\\709879376.py\", line 3, in get_discount\n",
      "    discount_price = int(soup.select('.col-md-12+ .clearfix .price-special')[0].text.replace(',', ''))\n",
      "IndexError: list index out of range\n",
      "ERROR:root:This book has no summary!\n",
      "Traceback (most recent call last):\n",
      "  File \"C:\\Users\\raeim\\AppData\\Local\\Temp\\ipykernel_4956\\2869572784.py\", line 3, in get_book_site_summary\n",
      "    book_summary = get_summary(book_soup)\n",
      "  File \"C:\\Users\\raeim\\AppData\\Local\\Temp\\ipykernel_4956\\1354406443.py\", line 2, in get_summary\n",
      "    summary = soup.select('.product-description')[0].text.strip()\n",
      "IndexError: list index out of range\n",
      "ERROR:root:This book has no summary!\n",
      "Traceback (most recent call last):\n",
      "  File \"C:\\Users\\raeim\\AppData\\Local\\Temp\\ipykernel_4956\\2869572784.py\", line 3, in get_book_site_summary\n",
      "    book_summary = get_summary(book_soup)\n",
      "  File \"C:\\Users\\raeim\\AppData\\Local\\Temp\\ipykernel_4956\\1354406443.py\", line 2, in get_summary\n",
      "    summary = soup.select('.product-description')[0].text.strip()\n",
      "IndexError: list index out of range\n",
      "ERROR:root:This book has no author!\n",
      "Traceback (most recent call last):\n",
      "  File \"C:\\Users\\raeim\\AppData\\Local\\Temp\\ipykernel_4956\\3840233199.py\", line 3, in get_author\n",
      "    author = soup.select('.prodoct-attribute-items+ .prodoct-attribute-items a .prodoct-attribute-item')[0].text.strip()\n",
      "IndexError: list index out of range\n",
      "ERROR:root:This book has no summary!\n",
      "Traceback (most recent call last):\n",
      "  File \"C:\\Users\\raeim\\AppData\\Local\\Temp\\ipykernel_4956\\2869572784.py\", line 3, in get_book_site_summary\n",
      "    book_summary = get_summary(book_soup)\n",
      "  File \"C:\\Users\\raeim\\AppData\\Local\\Temp\\ipykernel_4956\\1354406443.py\", line 2, in get_summary\n",
      "    summary = soup.select('.product-description')[0].text.strip()\n",
      "IndexError: list index out of range\n",
      "ERROR:root:This book has no discount!\n",
      "Traceback (most recent call last):\n",
      "  File \"C:\\Users\\raeim\\AppData\\Local\\Temp\\ipykernel_4956\\709879376.py\", line 3, in get_discount\n",
      "    discount_price = int(soup.select('.col-md-12+ .clearfix .price-special')[0].text.replace(',', ''))\n",
      "IndexError: list index out of range\n",
      "ERROR:root:This book has no summary!\n",
      "Traceback (most recent call last):\n",
      "  File \"C:\\Users\\raeim\\AppData\\Local\\Temp\\ipykernel_4956\\2869572784.py\", line 3, in get_book_site_summary\n",
      "    book_summary = get_summary(book_soup)\n",
      "  File \"C:\\Users\\raeim\\AppData\\Local\\Temp\\ipykernel_4956\\1354406443.py\", line 2, in get_summary\n",
      "    summary = soup.select('.product-description')[0].text.strip()\n",
      "IndexError: list index out of range\n",
      "ERROR:root:This book has no discount!\n",
      "Traceback (most recent call last):\n",
      "  File \"C:\\Users\\raeim\\AppData\\Local\\Temp\\ipykernel_4956\\709879376.py\", line 3, in get_discount\n",
      "    discount_price = int(soup.select('.col-md-12+ .clearfix .price-special')[0].text.replace(',', ''))\n",
      "IndexError: list index out of range\n",
      "ERROR:root:This book has no discount!\n",
      "Traceback (most recent call last):\n",
      "  File \"C:\\Users\\raeim\\AppData\\Local\\Temp\\ipykernel_4956\\709879376.py\", line 3, in get_discount\n",
      "    discount_price = int(soup.select('.col-md-12+ .clearfix .price-special')[0].text.replace(',', ''))\n",
      "IndexError: list index out of range\n",
      "ERROR:root:This book has no summary!\n",
      "Traceback (most recent call last):\n",
      "  File \"C:\\Users\\raeim\\AppData\\Local\\Temp\\ipykernel_4956\\2869572784.py\", line 3, in get_book_site_summary\n",
      "    book_summary = get_summary(book_soup)\n",
      "  File \"C:\\Users\\raeim\\AppData\\Local\\Temp\\ipykernel_4956\\1354406443.py\", line 2, in get_summary\n",
      "    summary = soup.select('.product-description')[0].text.strip()\n",
      "IndexError: list index out of range\n",
      "ERROR:root:This book has no discount!\n",
      "Traceback (most recent call last):\n",
      "  File \"C:\\Users\\raeim\\AppData\\Local\\Temp\\ipykernel_4956\\709879376.py\", line 3, in get_discount\n",
      "    discount_price = int(soup.select('.col-md-12+ .clearfix .price-special')[0].text.replace(',', ''))\n",
      "IndexError: list index out of range\n",
      "ERROR:root:This book has no discount!\n",
      "Traceback (most recent call last):\n",
      "  File \"C:\\Users\\raeim\\AppData\\Local\\Temp\\ipykernel_4956\\709879376.py\", line 3, in get_discount\n",
      "    discount_price = int(soup.select('.col-md-12+ .clearfix .price-special')[0].text.replace(',', ''))\n",
      "IndexError: list index out of range\n",
      "ERROR:root:This book has no summary!\n",
      "Traceback (most recent call last):\n",
      "  File \"C:\\Users\\raeim\\AppData\\Local\\Temp\\ipykernel_4956\\2869572784.py\", line 3, in get_book_site_summary\n",
      "    book_summary = get_summary(book_soup)\n",
      "  File \"C:\\Users\\raeim\\AppData\\Local\\Temp\\ipykernel_4956\\1354406443.py\", line 2, in get_summary\n",
      "    summary = soup.select('.product-description')[0].text.strip()\n",
      "IndexError: list index out of range\n",
      "ERROR:root:This book has no summary!\n",
      "Traceback (most recent call last):\n",
      "  File \"C:\\Users\\raeim\\AppData\\Local\\Temp\\ipykernel_4956\\2869572784.py\", line 3, in get_book_site_summary\n",
      "    book_summary = get_summary(book_soup)\n",
      "  File \"C:\\Users\\raeim\\AppData\\Local\\Temp\\ipykernel_4956\\1354406443.py\", line 2, in get_summary\n",
      "    summary = soup.select('.product-description')[0].text.strip()\n",
      "IndexError: list index out of range\n",
      "ERROR:root:This book has no discount!\n",
      "Traceback (most recent call last):\n",
      "  File \"C:\\Users\\raeim\\AppData\\Local\\Temp\\ipykernel_4956\\709879376.py\", line 3, in get_discount\n",
      "    discount_price = int(soup.select('.col-md-12+ .clearfix .price-special')[0].text.replace(',', ''))\n",
      "IndexError: list index out of range\n",
      "ERROR:root:This book has no discount!\n",
      "Traceback (most recent call last):\n",
      "  File \"C:\\Users\\raeim\\AppData\\Local\\Temp\\ipykernel_4956\\709879376.py\", line 3, in get_discount\n",
      "    discount_price = int(soup.select('.col-md-12+ .clearfix .price-special')[0].text.replace(',', ''))\n",
      "IndexError: list index out of range\n",
      "ERROR:root:This book has no discount!\n",
      "Traceback (most recent call last):\n",
      "  File \"C:\\Users\\raeim\\AppData\\Local\\Temp\\ipykernel_4956\\709879376.py\", line 3, in get_discount\n",
      "    discount_price = int(soup.select('.col-md-12+ .clearfix .price-special')[0].text.replace(',', ''))\n",
      "IndexError: list index out of range\n",
      "ERROR:root:This book has no discount!\n",
      "Traceback (most recent call last):\n",
      "  File \"C:\\Users\\raeim\\AppData\\Local\\Temp\\ipykernel_4956\\709879376.py\", line 3, in get_discount\n",
      "    discount_price = int(soup.select('.col-md-12+ .clearfix .price-special')[0].text.replace(',', ''))\n",
      "IndexError: list index out of range\n",
      "ERROR:root:This book has no discount!\n",
      "Traceback (most recent call last):\n",
      "  File \"C:\\Users\\raeim\\AppData\\Local\\Temp\\ipykernel_4956\\709879376.py\", line 3, in get_discount\n",
      "    discount_price = int(soup.select('.col-md-12+ .clearfix .price-special')[0].text.replace(',', ''))\n",
      "IndexError: list index out of range\n",
      "ERROR:root:This book has no discount!\n",
      "Traceback (most recent call last):\n",
      "  File \"C:\\Users\\raeim\\AppData\\Local\\Temp\\ipykernel_4956\\709879376.py\", line 3, in get_discount\n",
      "    discount_price = int(soup.select('.col-md-12+ .clearfix .price-special')[0].text.replace(',', ''))\n",
      "IndexError: list index out of range\n",
      "ERROR:root:This book has no discount!\n",
      "Traceback (most recent call last):\n",
      "  File \"C:\\Users\\raeim\\AppData\\Local\\Temp\\ipykernel_4956\\709879376.py\", line 3, in get_discount\n",
      "    discount_price = int(soup.select('.col-md-12+ .clearfix .price-special')[0].text.replace(',', ''))\n",
      "IndexError: list index out of range\n",
      "ERROR:root:This book has no summary!\n",
      "Traceback (most recent call last):\n",
      "  File \"C:\\Users\\raeim\\AppData\\Local\\Temp\\ipykernel_4956\\2869572784.py\", line 3, in get_book_site_summary\n",
      "    book_summary = get_summary(book_soup)\n",
      "  File \"C:\\Users\\raeim\\AppData\\Local\\Temp\\ipykernel_4956\\1354406443.py\", line 2, in get_summary\n",
      "    summary = soup.select('.product-description')[0].text.strip()\n",
      "IndexError: list index out of range\n",
      "ERROR:root:This book has no summary!\n",
      "Traceback (most recent call last):\n",
      "  File \"C:\\Users\\raeim\\AppData\\Local\\Temp\\ipykernel_4956\\2869572784.py\", line 3, in get_book_site_summary\n",
      "    book_summary = get_summary(book_soup)\n",
      "  File \"C:\\Users\\raeim\\AppData\\Local\\Temp\\ipykernel_4956\\1354406443.py\", line 2, in get_summary\n",
      "    summary = soup.select('.product-description')[0].text.strip()\n",
      "IndexError: list index out of range\n",
      "ERROR:root:This book has no summary!\n",
      "Traceback (most recent call last):\n",
      "  File \"C:\\Users\\raeim\\AppData\\Local\\Temp\\ipykernel_4956\\2869572784.py\", line 3, in get_book_site_summary\n",
      "    book_summary = get_summary(book_soup)\n",
      "  File \"C:\\Users\\raeim\\AppData\\Local\\Temp\\ipykernel_4956\\1354406443.py\", line 2, in get_summary\n",
      "    summary = soup.select('.product-description')[0].text.strip()\n",
      "IndexError: list index out of range\n",
      "ERROR:root:This book has no discount!\n",
      "Traceback (most recent call last):\n",
      "  File \"C:\\Users\\raeim\\AppData\\Local\\Temp\\ipykernel_4956\\709879376.py\", line 3, in get_discount\n",
      "    discount_price = int(soup.select('.col-md-12+ .clearfix .price-special')[0].text.replace(',', ''))\n",
      "IndexError: list index out of range\n",
      "ERROR:root:This book has no discount!\n",
      "Traceback (most recent call last):\n",
      "  File \"C:\\Users\\raeim\\AppData\\Local\\Temp\\ipykernel_4956\\709879376.py\", line 3, in get_discount\n",
      "    discount_price = int(soup.select('.col-md-12+ .clearfix .price-special')[0].text.replace(',', ''))\n",
      "IndexError: list index out of range\n",
      "ERROR:root:This book has no discount!\n",
      "Traceback (most recent call last):\n",
      "  File \"C:\\Users\\raeim\\AppData\\Local\\Temp\\ipykernel_4956\\709879376.py\", line 3, in get_discount\n",
      "    discount_price = int(soup.select('.col-md-12+ .clearfix .price-special')[0].text.replace(',', ''))\n",
      "IndexError: list index out of range\n",
      "ERROR:root:This book has no summary!\n",
      "Traceback (most recent call last):\n",
      "  File \"C:\\Users\\raeim\\AppData\\Local\\Temp\\ipykernel_4956\\2869572784.py\", line 3, in get_book_site_summary\n",
      "    book_summary = get_summary(book_soup)\n",
      "  File \"C:\\Users\\raeim\\AppData\\Local\\Temp\\ipykernel_4956\\1354406443.py\", line 2, in get_summary\n",
      "    summary = soup.select('.product-description')[0].text.strip()\n",
      "IndexError: list index out of range\n",
      "ERROR:root:This book has no discount!\n",
      "Traceback (most recent call last):\n",
      "  File \"C:\\Users\\raeim\\AppData\\Local\\Temp\\ipykernel_4956\\709879376.py\", line 3, in get_discount\n",
      "    discount_price = int(soup.select('.col-md-12+ .clearfix .price-special')[0].text.replace(',', ''))\n",
      "IndexError: list index out of range\n",
      "ERROR:root:This book has no summary!\n",
      "Traceback (most recent call last):\n",
      "  File \"C:\\Users\\raeim\\AppData\\Local\\Temp\\ipykernel_4956\\2869572784.py\", line 3, in get_book_site_summary\n",
      "    book_summary = get_summary(book_soup)\n",
      "  File \"C:\\Users\\raeim\\AppData\\Local\\Temp\\ipykernel_4956\\1354406443.py\", line 2, in get_summary\n",
      "    summary = soup.select('.product-description')[0].text.strip()\n",
      "IndexError: list index out of range\n",
      "ERROR:root:This book has no discount!\n",
      "Traceback (most recent call last):\n",
      "  File \"C:\\Users\\raeim\\AppData\\Local\\Temp\\ipykernel_4956\\709879376.py\", line 3, in get_discount\n",
      "    discount_price = int(soup.select('.col-md-12+ .clearfix .price-special')[0].text.replace(',', ''))\n",
      "IndexError: list index out of range\n",
      "ERROR:root:This book has no discount!\n",
      "Traceback (most recent call last):\n",
      "  File \"C:\\Users\\raeim\\AppData\\Local\\Temp\\ipykernel_4956\\709879376.py\", line 3, in get_discount\n",
      "    discount_price = int(soup.select('.col-md-12+ .clearfix .price-special')[0].text.replace(',', ''))\n",
      "IndexError: list index out of range\n",
      "ERROR:root:This book has no discount!\n",
      "Traceback (most recent call last):\n",
      "  File \"C:\\Users\\raeim\\AppData\\Local\\Temp\\ipykernel_4956\\709879376.py\", line 3, in get_discount\n",
      "    discount_price = int(soup.select('.col-md-12+ .clearfix .price-special')[0].text.replace(',', ''))\n",
      "IndexError: list index out of range\n",
      "ERROR:root:This book has no discount!\n",
      "Traceback (most recent call last):\n",
      "  File \"C:\\Users\\raeim\\AppData\\Local\\Temp\\ipykernel_4956\\709879376.py\", line 3, in get_discount\n",
      "    discount_price = int(soup.select('.col-md-12+ .clearfix .price-special')[0].text.replace(',', ''))\n",
      "IndexError: list index out of range\n",
      "ERROR:root:This book has no discount!\n",
      "Traceback (most recent call last):\n",
      "  File \"C:\\Users\\raeim\\AppData\\Local\\Temp\\ipykernel_4956\\709879376.py\", line 3, in get_discount\n",
      "    discount_price = int(soup.select('.col-md-12+ .clearfix .price-special')[0].text.replace(',', ''))\n",
      "IndexError: list index out of range\n",
      "ERROR:root:This book has no discount!\n",
      "Traceback (most recent call last):\n",
      "  File \"C:\\Users\\raeim\\AppData\\Local\\Temp\\ipykernel_4956\\709879376.py\", line 3, in get_discount\n",
      "    discount_price = int(soup.select('.col-md-12+ .clearfix .price-special')[0].text.replace(',', ''))\n",
      "IndexError: list index out of range\n",
      "ERROR:root:This book has no discount!\n",
      "Traceback (most recent call last):\n",
      "  File \"C:\\Users\\raeim\\AppData\\Local\\Temp\\ipykernel_4956\\709879376.py\", line 3, in get_discount\n",
      "    discount_price = int(soup.select('.col-md-12+ .clearfix .price-special')[0].text.replace(',', ''))\n",
      "IndexError: list index out of range\n",
      "ERROR:root:This book has no discount!\n",
      "Traceback (most recent call last):\n",
      "  File \"C:\\Users\\raeim\\AppData\\Local\\Temp\\ipykernel_4956\\709879376.py\", line 3, in get_discount\n",
      "    discount_price = int(soup.select('.col-md-12+ .clearfix .price-special')[0].text.replace(',', ''))\n",
      "IndexError: list index out of range\n",
      "ERROR:root:This book has no discount!\n",
      "Traceback (most recent call last):\n",
      "  File \"C:\\Users\\raeim\\AppData\\Local\\Temp\\ipykernel_4956\\709879376.py\", line 3, in get_discount\n",
      "    discount_price = int(soup.select('.col-md-12+ .clearfix .price-special')[0].text.replace(',', ''))\n",
      "IndexError: list index out of range\n",
      "ERROR:root:This book has no discount!\n",
      "Traceback (most recent call last):\n",
      "  File \"C:\\Users\\raeim\\AppData\\Local\\Temp\\ipykernel_4956\\709879376.py\", line 3, in get_discount\n",
      "    discount_price = int(soup.select('.col-md-12+ .clearfix .price-special')[0].text.replace(',', ''))\n",
      "IndexError: list index out of range\n",
      "ERROR:root:This book has no discount!\n",
      "Traceback (most recent call last):\n",
      "  File \"C:\\Users\\raeim\\AppData\\Local\\Temp\\ipykernel_4956\\709879376.py\", line 3, in get_discount\n",
      "    discount_price = int(soup.select('.col-md-12+ .clearfix .price-special')[0].text.replace(',', ''))\n",
      "IndexError: list index out of range\n",
      "ERROR:root:This book has no summary!\n",
      "Traceback (most recent call last):\n",
      "  File \"C:\\Users\\raeim\\AppData\\Local\\Temp\\ipykernel_4956\\2869572784.py\", line 3, in get_book_site_summary\n",
      "    book_summary = get_summary(book_soup)\n",
      "  File \"C:\\Users\\raeim\\AppData\\Local\\Temp\\ipykernel_4956\\1354406443.py\", line 2, in get_summary\n",
      "    summary = soup.select('.product-description')[0].text.strip()\n",
      "IndexError: list index out of range\n",
      "ERROR:root:This book has no discount!\n",
      "Traceback (most recent call last):\n",
      "  File \"C:\\Users\\raeim\\AppData\\Local\\Temp\\ipykernel_4956\\709879376.py\", line 3, in get_discount\n",
      "    discount_price = int(soup.select('.col-md-12+ .clearfix .price-special')[0].text.replace(',', ''))\n",
      "IndexError: list index out of range\n",
      "ERROR:root:This book has no discount!\n",
      "Traceback (most recent call last):\n",
      "  File \"C:\\Users\\raeim\\AppData\\Local\\Temp\\ipykernel_4956\\709879376.py\", line 3, in get_discount\n",
      "    discount_price = int(soup.select('.col-md-12+ .clearfix .price-special')[0].text.replace(',', ''))\n",
      "IndexError: list index out of range\n",
      "ERROR:root:This book has no discount!\n",
      "Traceback (most recent call last):\n",
      "  File \"C:\\Users\\raeim\\AppData\\Local\\Temp\\ipykernel_4956\\709879376.py\", line 3, in get_discount\n",
      "    discount_price = int(soup.select('.col-md-12+ .clearfix .price-special')[0].text.replace(',', ''))\n",
      "IndexError: list index out of range\n",
      "ERROR:root:This book has no discount!\n",
      "Traceback (most recent call last):\n",
      "  File \"C:\\Users\\raeim\\AppData\\Local\\Temp\\ipykernel_4956\\709879376.py\", line 3, in get_discount\n",
      "    discount_price = int(soup.select('.col-md-12+ .clearfix .price-special')[0].text.replace(',', ''))\n",
      "IndexError: list index out of range\n",
      "ERROR:root:This book has no discount!\n",
      "Traceback (most recent call last):\n",
      "  File \"C:\\Users\\raeim\\AppData\\Local\\Temp\\ipykernel_4956\\709879376.py\", line 3, in get_discount\n",
      "    discount_price = int(soup.select('.col-md-12+ .clearfix .price-special')[0].text.replace(',', ''))\n",
      "IndexError: list index out of range\n",
      "ERROR:root:This book has no discount!\n",
      "Traceback (most recent call last):\n",
      "  File \"C:\\Users\\raeim\\AppData\\Local\\Temp\\ipykernel_4956\\709879376.py\", line 3, in get_discount\n",
      "    discount_price = int(soup.select('.col-md-12+ .clearfix .price-special')[0].text.replace(',', ''))\n",
      "IndexError: list index out of range\n",
      "ERROR:root:This book has no discount!\n",
      "Traceback (most recent call last):\n",
      "  File \"C:\\Users\\raeim\\AppData\\Local\\Temp\\ipykernel_4956\\709879376.py\", line 3, in get_discount\n",
      "    discount_price = int(soup.select('.col-md-12+ .clearfix .price-special')[0].text.replace(',', ''))\n",
      "IndexError: list index out of range\n",
      "ERROR:root:This book has no discount!\n",
      "Traceback (most recent call last):\n",
      "  File \"C:\\Users\\raeim\\AppData\\Local\\Temp\\ipykernel_4956\\709879376.py\", line 3, in get_discount\n",
      "    discount_price = int(soup.select('.col-md-12+ .clearfix .price-special')[0].text.replace(',', ''))\n",
      "IndexError: list index out of range\n",
      "ERROR:root:This book has no discount!\n",
      "Traceback (most recent call last):\n",
      "  File \"C:\\Users\\raeim\\AppData\\Local\\Temp\\ipykernel_4956\\709879376.py\", line 3, in get_discount\n",
      "    discount_price = int(soup.select('.col-md-12+ .clearfix .price-special')[0].text.replace(',', ''))\n",
      "IndexError: list index out of range\n",
      "ERROR:root:This book has no discount!\n",
      "Traceback (most recent call last):\n",
      "  File \"C:\\Users\\raeim\\AppData\\Local\\Temp\\ipykernel_4956\\709879376.py\", line 3, in get_discount\n",
      "    discount_price = int(soup.select('.col-md-12+ .clearfix .price-special')[0].text.replace(',', ''))\n",
      "IndexError: list index out of range\n",
      "ERROR:root:This book has no discount!\n",
      "Traceback (most recent call last):\n",
      "  File \"C:\\Users\\raeim\\AppData\\Local\\Temp\\ipykernel_4956\\709879376.py\", line 3, in get_discount\n",
      "    discount_price = int(soup.select('.col-md-12+ .clearfix .price-special')[0].text.replace(',', ''))\n",
      "IndexError: list index out of range\n",
      "ERROR:root:This book has no author!\n",
      "Traceback (most recent call last):\n",
      "  File \"C:\\Users\\raeim\\AppData\\Local\\Temp\\ipykernel_4956\\3840233199.py\", line 3, in get_author\n",
      "    author = soup.select('.prodoct-attribute-items+ .prodoct-attribute-items a .prodoct-attribute-item')[0].text.strip()\n",
      "IndexError: list index out of range\n"
     ]
    }
   ],
   "source": [
    "from concurrent.futures import ThreadPoolExecutor\n",
    "import threading\n",
    "\n",
    "books_data_list = []\n",
    "site_summary_data_list = []\n",
    "site_tags_data_list = []\n",
    "links = get_links()[:100] + ['https://www.iranketab.ir/book/270-gone-with-the-wind']\n",
    "site_index = 1\n",
    "# Create a lock for the shared resource\n",
    "lock = threading.Lock()\n",
    "\n",
    "def process_link(link):\n",
    "    try:\n",
    "        site_soup = get_soup(link)\n",
    "        with lock:\n",
    "            global site_index\n",
    "            site_summary_data_list.append(get_book_site_summary(site_soup, site_index))\n",
    "            site_tags_data_list.extend(get_book_site_tags(site_soup, site_index))\n",
    "            site_page_books = site_soup.select('.clearfix .clearfix .row')\n",
    "            for book_index in range(0, len(site_page_books), 2):\n",
    "                data = get_book_detail(site_page_books[book_index], site_index)\n",
    "                books_data_list.append(data)\n",
    "            site_index += 1\n",
    "    except Exception:\n",
    "        logging.exception(\"An error occurred\")\n",
    "\n",
    "# Use ThreadPoolExecutor to run the loop in parallel\n",
    "with ThreadPoolExecutor(max_workers=10) as executor:\n",
    "    executor.map(process_link, links)\n"
   ],
   "metadata": {
    "collapsed": false,
    "ExecuteTime": {
     "end_time": "2023-09-24T05:13:38.452090800Z",
     "start_time": "2023-09-24T05:13:29.059985300Z"
    }
   },
   "id": "37169d3dffe9614e"
  },
  {
   "cell_type": "code",
   "execution_count": 153,
   "id": "ad990b979ac7f334",
   "metadata": {
    "ExecuteTime": {
     "end_time": "2023-09-24T05:13:40.713018100Z",
     "start_time": "2023-09-24T05:13:40.655465200Z"
    }
   },
   "outputs": [
    {
     "data": {
      "text/plain": "     site_index    code            Isbn  \\\n0             0  107977  978-9641721932   \n1             1   76016  978-9642683864   \n2             2   70554  978-9647553261   \n3             3   41857  978-9644239441   \n4             4   27986  978-9643911140   \n..          ...     ...             ...   \n110          97   14026  978-6001217265   \n111          97  116674  978-6006608570   \n112          97   16059  978-9645967442   \n113          97   24045  978-6002534125   \n114          97  121720  978-9646174863   \n\n                                       fa_title  \\\n0              کتاب قاصدک ها در هوا ایستاده اند   \n1                         کتاب دانه های روشنایی   \n2         کتاب کلیات پزشکی سنتی چینی و طب سوزنی   \n3                           کتاب سلام بر عاشورا   \n4    کتاب سقف تالار آیینه عمارت نارنجستان شیراز   \n..                                          ...   \n110                         برباد رفته (۲ جلدی)   \n111                                 بر باد رفته   \n112                                 بر باد رفته   \n113                                 بر باد رفته   \n114                                  برباد رفته   \n\n                                en_title   price  discount     score  \\\n0     Dandelions are standing in the air   69000      20.0      3.18   \n1                        Flakes of light    9000      30.0      3.67   \n2                       Pezeshki Sonnati  300000      15.0      3.87   \n3                      Salam bar Ashoora    5000      15.0      3.63   \n4                Saghf-e Talar-e Ayieneh    1600       0.0      3.35   \n..                                   ...     ...       ...       ...   \n110                   Gone with the Wind  400000       0.0  3.590909   \n111                   Gone with the Wind   20000       0.0      3.29   \n112                   Gone with the Wind  550000       0.0      3.43   \n113                   Gone with the Wind   65000       0.0      3.18   \n114                   Gone with the wind  575000       0.0      3.76   \n\n                            publisher            author pages  \\\n0                            دنیای نو  مهدی حسینی (مهد)  1401   \n1                                 اشک      عباس مهرپویا  1388   \n2                               المعی        حسن رضوانی  1402   \n3                             اطلاعات      رضا اسماعیلی  1394   \n4    کانون پرورش فکری کودکان و نوجوان          هادی سیف  1390   \n..                                ...               ...   ...   \n110                     علمی و فرهنگی      مارگارت میچل  1492   \n111                              دبیر      مارگارت میچل   128   \n112                              دبیر      مارگارت میچل  1184   \n113                    نشر کتاب پارسه      مارگارت میچل   448   \n114                              نگاه              None  1401   \n\n    publication_per_date publication_ad_date   size cover_material  \\\n0                  شومیز                None   رقعی           None   \n1                  شومیز                None   خشتی           None   \n2                  شومیز                None  وزیری           None   \n3                  شومیز                None   رقعی           None   \n4                  شومیز                None   رحلی           None   \n..                   ...                 ...    ...            ...   \n110                 1402                None   رقعی           None   \n111                 1398                None   رقعی           None   \n112                 1398                None  وزیری           None   \n113                 1398                None   جیبی           None   \n114                 1936                None   رقعی           None   \n\n    print_series earliest_send_time  \n0           None               None  \n1           None               None  \n2           None               None  \n3           None               None  \n4           None               None  \n..           ...                ...  \n110         None               None  \n111         None               None  \n112         None               None  \n113         None               None  \n114         None               None  \n\n[115 rows x 17 columns]",
      "text/html": "<div>\n<style scoped>\n    .dataframe tbody tr th:only-of-type {\n        vertical-align: middle;\n    }\n\n    .dataframe tbody tr th {\n        vertical-align: top;\n    }\n\n    .dataframe thead th {\n        text-align: right;\n    }\n</style>\n<table border=\"1\" class=\"dataframe\">\n  <thead>\n    <tr style=\"text-align: right;\">\n      <th></th>\n      <th>site_index</th>\n      <th>code</th>\n      <th>Isbn</th>\n      <th>fa_title</th>\n      <th>en_title</th>\n      <th>price</th>\n      <th>discount</th>\n      <th>score</th>\n      <th>publisher</th>\n      <th>author</th>\n      <th>pages</th>\n      <th>publication_per_date</th>\n      <th>publication_ad_date</th>\n      <th>size</th>\n      <th>cover_material</th>\n      <th>print_series</th>\n      <th>earliest_send_time</th>\n    </tr>\n  </thead>\n  <tbody>\n    <tr>\n      <th>0</th>\n      <td>0</td>\n      <td>107977</td>\n      <td>978-9641721932</td>\n      <td>کتاب قاصدک ها در هوا ایستاده اند</td>\n      <td>Dandelions are standing in the air</td>\n      <td>69000</td>\n      <td>20.0</td>\n      <td>3.18</td>\n      <td>دنیای نو</td>\n      <td>مهدی حسینی (مهد)</td>\n      <td>1401</td>\n      <td>شومیز</td>\n      <td>None</td>\n      <td>رقعی</td>\n      <td>None</td>\n      <td>None</td>\n      <td>None</td>\n    </tr>\n    <tr>\n      <th>1</th>\n      <td>1</td>\n      <td>76016</td>\n      <td>978-9642683864</td>\n      <td>کتاب دانه های روشنایی</td>\n      <td>Flakes of light</td>\n      <td>9000</td>\n      <td>30.0</td>\n      <td>3.67</td>\n      <td>اشک</td>\n      <td>عباس مهرپویا</td>\n      <td>1388</td>\n      <td>شومیز</td>\n      <td>None</td>\n      <td>خشتی</td>\n      <td>None</td>\n      <td>None</td>\n      <td>None</td>\n    </tr>\n    <tr>\n      <th>2</th>\n      <td>2</td>\n      <td>70554</td>\n      <td>978-9647553261</td>\n      <td>کتاب کلیات پزشکی سنتی چینی و طب سوزنی</td>\n      <td>Pezeshki Sonnati</td>\n      <td>300000</td>\n      <td>15.0</td>\n      <td>3.87</td>\n      <td>المعی</td>\n      <td>حسن رضوانی</td>\n      <td>1402</td>\n      <td>شومیز</td>\n      <td>None</td>\n      <td>وزیری</td>\n      <td>None</td>\n      <td>None</td>\n      <td>None</td>\n    </tr>\n    <tr>\n      <th>3</th>\n      <td>3</td>\n      <td>41857</td>\n      <td>978-9644239441</td>\n      <td>کتاب سلام بر عاشورا</td>\n      <td>Salam bar Ashoora</td>\n      <td>5000</td>\n      <td>15.0</td>\n      <td>3.63</td>\n      <td>اطلاعات</td>\n      <td>رضا اسماعیلی</td>\n      <td>1394</td>\n      <td>شومیز</td>\n      <td>None</td>\n      <td>رقعی</td>\n      <td>None</td>\n      <td>None</td>\n      <td>None</td>\n    </tr>\n    <tr>\n      <th>4</th>\n      <td>4</td>\n      <td>27986</td>\n      <td>978-9643911140</td>\n      <td>کتاب سقف تالار آیینه عمارت نارنجستان شیراز</td>\n      <td>Saghf-e Talar-e Ayieneh</td>\n      <td>1600</td>\n      <td>0.0</td>\n      <td>3.35</td>\n      <td>کانون پرورش فکری کودکان و نوجوان</td>\n      <td>هادی سیف</td>\n      <td>1390</td>\n      <td>شومیز</td>\n      <td>None</td>\n      <td>رحلی</td>\n      <td>None</td>\n      <td>None</td>\n      <td>None</td>\n    </tr>\n    <tr>\n      <th>...</th>\n      <td>...</td>\n      <td>...</td>\n      <td>...</td>\n      <td>...</td>\n      <td>...</td>\n      <td>...</td>\n      <td>...</td>\n      <td>...</td>\n      <td>...</td>\n      <td>...</td>\n      <td>...</td>\n      <td>...</td>\n      <td>...</td>\n      <td>...</td>\n      <td>...</td>\n      <td>...</td>\n      <td>...</td>\n    </tr>\n    <tr>\n      <th>110</th>\n      <td>97</td>\n      <td>14026</td>\n      <td>978-6001217265</td>\n      <td>برباد رفته (۲ جلدی)</td>\n      <td>Gone with the Wind</td>\n      <td>400000</td>\n      <td>0.0</td>\n      <td>3.590909</td>\n      <td>علمی و فرهنگی</td>\n      <td>مارگارت میچل</td>\n      <td>1492</td>\n      <td>1402</td>\n      <td>None</td>\n      <td>رقعی</td>\n      <td>None</td>\n      <td>None</td>\n      <td>None</td>\n    </tr>\n    <tr>\n      <th>111</th>\n      <td>97</td>\n      <td>116674</td>\n      <td>978-6006608570</td>\n      <td>بر باد رفته</td>\n      <td>Gone with the Wind</td>\n      <td>20000</td>\n      <td>0.0</td>\n      <td>3.29</td>\n      <td>دبیر</td>\n      <td>مارگارت میچل</td>\n      <td>128</td>\n      <td>1398</td>\n      <td>None</td>\n      <td>رقعی</td>\n      <td>None</td>\n      <td>None</td>\n      <td>None</td>\n    </tr>\n    <tr>\n      <th>112</th>\n      <td>97</td>\n      <td>16059</td>\n      <td>978-9645967442</td>\n      <td>بر باد رفته</td>\n      <td>Gone with the Wind</td>\n      <td>550000</td>\n      <td>0.0</td>\n      <td>3.43</td>\n      <td>دبیر</td>\n      <td>مارگارت میچل</td>\n      <td>1184</td>\n      <td>1398</td>\n      <td>None</td>\n      <td>وزیری</td>\n      <td>None</td>\n      <td>None</td>\n      <td>None</td>\n    </tr>\n    <tr>\n      <th>113</th>\n      <td>97</td>\n      <td>24045</td>\n      <td>978-6002534125</td>\n      <td>بر باد رفته</td>\n      <td>Gone with the Wind</td>\n      <td>65000</td>\n      <td>0.0</td>\n      <td>3.18</td>\n      <td>نشر کتاب پارسه</td>\n      <td>مارگارت میچل</td>\n      <td>448</td>\n      <td>1398</td>\n      <td>None</td>\n      <td>جیبی</td>\n      <td>None</td>\n      <td>None</td>\n      <td>None</td>\n    </tr>\n    <tr>\n      <th>114</th>\n      <td>97</td>\n      <td>121720</td>\n      <td>978-9646174863</td>\n      <td>برباد رفته</td>\n      <td>Gone with the wind</td>\n      <td>575000</td>\n      <td>0.0</td>\n      <td>3.76</td>\n      <td>نگاه</td>\n      <td>None</td>\n      <td>1401</td>\n      <td>1936</td>\n      <td>None</td>\n      <td>رقعی</td>\n      <td>None</td>\n      <td>None</td>\n      <td>None</td>\n    </tr>\n  </tbody>\n</table>\n<p>115 rows × 17 columns</p>\n</div>"
     },
     "execution_count": 153,
     "metadata": {},
     "output_type": "execute_result"
    }
   ],
   "source": [
    "tableOfData = pd.DataFrame(books_data_list,\n",
    "                           columns=['site_index', 'code', 'Isbn', 'fa_title', 'en_title', 'price', 'discount', 'score',\n",
    "                                    'publisher', 'author', 'pages', 'publication_per_date', 'publication_ad_date',\n",
    "                                    'size', 'cover_material', 'print_series', 'earliest_send_time'])\n",
    "tableOfData"
   ]
  },
  {
   "cell_type": "code",
   "execution_count": 154,
   "outputs": [
    {
     "data": {
      "text/plain": "     site_index                                            summary\n0             0                                               None\n1             1                                               None\n2             2  طب چینی یا سوزنی یکی از دو رشته درمانی طبی دنی...\n3             3  شاعر گرانمایه جناب آقای رضا اسماعیلی که از چهر...\n4             4  کتاب حاضر، از مجموعه ی \"چرا ندیدیم؟\"، معرفی دق...\n..          ...                                                ...\n96           93  شاهنامه قصه همدلی ها، همراهی ها و مبارزه با نا...\n97           94  بابایی می خواهد یک لانه ی خوشگل بسازد اما بلد ...\n98           95  به مدت نیم قرن ، آندری گرومیکو به عنوان سفیر ،...\n99           96  کتاب نهج البلاغه، ترجمه و شرح واژگان که بر اسا...\n100          97  کتاب برباد رفته، رمانی است که مارگارت میچل آن ...\n\n[101 rows x 2 columns]",
      "text/html": "<div>\n<style scoped>\n    .dataframe tbody tr th:only-of-type {\n        vertical-align: middle;\n    }\n\n    .dataframe tbody tr th {\n        vertical-align: top;\n    }\n\n    .dataframe thead th {\n        text-align: right;\n    }\n</style>\n<table border=\"1\" class=\"dataframe\">\n  <thead>\n    <tr style=\"text-align: right;\">\n      <th></th>\n      <th>site_index</th>\n      <th>summary</th>\n    </tr>\n  </thead>\n  <tbody>\n    <tr>\n      <th>0</th>\n      <td>0</td>\n      <td>None</td>\n    </tr>\n    <tr>\n      <th>1</th>\n      <td>1</td>\n      <td>None</td>\n    </tr>\n    <tr>\n      <th>2</th>\n      <td>2</td>\n      <td>طب چینی یا سوزنی یکی از دو رشته درمانی طبی دنی...</td>\n    </tr>\n    <tr>\n      <th>3</th>\n      <td>3</td>\n      <td>شاعر گرانمایه جناب آقای رضا اسماعیلی که از چهر...</td>\n    </tr>\n    <tr>\n      <th>4</th>\n      <td>4</td>\n      <td>کتاب حاضر، از مجموعه ی \"چرا ندیدیم؟\"، معرفی دق...</td>\n    </tr>\n    <tr>\n      <th>...</th>\n      <td>...</td>\n      <td>...</td>\n    </tr>\n    <tr>\n      <th>96</th>\n      <td>93</td>\n      <td>شاهنامه قصه همدلی ها، همراهی ها و مبارزه با نا...</td>\n    </tr>\n    <tr>\n      <th>97</th>\n      <td>94</td>\n      <td>بابایی می خواهد یک لانه ی خوشگل بسازد اما بلد ...</td>\n    </tr>\n    <tr>\n      <th>98</th>\n      <td>95</td>\n      <td>به مدت نیم قرن ، آندری گرومیکو به عنوان سفیر ،...</td>\n    </tr>\n    <tr>\n      <th>99</th>\n      <td>96</td>\n      <td>کتاب نهج البلاغه، ترجمه و شرح واژگان که بر اسا...</td>\n    </tr>\n    <tr>\n      <th>100</th>\n      <td>97</td>\n      <td>کتاب برباد رفته، رمانی است که مارگارت میچل آن ...</td>\n    </tr>\n  </tbody>\n</table>\n<p>101 rows × 2 columns</p>\n</div>"
     },
     "execution_count": 154,
     "metadata": {},
     "output_type": "execute_result"
    }
   ],
   "source": [
    "tableOfSummaryData = pd.DataFrame(site_summary_data_list, columns=['site_index', 'summary'])\n",
    "tableOfSummaryData"
   ],
   "metadata": {
    "collapsed": false,
    "ExecuteTime": {
     "end_time": "2023-09-24T05:14:05.820233900Z",
     "start_time": "2023-09-24T05:14:05.765338200Z"
    }
   },
   "id": "49865f3f491e2893"
  },
  {
   "cell_type": "code",
   "execution_count": 155,
   "outputs": [
    {
     "data": {
      "text/plain": "     site_index                                    tag\n0             0                                    شعر\n1             0                           ادبیات ایران\n2             0                             شعر ایرانی\n3             0                              شعر معاصر\n4             1                          داستان فانتزی\n..          ...                                    ...\n547          97           فهرست برترین رمان های تاریخی\n548          97   برترین آثار داستانی با شخصیت اصلی زن\n549          97  برترین آثار تبدیل شده به فیلم و سریال\n550          97          فهرست برترین رمان های عاشقانه\n551          97  فهرست برترین کتاب ها درباره نژادپرستی\n\n[552 rows x 2 columns]",
      "text/html": "<div>\n<style scoped>\n    .dataframe tbody tr th:only-of-type {\n        vertical-align: middle;\n    }\n\n    .dataframe tbody tr th {\n        vertical-align: top;\n    }\n\n    .dataframe thead th {\n        text-align: right;\n    }\n</style>\n<table border=\"1\" class=\"dataframe\">\n  <thead>\n    <tr style=\"text-align: right;\">\n      <th></th>\n      <th>site_index</th>\n      <th>tag</th>\n    </tr>\n  </thead>\n  <tbody>\n    <tr>\n      <th>0</th>\n      <td>0</td>\n      <td>شعر</td>\n    </tr>\n    <tr>\n      <th>1</th>\n      <td>0</td>\n      <td>ادبیات ایران</td>\n    </tr>\n    <tr>\n      <th>2</th>\n      <td>0</td>\n      <td>شعر ایرانی</td>\n    </tr>\n    <tr>\n      <th>3</th>\n      <td>0</td>\n      <td>شعر معاصر</td>\n    </tr>\n    <tr>\n      <th>4</th>\n      <td>1</td>\n      <td>داستان فانتزی</td>\n    </tr>\n    <tr>\n      <th>...</th>\n      <td>...</td>\n      <td>...</td>\n    </tr>\n    <tr>\n      <th>547</th>\n      <td>97</td>\n      <td>فهرست برترین رمان های تاریخی</td>\n    </tr>\n    <tr>\n      <th>548</th>\n      <td>97</td>\n      <td>برترین آثار داستانی با شخصیت اصلی زن</td>\n    </tr>\n    <tr>\n      <th>549</th>\n      <td>97</td>\n      <td>برترین آثار تبدیل شده به فیلم و سریال</td>\n    </tr>\n    <tr>\n      <th>550</th>\n      <td>97</td>\n      <td>فهرست برترین رمان های عاشقانه</td>\n    </tr>\n    <tr>\n      <th>551</th>\n      <td>97</td>\n      <td>فهرست برترین کتاب ها درباره نژادپرستی</td>\n    </tr>\n  </tbody>\n</table>\n<p>552 rows × 2 columns</p>\n</div>"
     },
     "execution_count": 155,
     "metadata": {},
     "output_type": "execute_result"
    }
   ],
   "source": [
    "tableOfSiteTagsData = pd.DataFrame(site_tags_data_list, columns=['site_index', 'tag'])\n",
    "tableOfSiteTagsData"
   ],
   "metadata": {
    "collapsed": false,
    "ExecuteTime": {
     "end_time": "2023-09-24T05:14:51.443893500Z",
     "start_time": "2023-09-24T05:14:51.403665600Z"
    }
   },
   "id": "4fb17a40b865591"
  },
  {
   "cell_type": "code",
   "execution_count": 26,
   "id": "15f94ddb4454136d",
   "metadata": {
    "ExecuteTime": {
     "end_time": "2023-09-23T18:06:36.594037600Z",
     "start_time": "2023-09-23T18:06:36.524864900Z"
    }
   },
   "outputs": [],
   "source": [
    "file_path = \"data.csv\"\n",
    "\n",
    "tableOfData.to_csv(file_path, index=False, encoding='utf-8')"
   ]
  },
  {
   "cell_type": "code",
   "execution_count": null,
   "outputs": [],
   "source": [],
   "metadata": {
    "collapsed": false
   },
   "id": "db2251abeea295ca"
  }
 ],
 "metadata": {
  "kernelspec": {
   "display_name": "Python 3 (ipykernel)",
   "language": "python",
   "name": "python3"
  },
  "language_info": {
   "codemirror_mode": {
    "name": "ipython",
    "version": 3
   },
   "file_extension": ".py",
   "mimetype": "text/x-python",
   "name": "python",
   "nbconvert_exporter": "python",
   "pygments_lexer": "ipython3",
   "version": "3.11.3"
  }
 },
 "nbformat": 4,
 "nbformat_minor": 5
}
